{
  "nbformat": 4,
  "nbformat_minor": 0,
  "metadata": {
    "colab": {
      "name": "Multivariate Analysis.ipynb",
      "provenance": [],
      "collapsed_sections": [],
      "authorship_tag": "ABX9TyNhwvHjO5biDIzdz4HicH6V",
      "include_colab_link": true
    },
    "kernelspec": {
      "name": "python3",
      "display_name": "Python 3"
    },
    "language_info": {
      "name": "python"
    }
  },
  "cells": [
    {
      "cell_type": "markdown",
      "metadata": {
        "id": "view-in-github",
        "colab_type": "text"
      },
      "source": [
        "<a href=\"https://colab.research.google.com/github/XuRui314/MathematicalModeling/blob/main/Multivariate_Analysis.ipynb\" target=\"_parent\"><img src=\"https://colab.research.google.com/assets/colab-badge.svg\" alt=\"Open In Colab\"/></a>"
      ]
    },
    {
      "cell_type": "code",
      "source": [
        "# preparation\n",
        "from google.colab import drive\n",
        "drive.mount('/content/drive')"
      ],
      "metadata": {
        "colab": {
          "base_uri": "https://localhost:8080/"
        },
        "id": "BCK5bxb4vcfJ",
        "outputId": "61e0d0e2-4736-402c-ee4e-2c10789ccfdc"
      },
      "execution_count": null,
      "outputs": [
        {
          "output_type": "stream",
          "name": "stdout",
          "text": [
            "Mounted at /content/drive\n"
          ]
        }
      ]
    },
    {
      "cell_type": "markdown",
      "source": [
        "## PCA"
      ],
      "metadata": {
        "id": "YDh1WSMoYREB"
      }
    },
    {
      "cell_type": "markdown",
      "source": [
        "## 案例1\n",
        "对重庆市城镇居民人均消费数据的分析，消费包括视频、衣着、家庭设备用品、医疗保险、交通通信、文教娱乐、居住、杂项商品、服务这8个方面，给定的是从1997年到2006年这10年的数据。"
      ],
      "metadata": {
        "id": "QRFC7UGnxkKb"
      }
    },
    {
      "cell_type": "code",
      "source": [
        "import os\n",
        "os.chdir(\"/content/drive/MyDrive/dataset/MathModel/PCA\")\n",
        "!ls"
      ],
      "metadata": {
        "colab": {
          "base_uri": "https://localhost:8080/"
        },
        "id": "kbfQfnFzwV16",
        "outputId": "e247ee99-6f5d-4c6d-ca73-dbf0898e65df"
      },
      "execution_count": null,
      "outputs": [
        {
          "output_type": "stream",
          "name": "stdout",
          "text": [
            "data12_1.txt  data12_2.txt  data12_3.xlsx  data12_5_1.txt  data12_5_2.xlsx\n"
          ]
        }
      ]
    },
    {
      "cell_type": "code",
      "source": [
        "import numpy as np\n",
        "import pandas as pd\n",
        "from sklearn.decomposition import PCA\n",
        "from scipy.stats import zscore"
      ],
      "metadata": {
        "id": "KJAHDO1kYQVL"
      },
      "execution_count": null,
      "outputs": []
    },
    {
      "cell_type": "code",
      "source": [
        "data = np.loadtxt('data12_1.txt') # 纯数据文件，可以采用np.loadtxt\n",
        "print(data)"
      ],
      "metadata": {
        "colab": {
          "base_uri": "https://localhost:8080/"
        },
        "id": "Ry-Dxz9twQ_l",
        "outputId": "e3095f7f-46cc-4d15-c30e-f3d7c3ac45a1"
      },
      "execution_count": null,
      "outputs": [
        {
          "output_type": "stream",
          "name": "stdout",
          "text": [
            "[[2297.86  589.62  474.74  164.19  290.91  626.21  295.2   199.03]\n",
            " [2262.19  571.69  461.25  185.9   337.83  604.78  354.66  198.96]\n",
            " [2303.29  589.99  516.21  236.55  403.92  730.05  438.41  225.8 ]\n",
            " [2308.7   551.14  476.45  293.23  406.44  785.74  494.04  254.1 ]\n",
            " [2337.65  589.28  509.82  334.05  442.5   850.15  563.72  246.51]\n",
            " [2418.96  618.6   454.2   429.6   615.   1065.12  594.48  164.28]\n",
            " [2702.34  735.01  475.36  459.69  790.26 1025.99  741.6   187.81]\n",
            " [3015.32  779.68  474.15  537.95  865.45 1200.52  903.22  196.77]\n",
            " [3135.65  849.53  583.5   629.32  929.92 1391.11  882.41  221.85]\n",
            " [3415.92 1038.98  615.74  705.72  976.02 1449.49  954.56  242.26]]\n"
          ]
        }
      ]
    },
    {
      "cell_type": "code",
      "source": [
        "data = pd.read_csv('data12_1.txt',sep='\\t', header=None) # 也可以用pandas来读txt"
      ],
      "metadata": {
        "id": "2XFKEikBwn5W"
      },
      "execution_count": null,
      "outputs": []
    },
    {
      "cell_type": "code",
      "source": [
        "data"
      ],
      "metadata": {
        "colab": {
          "base_uri": "https://localhost:8080/",
          "height": 363
        },
        "id": "vbi2UDCGw1Ls",
        "outputId": "e368fe10-b2d9-4fb2-dab2-0eeb86ff5920"
      },
      "execution_count": null,
      "outputs": [
        {
          "output_type": "execute_result",
          "data": {
            "text/plain": [
              "         0        1       2       3       4        5       6       7\n",
              "0  2297.86   589.62  474.74  164.19  290.91   626.21  295.20  199.03\n",
              "1  2262.19   571.69  461.25  185.90  337.83   604.78  354.66  198.96\n",
              "2  2303.29   589.99  516.21  236.55  403.92   730.05  438.41  225.80\n",
              "3  2308.70   551.14  476.45  293.23  406.44   785.74  494.04  254.10\n",
              "4  2337.65   589.28  509.82  334.05  442.50   850.15  563.72  246.51\n",
              "5  2418.96   618.60  454.20  429.60  615.00  1065.12  594.48  164.28\n",
              "6  2702.34   735.01  475.36  459.69  790.26  1025.99  741.60  187.81\n",
              "7  3015.32   779.68  474.15  537.95  865.45  1200.52  903.22  196.77\n",
              "8  3135.65   849.53  583.50  629.32  929.92  1391.11  882.41  221.85\n",
              "9  3415.92  1038.98  615.74  705.72  976.02  1449.49  954.56  242.26"
            ],
            "text/html": [
              "\n",
              "  <div id=\"df-0b4d26a1-e069-4efa-a5c1-65ce41c3317a\">\n",
              "    <div class=\"colab-df-container\">\n",
              "      <div>\n",
              "<style scoped>\n",
              "    .dataframe tbody tr th:only-of-type {\n",
              "        vertical-align: middle;\n",
              "    }\n",
              "\n",
              "    .dataframe tbody tr th {\n",
              "        vertical-align: top;\n",
              "    }\n",
              "\n",
              "    .dataframe thead th {\n",
              "        text-align: right;\n",
              "    }\n",
              "</style>\n",
              "<table border=\"1\" class=\"dataframe\">\n",
              "  <thead>\n",
              "    <tr style=\"text-align: right;\">\n",
              "      <th></th>\n",
              "      <th>0</th>\n",
              "      <th>1</th>\n",
              "      <th>2</th>\n",
              "      <th>3</th>\n",
              "      <th>4</th>\n",
              "      <th>5</th>\n",
              "      <th>6</th>\n",
              "      <th>7</th>\n",
              "    </tr>\n",
              "  </thead>\n",
              "  <tbody>\n",
              "    <tr>\n",
              "      <th>0</th>\n",
              "      <td>2297.86</td>\n",
              "      <td>589.62</td>\n",
              "      <td>474.74</td>\n",
              "      <td>164.19</td>\n",
              "      <td>290.91</td>\n",
              "      <td>626.21</td>\n",
              "      <td>295.20</td>\n",
              "      <td>199.03</td>\n",
              "    </tr>\n",
              "    <tr>\n",
              "      <th>1</th>\n",
              "      <td>2262.19</td>\n",
              "      <td>571.69</td>\n",
              "      <td>461.25</td>\n",
              "      <td>185.90</td>\n",
              "      <td>337.83</td>\n",
              "      <td>604.78</td>\n",
              "      <td>354.66</td>\n",
              "      <td>198.96</td>\n",
              "    </tr>\n",
              "    <tr>\n",
              "      <th>2</th>\n",
              "      <td>2303.29</td>\n",
              "      <td>589.99</td>\n",
              "      <td>516.21</td>\n",
              "      <td>236.55</td>\n",
              "      <td>403.92</td>\n",
              "      <td>730.05</td>\n",
              "      <td>438.41</td>\n",
              "      <td>225.80</td>\n",
              "    </tr>\n",
              "    <tr>\n",
              "      <th>3</th>\n",
              "      <td>2308.70</td>\n",
              "      <td>551.14</td>\n",
              "      <td>476.45</td>\n",
              "      <td>293.23</td>\n",
              "      <td>406.44</td>\n",
              "      <td>785.74</td>\n",
              "      <td>494.04</td>\n",
              "      <td>254.10</td>\n",
              "    </tr>\n",
              "    <tr>\n",
              "      <th>4</th>\n",
              "      <td>2337.65</td>\n",
              "      <td>589.28</td>\n",
              "      <td>509.82</td>\n",
              "      <td>334.05</td>\n",
              "      <td>442.50</td>\n",
              "      <td>850.15</td>\n",
              "      <td>563.72</td>\n",
              "      <td>246.51</td>\n",
              "    </tr>\n",
              "    <tr>\n",
              "      <th>5</th>\n",
              "      <td>2418.96</td>\n",
              "      <td>618.60</td>\n",
              "      <td>454.20</td>\n",
              "      <td>429.60</td>\n",
              "      <td>615.00</td>\n",
              "      <td>1065.12</td>\n",
              "      <td>594.48</td>\n",
              "      <td>164.28</td>\n",
              "    </tr>\n",
              "    <tr>\n",
              "      <th>6</th>\n",
              "      <td>2702.34</td>\n",
              "      <td>735.01</td>\n",
              "      <td>475.36</td>\n",
              "      <td>459.69</td>\n",
              "      <td>790.26</td>\n",
              "      <td>1025.99</td>\n",
              "      <td>741.60</td>\n",
              "      <td>187.81</td>\n",
              "    </tr>\n",
              "    <tr>\n",
              "      <th>7</th>\n",
              "      <td>3015.32</td>\n",
              "      <td>779.68</td>\n",
              "      <td>474.15</td>\n",
              "      <td>537.95</td>\n",
              "      <td>865.45</td>\n",
              "      <td>1200.52</td>\n",
              "      <td>903.22</td>\n",
              "      <td>196.77</td>\n",
              "    </tr>\n",
              "    <tr>\n",
              "      <th>8</th>\n",
              "      <td>3135.65</td>\n",
              "      <td>849.53</td>\n",
              "      <td>583.50</td>\n",
              "      <td>629.32</td>\n",
              "      <td>929.92</td>\n",
              "      <td>1391.11</td>\n",
              "      <td>882.41</td>\n",
              "      <td>221.85</td>\n",
              "    </tr>\n",
              "    <tr>\n",
              "      <th>9</th>\n",
              "      <td>3415.92</td>\n",
              "      <td>1038.98</td>\n",
              "      <td>615.74</td>\n",
              "      <td>705.72</td>\n",
              "      <td>976.02</td>\n",
              "      <td>1449.49</td>\n",
              "      <td>954.56</td>\n",
              "      <td>242.26</td>\n",
              "    </tr>\n",
              "  </tbody>\n",
              "</table>\n",
              "</div>\n",
              "      <button class=\"colab-df-convert\" onclick=\"convertToInteractive('df-0b4d26a1-e069-4efa-a5c1-65ce41c3317a')\"\n",
              "              title=\"Convert this dataframe to an interactive table.\"\n",
              "              style=\"display:none;\">\n",
              "        \n",
              "  <svg xmlns=\"http://www.w3.org/2000/svg\" height=\"24px\"viewBox=\"0 0 24 24\"\n",
              "       width=\"24px\">\n",
              "    <path d=\"M0 0h24v24H0V0z\" fill=\"none\"/>\n",
              "    <path d=\"M18.56 5.44l.94 2.06.94-2.06 2.06-.94-2.06-.94-.94-2.06-.94 2.06-2.06.94zm-11 1L8.5 8.5l.94-2.06 2.06-.94-2.06-.94L8.5 2.5l-.94 2.06-2.06.94zm10 10l.94 2.06.94-2.06 2.06-.94-2.06-.94-.94-2.06-.94 2.06-2.06.94z\"/><path d=\"M17.41 7.96l-1.37-1.37c-.4-.4-.92-.59-1.43-.59-.52 0-1.04.2-1.43.59L10.3 9.45l-7.72 7.72c-.78.78-.78 2.05 0 2.83L4 21.41c.39.39.9.59 1.41.59.51 0 1.02-.2 1.41-.59l7.78-7.78 2.81-2.81c.8-.78.8-2.07 0-2.86zM5.41 20L4 18.59l7.72-7.72 1.47 1.35L5.41 20z\"/>\n",
              "  </svg>\n",
              "      </button>\n",
              "      \n",
              "  <style>\n",
              "    .colab-df-container {\n",
              "      display:flex;\n",
              "      flex-wrap:wrap;\n",
              "      gap: 12px;\n",
              "    }\n",
              "\n",
              "    .colab-df-convert {\n",
              "      background-color: #E8F0FE;\n",
              "      border: none;\n",
              "      border-radius: 50%;\n",
              "      cursor: pointer;\n",
              "      display: none;\n",
              "      fill: #1967D2;\n",
              "      height: 32px;\n",
              "      padding: 0 0 0 0;\n",
              "      width: 32px;\n",
              "    }\n",
              "\n",
              "    .colab-df-convert:hover {\n",
              "      background-color: #E2EBFA;\n",
              "      box-shadow: 0px 1px 2px rgba(60, 64, 67, 0.3), 0px 1px 3px 1px rgba(60, 64, 67, 0.15);\n",
              "      fill: #174EA6;\n",
              "    }\n",
              "\n",
              "    [theme=dark] .colab-df-convert {\n",
              "      background-color: #3B4455;\n",
              "      fill: #D2E3FC;\n",
              "    }\n",
              "\n",
              "    [theme=dark] .colab-df-convert:hover {\n",
              "      background-color: #434B5C;\n",
              "      box-shadow: 0px 1px 3px 1px rgba(0, 0, 0, 0.15);\n",
              "      filter: drop-shadow(0px 1px 2px rgba(0, 0, 0, 0.3));\n",
              "      fill: #FFFFFF;\n",
              "    }\n",
              "  </style>\n",
              "\n",
              "      <script>\n",
              "        const buttonEl =\n",
              "          document.querySelector('#df-0b4d26a1-e069-4efa-a5c1-65ce41c3317a button.colab-df-convert');\n",
              "        buttonEl.style.display =\n",
              "          google.colab.kernel.accessAllowed ? 'block' : 'none';\n",
              "\n",
              "        async function convertToInteractive(key) {\n",
              "          const element = document.querySelector('#df-0b4d26a1-e069-4efa-a5c1-65ce41c3317a');\n",
              "          const dataTable =\n",
              "            await google.colab.kernel.invokeFunction('convertToInteractive',\n",
              "                                                     [key], {});\n",
              "          if (!dataTable) return;\n",
              "\n",
              "          const docLinkHtml = 'Like what you see? Visit the ' +\n",
              "            '<a target=\"_blank\" href=https://colab.research.google.com/notebooks/data_table.ipynb>data table notebook</a>'\n",
              "            + ' to learn more about interactive tables.';\n",
              "          element.innerHTML = '';\n",
              "          dataTable['output_type'] = 'display_data';\n",
              "          await google.colab.output.renderOutput(dataTable, element);\n",
              "          const docLink = document.createElement('div');\n",
              "          docLink.innerHTML = docLinkHtml;\n",
              "          element.appendChild(docLink);\n",
              "        }\n",
              "      </script>\n",
              "    </div>\n",
              "  </div>\n",
              "  "
            ]
          },
          "metadata": {},
          "execution_count": 17
        }
      ]
    },
    {
      "cell_type": "code",
      "source": [
        "data = data.values\n",
        "print(data)"
      ],
      "metadata": {
        "colab": {
          "base_uri": "https://localhost:8080/"
        },
        "id": "Na2Jdu3Sw1xs",
        "outputId": "461b1d45-30c8-4adc-e1b3-31f0c1b536d1"
      },
      "execution_count": null,
      "outputs": [
        {
          "output_type": "stream",
          "name": "stdout",
          "text": [
            "[[2297.86  589.62  474.74  164.19  290.91  626.21  295.2   199.03]\n",
            " [2262.19  571.69  461.25  185.9   337.83  604.78  354.66  198.96]\n",
            " [2303.29  589.99  516.21  236.55  403.92  730.05  438.41  225.8 ]\n",
            " [2308.7   551.14  476.45  293.23  406.44  785.74  494.04  254.1 ]\n",
            " [2337.65  589.28  509.82  334.05  442.5   850.15  563.72  246.51]\n",
            " [2418.96  618.6   454.2   429.6   615.   1065.12  594.48  164.28]\n",
            " [2702.34  735.01  475.36  459.69  790.26 1025.99  741.6   187.81]\n",
            " [3015.32  779.68  474.15  537.95  865.45 1200.52  903.22  196.77]\n",
            " [3135.65  849.53  583.5   629.32  929.92 1391.11  882.41  221.85]\n",
            " [3415.92 1038.98  615.74  705.72  976.02 1449.49  954.56  242.26]]\n"
          ]
        }
      ]
    },
    {
      "cell_type": "code",
      "source": [
        "norm = zscore(data, ddof=1) # 数据标准化\n",
        "print(norm)"
      ],
      "metadata": {
        "colab": {
          "base_uri": "https://localhost:8080/"
        },
        "id": "aoTqNutTxK6Y",
        "outputId": "068a9e2c-7aa7-4296-f3b9-b42682631090"
      },
      "execution_count": null,
      "outputs": [
        {
          "output_type": "stream",
          "name": "stdout",
          "text": [
            "[[-0.76076777 -0.64214522 -0.54059347 -1.25096611 -1.19811321 -1.14171193\n",
            "  -1.38154326 -0.507142  ]\n",
            " [-0.84506173 -0.75532164 -0.78862442 -1.13462085 -1.01960322 -1.21228148\n",
            "  -1.13035357 -0.50955582]\n",
            " [-0.7479358  -0.63980973  0.22188565 -0.8631843  -0.76815981 -0.79976409\n",
            "  -0.77655041  0.41596886]\n",
            " [-0.7351511  -0.88503583 -0.50915293 -0.5594326  -0.75857232 -0.61637547\n",
            "  -0.54154062  1.39183877]\n",
            " [-0.66673758 -0.64429134  0.10439731 -0.34067564 -0.62137986 -0.40427165\n",
            "  -0.24717639  1.13011253]\n",
            " [-0.47458894 -0.4592198  -0.91824771  0.17138284  0.03490684  0.30363019\n",
            "  -0.1172303  -1.70542749]\n",
            " [ 0.19508369  0.2755748  -0.52919398  0.33263705  0.70169414  0.17477407\n",
            "   0.5042804  -0.89404166]\n",
            " [ 0.93470589  0.55753748 -0.55144138  0.75203733  0.98775905  0.74950593\n",
            "   1.18704657 -0.58507366]\n",
            " [ 1.21906508  0.99843949  1.45909859  1.24169493  1.23303908  1.37712379\n",
            "   1.09913441  0.27976087]\n",
            " [ 1.88138828  2.1942718   2.05187233  1.65112735  1.40842932  1.56937065\n",
            "   1.40393319  0.98355962]]\n"
          ]
        }
      ]
    },
    {
      "cell_type": "code",
      "source": [
        "model = PCA().fit(norm) # 构造并拟合模型\n",
        "print('特征值是：\\n', model.explained_variance_)\n",
        "print('各主成分贡献率：\\n', model.explained_variance_ratio_)"
      ],
      "metadata": {
        "colab": {
          "base_uri": "https://localhost:8080/"
        },
        "id": "ZqQri8B6xc1h",
        "outputId": "e029ac20-27d4-4891-910f-ed32ac3bebbf"
      },
      "execution_count": null,
      "outputs": [
        {
          "output_type": "stream",
          "name": "stdout",
          "text": [
            "特征值是：\n",
            " [6.27943341e+00 1.30599080e+00 2.74277611e-01 9.97624700e-02\n",
            " 2.31016993e-02 1.22233669e-02 4.69357480e-03 5.17066158e-04]\n",
            "各主成分贡献率：\n",
            " [7.84929176e-01 1.63248850e-01 3.42847014e-02 1.24703088e-02\n",
            " 2.88771241e-03 1.52792086e-03 5.86696851e-04 6.46332697e-05]\n"
          ]
        }
      ]
    },
    {
      "cell_type": "code",
      "source": [
        "xs1 = model.components_\n",
        "print('各主成分系数：\\n',xs1) # 就是协方差矩阵特征向量矩阵"
      ],
      "metadata": {
        "colab": {
          "base_uri": "https://localhost:8080/"
        },
        "id": "OoAd3gr5ySVz",
        "outputId": "70f217ea-a018-4517-811d-bc885d733021"
      },
      "execution_count": null,
      "outputs": [
        {
          "output_type": "stream",
          "name": "stdout",
          "text": [
            "各主成分系数：\n",
            " [[ 0.39186166  0.38439344  0.3059243   0.39231584  0.38537825  0.38961322\n",
            "   0.38389911  0.05908768]\n",
            " [ 0.0210478  -0.02214509 -0.47783697  0.08905605  0.19878256  0.1043221\n",
            "   0.11376475 -0.83634169]\n",
            " [-0.14762176 -0.39254883 -0.57745685  0.20021017  0.15914777  0.1347164\n",
            "   0.4303164   0.47108809]\n",
            " [-0.47832186 -0.48941314  0.44488132  0.27708115 -0.02393188  0.46564673\n",
            "  -0.07989617 -0.18222681]\n",
            " [-0.09762149 -0.27604773  0.34873203 -0.35508891  0.52307577 -0.45643408\n",
            "   0.4158212  -0.10824944]\n",
            " [-0.70552867  0.53549607 -0.049896    0.32914209  0.14716623 -0.28505603\n",
            "   0.02367193  0.03426265]\n",
            " [-0.08102349  0.10492282  0.11905975 -0.07206231 -0.68369188 -0.02060535\n",
            "   0.68706375 -0.15212634]\n",
            " [ 0.28557308 -0.29011082  0.09180137  0.6940343  -0.15286467 -0.55886444\n",
            "  -0.05098258 -0.07665729]]\n"
          ]
        }
      ]
    },
    {
      "cell_type": "code",
      "source": [
        "check = xs1.sum(axis = 1, keepdims=True) # 计算各个主成分系数和\n",
        "xs2 = xs1*np.sign(check) # 和为负数的话就乘以-1\n",
        "print('调整后的主成分系数：\\n',xs2)"
      ],
      "metadata": {
        "colab": {
          "base_uri": "https://localhost:8080/"
        },
        "id": "jV6Mzy1Syy2L",
        "outputId": "69f9bd9e-ec85-4879-bed5-5b287fc9e0e6"
      },
      "execution_count": null,
      "outputs": [
        {
          "output_type": "stream",
          "name": "stdout",
          "text": [
            "调整后的主成分系数：\n",
            " [[ 0.39186166  0.38439344  0.3059243   0.39231584  0.38537825  0.38961322\n",
            "   0.38389911  0.05908768]\n",
            " [-0.0210478   0.02214509  0.47783697 -0.08905605 -0.19878256 -0.1043221\n",
            "  -0.11376475  0.83634169]\n",
            " [-0.14762176 -0.39254883 -0.57745685  0.20021017  0.15914777  0.1347164\n",
            "   0.4303164   0.47108809]\n",
            " [ 0.47832186  0.48941314 -0.44488132 -0.27708115  0.02393188 -0.46564673\n",
            "   0.07989617  0.18222681]\n",
            " [ 0.09762149  0.27604773 -0.34873203  0.35508891 -0.52307577  0.45643408\n",
            "  -0.4158212   0.10824944]\n",
            " [-0.70552867  0.53549607 -0.049896    0.32914209  0.14716623 -0.28505603\n",
            "   0.02367193  0.03426265]\n",
            " [ 0.08102349 -0.10492282 -0.11905975  0.07206231  0.68369188  0.02060535\n",
            "  -0.68706375  0.15212634]\n",
            " [-0.28557308  0.29011082 -0.09180137 -0.6940343   0.15286467  0.55886444\n",
            "   0.05098258  0.07665729]]\n"
          ]
        }
      ]
    },
    {
      "cell_type": "code",
      "source": [
        ""
      ],
      "metadata": {
        "id": "KOz14RvL0ob6"
      },
      "execution_count": null,
      "outputs": []
    }
  ]
}