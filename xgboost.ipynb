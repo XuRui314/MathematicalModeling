{
  "nbformat": 4,
  "nbformat_minor": 0,
  "metadata": {
    "colab": {
      "name": "xgboost.ipynb",
      "provenance": [],
      "collapsed_sections": [],
      "authorship_tag": "ABX9TyND6n/5bZh70xInH0o3l3ke",
      "include_colab_link": true
    },
    "kernelspec": {
      "name": "python3",
      "display_name": "Python 3"
    },
    "language_info": {
      "name": "python"
    }
  },
  "cells": [
    {
      "cell_type": "markdown",
      "metadata": {
        "id": "view-in-github",
        "colab_type": "text"
      },
      "source": [
        "<a href=\"https://colab.research.google.com/github/XuRui314/MathematicalModeling/blob/main/xgboost.ipynb\" target=\"_parent\"><img src=\"https://colab.research.google.com/assets/colab-badge.svg\" alt=\"Open In Colab\"/></a>"
      ]
    },
    {
      "cell_type": "code",
      "source": [
        "# preparation\n",
        "from google.colab import drive\n",
        "drive.mount('/content/drive')"
      ],
      "metadata": {
        "colab": {
          "base_uri": "https://localhost:8080/"
        },
        "id": "aepO6Ci6ZRw8",
        "outputId": "bcc6043d-4301-4883-de24-a311d3f58326"
      },
      "execution_count": 1,
      "outputs": [
        {
          "output_type": "stream",
          "name": "stdout",
          "text": [
            "Mounted at /content/drive\n"
          ]
        }
      ]
    },
    {
      "cell_type": "markdown",
      "source": [
        "![](https://img-blog.csdnimg.cn/d55c9ad9f9ae4c5fbe1954267e286afd.png?x-oss-process=image/watermark,type_ZHJvaWRzYW5zZmFsbGJhY2s,shadow_50,text_Q1NETiBA6IOW5ZOl55yf5LiN6ZSZ,size_20,color_FFFFFF,t_70,g_se,x_16)"
      ],
      "metadata": {
        "id": "Mu_2Q-3eZbJh"
      }
    },
    {
      "cell_type": "markdown",
      "source": [
        "## 1.项目背景\n",
        "\n",
        "随着大数据时代的到来，具备大数据思想至关重要，人工智能技术在各行各业的应用已是随处可见。金融机构因车辆贷款违约而遭受重大损失。这导致汽车贷款承销收紧，汽车贷款拒收率上升。这些机构也提出了建立更好的信用风险评分模式的必要性。这值得进行一项研究，以估计车辆贷款违约的决定因素。金融机构想要准确预测贷款人/借款人在到期日第一个 EMI（等同于每月分期付款）中拖欠车辆贷款的概率。\n",
        "\n",
        "数据集中提供了有关贷款和贷款人的信息：\n",
        "\n",
        "- 贷款人信息（人口数据，如年龄、身份证明等）\n",
        "\n",
        "- 贷款信息（付款详情、贷款与价值比率等）\n",
        "\n",
        "- 统计局数据与历史（局分数、活跃账户数、其他贷款状况、信用记录等）\n",
        "\n",
        "这样做将确保能够还款的客户不会被拒绝，并可以确定重要的决定因素，这些决定因素可以进一步用于将违约率降至最低。 \n",
        "\n",
        "说人话就是根据各种特征，来建立一个模型，用于预测分类该客户会不会贷款违约。"
      ],
      "metadata": {
        "id": "ffQfajDia6UM"
      }
    },
    {
      "cell_type": "code",
      "source": [
        "import os\n",
        "os.chdir(\"/content/drive/MyDrive/dataset/MathModel/XGBoost\")\n",
        "!ls"
      ],
      "metadata": {
        "colab": {
          "base_uri": "https://localhost:8080/"
        },
        "id": "IXLQwcoxZl8m",
        "outputId": "d53318bc-15e2-46e6-c8b9-6971970102b7"
      },
      "execution_count": 2,
      "outputs": [
        {
          "output_type": "stream",
          "name": "stdout",
          "text": [
            "data.xlsx\n"
          ]
        }
      ]
    },
    {
      "cell_type": "code",
      "source": [
        "\n",
        "# 导入各种工具\n",
        "import pandas as pd\n",
        "import numpy as np\n",
        "import seaborn as sns\n",
        "import matplotlib.pyplot as plt\n",
        "import re\n",
        "from sklearn.preprocessing import LabelEncoder, StandardScaler\n",
        "from sklearn.linear_model import LogisticRegression\n",
        "# 集成方法\n",
        "from xgboost import XGBClassifier\n",
        "# 评估指标\n",
        "from sklearn.metrics import precision_score, recall_score, f1_score, roc_auc_score, accuracy_score, \\\n",
        "    classification_report, confusion_matrix\n",
        "\n",
        "# warnings包\n",
        "import warnings\n",
        "\n",
        "warnings.filterwarnings(\"ignore\")"
      ],
      "metadata": {
        "id": "laVx2yMpzXcs"
      },
      "execution_count": 33,
      "outputs": []
    },
    {
      "cell_type": "code",
      "source": [
        "# 40MB读要花2min30s :)\n",
        "import pandas as pd\n",
        "df = pd.read_excel('data.xlsx')"
      ],
      "metadata": {
        "id": "sIccMRDccLJz"
      },
      "execution_count": 4,
      "outputs": []
    },
    {
      "cell_type": "code",
      "source": [
        "df[0:5]"
      ],
      "metadata": {
        "colab": {
          "base_uri": "https://localhost:8080/",
          "height": 299
        },
        "id": "oijxH9RydBEm",
        "outputId": "9e669b71-7e57-4621-92ea-4ba8419c0ee1"
      },
      "execution_count": 5,
      "outputs": [
        {
          "output_type": "execute_result",
          "data": {
            "text/plain": [
              "   UniqueID  disbursed_amount  asset_cost    ltv  branch_id  supplier_id  \\\n",
              "0    420825             50578       58400  89.55         67        22807   \n",
              "1    537409             47145       65550  73.23         67        22807   \n",
              "2    417566             53278       61360  89.63         67        22807   \n",
              "3    624493             57513       66113  88.48         67        22807   \n",
              "4    539055             52378       60300  88.39         67        22807   \n",
              "\n",
              "   manufacturer_id  Current_pincode_ID Date.of.Birth Employment.Type  ...  \\\n",
              "0               45                1441      01-01-84        Salaried  ...   \n",
              "1               45                1502      31-07-85   Self employed  ...   \n",
              "2               45                1497      24-08-85   Self employed  ...   \n",
              "3               45                1501      30-12-93   Self employed  ...   \n",
              "4               45                1495      09-12-77   Self employed  ...   \n",
              "\n",
              "  SEC.SANCTIONED.AMOUNT  SEC.DISBURSED.AMOUNT  PRIMARY.INSTAL.AMT  \\\n",
              "0                     0                     0                   0   \n",
              "1                     0                     0                1991   \n",
              "2                     0                     0                   0   \n",
              "3                     0                     0                  31   \n",
              "4                     0                     0                   0   \n",
              "\n",
              "   SEC.INSTAL.AMT  NEW.ACCTS.IN.LAST.SIX.MONTHS  \\\n",
              "0               0                             0   \n",
              "1               0                             0   \n",
              "2               0                             0   \n",
              "3               0                             0   \n",
              "4               0                             0   \n",
              "\n",
              "   DELINQUENT.ACCTS.IN.LAST.SIX.MONTHS  AVERAGE.ACCT.AGE  \\\n",
              "0                                    0         0yrs 0mon   \n",
              "1                                    1        1yrs 11mon   \n",
              "2                                    0         0yrs 0mon   \n",
              "3                                    0         0yrs 8mon   \n",
              "4                                    0         0yrs 0mon   \n",
              "\n",
              "   CREDIT.HISTORY.LENGTH  NO.OF_INQUIRIES  loan_default  \n",
              "0              0yrs 0mon                0             0  \n",
              "1             1yrs 11mon                0             1  \n",
              "2              0yrs 0mon                0             0  \n",
              "3              1yrs 3mon                1             1  \n",
              "4              0yrs 0mon                1             1  \n",
              "\n",
              "[5 rows x 41 columns]"
            ],
            "text/html": [
              "\n",
              "  <div id=\"df-fd3fee2e-8ca3-4222-b18e-b3c16c798b13\">\n",
              "    <div class=\"colab-df-container\">\n",
              "      <div>\n",
              "<style scoped>\n",
              "    .dataframe tbody tr th:only-of-type {\n",
              "        vertical-align: middle;\n",
              "    }\n",
              "\n",
              "    .dataframe tbody tr th {\n",
              "        vertical-align: top;\n",
              "    }\n",
              "\n",
              "    .dataframe thead th {\n",
              "        text-align: right;\n",
              "    }\n",
              "</style>\n",
              "<table border=\"1\" class=\"dataframe\">\n",
              "  <thead>\n",
              "    <tr style=\"text-align: right;\">\n",
              "      <th></th>\n",
              "      <th>UniqueID</th>\n",
              "      <th>disbursed_amount</th>\n",
              "      <th>asset_cost</th>\n",
              "      <th>ltv</th>\n",
              "      <th>branch_id</th>\n",
              "      <th>supplier_id</th>\n",
              "      <th>manufacturer_id</th>\n",
              "      <th>Current_pincode_ID</th>\n",
              "      <th>Date.of.Birth</th>\n",
              "      <th>Employment.Type</th>\n",
              "      <th>...</th>\n",
              "      <th>SEC.SANCTIONED.AMOUNT</th>\n",
              "      <th>SEC.DISBURSED.AMOUNT</th>\n",
              "      <th>PRIMARY.INSTAL.AMT</th>\n",
              "      <th>SEC.INSTAL.AMT</th>\n",
              "      <th>NEW.ACCTS.IN.LAST.SIX.MONTHS</th>\n",
              "      <th>DELINQUENT.ACCTS.IN.LAST.SIX.MONTHS</th>\n",
              "      <th>AVERAGE.ACCT.AGE</th>\n",
              "      <th>CREDIT.HISTORY.LENGTH</th>\n",
              "      <th>NO.OF_INQUIRIES</th>\n",
              "      <th>loan_default</th>\n",
              "    </tr>\n",
              "  </thead>\n",
              "  <tbody>\n",
              "    <tr>\n",
              "      <th>0</th>\n",
              "      <td>420825</td>\n",
              "      <td>50578</td>\n",
              "      <td>58400</td>\n",
              "      <td>89.55</td>\n",
              "      <td>67</td>\n",
              "      <td>22807</td>\n",
              "      <td>45</td>\n",
              "      <td>1441</td>\n",
              "      <td>01-01-84</td>\n",
              "      <td>Salaried</td>\n",
              "      <td>...</td>\n",
              "      <td>0</td>\n",
              "      <td>0</td>\n",
              "      <td>0</td>\n",
              "      <td>0</td>\n",
              "      <td>0</td>\n",
              "      <td>0</td>\n",
              "      <td>0yrs 0mon</td>\n",
              "      <td>0yrs 0mon</td>\n",
              "      <td>0</td>\n",
              "      <td>0</td>\n",
              "    </tr>\n",
              "    <tr>\n",
              "      <th>1</th>\n",
              "      <td>537409</td>\n",
              "      <td>47145</td>\n",
              "      <td>65550</td>\n",
              "      <td>73.23</td>\n",
              "      <td>67</td>\n",
              "      <td>22807</td>\n",
              "      <td>45</td>\n",
              "      <td>1502</td>\n",
              "      <td>31-07-85</td>\n",
              "      <td>Self employed</td>\n",
              "      <td>...</td>\n",
              "      <td>0</td>\n",
              "      <td>0</td>\n",
              "      <td>1991</td>\n",
              "      <td>0</td>\n",
              "      <td>0</td>\n",
              "      <td>1</td>\n",
              "      <td>1yrs 11mon</td>\n",
              "      <td>1yrs 11mon</td>\n",
              "      <td>0</td>\n",
              "      <td>1</td>\n",
              "    </tr>\n",
              "    <tr>\n",
              "      <th>2</th>\n",
              "      <td>417566</td>\n",
              "      <td>53278</td>\n",
              "      <td>61360</td>\n",
              "      <td>89.63</td>\n",
              "      <td>67</td>\n",
              "      <td>22807</td>\n",
              "      <td>45</td>\n",
              "      <td>1497</td>\n",
              "      <td>24-08-85</td>\n",
              "      <td>Self employed</td>\n",
              "      <td>...</td>\n",
              "      <td>0</td>\n",
              "      <td>0</td>\n",
              "      <td>0</td>\n",
              "      <td>0</td>\n",
              "      <td>0</td>\n",
              "      <td>0</td>\n",
              "      <td>0yrs 0mon</td>\n",
              "      <td>0yrs 0mon</td>\n",
              "      <td>0</td>\n",
              "      <td>0</td>\n",
              "    </tr>\n",
              "    <tr>\n",
              "      <th>3</th>\n",
              "      <td>624493</td>\n",
              "      <td>57513</td>\n",
              "      <td>66113</td>\n",
              "      <td>88.48</td>\n",
              "      <td>67</td>\n",
              "      <td>22807</td>\n",
              "      <td>45</td>\n",
              "      <td>1501</td>\n",
              "      <td>30-12-93</td>\n",
              "      <td>Self employed</td>\n",
              "      <td>...</td>\n",
              "      <td>0</td>\n",
              "      <td>0</td>\n",
              "      <td>31</td>\n",
              "      <td>0</td>\n",
              "      <td>0</td>\n",
              "      <td>0</td>\n",
              "      <td>0yrs 8mon</td>\n",
              "      <td>1yrs 3mon</td>\n",
              "      <td>1</td>\n",
              "      <td>1</td>\n",
              "    </tr>\n",
              "    <tr>\n",
              "      <th>4</th>\n",
              "      <td>539055</td>\n",
              "      <td>52378</td>\n",
              "      <td>60300</td>\n",
              "      <td>88.39</td>\n",
              "      <td>67</td>\n",
              "      <td>22807</td>\n",
              "      <td>45</td>\n",
              "      <td>1495</td>\n",
              "      <td>09-12-77</td>\n",
              "      <td>Self employed</td>\n",
              "      <td>...</td>\n",
              "      <td>0</td>\n",
              "      <td>0</td>\n",
              "      <td>0</td>\n",
              "      <td>0</td>\n",
              "      <td>0</td>\n",
              "      <td>0</td>\n",
              "      <td>0yrs 0mon</td>\n",
              "      <td>0yrs 0mon</td>\n",
              "      <td>1</td>\n",
              "      <td>1</td>\n",
              "    </tr>\n",
              "  </tbody>\n",
              "</table>\n",
              "<p>5 rows × 41 columns</p>\n",
              "</div>\n",
              "      <button class=\"colab-df-convert\" onclick=\"convertToInteractive('df-fd3fee2e-8ca3-4222-b18e-b3c16c798b13')\"\n",
              "              title=\"Convert this dataframe to an interactive table.\"\n",
              "              style=\"display:none;\">\n",
              "        \n",
              "  <svg xmlns=\"http://www.w3.org/2000/svg\" height=\"24px\"viewBox=\"0 0 24 24\"\n",
              "       width=\"24px\">\n",
              "    <path d=\"M0 0h24v24H0V0z\" fill=\"none\"/>\n",
              "    <path d=\"M18.56 5.44l.94 2.06.94-2.06 2.06-.94-2.06-.94-.94-2.06-.94 2.06-2.06.94zm-11 1L8.5 8.5l.94-2.06 2.06-.94-2.06-.94L8.5 2.5l-.94 2.06-2.06.94zm10 10l.94 2.06.94-2.06 2.06-.94-2.06-.94-.94-2.06-.94 2.06-2.06.94z\"/><path d=\"M17.41 7.96l-1.37-1.37c-.4-.4-.92-.59-1.43-.59-.52 0-1.04.2-1.43.59L10.3 9.45l-7.72 7.72c-.78.78-.78 2.05 0 2.83L4 21.41c.39.39.9.59 1.41.59.51 0 1.02-.2 1.41-.59l7.78-7.78 2.81-2.81c.8-.78.8-2.07 0-2.86zM5.41 20L4 18.59l7.72-7.72 1.47 1.35L5.41 20z\"/>\n",
              "  </svg>\n",
              "      </button>\n",
              "      \n",
              "  <style>\n",
              "    .colab-df-container {\n",
              "      display:flex;\n",
              "      flex-wrap:wrap;\n",
              "      gap: 12px;\n",
              "    }\n",
              "\n",
              "    .colab-df-convert {\n",
              "      background-color: #E8F0FE;\n",
              "      border: none;\n",
              "      border-radius: 50%;\n",
              "      cursor: pointer;\n",
              "      display: none;\n",
              "      fill: #1967D2;\n",
              "      height: 32px;\n",
              "      padding: 0 0 0 0;\n",
              "      width: 32px;\n",
              "    }\n",
              "\n",
              "    .colab-df-convert:hover {\n",
              "      background-color: #E2EBFA;\n",
              "      box-shadow: 0px 1px 2px rgba(60, 64, 67, 0.3), 0px 1px 3px 1px rgba(60, 64, 67, 0.15);\n",
              "      fill: #174EA6;\n",
              "    }\n",
              "\n",
              "    [theme=dark] .colab-df-convert {\n",
              "      background-color: #3B4455;\n",
              "      fill: #D2E3FC;\n",
              "    }\n",
              "\n",
              "    [theme=dark] .colab-df-convert:hover {\n",
              "      background-color: #434B5C;\n",
              "      box-shadow: 0px 1px 3px 1px rgba(0, 0, 0, 0.15);\n",
              "      filter: drop-shadow(0px 1px 2px rgba(0, 0, 0, 0.3));\n",
              "      fill: #FFFFFF;\n",
              "    }\n",
              "  </style>\n",
              "\n",
              "      <script>\n",
              "        const buttonEl =\n",
              "          document.querySelector('#df-fd3fee2e-8ca3-4222-b18e-b3c16c798b13 button.colab-df-convert');\n",
              "        buttonEl.style.display =\n",
              "          google.colab.kernel.accessAllowed ? 'block' : 'none';\n",
              "\n",
              "        async function convertToInteractive(key) {\n",
              "          const element = document.querySelector('#df-fd3fee2e-8ca3-4222-b18e-b3c16c798b13');\n",
              "          const dataTable =\n",
              "            await google.colab.kernel.invokeFunction('convertToInteractive',\n",
              "                                                     [key], {});\n",
              "          if (!dataTable) return;\n",
              "\n",
              "          const docLinkHtml = 'Like what you see? Visit the ' +\n",
              "            '<a target=\"_blank\" href=https://colab.research.google.com/notebooks/data_table.ipynb>data table notebook</a>'\n",
              "            + ' to learn more about interactive tables.';\n",
              "          element.innerHTML = '';\n",
              "          dataTable['output_type'] = 'display_data';\n",
              "          await google.colab.output.renderOutput(dataTable, element);\n",
              "          const docLink = document.createElement('div');\n",
              "          docLink.innerHTML = docLinkHtml;\n",
              "          element.appendChild(docLink);\n",
              "        }\n",
              "      </script>\n",
              "    </div>\n",
              "  </div>\n",
              "  "
            ]
          },
          "metadata": {},
          "execution_count": 5
        }
      ]
    },
    {
      "cell_type": "markdown",
      "source": [
        "## 3.数据预处理\n",
        "\n",
        "真实数据中可能包含了大量的缺失值和噪音数据或人工录入错误导致有异常点存在，非常不利于算法模型的训练。数据清洗的结果是对各种脏数据进行对应方式的处理，得到标准的、干净的、连续的数据，提供给数据统计、数据挖掘等使用。数据预处理通常包含数据清洗、归约、聚合、转换、抽样等方式，数据预处理质量决定了后续数据分析挖掘及建模工作的精度和泛化价值。以下简要介绍数据预处理工作中主要的预处理方法：\n"
      ],
      "metadata": {
        "id": "pa92E-jCda1d"
      }
    },
    {
      "cell_type": "markdown",
      "source": [
        "### 去除挖掘无关重要的特征\n",
        "\n",
        "一些ID标识类的数据参与机器建模没有意义，所以在此进行去掉，主要包括：\n",
        "\n"
      ],
      "metadata": {
        "id": "o9FOUsPwdhyF"
      }
    },
    {
      "cell_type": "code",
      "source": [
        "# 去除挖掘无关重要的特征\n",
        "df = df.drop(\n",
        "    ['UniqueID', 'branch_id', 'supplier_id', 'Current_pincode_ID', 'State_ID', 'Employee_code_ID', 'MobileNo_Avl_Flag'],\n",
        "    axis=1)\n",
        "df[0:5]"
      ],
      "metadata": {
        "colab": {
          "base_uri": "https://localhost:8080/",
          "height": 299
        },
        "id": "c5s0A-0GcN4b",
        "outputId": "7904a8dc-1797-46f2-e28f-e3ed640aaa02"
      },
      "execution_count": 6,
      "outputs": [
        {
          "output_type": "execute_result",
          "data": {
            "text/plain": [
              "   disbursed_amount  asset_cost    ltv  manufacturer_id Date.of.Birth  \\\n",
              "0             50578       58400  89.55               45      01-01-84   \n",
              "1             47145       65550  73.23               45      31-07-85   \n",
              "2             53278       61360  89.63               45      24-08-85   \n",
              "3             57513       66113  88.48               45      30-12-93   \n",
              "4             52378       60300  88.39               45      09-12-77   \n",
              "\n",
              "  Employment.Type DisbursalDate  Aadhar_flag  PAN_flag  VoterID_flag  ...  \\\n",
              "0        Salaried     2003/8/18            1         0             0  ...   \n",
              "1   Self employed     2026/9/18            1         0             0  ...   \n",
              "2   Self employed     2001/8/18            1         0             0  ...   \n",
              "3   Self employed    2026/10/18            1         0             0  ...   \n",
              "4   Self employed     2026/9/18            1         0             0  ...   \n",
              "\n",
              "   SEC.SANCTIONED.AMOUNT  SEC.DISBURSED.AMOUNT  PRIMARY.INSTAL.AMT  \\\n",
              "0                      0                     0                   0   \n",
              "1                      0                     0                1991   \n",
              "2                      0                     0                   0   \n",
              "3                      0                     0                  31   \n",
              "4                      0                     0                   0   \n",
              "\n",
              "  SEC.INSTAL.AMT  NEW.ACCTS.IN.LAST.SIX.MONTHS  \\\n",
              "0              0                             0   \n",
              "1              0                             0   \n",
              "2              0                             0   \n",
              "3              0                             0   \n",
              "4              0                             0   \n",
              "\n",
              "   DELINQUENT.ACCTS.IN.LAST.SIX.MONTHS  AVERAGE.ACCT.AGE  \\\n",
              "0                                    0         0yrs 0mon   \n",
              "1                                    1        1yrs 11mon   \n",
              "2                                    0         0yrs 0mon   \n",
              "3                                    0         0yrs 8mon   \n",
              "4                                    0         0yrs 0mon   \n",
              "\n",
              "   CREDIT.HISTORY.LENGTH  NO.OF_INQUIRIES  loan_default  \n",
              "0              0yrs 0mon                0             0  \n",
              "1             1yrs 11mon                0             1  \n",
              "2              0yrs 0mon                0             0  \n",
              "3              1yrs 3mon                1             1  \n",
              "4              0yrs 0mon                1             1  \n",
              "\n",
              "[5 rows x 34 columns]"
            ],
            "text/html": [
              "\n",
              "  <div id=\"df-d4939bd4-e642-4bec-9a90-260732dd1026\">\n",
              "    <div class=\"colab-df-container\">\n",
              "      <div>\n",
              "<style scoped>\n",
              "    .dataframe tbody tr th:only-of-type {\n",
              "        vertical-align: middle;\n",
              "    }\n",
              "\n",
              "    .dataframe tbody tr th {\n",
              "        vertical-align: top;\n",
              "    }\n",
              "\n",
              "    .dataframe thead th {\n",
              "        text-align: right;\n",
              "    }\n",
              "</style>\n",
              "<table border=\"1\" class=\"dataframe\">\n",
              "  <thead>\n",
              "    <tr style=\"text-align: right;\">\n",
              "      <th></th>\n",
              "      <th>disbursed_amount</th>\n",
              "      <th>asset_cost</th>\n",
              "      <th>ltv</th>\n",
              "      <th>manufacturer_id</th>\n",
              "      <th>Date.of.Birth</th>\n",
              "      <th>Employment.Type</th>\n",
              "      <th>DisbursalDate</th>\n",
              "      <th>Aadhar_flag</th>\n",
              "      <th>PAN_flag</th>\n",
              "      <th>VoterID_flag</th>\n",
              "      <th>...</th>\n",
              "      <th>SEC.SANCTIONED.AMOUNT</th>\n",
              "      <th>SEC.DISBURSED.AMOUNT</th>\n",
              "      <th>PRIMARY.INSTAL.AMT</th>\n",
              "      <th>SEC.INSTAL.AMT</th>\n",
              "      <th>NEW.ACCTS.IN.LAST.SIX.MONTHS</th>\n",
              "      <th>DELINQUENT.ACCTS.IN.LAST.SIX.MONTHS</th>\n",
              "      <th>AVERAGE.ACCT.AGE</th>\n",
              "      <th>CREDIT.HISTORY.LENGTH</th>\n",
              "      <th>NO.OF_INQUIRIES</th>\n",
              "      <th>loan_default</th>\n",
              "    </tr>\n",
              "  </thead>\n",
              "  <tbody>\n",
              "    <tr>\n",
              "      <th>0</th>\n",
              "      <td>50578</td>\n",
              "      <td>58400</td>\n",
              "      <td>89.55</td>\n",
              "      <td>45</td>\n",
              "      <td>01-01-84</td>\n",
              "      <td>Salaried</td>\n",
              "      <td>2003/8/18</td>\n",
              "      <td>1</td>\n",
              "      <td>0</td>\n",
              "      <td>0</td>\n",
              "      <td>...</td>\n",
              "      <td>0</td>\n",
              "      <td>0</td>\n",
              "      <td>0</td>\n",
              "      <td>0</td>\n",
              "      <td>0</td>\n",
              "      <td>0</td>\n",
              "      <td>0yrs 0mon</td>\n",
              "      <td>0yrs 0mon</td>\n",
              "      <td>0</td>\n",
              "      <td>0</td>\n",
              "    </tr>\n",
              "    <tr>\n",
              "      <th>1</th>\n",
              "      <td>47145</td>\n",
              "      <td>65550</td>\n",
              "      <td>73.23</td>\n",
              "      <td>45</td>\n",
              "      <td>31-07-85</td>\n",
              "      <td>Self employed</td>\n",
              "      <td>2026/9/18</td>\n",
              "      <td>1</td>\n",
              "      <td>0</td>\n",
              "      <td>0</td>\n",
              "      <td>...</td>\n",
              "      <td>0</td>\n",
              "      <td>0</td>\n",
              "      <td>1991</td>\n",
              "      <td>0</td>\n",
              "      <td>0</td>\n",
              "      <td>1</td>\n",
              "      <td>1yrs 11mon</td>\n",
              "      <td>1yrs 11mon</td>\n",
              "      <td>0</td>\n",
              "      <td>1</td>\n",
              "    </tr>\n",
              "    <tr>\n",
              "      <th>2</th>\n",
              "      <td>53278</td>\n",
              "      <td>61360</td>\n",
              "      <td>89.63</td>\n",
              "      <td>45</td>\n",
              "      <td>24-08-85</td>\n",
              "      <td>Self employed</td>\n",
              "      <td>2001/8/18</td>\n",
              "      <td>1</td>\n",
              "      <td>0</td>\n",
              "      <td>0</td>\n",
              "      <td>...</td>\n",
              "      <td>0</td>\n",
              "      <td>0</td>\n",
              "      <td>0</td>\n",
              "      <td>0</td>\n",
              "      <td>0</td>\n",
              "      <td>0</td>\n",
              "      <td>0yrs 0mon</td>\n",
              "      <td>0yrs 0mon</td>\n",
              "      <td>0</td>\n",
              "      <td>0</td>\n",
              "    </tr>\n",
              "    <tr>\n",
              "      <th>3</th>\n",
              "      <td>57513</td>\n",
              "      <td>66113</td>\n",
              "      <td>88.48</td>\n",
              "      <td>45</td>\n",
              "      <td>30-12-93</td>\n",
              "      <td>Self employed</td>\n",
              "      <td>2026/10/18</td>\n",
              "      <td>1</td>\n",
              "      <td>0</td>\n",
              "      <td>0</td>\n",
              "      <td>...</td>\n",
              "      <td>0</td>\n",
              "      <td>0</td>\n",
              "      <td>31</td>\n",
              "      <td>0</td>\n",
              "      <td>0</td>\n",
              "      <td>0</td>\n",
              "      <td>0yrs 8mon</td>\n",
              "      <td>1yrs 3mon</td>\n",
              "      <td>1</td>\n",
              "      <td>1</td>\n",
              "    </tr>\n",
              "    <tr>\n",
              "      <th>4</th>\n",
              "      <td>52378</td>\n",
              "      <td>60300</td>\n",
              "      <td>88.39</td>\n",
              "      <td>45</td>\n",
              "      <td>09-12-77</td>\n",
              "      <td>Self employed</td>\n",
              "      <td>2026/9/18</td>\n",
              "      <td>1</td>\n",
              "      <td>0</td>\n",
              "      <td>0</td>\n",
              "      <td>...</td>\n",
              "      <td>0</td>\n",
              "      <td>0</td>\n",
              "      <td>0</td>\n",
              "      <td>0</td>\n",
              "      <td>0</td>\n",
              "      <td>0</td>\n",
              "      <td>0yrs 0mon</td>\n",
              "      <td>0yrs 0mon</td>\n",
              "      <td>1</td>\n",
              "      <td>1</td>\n",
              "    </tr>\n",
              "  </tbody>\n",
              "</table>\n",
              "<p>5 rows × 34 columns</p>\n",
              "</div>\n",
              "      <button class=\"colab-df-convert\" onclick=\"convertToInteractive('df-d4939bd4-e642-4bec-9a90-260732dd1026')\"\n",
              "              title=\"Convert this dataframe to an interactive table.\"\n",
              "              style=\"display:none;\">\n",
              "        \n",
              "  <svg xmlns=\"http://www.w3.org/2000/svg\" height=\"24px\"viewBox=\"0 0 24 24\"\n",
              "       width=\"24px\">\n",
              "    <path d=\"M0 0h24v24H0V0z\" fill=\"none\"/>\n",
              "    <path d=\"M18.56 5.44l.94 2.06.94-2.06 2.06-.94-2.06-.94-.94-2.06-.94 2.06-2.06.94zm-11 1L8.5 8.5l.94-2.06 2.06-.94-2.06-.94L8.5 2.5l-.94 2.06-2.06.94zm10 10l.94 2.06.94-2.06 2.06-.94-2.06-.94-.94-2.06-.94 2.06-2.06.94z\"/><path d=\"M17.41 7.96l-1.37-1.37c-.4-.4-.92-.59-1.43-.59-.52 0-1.04.2-1.43.59L10.3 9.45l-7.72 7.72c-.78.78-.78 2.05 0 2.83L4 21.41c.39.39.9.59 1.41.59.51 0 1.02-.2 1.41-.59l7.78-7.78 2.81-2.81c.8-.78.8-2.07 0-2.86zM5.41 20L4 18.59l7.72-7.72 1.47 1.35L5.41 20z\"/>\n",
              "  </svg>\n",
              "      </button>\n",
              "      \n",
              "  <style>\n",
              "    .colab-df-container {\n",
              "      display:flex;\n",
              "      flex-wrap:wrap;\n",
              "      gap: 12px;\n",
              "    }\n",
              "\n",
              "    .colab-df-convert {\n",
              "      background-color: #E8F0FE;\n",
              "      border: none;\n",
              "      border-radius: 50%;\n",
              "      cursor: pointer;\n",
              "      display: none;\n",
              "      fill: #1967D2;\n",
              "      height: 32px;\n",
              "      padding: 0 0 0 0;\n",
              "      width: 32px;\n",
              "    }\n",
              "\n",
              "    .colab-df-convert:hover {\n",
              "      background-color: #E2EBFA;\n",
              "      box-shadow: 0px 1px 2px rgba(60, 64, 67, 0.3), 0px 1px 3px 1px rgba(60, 64, 67, 0.15);\n",
              "      fill: #174EA6;\n",
              "    }\n",
              "\n",
              "    [theme=dark] .colab-df-convert {\n",
              "      background-color: #3B4455;\n",
              "      fill: #D2E3FC;\n",
              "    }\n",
              "\n",
              "    [theme=dark] .colab-df-convert:hover {\n",
              "      background-color: #434B5C;\n",
              "      box-shadow: 0px 1px 3px 1px rgba(0, 0, 0, 0.15);\n",
              "      filter: drop-shadow(0px 1px 2px rgba(0, 0, 0, 0.3));\n",
              "      fill: #FFFFFF;\n",
              "    }\n",
              "  </style>\n",
              "\n",
              "      <script>\n",
              "        const buttonEl =\n",
              "          document.querySelector('#df-d4939bd4-e642-4bec-9a90-260732dd1026 button.colab-df-convert');\n",
              "        buttonEl.style.display =\n",
              "          google.colab.kernel.accessAllowed ? 'block' : 'none';\n",
              "\n",
              "        async function convertToInteractive(key) {\n",
              "          const element = document.querySelector('#df-d4939bd4-e642-4bec-9a90-260732dd1026');\n",
              "          const dataTable =\n",
              "            await google.colab.kernel.invokeFunction('convertToInteractive',\n",
              "                                                     [key], {});\n",
              "          if (!dataTable) return;\n",
              "\n",
              "          const docLinkHtml = 'Like what you see? Visit the ' +\n",
              "            '<a target=\"_blank\" href=https://colab.research.google.com/notebooks/data_table.ipynb>data table notebook</a>'\n",
              "            + ' to learn more about interactive tables.';\n",
              "          element.innerHTML = '';\n",
              "          dataTable['output_type'] = 'display_data';\n",
              "          await google.colab.output.renderOutput(dataTable, element);\n",
              "          const docLink = document.createElement('div');\n",
              "          docLink.innerHTML = docLinkHtml;\n",
              "          element.appendChild(docLink);\n",
              "        }\n",
              "      </script>\n",
              "    </div>\n",
              "  </div>\n",
              "  "
            ]
          },
          "metadata": {},
          "execution_count": 6
        }
      ]
    },
    {
      "cell_type": "markdown",
      "source": [
        "### 特征文本数据转换\n",
        "\n",
        "1.数据项：PERFORM_CNS.SCORE.DESCRIPTION\n",
        "\n",
        "PERFORM_CNS.SCORE.DESCRIPTION此数据项为文本类型的分数级别描述，需要转换成数值型的信用风险等级：\n",
        "\n"
      ],
      "metadata": {
        "id": "5GdMY-NTdymK"
      }
    },
    {
      "cell_type": "code",
      "source": [
        "import numpy as np\n",
        "# 特征文本数据转换\n",
        "def credit_risk(df):\n",
        "    d1 = []\n",
        "    d2 = []\n",
        "    for i in df:\n",
        "        p = i.split(\"-\") \n",
        "        if len(p) == 1:\n",
        "            d1.append(p[0])\n",
        "            d2.append('unknown')\n",
        "        else:\n",
        "            d1.append(p[1])\n",
        "            d2.append(p[0])\n",
        "\n",
        "    return d2\n",
        "\n",
        "\n",
        "sub_risk = {'unknown': -1, 'A': 13, 'B': 12, 'C': 11, 'D': 10, 'E': 9, 'F': 8, 'G': 7, 'H': 6, 'I': 5, 'J': 4, 'K': 3,\n",
        "            'L': 2, 'M': 1}\n",
        "employment_map = {'Self employed': 0, 'Salaried': 1, np.nan: 2}\n",
        "\n",
        "df.loc[:, 'credit_risk_grade'] = credit_risk(df[\"PERFORM_CNS.SCORE.DESCRIPTION\"])\n",
        "df.loc[:, 'Credit Risk'] = df['credit_risk_grade'].apply(lambda x: sub_risk[x])\n",
        "\n",
        "print(df['Credit Risk'].head())\n",
        "\n",
        "df.loc[:, 'Employment Type'] = df['Employment.Type'].apply(lambda x: employment_map[x])\n",
        "\n",
        "print(df['Employment Type'].head())"
      ],
      "metadata": {
        "colab": {
          "base_uri": "https://localhost:8080/"
        },
        "id": "hQw0NXh4eIGS",
        "outputId": "c655e783-403c-4b57-dc77-e64b4d916943"
      },
      "execution_count": 7,
      "outputs": [
        {
          "output_type": "stream",
          "name": "stdout",
          "text": [
            "0   -1\n",
            "1    5\n",
            "2   -1\n",
            "3    2\n",
            "4   -1\n",
            "Name: Credit Risk, dtype: int64\n",
            "0    1\n",
            "1    0\n",
            "2    0\n",
            "3    0\n",
            "4    0\n",
            "Name: Employment Type, dtype: int64\n"
          ]
        }
      ]
    },
    {
      "cell_type": "code",
      "source": [
        "df = df.drop(['PERFORM_CNS.SCORE.DESCRIPTION', 'credit_risk_grade', 'Employment.Type'], axis=1)"
      ],
      "metadata": {
        "id": "TXdyRjecfsj6"
      },
      "execution_count": 8,
      "outputs": []
    },
    {
      "cell_type": "code",
      "source": [
        "# 客户年龄计算\n",
        "def age(dur):\n",
        "    yr = int(dur.split('-')[2])\n",
        "    if yr >= 0 and yr <= 19:\n",
        "        return yr + 2000\n",
        "    else:\n",
        "        return yr + 1900\n",
        "\n",
        "\n",
        "def age1(dur):\n",
        "    yr = int(dur.split('/')[0])\n",
        "\n",
        "    return yr\n",
        "\n",
        "\n",
        "df['Date.of.Birth'] = df['Date.of.Birth'].apply(age)\n",
        "df['DisbursalDate'] = df['DisbursalDate'].apply(age1)\n",
        "df['Age'] = df['DisbursalDate'] - df['Date.of.Birth']\n",
        "df = df.drop(['DisbursalDate', 'Date.of.Birth'], axis=1)\n",
        "\n",
        "print(df['Age'].head())"
      ],
      "metadata": {
        "colab": {
          "base_uri": "https://localhost:8080/"
        },
        "id": "X3jm3JQpfkcK",
        "outputId": "fad85f92-3d92-40f0-df42-e22c00211a38"
      },
      "execution_count": 9,
      "outputs": [
        {
          "output_type": "stream",
          "name": "stdout",
          "text": [
            "0    19\n",
            "1    41\n",
            "2    16\n",
            "3    33\n",
            "4    49\n",
            "Name: Age, dtype: int64\n"
          ]
        }
      ]
    },
    {
      "cell_type": "markdown",
      "source": [
        "### 文本数据处理\n",
        "AVERAGE.ACCT.AGE 平均贷款年租期\n",
        "\n",
        "CREDIT.HISTORY.LENGTH 自第一次贷款以来的时间\n",
        "\n",
        "本次主要是针对这两个数据项的处理，原始数据如下：\n"
      ],
      "metadata": {
        "id": "lW9dGn-n69sW"
      }
    },
    {
      "cell_type": "code",
      "source": [
        "df[['AVERAGE.ACCT.AGE','CREDIT.HISTORY.LENGTH']][0:5]"
      ],
      "metadata": {
        "colab": {
          "base_uri": "https://localhost:8080/",
          "height": 206
        },
        "id": "K7Ur1oYS580F",
        "outputId": "8d8ab2be-2bbb-4bbf-d5f9-28d3b4730bbf"
      },
      "execution_count": 15,
      "outputs": [
        {
          "output_type": "execute_result",
          "data": {
            "text/plain": [
              "  AVERAGE.ACCT.AGE CREDIT.HISTORY.LENGTH\n",
              "0        0yrs 0mon             0yrs 0mon\n",
              "1       1yrs 11mon            1yrs 11mon\n",
              "2        0yrs 0mon             0yrs 0mon\n",
              "3        0yrs 8mon             1yrs 3mon\n",
              "4        0yrs 0mon             0yrs 0mon"
            ],
            "text/html": [
              "\n",
              "  <div id=\"df-504b6c1e-8612-443f-8283-b1e4a33abf4a\">\n",
              "    <div class=\"colab-df-container\">\n",
              "      <div>\n",
              "<style scoped>\n",
              "    .dataframe tbody tr th:only-of-type {\n",
              "        vertical-align: middle;\n",
              "    }\n",
              "\n",
              "    .dataframe tbody tr th {\n",
              "        vertical-align: top;\n",
              "    }\n",
              "\n",
              "    .dataframe thead th {\n",
              "        text-align: right;\n",
              "    }\n",
              "</style>\n",
              "<table border=\"1\" class=\"dataframe\">\n",
              "  <thead>\n",
              "    <tr style=\"text-align: right;\">\n",
              "      <th></th>\n",
              "      <th>AVERAGE.ACCT.AGE</th>\n",
              "      <th>CREDIT.HISTORY.LENGTH</th>\n",
              "    </tr>\n",
              "  </thead>\n",
              "  <tbody>\n",
              "    <tr>\n",
              "      <th>0</th>\n",
              "      <td>0yrs 0mon</td>\n",
              "      <td>0yrs 0mon</td>\n",
              "    </tr>\n",
              "    <tr>\n",
              "      <th>1</th>\n",
              "      <td>1yrs 11mon</td>\n",
              "      <td>1yrs 11mon</td>\n",
              "    </tr>\n",
              "    <tr>\n",
              "      <th>2</th>\n",
              "      <td>0yrs 0mon</td>\n",
              "      <td>0yrs 0mon</td>\n",
              "    </tr>\n",
              "    <tr>\n",
              "      <th>3</th>\n",
              "      <td>0yrs 8mon</td>\n",
              "      <td>1yrs 3mon</td>\n",
              "    </tr>\n",
              "    <tr>\n",
              "      <th>4</th>\n",
              "      <td>0yrs 0mon</td>\n",
              "      <td>0yrs 0mon</td>\n",
              "    </tr>\n",
              "  </tbody>\n",
              "</table>\n",
              "</div>\n",
              "      <button class=\"colab-df-convert\" onclick=\"convertToInteractive('df-504b6c1e-8612-443f-8283-b1e4a33abf4a')\"\n",
              "              title=\"Convert this dataframe to an interactive table.\"\n",
              "              style=\"display:none;\">\n",
              "        \n",
              "  <svg xmlns=\"http://www.w3.org/2000/svg\" height=\"24px\"viewBox=\"0 0 24 24\"\n",
              "       width=\"24px\">\n",
              "    <path d=\"M0 0h24v24H0V0z\" fill=\"none\"/>\n",
              "    <path d=\"M18.56 5.44l.94 2.06.94-2.06 2.06-.94-2.06-.94-.94-2.06-.94 2.06-2.06.94zm-11 1L8.5 8.5l.94-2.06 2.06-.94-2.06-.94L8.5 2.5l-.94 2.06-2.06.94zm10 10l.94 2.06.94-2.06 2.06-.94-2.06-.94-.94-2.06-.94 2.06-2.06.94z\"/><path d=\"M17.41 7.96l-1.37-1.37c-.4-.4-.92-.59-1.43-.59-.52 0-1.04.2-1.43.59L10.3 9.45l-7.72 7.72c-.78.78-.78 2.05 0 2.83L4 21.41c.39.39.9.59 1.41.59.51 0 1.02-.2 1.41-.59l7.78-7.78 2.81-2.81c.8-.78.8-2.07 0-2.86zM5.41 20L4 18.59l7.72-7.72 1.47 1.35L5.41 20z\"/>\n",
              "  </svg>\n",
              "      </button>\n",
              "      \n",
              "  <style>\n",
              "    .colab-df-container {\n",
              "      display:flex;\n",
              "      flex-wrap:wrap;\n",
              "      gap: 12px;\n",
              "    }\n",
              "\n",
              "    .colab-df-convert {\n",
              "      background-color: #E8F0FE;\n",
              "      border: none;\n",
              "      border-radius: 50%;\n",
              "      cursor: pointer;\n",
              "      display: none;\n",
              "      fill: #1967D2;\n",
              "      height: 32px;\n",
              "      padding: 0 0 0 0;\n",
              "      width: 32px;\n",
              "    }\n",
              "\n",
              "    .colab-df-convert:hover {\n",
              "      background-color: #E2EBFA;\n",
              "      box-shadow: 0px 1px 2px rgba(60, 64, 67, 0.3), 0px 1px 3px 1px rgba(60, 64, 67, 0.15);\n",
              "      fill: #174EA6;\n",
              "    }\n",
              "\n",
              "    [theme=dark] .colab-df-convert {\n",
              "      background-color: #3B4455;\n",
              "      fill: #D2E3FC;\n",
              "    }\n",
              "\n",
              "    [theme=dark] .colab-df-convert:hover {\n",
              "      background-color: #434B5C;\n",
              "      box-shadow: 0px 1px 3px 1px rgba(0, 0, 0, 0.15);\n",
              "      filter: drop-shadow(0px 1px 2px rgba(0, 0, 0, 0.3));\n",
              "      fill: #FFFFFF;\n",
              "    }\n",
              "  </style>\n",
              "\n",
              "      <script>\n",
              "        const buttonEl =\n",
              "          document.querySelector('#df-504b6c1e-8612-443f-8283-b1e4a33abf4a button.colab-df-convert');\n",
              "        buttonEl.style.display =\n",
              "          google.colab.kernel.accessAllowed ? 'block' : 'none';\n",
              "\n",
              "        async function convertToInteractive(key) {\n",
              "          const element = document.querySelector('#df-504b6c1e-8612-443f-8283-b1e4a33abf4a');\n",
              "          const dataTable =\n",
              "            await google.colab.kernel.invokeFunction('convertToInteractive',\n",
              "                                                     [key], {});\n",
              "          if (!dataTable) return;\n",
              "\n",
              "          const docLinkHtml = 'Like what you see? Visit the ' +\n",
              "            '<a target=\"_blank\" href=https://colab.research.google.com/notebooks/data_table.ipynb>data table notebook</a>'\n",
              "            + ' to learn more about interactive tables.';\n",
              "          element.innerHTML = '';\n",
              "          dataTable['output_type'] = 'display_data';\n",
              "          await google.colab.output.renderOutput(dataTable, element);\n",
              "          const docLink = document.createElement('div');\n",
              "          docLink.innerHTML = docLinkHtml;\n",
              "          element.appendChild(docLink);\n",
              "        }\n",
              "      </script>\n",
              "    </div>\n",
              "  </div>\n",
              "  "
            ]
          },
          "metadata": {},
          "execution_count": 15
        }
      ]
    },
    {
      "cell_type": "code",
      "source": [
        "# 文本数据处理\n",
        "def duration(dur):\n",
        "    yrs = int(dur.split(' ')[0].replace('yrs', ''))\n",
        "    mon = int(dur.split(' ')[1].replace('mon', ''))\n",
        "    return yrs * 12 + mon\n",
        "\n",
        "\n",
        "df['AVERAGE.ACCT.AGE'] = df['AVERAGE.ACCT.AGE'].apply(duration)\n",
        "df['CREDIT.HISTORY.LENGTH'] = df['CREDIT.HISTORY.LENGTH'].apply(duration)\n",
        "\n",
        "print(df['AVERAGE.ACCT.AGE'].head())\n",
        "print(df['CREDIT.HISTORY.LENGTH'].head())"
      ],
      "metadata": {
        "colab": {
          "base_uri": "https://localhost:8080/"
        },
        "id": "zo7sWdde8vNB",
        "outputId": "cda99aad-bcc7-4e67-a9a8-40aa6f063625"
      },
      "execution_count": 16,
      "outputs": [
        {
          "output_type": "stream",
          "name": "stdout",
          "text": [
            "0     0\n",
            "1    23\n",
            "2     0\n",
            "3     8\n",
            "4     0\n",
            "Name: AVERAGE.ACCT.AGE, dtype: int64\n",
            "0     0\n",
            "1    23\n",
            "2     0\n",
            "3    15\n",
            "4     0\n",
            "Name: CREDIT.HISTORY.LENGTH, dtype: int64\n"
          ]
        }
      ]
    },
    {
      "cell_type": "code",
      "source": [
        "df[0:5]"
      ],
      "metadata": {
        "colab": {
          "base_uri": "https://localhost:8080/",
          "height": 317
        },
        "id": "5du81c7lAD5V",
        "outputId": "c66aafdd-dc34-4dab-ade0-d3d17b715daa"
      },
      "execution_count": 17,
      "outputs": [
        {
          "output_type": "execute_result",
          "data": {
            "text/plain": [
              "   disbursed_amount  asset_cost    ltv  manufacturer_id  Aadhar_flag  \\\n",
              "0             50578       58400  89.55               45            1   \n",
              "1             47145       65550  73.23               45            1   \n",
              "2             53278       61360  89.63               45            1   \n",
              "3             57513       66113  88.48               45            1   \n",
              "4             52378       60300  88.39               45            1   \n",
              "\n",
              "   PAN_flag  VoterID_flag  Driving_flag  Passport_flag  PERFORM_CNS.SCORE  \\\n",
              "0         0             0             0              0                  0   \n",
              "1         0             0             0              0                598   \n",
              "2         0             0             0              0                  0   \n",
              "3         0             0             0              0                305   \n",
              "4         0             0             0              0                  0   \n",
              "\n",
              "   ...  SEC.INSTAL.AMT  NEW.ACCTS.IN.LAST.SIX.MONTHS  \\\n",
              "0  ...               0                             0   \n",
              "1  ...               0                             0   \n",
              "2  ...               0                             0   \n",
              "3  ...               0                             0   \n",
              "4  ...               0                             0   \n",
              "\n",
              "   DELINQUENT.ACCTS.IN.LAST.SIX.MONTHS  AVERAGE.ACCT.AGE  \\\n",
              "0                                    0                 0   \n",
              "1                                    1                23   \n",
              "2                                    0                 0   \n",
              "3                                    0                 8   \n",
              "4                                    0                 0   \n",
              "\n",
              "   CREDIT.HISTORY.LENGTH  NO.OF_INQUIRIES  loan_default  Credit Risk  \\\n",
              "0                      0                0             0           -1   \n",
              "1                     23                0             1            5   \n",
              "2                      0                0             0           -1   \n",
              "3                     15                1             1            2   \n",
              "4                      0                1             1           -1   \n",
              "\n",
              "   Employment Type  Age  \n",
              "0                1   19  \n",
              "1                0   41  \n",
              "2                0   16  \n",
              "3                0   33  \n",
              "4                0   49  \n",
              "\n",
              "[5 rows x 33 columns]"
            ],
            "text/html": [
              "\n",
              "  <div id=\"df-58d8fa8f-cd32-403b-82b2-4ba0d139b078\">\n",
              "    <div class=\"colab-df-container\">\n",
              "      <div>\n",
              "<style scoped>\n",
              "    .dataframe tbody tr th:only-of-type {\n",
              "        vertical-align: middle;\n",
              "    }\n",
              "\n",
              "    .dataframe tbody tr th {\n",
              "        vertical-align: top;\n",
              "    }\n",
              "\n",
              "    .dataframe thead th {\n",
              "        text-align: right;\n",
              "    }\n",
              "</style>\n",
              "<table border=\"1\" class=\"dataframe\">\n",
              "  <thead>\n",
              "    <tr style=\"text-align: right;\">\n",
              "      <th></th>\n",
              "      <th>disbursed_amount</th>\n",
              "      <th>asset_cost</th>\n",
              "      <th>ltv</th>\n",
              "      <th>manufacturer_id</th>\n",
              "      <th>Aadhar_flag</th>\n",
              "      <th>PAN_flag</th>\n",
              "      <th>VoterID_flag</th>\n",
              "      <th>Driving_flag</th>\n",
              "      <th>Passport_flag</th>\n",
              "      <th>PERFORM_CNS.SCORE</th>\n",
              "      <th>...</th>\n",
              "      <th>SEC.INSTAL.AMT</th>\n",
              "      <th>NEW.ACCTS.IN.LAST.SIX.MONTHS</th>\n",
              "      <th>DELINQUENT.ACCTS.IN.LAST.SIX.MONTHS</th>\n",
              "      <th>AVERAGE.ACCT.AGE</th>\n",
              "      <th>CREDIT.HISTORY.LENGTH</th>\n",
              "      <th>NO.OF_INQUIRIES</th>\n",
              "      <th>loan_default</th>\n",
              "      <th>Credit Risk</th>\n",
              "      <th>Employment Type</th>\n",
              "      <th>Age</th>\n",
              "    </tr>\n",
              "  </thead>\n",
              "  <tbody>\n",
              "    <tr>\n",
              "      <th>0</th>\n",
              "      <td>50578</td>\n",
              "      <td>58400</td>\n",
              "      <td>89.55</td>\n",
              "      <td>45</td>\n",
              "      <td>1</td>\n",
              "      <td>0</td>\n",
              "      <td>0</td>\n",
              "      <td>0</td>\n",
              "      <td>0</td>\n",
              "      <td>0</td>\n",
              "      <td>...</td>\n",
              "      <td>0</td>\n",
              "      <td>0</td>\n",
              "      <td>0</td>\n",
              "      <td>0</td>\n",
              "      <td>0</td>\n",
              "      <td>0</td>\n",
              "      <td>0</td>\n",
              "      <td>-1</td>\n",
              "      <td>1</td>\n",
              "      <td>19</td>\n",
              "    </tr>\n",
              "    <tr>\n",
              "      <th>1</th>\n",
              "      <td>47145</td>\n",
              "      <td>65550</td>\n",
              "      <td>73.23</td>\n",
              "      <td>45</td>\n",
              "      <td>1</td>\n",
              "      <td>0</td>\n",
              "      <td>0</td>\n",
              "      <td>0</td>\n",
              "      <td>0</td>\n",
              "      <td>598</td>\n",
              "      <td>...</td>\n",
              "      <td>0</td>\n",
              "      <td>0</td>\n",
              "      <td>1</td>\n",
              "      <td>23</td>\n",
              "      <td>23</td>\n",
              "      <td>0</td>\n",
              "      <td>1</td>\n",
              "      <td>5</td>\n",
              "      <td>0</td>\n",
              "      <td>41</td>\n",
              "    </tr>\n",
              "    <tr>\n",
              "      <th>2</th>\n",
              "      <td>53278</td>\n",
              "      <td>61360</td>\n",
              "      <td>89.63</td>\n",
              "      <td>45</td>\n",
              "      <td>1</td>\n",
              "      <td>0</td>\n",
              "      <td>0</td>\n",
              "      <td>0</td>\n",
              "      <td>0</td>\n",
              "      <td>0</td>\n",
              "      <td>...</td>\n",
              "      <td>0</td>\n",
              "      <td>0</td>\n",
              "      <td>0</td>\n",
              "      <td>0</td>\n",
              "      <td>0</td>\n",
              "      <td>0</td>\n",
              "      <td>0</td>\n",
              "      <td>-1</td>\n",
              "      <td>0</td>\n",
              "      <td>16</td>\n",
              "    </tr>\n",
              "    <tr>\n",
              "      <th>3</th>\n",
              "      <td>57513</td>\n",
              "      <td>66113</td>\n",
              "      <td>88.48</td>\n",
              "      <td>45</td>\n",
              "      <td>1</td>\n",
              "      <td>0</td>\n",
              "      <td>0</td>\n",
              "      <td>0</td>\n",
              "      <td>0</td>\n",
              "      <td>305</td>\n",
              "      <td>...</td>\n",
              "      <td>0</td>\n",
              "      <td>0</td>\n",
              "      <td>0</td>\n",
              "      <td>8</td>\n",
              "      <td>15</td>\n",
              "      <td>1</td>\n",
              "      <td>1</td>\n",
              "      <td>2</td>\n",
              "      <td>0</td>\n",
              "      <td>33</td>\n",
              "    </tr>\n",
              "    <tr>\n",
              "      <th>4</th>\n",
              "      <td>52378</td>\n",
              "      <td>60300</td>\n",
              "      <td>88.39</td>\n",
              "      <td>45</td>\n",
              "      <td>1</td>\n",
              "      <td>0</td>\n",
              "      <td>0</td>\n",
              "      <td>0</td>\n",
              "      <td>0</td>\n",
              "      <td>0</td>\n",
              "      <td>...</td>\n",
              "      <td>0</td>\n",
              "      <td>0</td>\n",
              "      <td>0</td>\n",
              "      <td>0</td>\n",
              "      <td>0</td>\n",
              "      <td>1</td>\n",
              "      <td>1</td>\n",
              "      <td>-1</td>\n",
              "      <td>0</td>\n",
              "      <td>49</td>\n",
              "    </tr>\n",
              "  </tbody>\n",
              "</table>\n",
              "<p>5 rows × 33 columns</p>\n",
              "</div>\n",
              "      <button class=\"colab-df-convert\" onclick=\"convertToInteractive('df-58d8fa8f-cd32-403b-82b2-4ba0d139b078')\"\n",
              "              title=\"Convert this dataframe to an interactive table.\"\n",
              "              style=\"display:none;\">\n",
              "        \n",
              "  <svg xmlns=\"http://www.w3.org/2000/svg\" height=\"24px\"viewBox=\"0 0 24 24\"\n",
              "       width=\"24px\">\n",
              "    <path d=\"M0 0h24v24H0V0z\" fill=\"none\"/>\n",
              "    <path d=\"M18.56 5.44l.94 2.06.94-2.06 2.06-.94-2.06-.94-.94-2.06-.94 2.06-2.06.94zm-11 1L8.5 8.5l.94-2.06 2.06-.94-2.06-.94L8.5 2.5l-.94 2.06-2.06.94zm10 10l.94 2.06.94-2.06 2.06-.94-2.06-.94-.94-2.06-.94 2.06-2.06.94z\"/><path d=\"M17.41 7.96l-1.37-1.37c-.4-.4-.92-.59-1.43-.59-.52 0-1.04.2-1.43.59L10.3 9.45l-7.72 7.72c-.78.78-.78 2.05 0 2.83L4 21.41c.39.39.9.59 1.41.59.51 0 1.02-.2 1.41-.59l7.78-7.78 2.81-2.81c.8-.78.8-2.07 0-2.86zM5.41 20L4 18.59l7.72-7.72 1.47 1.35L5.41 20z\"/>\n",
              "  </svg>\n",
              "      </button>\n",
              "      \n",
              "  <style>\n",
              "    .colab-df-container {\n",
              "      display:flex;\n",
              "      flex-wrap:wrap;\n",
              "      gap: 12px;\n",
              "    }\n",
              "\n",
              "    .colab-df-convert {\n",
              "      background-color: #E8F0FE;\n",
              "      border: none;\n",
              "      border-radius: 50%;\n",
              "      cursor: pointer;\n",
              "      display: none;\n",
              "      fill: #1967D2;\n",
              "      height: 32px;\n",
              "      padding: 0 0 0 0;\n",
              "      width: 32px;\n",
              "    }\n",
              "\n",
              "    .colab-df-convert:hover {\n",
              "      background-color: #E2EBFA;\n",
              "      box-shadow: 0px 1px 2px rgba(60, 64, 67, 0.3), 0px 1px 3px 1px rgba(60, 64, 67, 0.15);\n",
              "      fill: #174EA6;\n",
              "    }\n",
              "\n",
              "    [theme=dark] .colab-df-convert {\n",
              "      background-color: #3B4455;\n",
              "      fill: #D2E3FC;\n",
              "    }\n",
              "\n",
              "    [theme=dark] .colab-df-convert:hover {\n",
              "      background-color: #434B5C;\n",
              "      box-shadow: 0px 1px 3px 1px rgba(0, 0, 0, 0.15);\n",
              "      filter: drop-shadow(0px 1px 2px rgba(0, 0, 0, 0.3));\n",
              "      fill: #FFFFFF;\n",
              "    }\n",
              "  </style>\n",
              "\n",
              "      <script>\n",
              "        const buttonEl =\n",
              "          document.querySelector('#df-58d8fa8f-cd32-403b-82b2-4ba0d139b078 button.colab-df-convert');\n",
              "        buttonEl.style.display =\n",
              "          google.colab.kernel.accessAllowed ? 'block' : 'none';\n",
              "\n",
              "        async function convertToInteractive(key) {\n",
              "          const element = document.querySelector('#df-58d8fa8f-cd32-403b-82b2-4ba0d139b078');\n",
              "          const dataTable =\n",
              "            await google.colab.kernel.invokeFunction('convertToInteractive',\n",
              "                                                     [key], {});\n",
              "          if (!dataTable) return;\n",
              "\n",
              "          const docLinkHtml = 'Like what you see? Visit the ' +\n",
              "            '<a target=\"_blank\" href=https://colab.research.google.com/notebooks/data_table.ipynb>data table notebook</a>'\n",
              "            + ' to learn more about interactive tables.';\n",
              "          element.innerHTML = '';\n",
              "          dataTable['output_type'] = 'display_data';\n",
              "          await google.colab.output.renderOutput(dataTable, element);\n",
              "          const docLink = document.createElement('div');\n",
              "          docLink.innerHTML = docLinkHtml;\n",
              "          element.appendChild(docLink);\n",
              "        }\n",
              "      </script>\n",
              "    </div>\n",
              "  </div>\n",
              "  "
            ]
          },
          "metadata": {},
          "execution_count": 17
        }
      ]
    },
    {
      "cell_type": "markdown",
      "source": [
        "## 4.探索性数据分析\n",
        "### 数值型特征变量T检验与特征选择\n",
        "\n",
        "\n"
      ],
      "metadata": {
        "id": "XjvhVnad9MY8"
      }
    },
    {
      "cell_type": "markdown",
      "source": [
        "相关资料：\n",
        "- https://zhuanlan.zhihu.com/p/107738381\n",
        "- https://www.cnblogs.com/massquantity/p/10486904.html\n",
        "- https://www.zhihu.com/question/309884517\n",
        "\n",
        "![](https://pic2.zhimg.com/v2-55498b3f0a549a74ec472c0a07eb10f1_r.jpg)\n",
        "\n",
        "这里就是预测变量为连续，反应变量为离散，因此选用两样本T检验和ANOVA。"
      ],
      "metadata": {
        "id": "0D43FfhqMMqJ"
      }
    },
    {
      "cell_type": "code",
      "source": [
        "numerical = ['disbursed_amount', 'asset_cost', 'PRI.NO.OF.ACCTS',\n",
        "             'PRI.ACTIVE.ACCTS', 'PRI.OVERDUE.ACCTS', 'PRI.CURRENT.BALANCE',\n",
        "             'PRI.SANCTIONED.AMOUNT', 'PRI.DISBURSED.AMOUNT', 'SEC.NO.OF.ACCTS',\n",
        "             'SEC.ACTIVE.ACCTS', 'SEC.OVERDUE.ACCTS', 'SEC.CURRENT.BALANCE',\n",
        "             'SEC.SANCTIONED.AMOUNT', 'SEC.DISBURSED.AMOUNT', 'PRIMARY.INSTAL.AMT',\n",
        "             'SEC.INSTAL.AMT', 'NEW.ACCTS.IN.LAST.SIX.MONTHS',\n",
        "             'DELINQUENT.ACCTS.IN.LAST.SIX.MONTHS', 'NO.OF_INQUIRIES', 'Age', 'NEW.ACCTS.IN.LAST.SIX.MONTHS',\n",
        "             'DELINQUENT.ACCTS.IN.LAST.SIX.MONTHS']\n",
        "categorical = ['manufacturer_id', 'Aadhar_flag', 'PAN_flag',\n",
        "               'VoterID_flag', 'Driving_flag', 'Passport_flag', 'PERFORM_CNS.SCORE',\n",
        "               'NEW.ACCTS.IN.LAST.SIX.MONTHS', 'DELINQUENT.ACCTS.IN.LAST.SIX.MONTHS',\n",
        "               'AVERAGE.ACCT.AGE', 'NO.OF_INQUIRIES', 'Credit Risk', 'AVERAGE.ACCT.AGE', 'CREDIT.HISTORY.LENGTH',\n",
        "               'Employment Type']"
      ],
      "metadata": {
        "id": "JmTYlnDRzhXW"
      },
      "execution_count": 18,
      "outputs": []
    },
    {
      "cell_type": "code",
      "source": [
        "# 数值型特征变量T检验与特征选择\n",
        "p = []\n",
        "from scipy.stats import ttest_ind\n",
        "# 按照loan default也就是贷款违约进行分组\n",
        "df1 = df.groupby('loan_default').get_group(0)\n",
        "df2 = df.groupby('loan_default').get_group(1)\n",
        "\n",
        "for i in numerical:    \n",
        "    t, pvalue = ttest_ind(df1[i], df2[i])\n",
        "    p.append(1 - pvalue)\n",
        "plt.figure(figsize=(7, 7))\n",
        "sns.barplot(x=p, y=numerical)\n",
        "plt.title('Best Numerical Features')\n",
        "plt.axvline(x=(1 - 0.05), color='r')\n",
        "plt.xlabel('1-p value')\n",
        "plt.show()\n"
      ],
      "metadata": {
        "colab": {
          "base_uri": "https://localhost:8080/",
          "height": 458
        },
        "id": "YATPBc7g9MCv",
        "outputId": "c917198f-b2ce-4130-a50a-ea98d74233f6"
      },
      "execution_count": 19,
      "outputs": [
        {
          "output_type": "display_data",
          "data": {
            "text/plain": [
              "<Figure size 504x504 with 1 Axes>"
            ],
            "image/png": "[encoded data removed]"
          },
          "metadata": {
            "needs_background": "light"
          }
        }
      ]
    },
    {
      "cell_type": "markdown",
      "source": [
        "为了更好地进行展示，所以用图表以显示 T 测试的\"替代假设\"的接受度。因此，那些跨越红线的人显示出统计学意义。但对于汽车贷款和教育贷款，据观察，银行不想妥协，以透露任何细节的二级账户持有人，因为他们也是贷款的担保人，以防违约。但是，此 T 测试中有一个问题，如下一个单元格中将观察到的问题： "
      ],
      "metadata": {
        "id": "Y_pN4SAaBHmZ"
      }
    },
    {
      "cell_type": "code",
      "source": [
        "for i in numerical:\n",
        "    print(np.std(df1[i], ddof=1), np.std(df2[i], ddof=1))"
      ],
      "metadata": {
        "colab": {
          "base_uri": "https://localhost:8080/"
        },
        "id": "UvF0y7nY9ax8",
        "outputId": "cd76c34d-c723-4f17-995f-8e7b649ca7c8"
      },
      "execution_count": 13,
      "outputs": [
        {
          "output_type": "stream",
          "name": "stdout",
          "text": [
            "13140.699007454981 12150.255527172329\n",
            "19015.002867400774 18680.502608619492\n",
            "5.261141650236005 5.04013362644165\n",
            "2.0082420121201543 1.6699657272094286\n",
            "0.5320262425886055 0.6034839757822386\n",
            "994631.7352945457 720451.2837834031\n",
            "1234346.7457205276 4525738.059420681\n",
            "1240214.826412385 4527095.229863031\n",
            "0.6516570890275873 0.527358347626265\n",
            "0.32337474128357524 0.2880958812264165\n",
            "0.1112491367023999 0.11046343401346002\n",
            "184110.75765814638 106044.4250689912\n",
            "195212.28973392927 130717.86808523617\n",
            "194597.53945599656 130392.76612443924\n",
            "157963.98513600946 124665.51133351553\n",
            "16588.052553508056 11045.628444420758\n",
            "0.9729689997390004 0.8856611487937556\n",
            "0.37023513218495563 0.43087164170425074\n",
            "0.6655358308421763 0.8351467924444976\n",
            "31.086834643098857 33.43650051533342\n",
            "0.9729689997390004 0.8856611487937556\n",
            "0.37023513218495563 0.43087164170425074\n"
          ]
        }
      ]
    },
    {
      "cell_type": "markdown",
      "source": [
        "上述观察是列的标准偏差（即默认值与非默认值）。T 独立性测试的假设是，观测下的样本应具有等于标准偏差。虽然上面观察到的差异似乎较小，但似乎仍然不能接受。因此，我们将进行非参数测试。\n",
        "\n",
        "我们将使用 SelectKest 库来缩小功能选择的范围。这将利用Annova 测试。"
      ],
      "metadata": {
        "id": "-YJ9GQfFN7OH"
      }
    },
    {
      "cell_type": "code",
      "source": [
        "# 特征选择\n",
        "from sklearn.feature_selection import SelectKBest, f_classif\n",
        "\n",
        "n = SelectKBest(score_func=f_classif, k=10)\n",
        "numcols = n.fit(df[numerical], df['loan_default'])\n",
        "plt.figure(figsize=(7, 7))\n",
        "sns.barplot(x=numcols.scores_, y=numerical)\n",
        "plt.title('Best Numerical Features')\n",
        "plt.show()"
      ],
      "metadata": {
        "colab": {
          "base_uri": "https://localhost:8080/",
          "height": 444
        },
        "id": "We7-chXg9YhQ",
        "outputId": "ca1c91bc-8771-4582-9e92-a3d9a8284744"
      },
      "execution_count": 24,
      "outputs": [
        {
          "output_type": "display_data",
          "data": {
            "text/plain": [
              "<Figure size 504x504 with 1 Axes>"
            ],
            "image/png": "[encoded data removed]"
          },
          "metadata": {
            "needs_background": "light"
          }
        }
      ]
    },
    {
      "cell_type": "markdown",
      "source": [
        "该图显示二级帐户信息微不足道。当然，银行也不能放弃二级账户信息，因此我们必须将初级账户和次级账户信息结合起来。\n",
        "\n"
      ],
      "metadata": {
        "id": "khI3zi-KN-fq"
      }
    },
    {
      "cell_type": "code",
      "source": [
        "df.loc[:, 'No of Accounts'] = df['PRI.NO.OF.ACCTS'] + df['SEC.NO.OF.ACCTS']\n",
        "df.loc[:, 'PRI Inactive accounts'] = df['PRI.NO.OF.ACCTS'] - df['PRI.ACTIVE.ACCTS']\n",
        "df.loc[:, 'SEC Inactive accounts'] = df['SEC.NO.OF.ACCTS'] - df['SEC.ACTIVE.ACCTS']\n",
        "df.loc[:, 'Total Inactive accounts'] = df['PRI Inactive accounts'] + df['SEC Inactive accounts']\n",
        "df.loc[:, 'Total Overdue Accounts'] = df['PRI.OVERDUE.ACCTS'] + df['SEC.OVERDUE.ACCTS']\n",
        "df.loc[:, 'Total Current Balance'] = df['PRI.CURRENT.BALANCE'] + df['SEC.CURRENT.BALANCE']\n",
        "df.loc[:, 'Total Sanctioned Amount'] = df['PRI.SANCTIONED.AMOUNT'] + df['SEC.SANCTIONED.AMOUNT']\n",
        "df.loc[:, 'Total Disbursed Amount'] = df['PRI.DISBURSED.AMOUNT'] + df['SEC.DISBURSED.AMOUNT']\n",
        "df.loc[:, 'Total Installment'] = df['PRIMARY.INSTAL.AMT'] + df['SEC.INSTAL.AMT']"
      ],
      "metadata": {
        "id": "91ouF1uZOfXS"
      },
      "execution_count": 20,
      "outputs": []
    },
    {
      "cell_type": "markdown",
      "source": [
        "### 分类特征变量的卡方检验\n",
        "\n"
      ],
      "metadata": {
        "id": "o2HCsAL7OK0Y"
      }
    },
    {
      "cell_type": "code",
      "source": [
        "# 分类特征变量的卡方检验\n",
        "from scipy.stats import chi2_contingency\n",
        "\n",
        "l = []\n",
        "for i in categorical:\n",
        "    pvalue = chi2_contingency(pd.crosstab(df['loan_default'], df[i]))[1]\n",
        "    l.append(1 - pvalue)\n",
        "plt.figure(figsize=(7, 7))\n",
        "sns.barplot(x=l, y=categorical)\n",
        "plt.title('Best Categorical Features')\n",
        "plt.axvline(x=(1 - 0.05), color='r')\n",
        "plt.show()"
      ],
      "metadata": {
        "colab": {
          "base_uri": "https://localhost:8080/",
          "height": 444
        },
        "id": "bMndqxwWOke2",
        "outputId": "7a76cc39-9d16-4794-96b1-5bba2816a7f6"
      },
      "execution_count": 21,
      "outputs": [
        {
          "output_type": "display_data",
          "data": {
            "text/plain": [
              "<Figure size 504x504 with 1 Axes>"
            ],
            "image/png": "[encoded data removed]"
          },
          "metadata": {
            "needs_background": "light"
          }
        }
      ]
    },
    {
      "cell_type": "markdown",
      "source": [
        "在这里，图表也显示了对替代假设的接受。同样，我们可以观察到credit score和PAN Card之间的一些多重共线性，因为PAN Card是获得信用评分的必修课。因此，卡方检验认为它认为它对我们的研究有盈余。但为了争论，我们会保留它。\n",
        "\n"
      ],
      "metadata": {
        "id": "9ve1w-SLOnHG"
      }
    },
    {
      "cell_type": "code",
      "source": [
        "df = df.drop(\n",
        "    ['PRI.NO.OF.ACCTS', 'SEC.NO.OF.ACCTS', 'PRI.CURRENT.BALANCE', 'PRI Inactive accounts', 'SEC Inactive accounts',\n",
        "     'PRI.SANCTIONED.AMOUNT', 'SEC.NO.OF.ACCTS', 'PRI.NO.OF.ACCTS', 'PRI.DISBURSED.AMOUNT', 'PRI.ACTIVE.ACCTS',\n",
        "     'PRI.OVERDUE.ACCTS', 'SEC.CURRENT.BALANCE', 'SEC.SANCTIONED.AMOUNT', 'SEC.OVERDUE.ACCTS',\n",
        "     'SEC.DISBURSED.AMOUNT', 'PRIMARY.INSTAL.AMT', 'SEC.INSTAL.AMT', 'disbursed_amount', 'SEC.ACTIVE.ACCTS'], axis=1)\n",
        "\n",
        "nums = ['asset_cost', 'ltv', 'PERFORM_CNS.SCORE',\n",
        "        'NEW.ACCTS.IN.LAST.SIX.MONTHS', 'DELINQUENT.ACCTS.IN.LAST.SIX.MONTHS',\n",
        "        'AVERAGE.ACCT.AGE', 'CREDIT.HISTORY.LENGTH', 'NO.OF_INQUIRIES', 'No of Accounts', 'Total Inactive accounts',\n",
        "        'Total Overdue Accounts', 'Total Current Balance', 'Total Sanctioned Amount',\n",
        "        'Total Disbursed Amount', 'Total Installment', 'Age']\n"
      ],
      "metadata": {
        "id": "Ec4qoXbzO4ad"
      },
      "execution_count": 22,
      "outputs": []
    },
    {
      "cell_type": "markdown",
      "source": [
        "## 5.特征工程\n"
      ],
      "metadata": {
        "id": "UVRNxfDAOpAQ"
      }
    },
    {
      "cell_type": "markdown",
      "source": [
        "### 建立特征数据和标签数据\n",
        "\n",
        "loan_default为标签数据，除 loan_default之外的为特征数据。关键代码如下：\n",
        "\n"
      ],
      "metadata": {
        "id": "rlu-_pftOrVt"
      }
    },
    {
      "cell_type": "code",
      "source": [
        "# 建立特征数据和标签数据\n",
        "y = df.loan_default\n",
        "X = df.drop(\"loan_default\", axis=1)"
      ],
      "metadata": {
        "id": "H3dV_mUGPBFS"
      },
      "execution_count": 23,
      "outputs": []
    },
    {
      "cell_type": "markdown",
      "source": [
        "### 数据集拆分\n",
        "训练集拆分，分为训练集和验证集，70%训练集和30%验证集。关键代码如下：\n",
        "\n"
      ],
      "metadata": {
        "id": "wSCesxJvPE1s"
      }
    },
    {
      "cell_type": "code",
      "source": [
        "from sklearn.model_selection import train_test_split, KFold, cross_val_score\n",
        "# 数据集拆分\n",
        "X_train, X_test, y_train, y_test = train_test_split(X, y, test_size=0.30, random_state=42)"
      ],
      "metadata": {
        "id": "eC9WwEEMPPzm"
      },
      "execution_count": 24,
      "outputs": []
    },
    {
      "cell_type": "markdown",
      "source": [
        "## 6.构建逻辑回归和xgboost分类模型\n",
        "主要使用使用LogisticRegression、XGBClassifier算法，用于目标分类。"
      ],
      "metadata": {
        "id": "X53FhNFpPRLF"
      }
    },
    {
      "cell_type": "markdown",
      "source": [
        "### 建立逻辑回归模型\n",
        "\n"
      ],
      "metadata": {
        "id": "b_QB0JSFPXdL"
      }
    },
    {
      "cell_type": "code",
      "source": [
        "# 建立逻辑回归模型\n",
        "lr = LogisticRegression()\n",
        "lr.fit(X_train, y_train)\n",
        "y_pred = lr.predict(X_test)\n",
        "# 模型评估\n",
        "print('train accuracy :', lr.score(X_train, y_train))\n",
        "print('test accuracy :', lr.score(X_test, y_test))\n",
        "print(\"precision :\", precision_score(y_test, y_pred), \"\\n\")\n",
        "print(\"recall :\", recall_score(y_test, y_pred), \"\\n\")\n",
        "print(\"f1 score:\", f1_score(y_test, y_pred), \"\\n\")\n",
        "print(classification_report(y_test, y_pred))\n"
      ],
      "metadata": {
        "colab": {
          "base_uri": "https://localhost:8080/"
        },
        "id": "4g4PSO8xPe7h",
        "outputId": "bae1f496-f5f3-4f37-b9bc-a8629878c6c7"
      },
      "execution_count": 28,
      "outputs": [
        {
          "output_type": "stream",
          "name": "stdout",
          "text": [
            "train accuracy : 0.7829443590042093\n",
            "test accuracy : 0.7827783893519379\n",
            "precision : 0.0 \n",
            "\n",
            "recall : 0.0 \n",
            "\n",
            "f1 score: 0.0 \n",
            "\n",
            "              precision    recall  f1-score   support\n",
            "\n",
            "           0       0.78      1.00      0.88     54756\n",
            "           1       0.00      0.00      0.00     15191\n",
            "\n",
            "    accuracy                           0.78     69947\n",
            "   macro avg       0.39      0.50      0.44     69947\n",
            "weighted avg       0.61      0.78      0.69     69947\n",
            "\n"
          ]
        }
      ]
    },
    {
      "cell_type": "markdown",
      "source": [
        "首先通过建立逻辑回归模型看到查准率、查全率、F1分值都是0，说明这是一个无效的模型；可能的原因目标变量分布不均衡,接下来咱们查看一下标签变量的分布：\n",
        "\n"
      ],
      "metadata": {
        "id": "uHi036oYPn8I"
      }
    },
    {
      "cell_type": "code",
      "source": [
        "# 标签变量的分布分析\n",
        "sns.countplot(df['loan_default'])\n",
        "plt.show()"
      ],
      "metadata": {
        "colab": {
          "base_uri": "https://localhost:8080/",
          "height": 280
        },
        "id": "x5-X4yKLP9Lk",
        "outputId": "1ba9ce1c-c7b1-4611-89c6-c4c984d4d435"
      },
      "execution_count": 27,
      "outputs": [
        {
          "output_type": "display_data",
          "data": {
            "text/plain": [
              "<Figure size 432x288 with 1 Axes>"
            ],
            "image/png": "[encoded data removed]"
          },
          "metadata": {
            "needs_background": "light"
          }
        }
      ]
    },
    {
      "cell_type": "markdown",
      "source": [
        "通过上图可以清晰地看到，标签变量的数据分布确实不均衡。\n",
        "\n",
        "那么接下来在查看一下信用历史特征的分布情况：所包含的特征：\n",
        "\n"
      ],
      "metadata": {
        "id": "ZN0SBnioP56E"
      }
    },
    {
      "cell_type": "code",
      "source": [
        "# 查看一下信用历史特征的分布情况\n",
        "n = ['PERFORM_CNS.SCORE', 'NO.OF_INQUIRIES', 'No of Accounts', 'Total Inactive accounts',\n",
        "     'Total Overdue Accounts', 'Total Current Balance', 'Total Sanctioned Amount',\n",
        "     'Total Disbursed Amount', 'Total Installment']\n",
        "data = df[n]\n",
        "fig, axes = plt.subplots(nrows=3, ncols=3, figsize=(20, 10))\n",
        "fig.subplots_adjust(hspace=0.5)\n",
        "fig.suptitle('Distributions of Credit History Features')\n",
        "\n",
        "for ax, feature, name in zip(axes.flatten(), data.values.T, data.columns):\n",
        "    sns.distplot(feature, ax=ax)\n",
        "    ax.set(title=str(name))\n",
        "plt.show()\n",
        "\n"
      ],
      "metadata": {
        "colab": {
          "base_uri": "https://localhost:8080/",
          "height": 663
        },
        "id": "PUVtXoJ8PyBS",
        "outputId": "a79d5601-f554-4ab5-c73a-16b55b164ffe"
      },
      "execution_count": 29,
      "outputs": [
        {
          "output_type": "display_data",
          "data": {
            "text/plain": [
              "<Figure size 1440x720 with 9 Axes>"
            ],
            "image/png": "[encoded data removed]"
          },
          "metadata": {
            "needs_background": "light"
          }
        }
      ]
    },
    {
      "cell_type": "markdown",
      "source": [
        "首次申请贷款的客户数量最多，这解释了为什么上述所有列都有如此多的零值。此外，还有许多值得注意的离群值。\n",
        "\n"
      ],
      "metadata": {
        "id": "Kj09TxJeQCPM"
      }
    },
    {
      "cell_type": "markdown",
      "source": [
        "### 离群值处理"
      ],
      "metadata": {
        "id": "d-FQzK0rQPC7"
      }
    },
    {
      "cell_type": "markdown",
      "source": [
        "让我们处理离群值。我们将尝试保留离群值记录，而不是删除它们。我们将使用RobustScaler使观测值更接近中值。\n",
        "\n",
        "RobustScaler原理与StandardScaler类似，使每一个特征的统计属性都位于同一范围。RobustScalar与StandardScaler不同的是，RobustScaler使用的是中位数和四分位数。\n",
        "\n",
        "RobustScaler会忽略异常值（即与其他多数点有非常大差异的点）。\n",
        "\n",
        "- https://zhuanlan.zhihu.com/p/201192976\n",
        "\n",
        "关键代码： "
      ],
      "metadata": {
        "id": "YEvpCBTdQS9w"
      }
    },
    {
      "cell_type": "code",
      "source": [
        "from sklearn.preprocessing import RobustScaler\n",
        "# 离群值处理\n",
        "rob_scaler = RobustScaler()\n",
        "\n",
        "df[nums] = rob_scaler.fit_transform(df[nums])"
      ],
      "metadata": {
        "id": "YADZOwtTP1LK"
      },
      "execution_count": 30,
      "outputs": []
    },
    {
      "cell_type": "markdown",
      "source": [
        "现在，对于零观测，我们将制作一个新功能，计算零的功能。这将作为有信用记录的人和没有信用记录的人之间的标准。当然，没有信用记录的人可能会有超过9个特征为零，在客户有信用记录的情况下这种情况是不太可能的。\n",
        "\n",
        "关键代码：\n",
        "\n"
      ],
      "metadata": {
        "id": "JCBtIJMLSRFZ"
      }
    },
    {
      "cell_type": "code",
      "source": [
        "df['Missing Features'] = (df == 0).astype(int).sum(axis=1)"
      ],
      "metadata": {
        "id": "IU41aeG6SRpL"
      },
      "execution_count": 31,
      "outputs": []
    },
    {
      "cell_type": "markdown",
      "source": [
        "### 模型调优\n",
        "\n",
        "本项目主要是对XGBClassifier分类算法使用GridSearchCV (网格搜索)进行参数的调优，找出模型模型最优的参数，然后进行建模。\n",
        "\n"
      ],
      "metadata": {
        "id": "x4lD8j2YScPk"
      }
    },
    {
      "cell_type": "code",
      "source": [
        "from sklearn.model_selection import GridSearchCV\n",
        "# 模型参数调优\n",
        "param_test1 = {\n",
        "    'max_depth': range(3, 10, 2),\n",
        "    'min_child_weight': range(1, 6, 2)\n",
        "}\n",
        "gsearch1 = GridSearchCV(estimator=XGBClassifier(learning_rate=0.1, n_estimators=140, max_depth=5,\n",
        "                                                min_child_weight=1, gamma=0, subsample=0.8, colsample_bytree=0.8,\n",
        "                                                objective='binary:logistic', nthread=4, scale_pos_weight=1, seed=27),\n",
        "                        param_grid=param_test1, scoring='roc_auc', n_jobs=4, cv=3)\n",
        "gsearch1.fit(X_train, y_train)\n",
        "\n",
        "print('param_test1的调优结果如下：')\n",
        "print(gsearch1.cv_results_, gsearch1.best_params_, gsearch1.best_score_)"
      ],
      "metadata": {
        "colab": {
          "base_uri": "https://localhost:8080/"
        },
        "id": "oxlA80twSh_d",
        "outputId": "f929e911-e2f6-42c1-e216-4fe3b909d43a"
      },
      "execution_count": 34,
      "outputs": [
        {
          "output_type": "stream",
          "name": "stdout",
          "text": [
            "param_test1的调优结果如下：\n",
            "{'mean_fit_time': array([ 38.67510947,  37.80587141,  37.91715614,  62.05941447,\n",
            "        61.72285175,  61.38035989,  90.44046442,  88.34720707,\n",
            "        87.19070148, 122.24484619, 118.53486482,  93.87551506]), 'std_fit_time': array([ 0.17346261,  0.51542145,  0.327513  ,  0.3865283 ,  0.2063836 ,\n",
            "        0.39907718,  0.82108579,  0.37330919,  0.24349663,  0.65622271,\n",
            "        0.35484347, 16.97028434]), 'mean_score_time': array([0.62528634, 0.78097415, 0.6770366 , 0.91640337, 1.03135077,\n",
            "       0.95093838, 1.37745253, 1.34393334, 1.3514959 , 1.66395505,\n",
            "       1.62561162, 0.76595791]), 'std_score_time': array([0.15991555, 0.16950944, 0.05981827, 0.12447952, 0.03118649,\n",
            "       0.1881253 , 0.03440886, 0.04398037, 0.09936991, 0.20491138,\n",
            "       0.13685639, 0.29790978]), 'param_max_depth': masked_array(data=[3, 3, 3, 5, 5, 5, 7, 7, 7, 9, 9, 9],\n",
            "             mask=[False, False, False, False, False, False, False, False,\n",
            "                   False, False, False, False],\n",
            "       fill_value='?',\n",
            "            dtype=object), 'param_min_child_weight': masked_array(data=[1, 3, 5, 1, 3, 5, 1, 3, 5, 1, 3, 5],\n",
            "             mask=[False, False, False, False, False, False, False, False,\n",
            "                   False, False, False, False],\n",
            "       fill_value='?',\n",
            "            dtype=object), 'params': [{'max_depth': 3, 'min_child_weight': 1}, {'max_depth': 3, 'min_child_weight': 3}, {'max_depth': 3, 'min_child_weight': 5}, {'max_depth': 5, 'min_child_weight': 1}, {'max_depth': 5, 'min_child_weight': 3}, {'max_depth': 5, 'min_child_weight': 5}, {'max_depth': 7, 'min_child_weight': 1}, {'max_depth': 7, 'min_child_weight': 3}, {'max_depth': 7, 'min_child_weight': 5}, {'max_depth': 9, 'min_child_weight': 1}, {'max_depth': 9, 'min_child_weight': 3}, {'max_depth': 9, 'min_child_weight': 5}], 'split0_test_score': array([0.64171135, 0.64147484, 0.64192072, 0.64308586, 0.64268128,\n",
            "       0.64269306, 0.63990488, 0.63925766, 0.63939462, 0.63287074,\n",
            "       0.63471674, 0.63511436]), 'split1_test_score': array([0.64028622, 0.64031883, 0.6403911 , 0.64103303, 0.64046672,\n",
            "       0.64068608, 0.63597538, 0.63848877, 0.6390455 , 0.63048599,\n",
            "       0.63243455, 0.63308244]), 'split2_test_score': array([0.64396242, 0.64371821, 0.64384594, 0.64524681, 0.64652714,\n",
            "       0.64547832, 0.64229661, 0.64247036, 0.64318129, 0.63708494,\n",
            "       0.63838342, 0.6383489 ]), 'mean_test_score': array([0.64198666, 0.6418373 , 0.64205259, 0.6431219 , 0.64322505,\n",
            "       0.64295249, 0.63939229, 0.64007226, 0.64054047, 0.63348055,\n",
            "       0.63517824, 0.63551523]), 'std_test_score': array([0.00151337, 0.00141126, 0.00141351, 0.00172046, 0.00250386,\n",
            "       0.00196501, 0.00260596, 0.00172452, 0.00187277, 0.0027283 ,\n",
            "       0.00245044, 0.00216863]), 'rank_test_score': array([ 5,  6,  4,  2,  1,  3,  9,  8,  7, 12, 11, 10], dtype=int32)} {'max_depth': 5, 'min_child_weight': 3} 0.6432250464387684\n"
          ]
        }
      ]
    },
    {
      "cell_type": "markdown",
      "source": [
        "### 模型参数 \n",
        "\n"
      ],
      "metadata": {
        "id": "te23vVbJS4ib"
      }
    },
    {
      "cell_type": "code",
      "source": [
        "# 建立调优后的模型\n",
        "xgb4 = XGBClassifier(\n",
        "    learning_rate=0.01,\n",
        "    n_estimators=5000,\n",
        "    max_depth=9,\n",
        "    min_child_weight=1,\n",
        "    gamma=0.4,\n",
        "    subsample=0.8,\n",
        "    colsample_bytree=0.8,\n",
        "    reg_alpha=0.005,\n",
        "    objective='binary:logistic',\n",
        "    nthread=4,\n",
        "    scale_pos_weight=1,\n",
        "    seed=27)\n",
        "\n",
        "xgb4.fit(X_train, y_train)  # 拟合\n",
        "y_pred = xgb4.predict(X_test)  # 预测\n",
        "# 模型评估\n",
        "print(\"accuracy train:\", xgb4.score(X_train, y_train), \"\\n\")\n",
        "print(\"accuracy test:\", xgb4.score(X_test, y_test), \"\\n\")\n",
        "print(\"precision :\", precision_score(y_test, y_pred), \"\\n\")\n",
        "print(\"Recall :\", recall_score(y_test, y_pred), \"\\n\")\n",
        "print(\"f1 score:\", f1_score(y_test, y_pred), \"\\n\")"
      ],
      "metadata": {
        "colab": {
          "base_uri": "https://localhost:8080/"
        },
        "id": "WumwLGYuUTw9",
        "outputId": "76f6f6e0-c7c8-40b4-990a-35d45b7baa9e"
      },
      "execution_count": 35,
      "outputs": [
        {
          "output_type": "stream",
          "name": "stdout",
          "text": [
            "accuracy train: 0.8386956441819284 \n",
            "\n",
            "accuracy test: 0.7818348177906129 \n",
            "\n",
            "precision : 0.46229508196721314 \n",
            "\n",
            "Recall : 0.027845434796919227 \n",
            "\n",
            "f1 score: 0.05252700856823544 \n",
            "\n",
            "Confusion Matrix \n",
            " [[54264   492]\n",
            " [14768   423]]\n"
          ]
        }
      ]
    },
    {
      "cell_type": "markdown",
      "source": [
        "### 混淆矩阵\n",
        "\n",
        "xgboost分类模型混淆矩阵："
      ],
      "metadata": {
        "id": "NHkatwzMUiLE"
      }
    },
    {
      "cell_type": "code",
      "source": [
        "print(\"Confusion Matrix \\n\", confusion_matrix(y_test, y_pred))"
      ],
      "metadata": {
        "colab": {
          "base_uri": "https://localhost:8080/"
        },
        "id": "9csh5DehUk3Y",
        "outputId": "0a25781c-4821-4891-d34f-d71f8b4bd19e"
      },
      "execution_count": 36,
      "outputs": [
        {
          "output_type": "stream",
          "name": "stdout",
          "text": [
            "Confusion Matrix \n",
            " [[54264   492]\n",
            " [14768   423]]\n"
          ]
        }
      ]
    },
    {
      "cell_type": "markdown",
      "source": [
        "### ROC曲线"
      ],
      "metadata": {
        "id": "eCp1b8yVUsMT"
      }
    },
    {
      "cell_type": "markdown",
      "source": [
        "这里效果不好是因为参数调优只用了一轮，为了演示方便，具体的完整效果可以看最后的图。"
      ],
      "metadata": {
        "id": "jZuMc2FJXzkt"
      }
    },
    {
      "cell_type": "code",
      "source": [
        "import sklearn.metrics as metrics\n",
        "\n",
        "# ROC 曲线绘制\n",
        "probs = xgb4.predict_proba(X_test)\n",
        "preds = probs[:, 1]\n",
        "fpr, tpr, threshold = metrics.roc_curve(y_test, preds)\n",
        "print(fpr, tpr)\n",
        "\n",
        "roc_auc = metrics.auc(fpr, tpr)\n",
        "\n",
        "plt.title('Receiver Operating Characteristic')\n",
        "plt.plot(fpr, tpr, 'b', label='AUC = %0.2f' % roc_auc)\n",
        "plt.legend(loc='lower right')\n",
        "plt.plot([0, 1], [0, 1], 'r--')\n",
        "plt.xlim([0, 1])\n",
        "plt.ylim([0, 1])\n",
        "plt.ylabel('True Positive Rate')\n",
        "plt.xlabel('False Positive Rate')\n",
        "plt.title('ROC-AUC Curve')\n",
        "plt.show()\n"
      ],
      "metadata": {
        "colab": {
          "base_uri": "https://localhost:8080/",
          "height": 330
        },
        "id": "vHsv-4xtUupf",
        "outputId": "79835bbe-2484-408b-b1c2-3674945667ad"
      },
      "execution_count": 39,
      "outputs": [
        {
          "output_type": "stream",
          "name": "stdout",
          "text": [
            "[0.         0.         0.         ... 0.99972606 0.99972606 1.        ] [0.00000000e+00 6.58284511e-05 3.29142255e-04 ... 9.99868343e-01\n",
            " 1.00000000e+00 1.00000000e+00]\n"
          ]
        },
        {
          "output_type": "display_data",
          "data": {
            "text/plain": [
              "<Figure size 432x288 with 1 Axes>"
            ],
            "image/png": "[encoded data removed]"
          },
          "metadata": {
            "needs_background": "light"
          }
        }
      ]
    },
    {
      "cell_type": "markdown",
      "source": [
        "### 模型特征重要性 \n",
        "从上图可以看到特征变量对此模型的重要性依次为：PAN_flag、No of Accounts、Missing Features等等。"
      ],
      "metadata": {
        "id": "xLUo7svXUmcp"
      }
    },
    {
      "cell_type": "code",
      "source": [
        "# 绘制模型特征重要性图\n",
        "plt.figure(figsize=(7, 10))\n",
        "sns.barplot(x=xgb4.feature_importances_, y=X.columns)\n",
        "plt.title('Significant Features of the Final Model')\n",
        "plt.show()"
      ],
      "metadata": {
        "colab": {
          "base_uri": "https://localhost:8080/",
          "height": 607
        },
        "id": "UdM6ezloUnnM",
        "outputId": "01d59d80-3af2-4c73-c179-4b0ebeb6b29c"
      },
      "execution_count": 38,
      "outputs": [
        {
          "output_type": "display_data",
          "data": {
            "text/plain": [
              "<Figure size 504x720 with 1 Axes>"
            ],
            "image/png": "[encoded data removed]"
          },
          "metadata": {
            "needs_background": "light"
          }
        }
      ]
    },
    {
      "cell_type": "markdown",
      "source": [
        "## 完整代码"
      ],
      "metadata": {
        "id": "SsMHMkPdXwoN"
      }
    },
    {
      "cell_type": "code",
      "source": [
        "#!/usr/bin/env python\n",
        "# coding: utf-8\n",
        "\n",
        "# 导入各种工具\n",
        "import pandas as pd\n",
        "import numpy as np\n",
        "import seaborn as sns\n",
        "import matplotlib.pyplot as plt\n",
        "import re\n",
        "from sklearn.preprocessing import LabelEncoder, StandardScaler\n",
        "from sklearn.linear_model import LogisticRegression\n",
        "# 集成方法\n",
        "from xgboost import XGBClassifier\n",
        "# 评估指标\n",
        "from sklearn.metrics import precision_score, recall_score, f1_score, roc_auc_score, accuracy_score, \\\n",
        "    classification_report, confusion_matrix\n",
        "\n",
        "# warnings包\n",
        "import warnings\n",
        "\n",
        "warnings.filterwarnings(\"ignore\")\n",
        "\n",
        "df = pd.read_excel('data.xlsx')\n",
        "# 去除挖掘无关重要的特征\n",
        "df = df.drop(\n",
        "    ['UniqueID', 'branch_id', 'supplier_id', 'Current_pincode_ID', 'State_ID', 'Employee_code_ID', 'MobileNo_Avl_Flag'],\n",
        "    axis=1)\n",
        "\n",
        "\n",
        "# 特征文本数据转换\n",
        "def credit_risk(df):\n",
        "    d1 = []\n",
        "    d2 = []\n",
        "    for i in df:\n",
        "        p = i.split(\"-\")\n",
        "        if len(p) == 1:\n",
        "            d1.append(p[0])\n",
        "            d2.append('unknown')\n",
        "        else:\n",
        "            d1.append(p[1])\n",
        "            d2.append(p[0])\n",
        "\n",
        "    return d2\n",
        "\n",
        "\n",
        "sub_risk = {'unknown': -1, 'A': 13, 'B': 12, 'C': 11, 'D': 10, 'E': 9, 'F': 8, 'G': 7, 'H': 6, 'I': 5, 'J': 4, 'K': 3,\n",
        "            'L': 2, 'M': 1}\n",
        "employment_map = {'Self employed': 0, 'Salaried': 1, np.nan: 2}\n",
        "\n",
        "df.loc[:, 'credit_risk_grade'] = credit_risk(df[\"PERFORM_CNS.SCORE.DESCRIPTION\"])\n",
        "df.loc[:, 'Credit Risk'] = df['credit_risk_grade'].apply(lambda x: sub_risk[x])\n",
        "\n",
        "print(df['Credit Risk'].head())\n",
        "\n",
        "df.loc[:, 'Employment Type'] = df['Employment.Type'].apply(lambda x: employment_map[x])\n",
        "\n",
        "print(df['Employment Type'].head())\n",
        "\n",
        "df = df.drop(['PERFORM_CNS.SCORE.DESCRIPTION', 'credit_risk_grade', 'Employment.Type'], axis=1)\n",
        "\n",
        "# 客户年龄计算\n",
        "def age(dur):\n",
        "    yr = int(dur.split('-')[2])\n",
        "    if yr >= 0 and yr <= 19:\n",
        "        return yr + 2000\n",
        "    else:\n",
        "        return yr + 1900\n",
        "\n",
        "\n",
        "def age1(dur):\n",
        "    yr = int(dur.split('/')[0])\n",
        "\n",
        "    return yr\n",
        "\n",
        "\n",
        "df['Date.of.Birth'] = df['Date.of.Birth'].apply(age)\n",
        "df['DisbursalDate'] = df['DisbursalDate'].apply(age1)\n",
        "df['Age'] = df['DisbursalDate'] - df['Date.of.Birth']\n",
        "df = df.drop(['DisbursalDate', 'Date.of.Birth'], axis=1)\n",
        "\n",
        "print(df['Age'].head())\n",
        "\n",
        "numerical = ['disbursed_amount', 'asset_cost', 'PRI.NO.OF.ACCTS',\n",
        "             'PRI.ACTIVE.ACCTS', 'PRI.OVERDUE.ACCTS', 'PRI.CURRENT.BALANCE',\n",
        "             'PRI.SANCTIONED.AMOUNT', 'PRI.DISBURSED.AMOUNT', 'SEC.NO.OF.ACCTS',\n",
        "             'SEC.ACTIVE.ACCTS', 'SEC.OVERDUE.ACCTS', 'SEC.CURRENT.BALANCE',\n",
        "             'SEC.SANCTIONED.AMOUNT', 'SEC.DISBURSED.AMOUNT', 'PRIMARY.INSTAL.AMT',\n",
        "             'SEC.INSTAL.AMT', 'NEW.ACCTS.IN.LAST.SIX.MONTHS',\n",
        "             'DELINQUENT.ACCTS.IN.LAST.SIX.MONTHS', 'NO.OF_INQUIRIES', 'Age', 'NEW.ACCTS.IN.LAST.SIX.MONTHS',\n",
        "             'DELINQUENT.ACCTS.IN.LAST.SIX.MONTHS']\n",
        "categorical = ['manufacturer_id', 'Aadhar_flag', 'PAN_flag',\n",
        "               'VoterID_flag', 'Driving_flag', 'Passport_flag', 'PERFORM_CNS.SCORE',\n",
        "               'NEW.ACCTS.IN.LAST.SIX.MONTHS', 'DELINQUENT.ACCTS.IN.LAST.SIX.MONTHS',\n",
        "               'AVERAGE.ACCT.AGE', 'NO.OF_INQUIRIES', 'Credit Risk', 'AVERAGE.ACCT.AGE', 'CREDIT.HISTORY.LENGTH',\n",
        "               'Employment Type']\n",
        "\n",
        "# 数值型特征变量T检验与特征选择\n",
        "p = []\n",
        "from scipy.stats import ttest_ind\n",
        "\n",
        "for i in numerical:\n",
        "    df1 = df.groupby('loan_default').get_group(0)\n",
        "    df2 = df.groupby('loan_default').get_group(1)\n",
        "    t, pvalue = ttest_ind(df1[i], df2[i])\n",
        "    p.append(1 - pvalue)\n",
        "plt.figure(figsize=(7, 7))\n",
        "sns.barplot(x=p, y=numerical)\n",
        "plt.title('Best Numerical Features')\n",
        "plt.axvline(x=(1 - 0.05), color='r')\n",
        "plt.xlabel('1-p value')\n",
        "plt.show()\n",
        "\n",
        "for i in numerical:\n",
        "    df1 = df.groupby('loan_default').get_group(0)\n",
        "    df2 = df.groupby('loan_default').get_group(1)\n",
        "    print(np.std(df1[i], ddof=1), np.std(df2[i], ddof=1))\n",
        "\n",
        "# 特征选择\n",
        "from sklearn.feature_selection import SelectKBest, f_classif\n",
        "\n",
        "n = SelectKBest(score_func=f_classif, k=10)\n",
        "numcols = n.fit(df[numerical], df['loan_default'])\n",
        "plt.figure(figsize=(7, 7))\n",
        "sns.barplot(x=numcols.scores_, y=numerical)\n",
        "plt.title('Best Numerical Features')\n",
        "plt.show()\n",
        "\n",
        "df.loc[:, 'No of Accounts'] = df['PRI.NO.OF.ACCTS'] + df['SEC.NO.OF.ACCTS']\n",
        "df.loc[:, 'PRI Inactive accounts'] = df['PRI.NO.OF.ACCTS'] - df['PRI.ACTIVE.ACCTS']\n",
        "df.loc[:, 'SEC Inactive accounts'] = df['SEC.NO.OF.ACCTS'] - df['SEC.ACTIVE.ACCTS']\n",
        "df.loc[:, 'Total Inactive accounts'] = df['PRI Inactive accounts'] + df['SEC Inactive accounts']\n",
        "df.loc[:, 'Total Overdue Accounts'] = df['PRI.OVERDUE.ACCTS'] + df['SEC.OVERDUE.ACCTS']\n",
        "df.loc[:, 'Total Current Balance'] = df['PRI.CURRENT.BALANCE'] + df['SEC.CURRENT.BALANCE']\n",
        "df.loc[:, 'Total Sanctioned Amount'] = df['PRI.SANCTIONED.AMOUNT'] + df['SEC.SANCTIONED.AMOUNT']\n",
        "df.loc[:, 'Total Disbursed Amount'] = df['PRI.DISBURSED.AMOUNT'] + df['SEC.DISBURSED.AMOUNT']\n",
        "df.loc[:, 'Total Installment'] = df['PRIMARY.INSTAL.AMT'] + df['SEC.INSTAL.AMT']\n",
        "\n",
        "# 分类特征变量的卡方检验\n",
        "from scipy.stats import chi2_contingency\n",
        "\n",
        "l = []\n",
        "for i in categorical:\n",
        "    pvalue = chi2_contingency(pd.crosstab(df['loan_default'], df[i]))[1]\n",
        "    l.append(1 - pvalue)\n",
        "plt.figure(figsize=(7, 7))\n",
        "sns.barplot(x=l, y=categorical)\n",
        "plt.title('Best Categorical Features')\n",
        "plt.axvline(x=(1 - 0.05), color='r')\n",
        "plt.show()\n",
        "\n",
        "# 文本数据处理\n",
        "def duration(dur):\n",
        "    yrs = int(dur.split(' ')[0].replace('yrs', ''))\n",
        "    mon = int(dur.split(' ')[1].replace('mon', ''))\n",
        "    return yrs * 12 + mon\n",
        "\n",
        "\n",
        "df['AVERAGE.ACCT.AGE'] = df['AVERAGE.ACCT.AGE'].apply(duration)\n",
        "df['CREDIT.HISTORY.LENGTH'] = df['CREDIT.HISTORY.LENGTH'].apply(duration)\n",
        "\n",
        "print(df['AVERAGE.ACCT.AGE'].head())\n",
        "print(df['CREDIT.HISTORY.LENGTH'].head())\n",
        "\n",
        "df = df.drop(\n",
        "    ['PRI.NO.OF.ACCTS', 'SEC.NO.OF.ACCTS', 'PRI.CURRENT.BALANCE', 'PRI Inactive accounts', 'SEC Inactive accounts',\n",
        "     'PRI.SANCTIONED.AMOUNT', 'SEC.NO.OF.ACCTS', 'PRI.NO.OF.ACCTS', 'PRI.DISBURSED.AMOUNT', 'PRI.ACTIVE.ACCTS',\n",
        "     'PRI.OVERDUE.ACCTS', 'SEC.CURRENT.BALANCE', 'SEC.SANCTIONED.AMOUNT', 'SEC.OVERDUE.ACCTS',\n",
        "     'SEC.DISBURSED.AMOUNT', 'PRIMARY.INSTAL.AMT', 'SEC.INSTAL.AMT', 'disbursed_amount', 'SEC.ACTIVE.ACCTS'], axis=1)\n",
        "\n",
        "nums = ['asset_cost', 'ltv', 'PERFORM_CNS.SCORE',\n",
        "        'NEW.ACCTS.IN.LAST.SIX.MONTHS', 'DELINQUENT.ACCTS.IN.LAST.SIX.MONTHS',\n",
        "        'AVERAGE.ACCT.AGE', 'CREDIT.HISTORY.LENGTH', 'NO.OF_INQUIRIES', 'No of Accounts', 'Total Inactive accounts',\n",
        "        'Total Overdue Accounts', 'Total Current Balance', 'Total Sanctioned Amount',\n",
        "        'Total Disbursed Amount', 'Total Installment', 'Age']\n",
        "\n",
        "print(len(nums))\n",
        "\n",
        "# 建立特征数据和标签数据\n",
        "y = df.loan_default\n",
        "X = df.drop(\"loan_default\", axis=1)\n",
        "\n",
        "from sklearn.model_selection import train_test_split, KFold, cross_val_score\n",
        "# 数据集拆分\n",
        "X_train, X_test, y_train, y_test = train_test_split(X, y, test_size=0.30, random_state=42)\n",
        "# 建立逻辑回归模型\n",
        "lr = LogisticRegression()\n",
        "lr.fit(X_train, y_train)\n",
        "y_pred = lr.predict(X_test)\n",
        "# 模型评估\n",
        "print('train accuracy :', lr.score(X_train, y_train))\n",
        "print('test accuracy :', lr.score(X_test, y_test))\n",
        "print(\"precision :\", precision_score(y_test, y_pred), \"\\n\")\n",
        "print(\"recall :\", recall_score(y_test, y_pred), \"\\n\")\n",
        "print(\"f1 score:\", f1_score(y_test, y_pred), \"\\n\")\n",
        "print(classification_report(y_test, y_pred))\n",
        "\n",
        "# 标签变量的分布分析\n",
        "sns.countplot(df['loan_default'])\n",
        "plt.show()\n",
        "\n",
        "# 查看一下信用历史特征的分布情况\n",
        "n = ['PERFORM_CNS.SCORE', 'NO.OF_INQUIRIES', 'No of Accounts', 'Total Inactive accounts',\n",
        "     'Total Overdue Accounts', 'Total Current Balance', 'Total Sanctioned Amount',\n",
        "     'Total Disbursed Amount', 'Total Installment']\n",
        "data = df[n]\n",
        "fig, axes = plt.subplots(nrows=3, ncols=3, figsize=(20, 10))\n",
        "fig.subplots_adjust(hspace=0.5)\n",
        "fig.suptitle('Distributions of Credit History Features')\n",
        "\n",
        "for ax, feature, name in zip(axes.flatten(), data.values.T, data.columns):\n",
        "    sns.distplot(feature, ax=ax)\n",
        "    ax.set(title=str(name))\n",
        "plt.show()\n",
        "\n",
        "from sklearn.preprocessing import RobustScaler\n",
        "# 离群值处理\n",
        "rob_scaler = RobustScaler()\n",
        "\n",
        "df[nums] = rob_scaler.fit_transform(df[nums])\n",
        "\n",
        "df['Missing Features'] = (df == 0).astype(int).sum(axis=1)\n",
        "\n",
        "# 建立特征数据和标签数据\n",
        "y = df.loan_default\n",
        "X = df.drop(\"loan_default\", axis=1)\n",
        "\n",
        "from sklearn.model_selection import train_test_split, KFold, cross_val_score\n",
        "# 数据集拆分\n",
        "X_train, X_test, y_train, y_test = train_test_split(X, y, test_size=0.30, random_state=42)\n",
        "\n",
        "from sklearn.model_selection import GridSearchCV\n",
        "\n",
        "# 模型参数调优\n",
        "param_test1 = {\n",
        "    'max_depth': range(3, 10, 2),\n",
        "    'min_child_weight': range(1, 6, 2)\n",
        "}\n",
        "gsearch1 = GridSearchCV(estimator=XGBClassifier(learning_rate=0.1, n_estimators=140, max_depth=5,\n",
        "                                                min_child_weight=1, gamma=0, subsample=0.8, colsample_bytree=0.8,\n",
        "                                                objective='binary:logistic', nthread=4, scale_pos_weight=1, seed=27),\n",
        "                        param_grid=param_test1, scoring='roc_auc', n_jobs=4, cv=3)\n",
        "gsearch1.fit(X_train, y_train)\n",
        "\n",
        "print('param_test1的调优结果如下：')\n",
        "print(gsearch1.cv_results_, gsearch1.best_params_, gsearch1.best_score_)\n",
        "\n",
        "param_test2b = {\n",
        "    'max_depth': range(7, 10, 2)\n",
        "}\n",
        "gsearch2b = GridSearchCV(estimator=XGBClassifier(learning_rate=0.1, n_estimators=140, max_depth=4,\n",
        "                                                 min_child_weight=1, gamma=0, subsample=0.8, colsample_bytree=0.8,\n",
        "                                                 objective='binary:logistic', nthread=4, scale_pos_weight=1, seed=27),\n",
        "                         param_grid=param_test2b, scoring='roc_auc', n_jobs=4, cv=3)\n",
        "gsearch2b.fit(X_train, y_train)\n",
        "\n",
        "print('gsearch2b的调优结果如下：')\n",
        "print(gsearch2b.cv_results_, gsearch2b.best_params_, gsearch2b.best_score_)\n",
        "\n",
        "param_test3 = {\n",
        "    'gamma': [i / 10.0 for i in range(0, 5)]\n",
        "}\n",
        "gsearch3 = GridSearchCV(estimator=XGBClassifier(learning_rate=0.1, n_estimators=140, max_depth=9,\n",
        "                                                min_child_weight=1, gamma=0, subsample=0.8, colsample_bytree=0.8,\n",
        "                                                objective='binary:logistic', nthread=4, scale_pos_weight=1, seed=27),\n",
        "                        param_grid=param_test3, scoring='roc_auc', n_jobs=4, cv=5)\n",
        "gsearch3.fit(X_train, y_train)\n",
        "print('gsearch3的调优结果如下：')\n",
        "print(gsearch3.best_params_, gsearch3.best_score_)\n",
        "\n",
        "# 建立调优后的模型\n",
        "xgb4 = XGBClassifier(\n",
        "    learning_rate=0.01,\n",
        "    n_estimators=5000,\n",
        "    max_depth=9,\n",
        "    min_child_weight=1,\n",
        "    gamma=0.4,\n",
        "    subsample=0.8,\n",
        "    colsample_bytree=0.8,\n",
        "    reg_alpha=0.005,\n",
        "    objective='binary:logistic',\n",
        "    nthread=4,\n",
        "    scale_pos_weight=1,\n",
        "    seed=27)\n",
        "\n",
        "xgb4.fit(X_train, y_train)  # 拟合\n",
        "y_pred = xgb4.predict(X_test)  # 预测\n",
        "# 模型评估\n",
        "print(\"accuracy train:\", xgb4.score(X_train, y_train), \"\\n\")\n",
        "print(\"accuracy test:\", xgb4.score(X_test, y_test), \"\\n\")\n",
        "print(\"precision :\", precision_score(y_test, y_pred), \"\\n\")\n",
        "print(\"Recall :\", recall_score(y_test, y_pred), \"\\n\")\n",
        "print(\"f1 score:\", f1_score(y_test, y_pred), \"\\n\")\n",
        "print(\"Confusion Matrix \\n\", confusion_matrix(y_test, y_pred))\n",
        "\n",
        "import sklearn.metrics as metrics\n",
        "\n",
        "# ROC 曲线绘制\n",
        "probs = xgb4.predict_proba(X_test)\n",
        "preds = probs[:, 1]\n",
        "fpr, tpr, threshold = metrics.roc_curve(y_test, preds)\n",
        "print(fpr, tpr)\n",
        "\n",
        "roc_auc = metrics.auc(fpr, tpr)\n",
        "\n",
        "plt.title('Receiver Operating Characteristic')\n",
        "plt.plot(fpr, tpr, 'b', label='AUC = %0.2f' % roc_auc)\n",
        "plt.legend(loc='lower right')\n",
        "plt.plot([0, 1], [0, 1], 'r--')\n",
        "plt.xlim([0, 1])\n",
        "plt.ylim([0, 1])\n",
        "plt.ylabel('True Positive Rate')\n",
        "plt.xlabel('False Positive Rate')\n",
        "plt.title('ROC-AUC Curve')\n",
        "plt.show()\n",
        "\n",
        "# 绘制模型特征重要性图\n",
        "plt.figure(figsize=(7, 10))\n",
        "sns.barplot(x=xgb4.feature_importances_, y=X.columns)\n",
        "plt.title('Significant Features of the Final Model')\n",
        "plt.show()\n"
      ],
      "metadata": {
        "colab": {
          "base_uri": "https://localhost:8080/",
          "height": 1000
        },
        "id": "q_P8kQu0GAhr",
        "outputId": "65815b0d-915b-4e18-d113-11be82360392"
      },
      "execution_count": 40,
      "outputs": [
        {
          "output_type": "stream",
          "name": "stdout",
          "text": [
            "0   -1\n",
            "1    5\n",
            "2   -1\n",
            "3    2\n",
            "4   -1\n",
            "Name: Credit Risk, dtype: int64\n",
            "0    1\n",
            "1    0\n",
            "2    0\n",
            "3    0\n",
            "4    0\n",
            "Name: Employment Type, dtype: int64\n",
            "0    19\n",
            "1    41\n",
            "2    16\n",
            "3    33\n",
            "4    49\n",
            "Name: Age, dtype: int64\n"
          ]
        },
        {
          "output_type": "display_data",
          "data": {
            "text/plain": [
              "<Figure size 504x504 with 1 Axes>"
            ],
            "image/png": "[encoded data removed]"
          },
          "metadata": {
            "needs_background": "light"
          }
        },
        {
          "output_type": "stream",
          "name": "stdout",
          "text": [
            "13140.699007454981 12150.255527172329\n",
            "19015.002867400774 18680.502608619492\n",
            "5.261141650236005 5.04013362644165\n",
            "2.0082420121201543 1.6699657272094286\n",
            "0.5320262425886055 0.6034839757822386\n",
            "994631.7352945457 720451.2837834031\n",
            "1234346.7457205276 4525738.059420681\n",
            "1240214.826412385 4527095.229863031\n",
            "0.6516570890275873 0.527358347626265\n",
            "0.32337474128357524 0.2880958812264165\n",
            "0.1112491367023999 0.11046343401346002\n",
            "184110.75765814638 106044.4250689912\n",
            "195212.28973392927 130717.86808523617\n",
            "194597.53945599656 130392.76612443924\n",
            "157963.98513600946 124665.51133351553\n",
            "16588.052553508056 11045.628444420758\n",
            "0.9729689997390004 0.8856611487937556\n",
            "0.37023513218495563 0.43087164170425074\n",
            "0.6655358308421763 0.8351467924444976\n",
            "31.086834643098857 33.43650051533342\n",
            "0.9729689997390004 0.8856611487937556\n",
            "0.37023513218495563 0.43087164170425074\n"
          ]
        },
        {
          "output_type": "display_data",
          "data": {
            "text/plain": [
              "<Figure size 504x504 with 1 Axes>"
            ],
            "image/png": "[encoded data removed]"
          },
          "metadata": {
            "needs_background": "light"
          }
        },
        {
          "output_type": "display_data",
          "data": {
            "text/plain": [
              "<Figure size 504x504 with 1 Axes>"
            ],
            "image/png": "[encoded data removed]"
          },
          "metadata": {
            "needs_background": "light"
          }
        },
        {
          "output_type": "stream",
          "name": "stdout",
          "text": [
            "0     0\n",
            "1    23\n",
            "2     0\n",
            "3     8\n",
            "4     0\n",
            "Name: AVERAGE.ACCT.AGE, dtype: int64\n",
            "0     0\n",
            "1    23\n",
            "2     0\n",
            "3    15\n",
            "4     0\n",
            "Name: CREDIT.HISTORY.LENGTH, dtype: int64\n",
            "16\n",
            "train accuracy : 0.7829443590042093\n",
            "test accuracy : 0.7827783893519379\n",
            "precision : 0.0 \n",
            "\n",
            "recall : 0.0 \n",
            "\n",
            "f1 score: 0.0 \n",
            "\n",
            "              precision    recall  f1-score   support\n",
            "\n",
            "           0       0.78      1.00      0.88     54756\n",
            "           1       0.00      0.00      0.00     15191\n",
            "\n",
            "    accuracy                           0.78     69947\n",
            "   macro avg       0.39      0.50      0.44     69947\n",
            "weighted avg       0.61      0.78      0.69     69947\n",
            "\n"
          ]
        },
        {
          "output_type": "display_data",
          "data": {
            "text/plain": [
              "<Figure size 432x288 with 1 Axes>"
            ],
            "image/png": "[encoded data removed]"
          },
          "metadata": {
            "needs_background": "light"
          }
        },
        {
          "output_type": "display_data",
          "data": {
            "text/plain": [
              "<Figure size 1440x720 with 9 Axes>"
            ],
            "image/png": "[encoded data removed]"
          },
          "metadata": {
            "needs_background": "light"
          }
        },
        {
          "output_type": "stream",
          "name": "stdout",
          "text": [
            "param_test1的调优结果如下：\n",
            "{'mean_fit_time': array([ 39.82313013,  39.63711754,  39.84015171,  66.00977778,\n",
            "        65.74294964,  65.69182269, 100.88936202,  98.36581413,\n",
            "        97.35862875, 140.50949327, 136.98964143, 108.10326306]), 'std_fit_time': array([ 0.38571335,  0.45330791,  0.08206091,  0.38375592,  0.7425443 ,\n",
            "        0.57013553,  0.6192702 ,  0.39709009,  0.54721722,  0.07325347,\n",
            "        1.18144307, 20.93095089]), 'mean_score_time': array([0.7758046 , 0.74069166, 0.67520968, 1.0168767 , 1.16172727,\n",
            "       1.07126164, 1.26099706, 1.29918551, 1.45126406, 1.68220456,\n",
            "       1.71565692, 0.7770946 ]), 'std_score_time': array([0.16338141, 0.038955  , 0.01496767, 0.08829122, 0.02560205,\n",
            "       0.06832463, 0.11547958, 0.13243142, 0.04186066, 0.14502688,\n",
            "       0.10017637, 0.30720885]), 'param_max_depth': masked_array(data=[3, 3, 3, 5, 5, 5, 7, 7, 7, 9, 9, 9],\n",
            "             mask=[False, False, False, False, False, False, False, False,\n",
            "                   False, False, False, False],\n",
            "       fill_value='?',\n",
            "            dtype=object), 'param_min_child_weight': masked_array(data=[1, 3, 5, 1, 3, 5, 1, 3, 5, 1, 3, 5],\n",
            "             mask=[False, False, False, False, False, False, False, False,\n",
            "                   False, False, False, False],\n",
            "       fill_value='?',\n",
            "            dtype=object), 'params': [{'max_depth': 3, 'min_child_weight': 1}, {'max_depth': 3, 'min_child_weight': 3}, {'max_depth': 3, 'min_child_weight': 5}, {'max_depth': 5, 'min_child_weight': 1}, {'max_depth': 5, 'min_child_weight': 3}, {'max_depth': 5, 'min_child_weight': 5}, {'max_depth': 7, 'min_child_weight': 1}, {'max_depth': 7, 'min_child_weight': 3}, {'max_depth': 7, 'min_child_weight': 5}, {'max_depth': 9, 'min_child_weight': 1}, {'max_depth': 9, 'min_child_weight': 3}, {'max_depth': 9, 'min_child_weight': 5}], 'split0_test_score': array([0.95564334, 0.95517856, 0.95517859, 0.99295588, 0.99277734,\n",
            "       0.99274107, 0.9978404 , 0.99810075, 0.99812807, 0.99920651,\n",
            "       0.99921647, 0.99918302]), 'split1_test_score': array([0.9529469 , 0.95294669, 0.95307482, 0.99183914, 0.99157612,\n",
            "       0.99186134, 0.99730473, 0.99679459, 0.99675158, 0.99875585,\n",
            "       0.99884721, 0.99880417]), 'split2_test_score': array([0.95781598, 0.95780462, 0.95792011, 0.99273994, 0.99266161,\n",
            "       0.99243077, 0.99822748, 0.99769492, 0.99776948, 0.99904709,\n",
            "       0.99907692, 0.9991471 ]), 'mean_test_score': array([0.95546874, 0.95530996, 0.95539117, 0.99251165, 0.99233835,\n",
            "       0.99234439, 0.99779087, 0.99753009, 0.99754971, 0.99900315,\n",
            "       0.99904687, 0.99904476]), 'std_test_score': array([0.00199163, 0.00198542, 0.00198378, 0.00048364, 0.00054105,\n",
            "       0.0003643 , 0.00037833, 0.00054583, 0.00058304, 0.00018659,\n",
            "       0.00015224, 0.00017076]), 'rank_test_score': array([10, 12, 11,  7,  9,  8,  4,  6,  5,  3,  1,  2], dtype=int32)} {'max_depth': 9, 'min_child_weight': 3} 0.9990468672571593\n",
            "gsearch2b的调优结果如下：\n",
            "{'mean_fit_time': array([99.80749893, 96.3769958 ]), 'std_fit_time': array([ 0.43645006, 23.74078751]), 'mean_score_time': array([1.25537777, 0.87087353]), 'std_score_time': array([0.04414855, 0.41805476]), 'param_max_depth': masked_array(data=[7, 9],\n",
            "             mask=[False, False],\n",
            "       fill_value='?',\n",
            "            dtype=object), 'params': [{'max_depth': 7}, {'max_depth': 9}], 'split0_test_score': array([0.9978404 , 0.99920651]), 'split1_test_score': array([0.99730473, 0.99875585]), 'split2_test_score': array([0.99822748, 0.99904709]), 'mean_test_score': array([0.99779087, 0.99900315]), 'std_test_score': array([0.00037833, 0.00018659]), 'rank_test_score': array([2, 1], dtype=int32)} {'max_depth': 9} 0.9990031473080395\n",
            "gsearch3的调优结果如下：\n",
            "{'gamma': 0.4} 0.9991530553235985\n",
            "accuracy train: 0.9999632368709676 \n",
            "\n",
            "accuracy test: 0.9981843395713897 \n",
            "\n",
            "precision : 0.9987418884915905 \n",
            "\n",
            "Recall : 0.992890527285893 \n",
            "\n",
            "f1 score: 0.9958076123196777 \n",
            "\n",
            "Confusion Matrix \n",
            " [[54737    19]\n",
            " [  108 15083]]\n",
            "[0.         0.         0.         ... 0.99923296 0.99926949 1.        ] [0.00000000e+00 6.58284511e-05 1.97485353e-04 ... 1.00000000e+00\n",
            " 1.00000000e+00 1.00000000e+00]\n"
          ]
        },
        {
          "output_type": "display_data",
          "data": {
            "text/plain": [
              "<Figure size 432x288 with 1 Axes>"
            ],
            "image/png": "[encoded data removed]"
          },
          "metadata": {
            "needs_background": "light"
          }
        },
        {
          "output_type": "display_data",
          "data": {
            "text/plain": [
              "<Figure size 504x720 with 1 Axes>"
            ],
            "image/png": "[encoded data removed]"
          },
          "metadata": {
            "needs_background": "light"
          }
        }
      ]
    },
    {
      "cell_type": "code",
      "source": [
        ""
      ],
      "metadata": {
        "id": "xwQZ3vofGr5W"
      },
      "execution_count": null,
      "outputs": []
    }
  ]
}