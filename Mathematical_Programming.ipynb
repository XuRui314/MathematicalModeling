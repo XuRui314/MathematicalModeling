{
  "nbformat": 4,
  "nbformat_minor": 0,
  "metadata": {
    "colab": {
      "name": "Mathematical Programming.ipynb",
      "provenance": [],
      "collapsed_sections": [
        "dgRtJWIradJv"
      ],
      "toc_visible": true,
      "authorship_tag": "ABX9TyPaS09J+MeAA+34i9nR4uPg",
      "include_colab_link": true
    },
    "kernelspec": {
      "name": "python3",
      "display_name": "Python 3"
    },
    "language_info": {
      "name": "python"
    }
  },
  "cells": [
    {
      "cell_type": "markdown",
      "metadata": {
        "id": "view-in-github",
        "colab_type": "text"
      },
      "source": [
        "<a href=\"https://colab.research.google.com/github/XuRui314/MathematicalModeling/blob/main/Mathematical_Programming.ipynb\" target=\"_parent\"><img src=\"https://colab.research.google.com/assets/colab-badge.svg\" alt=\"Open In Colab\"/></a>"
      ]
    },
    {
      "cell_type": "markdown",
      "source": [
        "## Preparation"
      ],
      "metadata": {
        "id": "dgRtJWIradJv"
      }
    },
    {
      "cell_type": "code",
      "source": [
        "# preparation\n",
        "from google.colab import drive\n",
        "drive.mount('/content/drive')"
      ],
      "metadata": {
        "colab": {
          "base_uri": "https://localhost:8080/"
        },
        "id": "SY-DLj_wR3C1",
        "outputId": "7502d2bc-a34f-4914-c7b8-abc7f1430fc9"
      },
      "execution_count": 44,
      "outputs": [
        {
          "output_type": "stream",
          "name": "stdout",
          "text": [
            "Drive already mounted at /content/drive; to attempt to forcibly remount, call drive.mount(\"/content/drive\", force_remount=True).\n"
          ]
        }
      ]
    },
    {
      "cell_type": "code",
      "source": [
        "# 遇到了latex报错的解决方法：1.把含有latex的部分去掉 2.用下面导包安装，但是仅限于英文\n",
        "# ! sudo apt-get install texlive-latex-recommended \n",
        "# ! sudo apt-get install dvipng texlive-latex-extra texlive-fonts-recommended  \n",
        "# ! wget http://mirrors.ctan.org/macros/latex/contrib/type1cm.zip \n",
        "# ! unzip type1cm.zip -d /tmp/type1cm \n",
        "# ! cd /tmp/type1cm/type1cm/ && sudo latex type1cm.ins\n",
        "# ! sudo mkdir /usr/share/texmf/tex/latex/type1cm \n",
        "# ! sudo cp /tmp/type1cm/type1cm/type1cm.sty /usr/share/texmf/tex/latex/type1cm \n",
        "# ! sudo texhash \n",
        "# !apt install cm-super\n",
        "\n",
        "# 这个是英文+繁体中文\n",
        "# !wget -O TaipeiSansTCBeta-Regular.ttf https://drive.google.com/uc?id=1eGAsTN1HBpJAkeVM57_C7ccp7hbgSz3_&export=download\n",
        "\n",
        "# import matplotlib as mpl\n",
        "# import matplotlib.pyplot as plt \n",
        "# from matplotlib.font_manager import fontManager\n",
        "\n",
        "# # 改style要在改font之前\n",
        "# plt.style.use('seaborn')  \n",
        "\n",
        "# fontManager.addfont('TaipeiSansTCBeta-Regular.ttf')\n",
        "# mpl.rc('font', family='Taipei Sans TC Beta')\n",
        "\n",
        "# 下面的是简体中文+英文\n",
        "!wget -O /usr/share/fonts/truetype/liberation/simhei.ttf \"https://www.wfonts.com/download/data/2014/06/01/simhei/chinese.simhei.ttf\"\n",
        "import matplotlib.pyplot as plt\n",
        "import matplotlib as mpl\n",
        "zhfont = mpl.font_manager.FontProperties(fname='/usr/share/fonts/truetype/liberation/simhei.ttf')\n",
        "plt.rcParams['axes.unicode_minus'] = False  # 用来正常显示负号\n",
        "!gdown --id 1fsKERl26TNTFIY25PhReoCujxwJvfyHn"
      ],
      "metadata": {
        "colab": {
          "base_uri": "https://localhost:8080/"
        },
        "id": "3x7MVOXDsDqD",
        "outputId": "bf6d41a3-3a64-4370-c8f9-c936eff9ae7d"
      },
      "execution_count": 45,
      "outputs": [
        {
          "output_type": "stream",
          "name": "stdout",
          "text": [
            "--2022-07-16 06:44:41--  https://www.wfonts.com/download/data/2014/06/01/simhei/chinese.simhei.ttf\n",
            "Resolving www.wfonts.com (www.wfonts.com)... 104.225.219.210\n",
            "Connecting to www.wfonts.com (www.wfonts.com)|104.225.219.210|:443... connected.\n",
            "HTTP request sent, awaiting response... 200 OK\n",
            "Length: 10050870 (9.6M) [application/octetstream]\n",
            "Saving to: ‘/usr/share/fonts/truetype/liberation/simhei.ttf’\n",
            "\n",
            "/usr/share/fonts/tr 100%[===================>]   9.58M  5.61MB/s    in 1.7s    \n",
            "\n",
            "2022-07-16 06:44:43 (5.61 MB/s) - ‘/usr/share/fonts/truetype/liberation/simhei.ttf’ saved [10050870/10050870]\n",
            "\n",
            "/usr/local/lib/python3.7/dist-packages/gdown/cli.py:131: FutureWarning: Option `--id` was deprecated in version 4.3.1 and will be removed in 5.0. You don't need to pass it anymore to use a file ID.\n",
            "  category=FutureWarning,\n",
            "Downloading...\n",
            "From: https://drive.google.com/uc?id=1fsKERl26TNTFIY25PhReoCujxwJvfyHn\n",
            "To: /content/drive/My Drive/dataset/MathModel/Integer_Programming/SimHei .ttf\n",
            "100% 10.1M/10.1M [00:00<00:00, 145MB/s]\n"
          ]
        }
      ]
    },
    {
      "cell_type": "code",
      "source": [
        "# 下面用两个例子展示效果\n",
        "import matplotlib as mpl\n",
        "plt.style.use('seaborn') \n",
        "zhfont = mpl.font_manager.FontProperties(fname='SimHei .ttf')\n",
        "\n",
        "import numpy as np\n",
        "import matplotlib.pyplot as plt\n",
        "\n",
        "theta = range(0,91)\n",
        "alpha = range(0,46)\n",
        "contact_angle = np.zeros((91,46),dtype=np.float64)\n",
        "\n",
        "for j in alpha:\n",
        "  for i in theta:\n",
        "    pass\n",
        "    contact_angle[i][j] = np.arctan(np.cos(j*np.pi/180)*np.tan(i*np.pi/180))*180/np.pi-i\n",
        "\n",
        "plt.figure()\n",
        "\n",
        "plt.title(\"拍摄角度：0,5,10\",fontproperties=zhfont)\n",
        "plt.xlabel(u\"实际接触角\",fontproperties=zhfont)\n",
        "plt.ylabel(u\"角度误差\",fontproperties=zhfont)\n",
        "for i in range(0,11,5):\n",
        "  plt.plot(theta,contact_angle[:,i])\n",
        "  plt.legends=\"x\"\n",
        "plt.legend([u'0度',u'5度',u'10度'],loc='best',prop=zhfont)\n",
        "plt.grid()\n",
        "plt.show()"
      ],
      "metadata": {
        "colab": {
          "base_uri": "https://localhost:8080/",
          "height": 384
        },
        "id": "RWgH05qQ4tDU",
        "outputId": "2eb4e968-9b3d-429b-94d9-8dd3e4a07a77"
      },
      "execution_count": 46,
      "outputs": [
        {
          "output_type": "display_data",
          "data": {
            "text/plain": [
              "<Figure size 576x396 with 1 Axes>"
            ],
            "image/png": "[encoded data removed]"
          },
          "metadata": {}
        }
      ]
    },
    {
      "cell_type": "code",
      "source": [
        "%matplotlib inline\n",
        "import numpy as np\n",
        "import matplotlib as mpl\n",
        "import matplotlib.pyplot as plt \n",
        "from matplotlib.font_manager import fontManager\n",
        "\n",
        "# 改style要在改font之前\n",
        "plt.style.use('seaborn')  \n",
        "\n",
        "fontManager.addfont('SimHei .ttf')\n",
        "mpl.rc('font', family='SimHei')\n",
        "\n",
        "\n",
        "fig, ax = plt.subplots()\n",
        "\n",
        "x = np.linspace(0, 20, 1000)\n",
        "ax.plot(x, np.cos(x))\n",
        "ax.axis('equal')\n",
        "\n",
        "ax.annotate(\n",
        "    '区域最大值', \n",
        "    xy=(6.28, 1), \n",
        "    xytext=(10, 4),\n",
        "    arrowprops=dict(facecolor='black', shrink=0.05)\n",
        "    )\n",
        "\n",
        "ax.annotate(\n",
        "    '区域最小值', \n",
        "    xy=(5*np.pi, -1), \n",
        "    xytext=(2, -5),\n",
        "    arrowprops=dict(\n",
        "        arrowstyle=\"->\",\n",
        "        connectionstyle=\"angle3,angleA=0,angleB=-90\"\n",
        "        )\n",
        "    )"
      ],
      "metadata": {
        "colab": {
          "base_uri": "https://localhost:8080/",
          "height": 362
        },
        "id": "27arY8Oo4xg6",
        "outputId": "a7f8edd2-5766-4e80-8fa8-c7a728b770a0"
      },
      "execution_count": 47,
      "outputs": [
        {
          "output_type": "execute_result",
          "data": {
            "text/plain": [
              "Text(2, -5, '区域最小值')"
            ]
          },
          "metadata": {},
          "execution_count": 47
        },
        {
          "output_type": "display_data",
          "data": {
            "text/plain": [
              "<Figure size 576x396 with 1 Axes>"
            ],
            "image/png": "[encoded data removed]"
          },
          "metadata": {}
        }
      ]
    },
    {
      "cell_type": "markdown",
      "source": [
        "## Linear Programming"
      ],
      "metadata": {
        "id": "2KINL-bUKhjh"
      }
    },
    {
      "cell_type": "markdown",
      "source": [
        "线性规划三个要素：决策变量、目标函数、约束条件。\n",
        "\n",
        "一般来说，对于一个问题，首先是要确定决策变量，这个选定可能是具有时序的特征的，考虑利用矩阵作为参数，而不是向量，针对问题系统的输入输出平衡等内在性质去利用决策变量设计目标函数，然后再把约束条件写写。"
      ],
      "metadata": {
        "id": "NMySorIYbDqv"
      }
    },
    {
      "cell_type": "markdown",
      "source": [
        "**Example**\n",
        "\n",
        "Object Function: $min\\sum_{i=1}^6 \\sum_{j=1}^8 c_{ij}x_{ij}$\n",
        "\n",
        "Constraints: \\begin{equation}\n",
        "y(x)=\\left\\{\n",
        "\t\\begin{aligned}\n",
        "\t\\sum_{i=1}^6 = d_j\\\\\n",
        "\t\\sum_{j=1}^8 \\leq e_i\\\\\n",
        "\tx_{ij} \\geq 0\\\\\n",
        "\t\\end{aligned}\n",
        "\t\\right\n",
        "\t.\n",
        "\\end{equation}\n",
        "       "
      ],
      "metadata": {
        "id": "1wLDsN0kUUog"
      }
    },
    {
      "cell_type": "code",
      "execution_count": 48,
      "metadata": {
        "colab": {
          "base_uri": "https://localhost:8080/"
        },
        "id": "iNwu62iFKILG",
        "outputId": "78e2d5f6-fff4-4794-f21d-d670f323db10"
      },
      "outputs": [
        {
          "output_type": "stream",
          "name": "stdout",
          "text": [
            " chinese.simhei.ttf  'SimHei .ttf'\t\t     type1cm.zip.1\n",
            " data4_5_1.txt\t      TaipeiSansTCBeta-Regular.ttf\n",
            " sharefonts.net.txt   type1cm.zip\n"
          ]
        }
      ],
      "source": [
        "import os\n",
        "os.chdir(\"/content/drive/MyDrive/dataset/MathModel/Linear_Programming\")\n",
        "!ls"
      ]
    },
    {
      "cell_type": "code",
      "source": [
        "import cvxpy as cp\n",
        "import pandas as pd\n",
        "import numpy as np"
      ],
      "metadata": {
        "id": "zcC8u_KVSfMA"
      },
      "execution_count": 49,
      "outputs": []
    },
    {
      "cell_type": "code",
      "source": [
        "# 数据集样式\n",
        "pd.read_csv(\"data4_5_1.txt\",sep='\\t', header=None)"
      ],
      "metadata": {
        "colab": {
          "base_uri": "https://localhost:8080/",
          "height": 269
        },
        "id": "8NQNUB3SYY8Q",
        "outputId": "1df2c09e-c149-4ca2-96eb-fdcc3b2c426d"
      },
      "execution_count": 50,
      "outputs": [
        {
          "output_type": "execute_result",
          "data": {
            "text/plain": [
              "    0   1   2   3   4   5   6   7   8\n",
              "0   6   2   6   7   4   2   5   9  60\n",
              "1   4   9   5   3   8   5   8   2  55\n",
              "2   5   2   1   9   7   4   3   3  51\n",
              "3   7   6   7   3   9   2   7   1  43\n",
              "4   2   3   9   5   7   2   6   5  41\n",
              "5   5   5   2   2   8   1   4   3  52\n",
              "6  35  37  22  32  41  32  43  38    "
            ],
            "text/html": [
              "\n",
              "  <div id=\"df-c40ca110-a7ef-4a83-969d-dad8ad6a4f2c\">\n",
              "    <div class=\"colab-df-container\">\n",
              "      <div>\n",
              "<style scoped>\n",
              "    .dataframe tbody tr th:only-of-type {\n",
              "        vertical-align: middle;\n",
              "    }\n",
              "\n",
              "    .dataframe tbody tr th {\n",
              "        vertical-align: top;\n",
              "    }\n",
              "\n",
              "    .dataframe thead th {\n",
              "        text-align: right;\n",
              "    }\n",
              "</style>\n",
              "<table border=\"1\" class=\"dataframe\">\n",
              "  <thead>\n",
              "    <tr style=\"text-align: right;\">\n",
              "      <th></th>\n",
              "      <th>0</th>\n",
              "      <th>1</th>\n",
              "      <th>2</th>\n",
              "      <th>3</th>\n",
              "      <th>4</th>\n",
              "      <th>5</th>\n",
              "      <th>6</th>\n",
              "      <th>7</th>\n",
              "      <th>8</th>\n",
              "    </tr>\n",
              "  </thead>\n",
              "  <tbody>\n",
              "    <tr>\n",
              "      <th>0</th>\n",
              "      <td>6</td>\n",
              "      <td>2</td>\n",
              "      <td>6</td>\n",
              "      <td>7</td>\n",
              "      <td>4</td>\n",
              "      <td>2</td>\n",
              "      <td>5</td>\n",
              "      <td>9</td>\n",
              "      <td>60</td>\n",
              "    </tr>\n",
              "    <tr>\n",
              "      <th>1</th>\n",
              "      <td>4</td>\n",
              "      <td>9</td>\n",
              "      <td>5</td>\n",
              "      <td>3</td>\n",
              "      <td>8</td>\n",
              "      <td>5</td>\n",
              "      <td>8</td>\n",
              "      <td>2</td>\n",
              "      <td>55</td>\n",
              "    </tr>\n",
              "    <tr>\n",
              "      <th>2</th>\n",
              "      <td>5</td>\n",
              "      <td>2</td>\n",
              "      <td>1</td>\n",
              "      <td>9</td>\n",
              "      <td>7</td>\n",
              "      <td>4</td>\n",
              "      <td>3</td>\n",
              "      <td>3</td>\n",
              "      <td>51</td>\n",
              "    </tr>\n",
              "    <tr>\n",
              "      <th>3</th>\n",
              "      <td>7</td>\n",
              "      <td>6</td>\n",
              "      <td>7</td>\n",
              "      <td>3</td>\n",
              "      <td>9</td>\n",
              "      <td>2</td>\n",
              "      <td>7</td>\n",
              "      <td>1</td>\n",
              "      <td>43</td>\n",
              "    </tr>\n",
              "    <tr>\n",
              "      <th>4</th>\n",
              "      <td>2</td>\n",
              "      <td>3</td>\n",
              "      <td>9</td>\n",
              "      <td>5</td>\n",
              "      <td>7</td>\n",
              "      <td>2</td>\n",
              "      <td>6</td>\n",
              "      <td>5</td>\n",
              "      <td>41</td>\n",
              "    </tr>\n",
              "    <tr>\n",
              "      <th>5</th>\n",
              "      <td>5</td>\n",
              "      <td>5</td>\n",
              "      <td>2</td>\n",
              "      <td>2</td>\n",
              "      <td>8</td>\n",
              "      <td>1</td>\n",
              "      <td>4</td>\n",
              "      <td>3</td>\n",
              "      <td>52</td>\n",
              "    </tr>\n",
              "    <tr>\n",
              "      <th>6</th>\n",
              "      <td>35</td>\n",
              "      <td>37</td>\n",
              "      <td>22</td>\n",
              "      <td>32</td>\n",
              "      <td>41</td>\n",
              "      <td>32</td>\n",
              "      <td>43</td>\n",
              "      <td>38</td>\n",
              "      <td></td>\n",
              "    </tr>\n",
              "  </tbody>\n",
              "</table>\n",
              "</div>\n",
              "      <button class=\"colab-df-convert\" onclick=\"convertToInteractive('df-c40ca110-a7ef-4a83-969d-dad8ad6a4f2c')\"\n",
              "              title=\"Convert this dataframe to an interactive table.\"\n",
              "              style=\"display:none;\">\n",
              "        \n",
              "  <svg xmlns=\"http://www.w3.org/2000/svg\" height=\"24px\"viewBox=\"0 0 24 24\"\n",
              "       width=\"24px\">\n",
              "    <path d=\"M0 0h24v24H0V0z\" fill=\"none\"/>\n",
              "    <path d=\"M18.56 5.44l.94 2.06.94-2.06 2.06-.94-2.06-.94-.94-2.06-.94 2.06-2.06.94zm-11 1L8.5 8.5l.94-2.06 2.06-.94-2.06-.94L8.5 2.5l-.94 2.06-2.06.94zm10 10l.94 2.06.94-2.06 2.06-.94-2.06-.94-.94-2.06-.94 2.06-2.06.94z\"/><path d=\"M17.41 7.96l-1.37-1.37c-.4-.4-.92-.59-1.43-.59-.52 0-1.04.2-1.43.59L10.3 9.45l-7.72 7.72c-.78.78-.78 2.05 0 2.83L4 21.41c.39.39.9.59 1.41.59.51 0 1.02-.2 1.41-.59l7.78-7.78 2.81-2.81c.8-.78.8-2.07 0-2.86zM5.41 20L4 18.59l7.72-7.72 1.47 1.35L5.41 20z\"/>\n",
              "  </svg>\n",
              "      </button>\n",
              "      \n",
              "  <style>\n",
              "    .colab-df-container {\n",
              "      display:flex;\n",
              "      flex-wrap:wrap;\n",
              "      gap: 12px;\n",
              "    }\n",
              "\n",
              "    .colab-df-convert {\n",
              "      background-color: #E8F0FE;\n",
              "      border: none;\n",
              "      border-radius: 50%;\n",
              "      cursor: pointer;\n",
              "      display: none;\n",
              "      fill: #1967D2;\n",
              "      height: 32px;\n",
              "      padding: 0 0 0 0;\n",
              "      width: 32px;\n",
              "    }\n",
              "\n",
              "    .colab-df-convert:hover {\n",
              "      background-color: #E2EBFA;\n",
              "      box-shadow: 0px 1px 2px rgba(60, 64, 67, 0.3), 0px 1px 3px 1px rgba(60, 64, 67, 0.15);\n",
              "      fill: #174EA6;\n",
              "    }\n",
              "\n",
              "    [theme=dark] .colab-df-convert {\n",
              "      background-color: #3B4455;\n",
              "      fill: #D2E3FC;\n",
              "    }\n",
              "\n",
              "    [theme=dark] .colab-df-convert:hover {\n",
              "      background-color: #434B5C;\n",
              "      box-shadow: 0px 1px 3px 1px rgba(0, 0, 0, 0.15);\n",
              "      filter: drop-shadow(0px 1px 2px rgba(0, 0, 0, 0.3));\n",
              "      fill: #FFFFFF;\n",
              "    }\n",
              "  </style>\n",
              "\n",
              "      <script>\n",
              "        const buttonEl =\n",
              "          document.querySelector('#df-c40ca110-a7ef-4a83-969d-dad8ad6a4f2c button.colab-df-convert');\n",
              "        buttonEl.style.display =\n",
              "          google.colab.kernel.accessAllowed ? 'block' : 'none';\n",
              "\n",
              "        async function convertToInteractive(key) {\n",
              "          const element = document.querySelector('#df-c40ca110-a7ef-4a83-969d-dad8ad6a4f2c');\n",
              "          const dataTable =\n",
              "            await google.colab.kernel.invokeFunction('convertToInteractive',\n",
              "                                                     [key], {});\n",
              "          if (!dataTable) return;\n",
              "\n",
              "          const docLinkHtml = 'Like what you see? Visit the ' +\n",
              "            '<a target=\"_blank\" href=https://colab.research.google.com/notebooks/data_table.ipynb>data table notebook</a>'\n",
              "            + ' to learn more about interactive tables.';\n",
              "          element.innerHTML = '';\n",
              "          dataTable['output_type'] = 'display_data';\n",
              "          await google.colab.output.renderOutput(dataTable, element);\n",
              "          const docLink = document.createElement('div');\n",
              "          docLink.innerHTML = docLinkHtml;\n",
              "          element.appendChild(docLink);\n",
              "        }\n",
              "      </script>\n",
              "    </div>\n",
              "  </div>\n",
              "  "
            ]
          },
          "metadata": {},
          "execution_count": 50
        }
      ]
    },
    {
      "cell_type": "code",
      "source": [
        "# genformtxt用法，重点是可以考虑缺失值 https://segmentfault.com/a/1190000014768786\n",
        "c = np.genfromtxt(\"data4_5_1.txt\", dtype=float, max_rows=6, usecols=range(8))\n",
        "e = np.genfromtxt(\"data4_5_1.txt\", dtype=float, max_rows=6, usecols=8)\n",
        "d = np.genfromtxt(\"data4_5_1.txt\", dtype=float, skip_header=6) "
      ],
      "metadata": {
        "id": "RqEuGOEdSkyI"
      },
      "execution_count": 51,
      "outputs": []
    },
    {
      "cell_type": "code",
      "source": [
        "x = cp.Variable((6,8), pos=True)\n",
        "obj = cp.Minimize(cp.sum(cp.multiply(c,x)))\n",
        "con = [cp.sum(x, axis = 0) == d,\n",
        "     cp.sum(x, axis = 1) <= e]\n",
        "prob = cp.Problem(obj, con)\n",
        "prob.solve(solver='GLPK_MI')\n",
        "print(\"最优值为：\", prob.value)\n",
        "print(\"最优解为：\", x.value)"
      ],
      "metadata": {
        "colab": {
          "base_uri": "https://localhost:8080/"
        },
        "id": "WDZcb97sX1Vz",
        "outputId": "06b429e0-91c9-4f7f-cc28-fa0abbb40e5a"
      },
      "execution_count": 52,
      "outputs": [
        {
          "output_type": "stream",
          "name": "stdout",
          "text": [
            "最优值为： 664.0\n",
            "最优解为： [[ 0. 19.  0.  0. 41.  0.  0.  0.]\n",
            " [ 0.  0.  0. 32.  0.  0.  0.  1.]\n",
            " [ 0. 12. 22.  0.  0.  0. 17.  0.]\n",
            " [ 0.  0.  0.  0.  0.  6.  0. 37.]\n",
            " [35.  6.  0.  0.  0.  0.  0.  0.]\n",
            " [ 0.  0.  0.  0.  0. 26. 26.  0.]]\n"
          ]
        }
      ]
    },
    {
      "cell_type": "code",
      "source": [
        "xd = pd.DataFrame(x.value)\n",
        "xd"
      ],
      "metadata": {
        "colab": {
          "base_uri": "https://localhost:8080/",
          "height": 237
        },
        "id": "cV-gYvvGX4ZC",
        "outputId": "b90d1035-2efd-4ce6-bc7f-d971c834545c"
      },
      "execution_count": 53,
      "outputs": [
        {
          "output_type": "execute_result",
          "data": {
            "text/plain": [
              "      0     1     2     3     4     5     6     7\n",
              "0   0.0  19.0   0.0   0.0  41.0   0.0   0.0   0.0\n",
              "1   0.0   0.0   0.0  32.0   0.0   0.0   0.0   1.0\n",
              "2   0.0  12.0  22.0   0.0   0.0   0.0  17.0   0.0\n",
              "3   0.0   0.0   0.0   0.0   0.0   6.0   0.0  37.0\n",
              "4  35.0   6.0   0.0   0.0   0.0   0.0   0.0   0.0\n",
              "5   0.0   0.0   0.0   0.0   0.0  26.0  26.0   0.0"
            ],
            "text/html": [
              "\n",
              "  <div id=\"df-8912f500-0654-441e-bc6d-43711ffbfb1a\">\n",
              "    <div class=\"colab-df-container\">\n",
              "      <div>\n",
              "<style scoped>\n",
              "    .dataframe tbody tr th:only-of-type {\n",
              "        vertical-align: middle;\n",
              "    }\n",
              "\n",
              "    .dataframe tbody tr th {\n",
              "        vertical-align: top;\n",
              "    }\n",
              "\n",
              "    .dataframe thead th {\n",
              "        text-align: right;\n",
              "    }\n",
              "</style>\n",
              "<table border=\"1\" class=\"dataframe\">\n",
              "  <thead>\n",
              "    <tr style=\"text-align: right;\">\n",
              "      <th></th>\n",
              "      <th>0</th>\n",
              "      <th>1</th>\n",
              "      <th>2</th>\n",
              "      <th>3</th>\n",
              "      <th>4</th>\n",
              "      <th>5</th>\n",
              "      <th>6</th>\n",
              "      <th>7</th>\n",
              "    </tr>\n",
              "  </thead>\n",
              "  <tbody>\n",
              "    <tr>\n",
              "      <th>0</th>\n",
              "      <td>0.0</td>\n",
              "      <td>19.0</td>\n",
              "      <td>0.0</td>\n",
              "      <td>0.0</td>\n",
              "      <td>41.0</td>\n",
              "      <td>0.0</td>\n",
              "      <td>0.0</td>\n",
              "      <td>0.0</td>\n",
              "    </tr>\n",
              "    <tr>\n",
              "      <th>1</th>\n",
              "      <td>0.0</td>\n",
              "      <td>0.0</td>\n",
              "      <td>0.0</td>\n",
              "      <td>32.0</td>\n",
              "      <td>0.0</td>\n",
              "      <td>0.0</td>\n",
              "      <td>0.0</td>\n",
              "      <td>1.0</td>\n",
              "    </tr>\n",
              "    <tr>\n",
              "      <th>2</th>\n",
              "      <td>0.0</td>\n",
              "      <td>12.0</td>\n",
              "      <td>22.0</td>\n",
              "      <td>0.0</td>\n",
              "      <td>0.0</td>\n",
              "      <td>0.0</td>\n",
              "      <td>17.0</td>\n",
              "      <td>0.0</td>\n",
              "    </tr>\n",
              "    <tr>\n",
              "      <th>3</th>\n",
              "      <td>0.0</td>\n",
              "      <td>0.0</td>\n",
              "      <td>0.0</td>\n",
              "      <td>0.0</td>\n",
              "      <td>0.0</td>\n",
              "      <td>6.0</td>\n",
              "      <td>0.0</td>\n",
              "      <td>37.0</td>\n",
              "    </tr>\n",
              "    <tr>\n",
              "      <th>4</th>\n",
              "      <td>35.0</td>\n",
              "      <td>6.0</td>\n",
              "      <td>0.0</td>\n",
              "      <td>0.0</td>\n",
              "      <td>0.0</td>\n",
              "      <td>0.0</td>\n",
              "      <td>0.0</td>\n",
              "      <td>0.0</td>\n",
              "    </tr>\n",
              "    <tr>\n",
              "      <th>5</th>\n",
              "      <td>0.0</td>\n",
              "      <td>0.0</td>\n",
              "      <td>0.0</td>\n",
              "      <td>0.0</td>\n",
              "      <td>0.0</td>\n",
              "      <td>26.0</td>\n",
              "      <td>26.0</td>\n",
              "      <td>0.0</td>\n",
              "    </tr>\n",
              "  </tbody>\n",
              "</table>\n",
              "</div>\n",
              "      <button class=\"colab-df-convert\" onclick=\"convertToInteractive('df-8912f500-0654-441e-bc6d-43711ffbfb1a')\"\n",
              "              title=\"Convert this dataframe to an interactive table.\"\n",
              "              style=\"display:none;\">\n",
              "        \n",
              "  <svg xmlns=\"http://www.w3.org/2000/svg\" height=\"24px\"viewBox=\"0 0 24 24\"\n",
              "       width=\"24px\">\n",
              "    <path d=\"M0 0h24v24H0V0z\" fill=\"none\"/>\n",
              "    <path d=\"M18.56 5.44l.94 2.06.94-2.06 2.06-.94-2.06-.94-.94-2.06-.94 2.06-2.06.94zm-11 1L8.5 8.5l.94-2.06 2.06-.94-2.06-.94L8.5 2.5l-.94 2.06-2.06.94zm10 10l.94 2.06.94-2.06 2.06-.94-2.06-.94-.94-2.06-.94 2.06-2.06.94z\"/><path d=\"M17.41 7.96l-1.37-1.37c-.4-.4-.92-.59-1.43-.59-.52 0-1.04.2-1.43.59L10.3 9.45l-7.72 7.72c-.78.78-.78 2.05 0 2.83L4 21.41c.39.39.9.59 1.41.59.51 0 1.02-.2 1.41-.59l7.78-7.78 2.81-2.81c.8-.78.8-2.07 0-2.86zM5.41 20L4 18.59l7.72-7.72 1.47 1.35L5.41 20z\"/>\n",
              "  </svg>\n",
              "      </button>\n",
              "      \n",
              "  <style>\n",
              "    .colab-df-container {\n",
              "      display:flex;\n",
              "      flex-wrap:wrap;\n",
              "      gap: 12px;\n",
              "    }\n",
              "\n",
              "    .colab-df-convert {\n",
              "      background-color: #E8F0FE;\n",
              "      border: none;\n",
              "      border-radius: 50%;\n",
              "      cursor: pointer;\n",
              "      display: none;\n",
              "      fill: #1967D2;\n",
              "      height: 32px;\n",
              "      padding: 0 0 0 0;\n",
              "      width: 32px;\n",
              "    }\n",
              "\n",
              "    .colab-df-convert:hover {\n",
              "      background-color: #E2EBFA;\n",
              "      box-shadow: 0px 1px 2px rgba(60, 64, 67, 0.3), 0px 1px 3px 1px rgba(60, 64, 67, 0.15);\n",
              "      fill: #174EA6;\n",
              "    }\n",
              "\n",
              "    [theme=dark] .colab-df-convert {\n",
              "      background-color: #3B4455;\n",
              "      fill: #D2E3FC;\n",
              "    }\n",
              "\n",
              "    [theme=dark] .colab-df-convert:hover {\n",
              "      background-color: #434B5C;\n",
              "      box-shadow: 0px 1px 3px 1px rgba(0, 0, 0, 0.15);\n",
              "      filter: drop-shadow(0px 1px 2px rgba(0, 0, 0, 0.3));\n",
              "      fill: #FFFFFF;\n",
              "    }\n",
              "  </style>\n",
              "\n",
              "      <script>\n",
              "        const buttonEl =\n",
              "          document.querySelector('#df-8912f500-0654-441e-bc6d-43711ffbfb1a button.colab-df-convert');\n",
              "        buttonEl.style.display =\n",
              "          google.colab.kernel.accessAllowed ? 'block' : 'none';\n",
              "\n",
              "        async function convertToInteractive(key) {\n",
              "          const element = document.querySelector('#df-8912f500-0654-441e-bc6d-43711ffbfb1a');\n",
              "          const dataTable =\n",
              "            await google.colab.kernel.invokeFunction('convertToInteractive',\n",
              "                                                     [key], {});\n",
              "          if (!dataTable) return;\n",
              "\n",
              "          const docLinkHtml = 'Like what you see? Visit the ' +\n",
              "            '<a target=\"_blank\" href=https://colab.research.google.com/notebooks/data_table.ipynb>data table notebook</a>'\n",
              "            + ' to learn more about interactive tables.';\n",
              "          element.innerHTML = '';\n",
              "          dataTable['output_type'] = 'display_data';\n",
              "          await google.colab.output.renderOutput(dataTable, element);\n",
              "          const docLink = document.createElement('div');\n",
              "          docLink.innerHTML = docLinkHtml;\n",
              "          element.appendChild(docLink);\n",
              "        }\n",
              "      </script>\n",
              "    </div>\n",
              "  </div>\n",
              "  "
            ]
          },
          "metadata": {},
          "execution_count": 53
        }
      ]
    },
    {
      "cell_type": "markdown",
      "source": [
        "**投资的收益和风险问题**\n",
        "\n",
        "Point：\n",
        "\n",
        "*   翻译题目，把各个概念联系明确\n",
        "*   模型简化，也就是把复杂的多目标变成单一目标线性规划\n",
        "\n",
        "\n"
      ],
      "metadata": {
        "id": "P5xTkguDlHQ9"
      }
    },
    {
      "cell_type": "code",
      "source": [
        "# 模型一\n",
        "import cvxpy as cp\n",
        "import pylab as plt\n",
        "plt.style.use('seaborn') \n",
        "b = plt.array([0.025, 0.015, 0.055, 0.026])  \n",
        "c = plt.array([0.05, 0.27, 0.19, 0.185, 0.185])\n",
        "x = cp.Variable(5, pos=True)\n",
        "aeq = plt.array([1, 1.01, 1.02, 1.045, 1.065])\n",
        "obj = cp.Maximize( c @ x)\n",
        "a = 0; aa = []; Q = []; X = []; M = 10000;             \n",
        "while a < 0.05:\n",
        "    con = [aeq @ x == M, cp.multiply(b,x[1:])<=a*M]\n",
        "    prob = cp.Problem(obj, con)\n",
        "    prob.solve(solver='GLPK_MI')\n",
        "    aa.append(a); Q.append(prob.value)\n",
        "    X.append(x.value)\n",
        "    a = a + 0.001\n",
        "plt.plot(aa, Q, 'r*'); plt.xlabel('a')\n",
        "plt.ylabel('Q', rotation=0, fontproperties=zhfont); plt.show()"
      ],
      "metadata": {
        "colab": {
          "base_uri": "https://localhost:8080/",
          "height": 361
        },
        "id": "-bTOX3l4ly18",
        "outputId": "bc825efb-e1a9-4045-d6aa-bab4c55b6223"
      },
      "execution_count": 54,
      "outputs": [
        {
          "output_type": "display_data",
          "data": {
            "text/plain": [
              "<Figure size 576x396 with 1 Axes>"
            ],
            "image/png": "[encoded data removed]"
          },
          "metadata": {}
        }
      ]
    },
    {
      "cell_type": "code",
      "source": [
        "import numpy as np\n",
        "import cvxpy as cp\n",
        "import pylab as plt\n",
        "\n",
        "plt.rc('font', family='SimHei')\n",
        "plt.rc('font', size=15)\n",
        "x = cp.Variable(6, pos = True)\n",
        "r = np.array([0.05, 0.28, 0.21, 0.23, 0.25])\n",
        "p = np.array([0, 0.01, 0.02, 0.045, 0.065])\n",
        "q = np.array([0, 0.025, 0.015, 0.055, 0.026])\n",
        "\n",
        "def LP(w):\n",
        "    V = []  #风险初始化\n",
        "    Q = []  #收益初始化\n",
        "    X = []  #最优解的初始化\n",
        "    con = [(1+p) @ x[: -1] == 10000, cp.multiply(q[1:],x[1:5])<=x[5]]\n",
        "    for i in range(len(w)):\n",
        "        obj = cp.Minimize(w[i] * x[5] - (1-w[i]) *((r-p) @ x[: -1]))\n",
        "        prob = cp.Problem(obj, con)\n",
        "        prob.solve(solver='GLPK_MI')\n",
        "        xx = x.value   #提出所有决策变量的取值\n",
        "        V.append(max(q*xx[:-1]))\n",
        "        Q.append((r-p)@xx[:-1]); X.append(xx)\n",
        "    print('w=', w);     print('V=', np.round(V,2))\n",
        "    print('Q=', np.round(Q,2))\n",
        "    plt.figure(); plt.plot(V, Q, '*-'); plt.grid('on')\n",
        "    plt.xlabel(u'风险（元）'); plt.ylabel(u'收益（元）')\n",
        "    return X\n",
        "\n",
        "w1 = np.arange(0, 1.1, 0.1)\n",
        "LP(w1); print('--------------')\n",
        "w2 = np.array([0.766, 0.767, 0.810, 0.811, 0.824, 0.825, 0.962, 0.963, 1.0])\n",
        "X=LP(w2); print(X[-3]); plt.show()"
      ],
      "metadata": {
        "colab": {
          "base_uri": "https://localhost:8080/",
          "height": 892
        },
        "id": "Cf9QBDhEd2UM",
        "outputId": "73e7846f-3c5e-4e07-8e73-04c5bc5b2368"
      },
      "execution_count": 55,
      "outputs": [
        {
          "output_type": "stream",
          "name": "stdout",
          "text": [
            "w= [0.  0.1 0.2 0.3 0.4 0.5 0.6 0.7 0.8 0.9 1. ]\n",
            "V= [247.52 247.52 247.52 247.52 247.52 247.52 247.52 247.52  92.25  59.4\n",
            "   0.  ]\n",
            "Q= [2673.27 2673.27 2673.27 2673.27 2673.27 2673.27 2673.27 2673.27 2164.82\n",
            " 2016.24  500.  ]\n",
            "--------------\n",
            "w= [0.766 0.767 0.81  0.811 0.824 0.825 0.962 0.963 1.   ]\n",
            "V= [247.52  92.25  92.25  78.49  78.49  59.4   59.4    0.     0.  ]\n",
            "Q= [2673.27 2164.82 2164.82 2105.99 2105.99 2016.24 2016.24  500.    500.  ]\n",
            "[4.54747351e-13 2.37583954e+03 3.95973257e+03 1.07992706e+03\n",
            " 2.28446110e+03 5.93959885e+01]\n"
          ]
        },
        {
          "output_type": "display_data",
          "data": {
            "text/plain": [
              "<Figure size 576x396 with 1 Axes>"
            ],
            "image/png": "[encoded data removed]"
          },
          "metadata": {}
        },
        {
          "output_type": "display_data",
          "data": {
            "text/plain": [
              "<Figure size 576x396 with 1 Axes>"
            ],
            "image/png": "[encoded data removed]"
          },
          "metadata": {}
        }
      ]
    },
    {
      "cell_type": "markdown",
      "source": [
        "## Integer Programming\n"
      ],
      "metadata": {
        "id": "QLuTVZ0Paz8v"
      }
    },
    {
      "cell_type": "markdown",
      "source": [
        "整数规划对于变量又增加了限制，对于0-1整数规划，其实就是把决策的搜索过程用0-1变量表示出来了，通俗一点就是翻译题目，然后再调库解决问题，重点还是对于问题的分析吧。"
      ],
      "metadata": {
        "id": "ZbjwyqHwbB2R"
      }
    },
    {
      "cell_type": "markdown",
      "source": [
        "**例题**：已知10个商业网点的坐标如下面的数据集所示，第一行为x坐标，第二行为y坐标，现在要在10个网点中选择合适的供应站，要求供应站只能覆盖10km以内的网点，且每个供应站对多供应5个网点，如何设置才能使供应站数目最小，求最小供应站个数。"
      ],
      "metadata": {
        "id": "NFR1yuUrhKHv"
      }
    },
    {
      "cell_type": "code",
      "source": [
        "import os\n",
        "os.chdir(\"/content/drive/MyDrive/dataset/MathModel/Integer_Programming\")\n",
        "!ls"
      ],
      "metadata": {
        "colab": {
          "base_uri": "https://localhost:8080/"
        },
        "id": "QvHELJibcuvJ",
        "outputId": "7310ea46-7d0b-46c5-c941-c4ba537b1a73"
      },
      "execution_count": 56,
      "outputs": [
        {
          "output_type": "stream",
          "name": "stdout",
          "text": [
            " chinese.simhei.ttf   data4_13_1.xlsx   TaipeiSansTCBeta-Regular.ttf\n",
            " data4_11.txt\t     'SimHei .ttf'      type1cm.zip\n"
          ]
        }
      ]
    },
    {
      "cell_type": "code",
      "source": [
        "import cvxpy as cp\n",
        "import pandas as pd\n",
        "import numpy as np"
      ],
      "metadata": {
        "id": "pCDXlCP5cvFf"
      },
      "execution_count": 57,
      "outputs": []
    },
    {
      "cell_type": "code",
      "source": [
        "# 数据集样式\n",
        "pd.read_csv(\"data4_11.txt\",sep='\\t', header=None)"
      ],
      "metadata": {
        "colab": {
          "base_uri": "https://localhost:8080/",
          "height": 112
        },
        "id": "Ox6qKaLyc-i3",
        "outputId": "70bdb3a8-8b26-4e62-a767-944fe576a35b"
      },
      "execution_count": 58,
      "outputs": [
        {
          "output_type": "execute_result",
          "data": {
            "text/plain": [
              "        0        1        2        3       4        5       6        7  \\\n",
              "0  9.4888   8.7928  11.5960  11.5643  5.6756   9.8497  9.1756  13.1385   \n",
              "1  5.6817  10.3868   3.9294   4.4325  9.9658  17.6632  6.1517  11.8569   \n",
              "\n",
              "         8        9  \n",
              "0  15.4663  15.5464  \n",
              "1   8.8721  15.5868  "
            ],
            "text/html": [
              "\n",
              "  <div id=\"df-ba936eb5-3442-4634-97b1-29d645fe3878\">\n",
              "    <div class=\"colab-df-container\">\n",
              "      <div>\n",
              "<style scoped>\n",
              "    .dataframe tbody tr th:only-of-type {\n",
              "        vertical-align: middle;\n",
              "    }\n",
              "\n",
              "    .dataframe tbody tr th {\n",
              "        vertical-align: top;\n",
              "    }\n",
              "\n",
              "    .dataframe thead th {\n",
              "        text-align: right;\n",
              "    }\n",
              "</style>\n",
              "<table border=\"1\" class=\"dataframe\">\n",
              "  <thead>\n",
              "    <tr style=\"text-align: right;\">\n",
              "      <th></th>\n",
              "      <th>0</th>\n",
              "      <th>1</th>\n",
              "      <th>2</th>\n",
              "      <th>3</th>\n",
              "      <th>4</th>\n",
              "      <th>5</th>\n",
              "      <th>6</th>\n",
              "      <th>7</th>\n",
              "      <th>8</th>\n",
              "      <th>9</th>\n",
              "    </tr>\n",
              "  </thead>\n",
              "  <tbody>\n",
              "    <tr>\n",
              "      <th>0</th>\n",
              "      <td>9.4888</td>\n",
              "      <td>8.7928</td>\n",
              "      <td>11.5960</td>\n",
              "      <td>11.5643</td>\n",
              "      <td>5.6756</td>\n",
              "      <td>9.8497</td>\n",
              "      <td>9.1756</td>\n",
              "      <td>13.1385</td>\n",
              "      <td>15.4663</td>\n",
              "      <td>15.5464</td>\n",
              "    </tr>\n",
              "    <tr>\n",
              "      <th>1</th>\n",
              "      <td>5.6817</td>\n",
              "      <td>10.3868</td>\n",
              "      <td>3.9294</td>\n",
              "      <td>4.4325</td>\n",
              "      <td>9.9658</td>\n",
              "      <td>17.6632</td>\n",
              "      <td>6.1517</td>\n",
              "      <td>11.8569</td>\n",
              "      <td>8.8721</td>\n",
              "      <td>15.5868</td>\n",
              "    </tr>\n",
              "  </tbody>\n",
              "</table>\n",
              "</div>\n",
              "      <button class=\"colab-df-convert\" onclick=\"convertToInteractive('df-ba936eb5-3442-4634-97b1-29d645fe3878')\"\n",
              "              title=\"Convert this dataframe to an interactive table.\"\n",
              "              style=\"display:none;\">\n",
              "        \n",
              "  <svg xmlns=\"http://www.w3.org/2000/svg\" height=\"24px\"viewBox=\"0 0 24 24\"\n",
              "       width=\"24px\">\n",
              "    <path d=\"M0 0h24v24H0V0z\" fill=\"none\"/>\n",
              "    <path d=\"M18.56 5.44l.94 2.06.94-2.06 2.06-.94-2.06-.94-.94-2.06-.94 2.06-2.06.94zm-11 1L8.5 8.5l.94-2.06 2.06-.94-2.06-.94L8.5 2.5l-.94 2.06-2.06.94zm10 10l.94 2.06.94-2.06 2.06-.94-2.06-.94-.94-2.06-.94 2.06-2.06.94z\"/><path d=\"M17.41 7.96l-1.37-1.37c-.4-.4-.92-.59-1.43-.59-.52 0-1.04.2-1.43.59L10.3 9.45l-7.72 7.72c-.78.78-.78 2.05 0 2.83L4 21.41c.39.39.9.59 1.41.59.51 0 1.02-.2 1.41-.59l7.78-7.78 2.81-2.81c.8-.78.8-2.07 0-2.86zM5.41 20L4 18.59l7.72-7.72 1.47 1.35L5.41 20z\"/>\n",
              "  </svg>\n",
              "      </button>\n",
              "      \n",
              "  <style>\n",
              "    .colab-df-container {\n",
              "      display:flex;\n",
              "      flex-wrap:wrap;\n",
              "      gap: 12px;\n",
              "    }\n",
              "\n",
              "    .colab-df-convert {\n",
              "      background-color: #E8F0FE;\n",
              "      border: none;\n",
              "      border-radius: 50%;\n",
              "      cursor: pointer;\n",
              "      display: none;\n",
              "      fill: #1967D2;\n",
              "      height: 32px;\n",
              "      padding: 0 0 0 0;\n",
              "      width: 32px;\n",
              "    }\n",
              "\n",
              "    .colab-df-convert:hover {\n",
              "      background-color: #E2EBFA;\n",
              "      box-shadow: 0px 1px 2px rgba(60, 64, 67, 0.3), 0px 1px 3px 1px rgba(60, 64, 67, 0.15);\n",
              "      fill: #174EA6;\n",
              "    }\n",
              "\n",
              "    [theme=dark] .colab-df-convert {\n",
              "      background-color: #3B4455;\n",
              "      fill: #D2E3FC;\n",
              "    }\n",
              "\n",
              "    [theme=dark] .colab-df-convert:hover {\n",
              "      background-color: #434B5C;\n",
              "      box-shadow: 0px 1px 3px 1px rgba(0, 0, 0, 0.15);\n",
              "      filter: drop-shadow(0px 1px 2px rgba(0, 0, 0, 0.3));\n",
              "      fill: #FFFFFF;\n",
              "    }\n",
              "  </style>\n",
              "\n",
              "      <script>\n",
              "        const buttonEl =\n",
              "          document.querySelector('#df-ba936eb5-3442-4634-97b1-29d645fe3878 button.colab-df-convert');\n",
              "        buttonEl.style.display =\n",
              "          google.colab.kernel.accessAllowed ? 'block' : 'none';\n",
              "\n",
              "        async function convertToInteractive(key) {\n",
              "          const element = document.querySelector('#df-ba936eb5-3442-4634-97b1-29d645fe3878');\n",
              "          const dataTable =\n",
              "            await google.colab.kernel.invokeFunction('convertToInteractive',\n",
              "                                                     [key], {});\n",
              "          if (!dataTable) return;\n",
              "\n",
              "          const docLinkHtml = 'Like what you see? Visit the ' +\n",
              "            '<a target=\"_blank\" href=https://colab.research.google.com/notebooks/data_table.ipynb>data table notebook</a>'\n",
              "            + ' to learn more about interactive tables.';\n",
              "          element.innerHTML = '';\n",
              "          dataTable['output_type'] = 'display_data';\n",
              "          await google.colab.output.renderOutput(dataTable, element);\n",
              "          const docLink = document.createElement('div');\n",
              "          docLink.innerHTML = docLinkHtml;\n",
              "          element.appendChild(docLink);\n",
              "        }\n",
              "      </script>\n",
              "    </div>\n",
              "  </div>\n",
              "  "
            ]
          },
          "metadata": {},
          "execution_count": 58
        }
      ]
    },
    {
      "cell_type": "code",
      "source": [
        "data = np.loadtxt(\"data4_11.txt\")\n",
        "d = np.zeros((10,10))\n",
        "for i in range(10):\n",
        "  for j in range(10):\n",
        "    d[i,j] = np.linalg.norm(data[:,i] - data[:,j]) # 求距离\n",
        "x = cp.Variable(10, integer = True)\n",
        "y = cp.Variable((10,10), integer = True)\n",
        "obj = cp.Minimize(sum(x))\n",
        "con = [sum(y)>=1, cp.sum(y,axis=1)<=5,\n",
        "       x>=0, x<=1, y>=0, y<=1]\n",
        "for i in range(10):\n",
        "  con.append(x[i] == y[i,i])\n",
        "  for j in range(10):\n",
        "    con.append(x[i]>=y[i,j])\n",
        "    con.append(d[i,j]*y[i,j]<=10)\n",
        "prob = cp.Problem(obj, con)\n",
        "prob.solve(solver = \"GLPK_MI\")\n",
        "print(\"最优值为：\", prob.value)\n",
        "print(\"最优解为：\", x.value)"
      ],
      "metadata": {
        "colab": {
          "base_uri": "https://localhost:8080/"
        },
        "id": "mcvltivMdDBc",
        "outputId": "6131ae95-2e2a-45f0-a3ba-ecb57a97523c"
      },
      "execution_count": 59,
      "outputs": [
        {
          "output_type": "stream",
          "name": "stdout",
          "text": [
            "最优值为： 2.0\n",
            "最优解为： [1. 1. 0. 0. 0. 0. 0. 0. 0. 0.]\n"
          ]
        }
      ]
    },
    {
      "cell_type": "code",
      "source": [
        ""
      ],
      "metadata": {
        "id": "7C7sA105fGMZ"
      },
      "execution_count": 59,
      "outputs": []
    },
    {
      "cell_type": "markdown",
      "source": [
        " **比赛安排问题**\n",
        "\n",
        "利用TSP建模求解。"
      ],
      "metadata": {
        "id": "3_d-cromjASu"
      }
    },
    {
      "cell_type": "code",
      "source": [
        "import numpy as np\n",
        "import cvxpy as cp\n",
        "import pandas as pd\n",
        "\n",
        "data = pd.read_excel(\"data4_13_1.xlsx\", header=None)"
      ],
      "metadata": {
        "id": "X-jkRN-Xi_-M"
      },
      "execution_count": 60,
      "outputs": []
    },
    {
      "cell_type": "code",
      "source": [
        "data[0:5]"
      ],
      "metadata": {
        "colab": {
          "base_uri": "https://localhost:8080/",
          "height": 206
        },
        "id": "0gOqpDarjpbM",
        "outputId": "1e136a0f-564d-4775-cb5e-0cca57f8c3d6"
      },
      "execution_count": 61,
      "outputs": [
        {
          "output_type": "execute_result",
          "data": {
            "text/plain": [
              "   0    1    2    3   4   5   6    7    8    9    10   11   12   13\n",
              "0 NaN  1.0  1.0  NaN NaN NaN NaN  NaN  1.0  NaN  NaN  NaN  1.0  NaN\n",
              "1 NaN  NaN  NaN  NaN NaN NaN NaN  1.0  NaN  NaN  1.0  1.0  NaN  NaN\n",
              "2 NaN  1.0  NaN  1.0 NaN NaN NaN  NaN  NaN  1.0  NaN  NaN  NaN  NaN\n",
              "3 NaN  NaN  1.0  NaN NaN NaN NaN  1.0  NaN  NaN  NaN  1.0  NaN  NaN\n",
              "4 NaN  NaN  NaN  NaN NaN NaN NaN  NaN  NaN  NaN  1.0  NaN  1.0  1.0"
            ],
            "text/html": [
              "\n",
              "  <div id=\"df-9297ce7c-dc40-4276-b6b6-6b2de75a7014\">\n",
              "    <div class=\"colab-df-container\">\n",
              "      <div>\n",
              "<style scoped>\n",
              "    .dataframe tbody tr th:only-of-type {\n",
              "        vertical-align: middle;\n",
              "    }\n",
              "\n",
              "    .dataframe tbody tr th {\n",
              "        vertical-align: top;\n",
              "    }\n",
              "\n",
              "    .dataframe thead th {\n",
              "        text-align: right;\n",
              "    }\n",
              "</style>\n",
              "<table border=\"1\" class=\"dataframe\">\n",
              "  <thead>\n",
              "    <tr style=\"text-align: right;\">\n",
              "      <th></th>\n",
              "      <th>0</th>\n",
              "      <th>1</th>\n",
              "      <th>2</th>\n",
              "      <th>3</th>\n",
              "      <th>4</th>\n",
              "      <th>5</th>\n",
              "      <th>6</th>\n",
              "      <th>7</th>\n",
              "      <th>8</th>\n",
              "      <th>9</th>\n",
              "      <th>10</th>\n",
              "      <th>11</th>\n",
              "      <th>12</th>\n",
              "      <th>13</th>\n",
              "    </tr>\n",
              "  </thead>\n",
              "  <tbody>\n",
              "    <tr>\n",
              "      <th>0</th>\n",
              "      <td>NaN</td>\n",
              "      <td>1.0</td>\n",
              "      <td>1.0</td>\n",
              "      <td>NaN</td>\n",
              "      <td>NaN</td>\n",
              "      <td>NaN</td>\n",
              "      <td>NaN</td>\n",
              "      <td>NaN</td>\n",
              "      <td>1.0</td>\n",
              "      <td>NaN</td>\n",
              "      <td>NaN</td>\n",
              "      <td>NaN</td>\n",
              "      <td>1.0</td>\n",
              "      <td>NaN</td>\n",
              "    </tr>\n",
              "    <tr>\n",
              "      <th>1</th>\n",
              "      <td>NaN</td>\n",
              "      <td>NaN</td>\n",
              "      <td>NaN</td>\n",
              "      <td>NaN</td>\n",
              "      <td>NaN</td>\n",
              "      <td>NaN</td>\n",
              "      <td>NaN</td>\n",
              "      <td>1.0</td>\n",
              "      <td>NaN</td>\n",
              "      <td>NaN</td>\n",
              "      <td>1.0</td>\n",
              "      <td>1.0</td>\n",
              "      <td>NaN</td>\n",
              "      <td>NaN</td>\n",
              "    </tr>\n",
              "    <tr>\n",
              "      <th>2</th>\n",
              "      <td>NaN</td>\n",
              "      <td>1.0</td>\n",
              "      <td>NaN</td>\n",
              "      <td>1.0</td>\n",
              "      <td>NaN</td>\n",
              "      <td>NaN</td>\n",
              "      <td>NaN</td>\n",
              "      <td>NaN</td>\n",
              "      <td>NaN</td>\n",
              "      <td>1.0</td>\n",
              "      <td>NaN</td>\n",
              "      <td>NaN</td>\n",
              "      <td>NaN</td>\n",
              "      <td>NaN</td>\n",
              "    </tr>\n",
              "    <tr>\n",
              "      <th>3</th>\n",
              "      <td>NaN</td>\n",
              "      <td>NaN</td>\n",
              "      <td>1.0</td>\n",
              "      <td>NaN</td>\n",
              "      <td>NaN</td>\n",
              "      <td>NaN</td>\n",
              "      <td>NaN</td>\n",
              "      <td>1.0</td>\n",
              "      <td>NaN</td>\n",
              "      <td>NaN</td>\n",
              "      <td>NaN</td>\n",
              "      <td>1.0</td>\n",
              "      <td>NaN</td>\n",
              "      <td>NaN</td>\n",
              "    </tr>\n",
              "    <tr>\n",
              "      <th>4</th>\n",
              "      <td>NaN</td>\n",
              "      <td>NaN</td>\n",
              "      <td>NaN</td>\n",
              "      <td>NaN</td>\n",
              "      <td>NaN</td>\n",
              "      <td>NaN</td>\n",
              "      <td>NaN</td>\n",
              "      <td>NaN</td>\n",
              "      <td>NaN</td>\n",
              "      <td>NaN</td>\n",
              "      <td>1.0</td>\n",
              "      <td>NaN</td>\n",
              "      <td>1.0</td>\n",
              "      <td>1.0</td>\n",
              "    </tr>\n",
              "  </tbody>\n",
              "</table>\n",
              "</div>\n",
              "      <button class=\"colab-df-convert\" onclick=\"convertToInteractive('df-9297ce7c-dc40-4276-b6b6-6b2de75a7014')\"\n",
              "              title=\"Convert this dataframe to an interactive table.\"\n",
              "              style=\"display:none;\">\n",
              "        \n",
              "  <svg xmlns=\"http://www.w3.org/2000/svg\" height=\"24px\"viewBox=\"0 0 24 24\"\n",
              "       width=\"24px\">\n",
              "    <path d=\"M0 0h24v24H0V0z\" fill=\"none\"/>\n",
              "    <path d=\"M18.56 5.44l.94 2.06.94-2.06 2.06-.94-2.06-.94-.94-2.06-.94 2.06-2.06.94zm-11 1L8.5 8.5l.94-2.06 2.06-.94-2.06-.94L8.5 2.5l-.94 2.06-2.06.94zm10 10l.94 2.06.94-2.06 2.06-.94-2.06-.94-.94-2.06-.94 2.06-2.06.94z\"/><path d=\"M17.41 7.96l-1.37-1.37c-.4-.4-.92-.59-1.43-.59-.52 0-1.04.2-1.43.59L10.3 9.45l-7.72 7.72c-.78.78-.78 2.05 0 2.83L4 21.41c.39.39.9.59 1.41.59.51 0 1.02-.2 1.41-.59l7.78-7.78 2.81-2.81c.8-.78.8-2.07 0-2.86zM5.41 20L4 18.59l7.72-7.72 1.47 1.35L5.41 20z\"/>\n",
              "  </svg>\n",
              "      </button>\n",
              "      \n",
              "  <style>\n",
              "    .colab-df-container {\n",
              "      display:flex;\n",
              "      flex-wrap:wrap;\n",
              "      gap: 12px;\n",
              "    }\n",
              "\n",
              "    .colab-df-convert {\n",
              "      background-color: #E8F0FE;\n",
              "      border: none;\n",
              "      border-radius: 50%;\n",
              "      cursor: pointer;\n",
              "      display: none;\n",
              "      fill: #1967D2;\n",
              "      height: 32px;\n",
              "      padding: 0 0 0 0;\n",
              "      width: 32px;\n",
              "    }\n",
              "\n",
              "    .colab-df-convert:hover {\n",
              "      background-color: #E2EBFA;\n",
              "      box-shadow: 0px 1px 2px rgba(60, 64, 67, 0.3), 0px 1px 3px 1px rgba(60, 64, 67, 0.15);\n",
              "      fill: #174EA6;\n",
              "    }\n",
              "\n",
              "    [theme=dark] .colab-df-convert {\n",
              "      background-color: #3B4455;\n",
              "      fill: #D2E3FC;\n",
              "    }\n",
              "\n",
              "    [theme=dark] .colab-df-convert:hover {\n",
              "      background-color: #434B5C;\n",
              "      box-shadow: 0px 1px 3px 1px rgba(0, 0, 0, 0.15);\n",
              "      filter: drop-shadow(0px 1px 2px rgba(0, 0, 0, 0.3));\n",
              "      fill: #FFFFFF;\n",
              "    }\n",
              "  </style>\n",
              "\n",
              "      <script>\n",
              "        const buttonEl =\n",
              "          document.querySelector('#df-9297ce7c-dc40-4276-b6b6-6b2de75a7014 button.colab-df-convert');\n",
              "        buttonEl.style.display =\n",
              "          google.colab.kernel.accessAllowed ? 'block' : 'none';\n",
              "\n",
              "        async function convertToInteractive(key) {\n",
              "          const element = document.querySelector('#df-9297ce7c-dc40-4276-b6b6-6b2de75a7014');\n",
              "          const dataTable =\n",
              "            await google.colab.kernel.invokeFunction('convertToInteractive',\n",
              "                                                     [key], {});\n",
              "          if (!dataTable) return;\n",
              "\n",
              "          const docLinkHtml = 'Like what you see? Visit the ' +\n",
              "            '<a target=\"_blank\" href=https://colab.research.google.com/notebooks/data_table.ipynb>data table notebook</a>'\n",
              "            + ' to learn more about interactive tables.';\n",
              "          element.innerHTML = '';\n",
              "          dataTable['output_type'] = 'display_data';\n",
              "          await google.colab.output.renderOutput(dataTable, element);\n",
              "          const docLink = document.createElement('div');\n",
              "          docLink.innerHTML = docLinkHtml;\n",
              "          element.appendChild(docLink);\n",
              "        }\n",
              "      </script>\n",
              "    </div>\n",
              "  </div>\n",
              "  "
            ]
          },
          "metadata": {},
          "execution_count": 61
        }
      ]
    },
    {
      "cell_type": "code",
      "source": [
        "data = data.values\n",
        "data[np.isnan(data)] = 0"
      ],
      "metadata": {
        "id": "LkVuydChkIgr"
      },
      "execution_count": 62,
      "outputs": []
    },
    {
      "cell_type": "code",
      "source": [
        "data[0:5]"
      ],
      "metadata": {
        "colab": {
          "base_uri": "https://localhost:8080/"
        },
        "id": "BM6EAnKdkWlA",
        "outputId": "84ea9e61-888f-43f5-9f66-00b558d91719"
      },
      "execution_count": 63,
      "outputs": [
        {
          "output_type": "execute_result",
          "data": {
            "text/plain": [
              "array([[0., 1., 1., 0., 0., 0., 0., 0., 1., 0., 0., 0., 1., 0.],\n",
              "       [0., 0., 0., 0., 0., 0., 0., 1., 0., 0., 1., 1., 0., 0.],\n",
              "       [0., 1., 0., 1., 0., 0., 0., 0., 0., 1., 0., 0., 0., 0.],\n",
              "       [0., 0., 1., 0., 0., 0., 0., 1., 0., 0., 0., 1., 0., 0.],\n",
              "       [0., 0., 0., 0., 0., 0., 0., 0., 0., 0., 1., 0., 1., 1.]])"
            ]
          },
          "metadata": {},
          "execution_count": 63
        }
      ]
    },
    {
      "cell_type": "code",
      "source": [
        "m,n = data.shape\n",
        "w = np.ones((n+1, n+1)) * 10000000 # 邻接表初始化\n",
        "for i in range(n):\n",
        "  for j in range(n):\n",
        "    if i!=j: w[i,j] = sum(data[:,i]*data[:,j])\n",
        "for i in range(n):\n",
        "  w[i,n] = 0; w[n,i] = 0\n",
        "x = cp.Variable((n+1, n+1),integer = True)\n",
        "u = cp.Variable(n+1, integer = True)\n",
        "obj = cp.Minimize(cp.sum(cp.multiply(w,x)))\n",
        "con = [cp.sum(x, axis=0)==1, cp.sum(x,axis=1)==1,\n",
        "       x>=0, x<=1, u[0]==0, u[1:]>=1, u[1:]<=n]\n",
        "for i in range(n+1):\n",
        "  for j in range(1, n+1):\n",
        "    con.append(u[i]-u[j]+(n+1)*x[i,j]<=n)\n",
        "prob = cp.Problem(obj, con)\n",
        "prob.solve(solver = \"GLPK_MI\")\n",
        "print(\"最小值为：\", prob.value)\n",
        "print(\"最优解为：\", x.value)\n",
        "i,j = np.nonzero(x.value)\n",
        "print(\"xij=1的行列位置：\")\n",
        "print(i+1);print(j+1)"
      ],
      "metadata": {
        "colab": {
          "base_uri": "https://localhost:8080/"
        },
        "id": "6WsqSyJ6kk6v",
        "outputId": "9d5da62c-8992-47c8-fdf0-6f9530ef3160"
      },
      "execution_count": 64,
      "outputs": [
        {
          "output_type": "stream",
          "name": "stdout",
          "text": [
            "最小值为： 2.0\n",
            "最优解为： [[0. 0. 0. 0. 1. 0. 0. 0. 0. 0. 0. 0. 0. 0. 0.]\n",
            " [0. 0. 0. 0. 0. 0. 0. 0. 0. 0. 0. 0. 0. 1. 0.]\n",
            " [0. 0. 0. 0. 0. 1. 0. 0. 0. 0. 0. 0. 0. 0. 0.]\n",
            " [0. 0. 0. 0. 0. 0. 0. 0. 1. 0. 0. 0. 0. 0. 0.]\n",
            " [0. 0. 0. 0. 0. 0. 0. 0. 0. 0. 1. 0. 0. 0. 0.]\n",
            " [0. 1. 0. 0. 0. 0. 0. 0. 0. 0. 0. 0. 0. 0. 0.]\n",
            " [0. 0. 1. 0. 0. 0. 0. 0. 0. 0. 0. 0. 0. 0. 0.]\n",
            " [1. 0. 0. 0. 0. 0. 0. 0. 0. 0. 0. 0. 0. 0. 0.]\n",
            " [0. 0. 0. 0. 0. 0. 0. 1. 0. 0. 0. 0. 0. 0. 0.]\n",
            " [0. 0. 0. 0. 0. 0. 0. 0. 0. 0. 0. 0. 1. 0. 0.]\n",
            " [0. 0. 0. 0. 0. 0. 1. 0. 0. 0. 0. 0. 0. 0. 0.]\n",
            " [0. 0. 0. 0. 0. 0. 0. 0. 0. 1. 0. 0. 0. 0. 0.]\n",
            " [0. 0. 0. 0. 0. 0. 0. 0. 0. 0. 0. 0. 0. 0. 1.]\n",
            " [0. 0. 0. 0. 0. 0. 0. 0. 0. 0. 0. 1. 0. 0. 0.]\n",
            " [0. 0. 0. 1. 0. 0. 0. 0. 0. 0. 0. 0. 0. 0. 0.]]\n",
            "xij=1的行列位置：\n",
            "[ 1  2  3  4  5  6  7  8  9 10 11 12 13 14 15]\n",
            "[ 5 14  6  9 11  2  3  1  8 13  7 10 15 12  4]\n"
          ]
        }
      ]
    },
    {
      "cell_type": "code",
      "source": [
        ""
      ],
      "metadata": {
        "id": "6kXRE7xypecU"
      },
      "execution_count": 64,
      "outputs": []
    },
    {
      "cell_type": "markdown",
      "source": [
        "## Simple Non-Linear Programming"
      ],
      "metadata": {
        "id": "H_9Lbfw3zE0Q"
      }
    },
    {
      "cell_type": "code",
      "source": [
        "# sympy的使用：https://zhuanlan.zhihu.com/p/111573239\n",
        "import sympy as sp\n",
        "\n",
        "sp.var('x1, x2')  #定义符号变量\n",
        "y = (339-0.01*x1-0.003*x2)*x1+(399-0.004*x1-0.01*x2)*x2-(400000+195*x1+225*x2)\n",
        "y = sp.simplify(y)   #化简\n",
        "dy1 = y.diff(x1)     #求关于x1的偏导\n",
        "dy2 = y.diff(x2)     #求关于x2的偏导\n",
        "s = sp.solve([dy1, dy2], [x1, x2])\n",
        "x10 = round(float(s[x1]))   #取整\n",
        "x20 = round(float(s[x2]))\n",
        "y0 = y.subs({x1: x10, x2: x20})  #符号函数代入数值\n",
        "f = sp.lambdify('x1, x2', y, 'numpy')  #符号函数转换为匿名函数\n",
        "x = plt.linspace(0, 10000, 100)\n",
        "X, Y = plt.meshgrid(x, x)  #转换为网格数据\n",
        "Z = f(X, Y)\n",
        "ax=plt.subplot(121, projection='3d')  #第一个子窗口三维画图 表示将整个图像窗口分为1行2列,当前位置为1,第一行的左图\n",
        "ax.plot_surface(X, Y, Z,cmap='viridis')\n",
        "ax.set_xlabel('x_1'); ax.set_ylabel('x_2')\n",
        "plt.subplot(122)  #激活第二个子窗口\n",
        "contr=plt.contour(X,Y,Z,10)  #10条等高线\n",
        "plt.clabel(contr)   #等高线标注\n",
        "plt.ylabel('x_2',rotation=0)\n",
        "plt.xlabel('x_1')\n",
        "\n",
        "sp.var('a', pos=True)  #定义灵敏度分析的符号参数\n",
        "y = (339-a*x1-0.003*x2)*x1+(399-0.004*x1-0.01*x2)*x2-(400000+195*x1+225*x2)\n",
        "y = sp.simplify(y)   #化简\n",
        "dy1 = y.diff(x1)     #求关于x1的偏导\n",
        "dy2 = y.diff(x2)     #求关于x2的偏导\n",
        "s = sp.solve([dy1, dy2], [x1, x2])\n",
        "sx1 = s[x1]; sx2 = s[x2]  #提取解分量\n",
        "s1 = sp.lambdify('a', sx1, 'numpy')  #符号函数转换为匿名函数\n",
        "s2 = sp.lambdify('a', sx2, 'numpy')\n",
        "a0 = plt.linspace(0.002, 0.02, 50)\n",
        "plt.figure()\n",
        "plt.subplots_adjust(wspace = 0.65)\n",
        "plt.subplot(121); plt.plot(a0, s1(a0))\n",
        "plt.xlabel('a'); plt.ylabel('x_1')\n",
        "plt.subplot(122); plt.plot(a0, s2(a0))\n",
        "plt.xlabel('a'); plt.ylabel('x_2')\n",
        "dx1 = sx1.diff(a); dx10 = dx1.subs(a, 0.01)\n",
        "sx1a = dx10 * 0.01 / 4735\n",
        "dx2 = sx2.diff(a); dx20 = dx2.subs(a, 0.01)\n",
        "sx2a = dx20 * 0.01 / 7043\n",
        "Y = y.subs({x1: s[x1], x2: s[x2]})  #求关于a的目标函数\n",
        "Y = sp.factor(Y); Y = sp.simplify(Y)\n",
        "Ya = sp.lambdify('a', Y, 'numpy')  #转换为匿名函数\n",
        "a0 = plt.linspace(0.002, 0.02, 1000)\n",
        "plt.figure(); plt.plot(a0, Ya(a0))\n",
        "plt.xlabel('a'); plt.ylabel('y', rotation=0)\n",
        "Sya = - 4735 ** 2 * 0.01 / 553641.025\n",
        "y2 = y.subs({x1: 4735, x2: 7043, a: 0.011})  #计算近似最优利润\n",
        "y3 = Y.subs(a, 0.011)   #计算最优利润\n",
        "delta = (y3 - y2) / y2  #计算利润的相对误差\n",
        "plt.show()\n",
        "\n"
      ],
      "metadata": {
        "colab": {
          "base_uri": "https://localhost:8080/",
          "height": 1000
        },
        "id": "3VKOQNNhzE-S",
        "outputId": "6e588769-076b-47cb-ccd7-feb2fa157cd2"
      },
      "execution_count": 65,
      "outputs": [
        {
          "output_type": "display_data",
          "data": {
            "text/plain": [
              "<Figure size 576x396 with 2 Axes>"
            ],
            "image/png": "[encoded data removed]"
          },
          "metadata": {}
        },
        {
          "output_type": "display_data",
          "data": {
            "text/plain": [
              "<Figure size 576x396 with 2 Axes>"
            ],
            "image/png": "[encoded data removed]"
          },
          "metadata": {}
        },
        {
          "output_type": "display_data",
          "data": {
            "text/plain": [
              "<Figure size 576x396 with 1 Axes>"
            ],
            "image/png": "[encoded data removed]"
          },
          "metadata": {}
        }
      ]
    },
    {
      "cell_type": "code",
      "source": [
        ""
      ],
      "metadata": {
        "id": "7PlS6mLpysM8"
      },
      "execution_count": null,
      "outputs": []
    },
    {
      "cell_type": "markdown",
      "source": [
        "## Quadratic Programming\n",
        "目标函数是决策变量的二次函数，约束条件全是线性的情况。"
      ],
      "metadata": {
        "id": "1BGAwscd1yn8"
      }
    },
    {
      "cell_type": "markdown",
      "source": [
        "## Non-Linear Programming\n",
        "对于一般的非线性规划问题，不是凸规划就不能用`cvxpy`库求解，而应该使用`scipy.optimize`模块下的`minimize`函数求解。"
      ],
      "metadata": {
        "id": "-OGW8HLkK852"
      }
    },
    {
      "cell_type": "code",
      "source": [
        "import os\n",
        "os.chdir(\"/content/drive/MyDrive/dataset/MathModel/Non_Linear_Programming\")\n",
        "!ls"
      ],
      "metadata": {
        "colab": {
          "base_uri": "https://localhost:8080/"
        },
        "id": "y15qyWLzMFqg",
        "outputId": "179b8677-a83f-4f58-8f34-386a1e925b89"
      },
      "execution_count": 67,
      "outputs": [
        {
          "output_type": "stream",
          "name": "stdout",
          "text": [
            "data5_8.txt\n"
          ]
        }
      ]
    },
    {
      "cell_type": "code",
      "source": [
        "import numpy as np\n",
        "from scipy.optimize import minimize\n",
        "\n",
        "d = np.loadtxt('data5_8.txt')\n",
        "a = d[0]; b = d[1]; c = d[2]\n",
        "e = np.array([20, 20])\n",
        "\n",
        "def obj(xyz):\n",
        "    x = xyz[: 2]; y = xyz[2: 4]\n",
        "    z = xyz [4:].reshape(6,2)\n",
        "    obj =0\n",
        "    for i in range(6):\n",
        "        for j in range(2):\n",
        "            obj = obj + z[i,j] * np.sqrt((x[j]-a[i])**2+(y[j]-b[i])**2)\n",
        "    return obj\n",
        "\n",
        "con = []\n",
        "con.append({'type': 'eq', 'fun': lambda z: z[4:].reshape(6,2).sum(axis=1)-c})\n",
        "con.append({'type': 'ineq', 'fun': lambda z: e-z[4:].reshape(6,2).sum(axis=0)})\n",
        "bd = [(0, np.inf) for i in range(16)]  #决策向量的界限\n",
        "res = minimize(obj, np.random.rand(16), constraints=con, bounds=bd)\n",
        "print(res)  #输出解的信息\n",
        "s=np.round(res.x, 4)     #提出最优解的取值\n",
        "print('目标函数的最优值：', round(res.fun,4))\n",
        "print('x的坐标为：', s[:2])\n",
        "print('y的坐标为：', s[2:4])\n",
        "print('料场到工地的运输量为：\\n', s[4:].reshape(6,2).T)\n"
      ],
      "metadata": {
        "colab": {
          "base_uri": "https://localhost:8080/"
        },
        "id": "IKFAZlcGL1O4",
        "outputId": "d60da9c1-90f6-4726-8ef2-5b7cf078477c"
      },
      "execution_count": 68,
      "outputs": [
        {
          "output_type": "stream",
          "name": "stdout",
          "text": [
            "     fun: 71.93522640722541\n",
            "     jac: array([-3.92105198, -0.01173687, -5.58756542, -0.02742481,  8.8459034 ,\n",
            "        4.42539406,  7.15891075,  7.05688763,  7.38664341,  2.79976646,\n",
            "        4.45112324,  0.52093792,  4.4300108 ,  1.33647633,  0.        ,\n",
            "        4.73643494])\n",
            " message: 'Optimization terminated successfully'\n",
            "    nfev: 888\n",
            "     nit: 49\n",
            "    njev: 49\n",
            "  status: 0\n",
            " success: True\n",
            "       x: array([7.25000000e+00, 3.26496823e+00, 7.74999992e+00, 5.19005305e+00,\n",
            "       1.44913051e-09, 3.00000000e+00, 4.99999999e+00, 5.65964251e-09,\n",
            "       2.83349325e-09, 4.00000000e+00, 8.32818697e-09, 6.99999999e+00,\n",
            "       7.38963421e-09, 5.99999999e+00, 1.10000000e+01, 1.52946540e-08])\n",
            "目标函数的最优值： 71.9352\n",
            "x的坐标为： [7.25  3.265]\n",
            "y的坐标为： [7.75   5.1901]\n",
            "料场到工地的运输量为：\n",
            " [[ 0.  5.  0.  0.  0. 11.]\n",
            " [ 3.  0.  4.  7.  6.  0.]]\n"
          ]
        }
      ]
    },
    {
      "cell_type": "code",
      "source": [
        ""
      ],
      "metadata": {
        "id": "Gt5EO3I5MIO6"
      },
      "execution_count": null,
      "outputs": []
    },
    {
      "cell_type": "markdown",
      "source": [
        "## Multi-Target Programming"
      ],
      "metadata": {
        "id": "YVtSWQuSMXGJ"
      }
    },
    {
      "cell_type": "markdown",
      "source": [
        "流程大体如下：\n",
        "\n",
        "\n",
        "1.   根据题意进行分析并列出多目标函数以及约束条件\n",
        "2.   数据预处理：无量纲处理、数量级归一处理\n",
        "3.   选用合适的方法转换为单目标规划问题\n",
        "\n",
        "这里给出几个求有效解的常用方法：\n",
        "1.   线性加权法\n",
        "2.   $\\epsilon$约束法\n",
        "3.   理想点法\n",
        "4.   优先级法\n",
        "\n"
      ],
      "metadata": {
        "id": "fe51gq8R-hB5"
      }
    },
    {
      "cell_type": "markdown",
      "source": [
        "**例题:**\n",
        "\n",
        "目标函数：\n",
        "\\begin{equation}\n",
        " min\\{-f_1(x), f_2(x) \\}     \\\\\n",
        "   f_1(x) = 2x_1 + 3x_2\\\\\n",
        "  f_2(x) = x_1 + 2x_2 \\\\\n",
        "\\end{equation}\n",
        "\n",
        "约束：\n",
        "\n",
        "\n",
        "\\begin{equation}\n",
        " min\\{-f_1(x), f_2(x) \\}     \\\\\n",
        "   f_1(x) = 2x_1 + 3x_2\\\\\n",
        "  f_2(x) = x_1 + 2x_2 \\\\\n",
        "s.t.\\left\\{\n",
        "\t\\begin{aligned}\n",
        "\t0.5x_1+0.25x_2\\leq 8\\\\\n",
        "\t0.2x_1 + 0.2x_2 \\leq 4\\\\\n",
        "\tx_1 + 5x_2 \\leq 72\\\\\n",
        "  x_1 + x_2 \\geq 10 \\\\\n",
        "  x_1, x_2 \\geq 0\\\\\n",
        "\t\\end{aligned}\n",
        "\t\\right\n",
        "\t.\n",
        "\\end{equation}"
      ],
      "metadata": {
        "id": "8L4hp3YqBQLt"
      }
    },
    {
      "cell_type": "code",
      "source": [
        "import numpy as np\n",
        "import cvxpy as cp\n",
        "\n",
        "c1 = np.array([-2, -3])\n",
        "c2 = np.array([1, 2])\n",
        "a = np.array([[0.5, 0.25], [0.2, 0.2], [1, 5], [-1, -1]])\n",
        "b = np.array([8, 4, 72, -10])\n",
        "x = cp.Variable(2, pos=True)\n",
        "obj = cp.Minimize(0.5 * (c1 + c2) @ x)\n",
        "con = [a @ x <= b]\n",
        "prob = cp.Problem(obj, con)\n",
        "prob.solve(solver='GLPK_MI')\n",
        "print('最优解为：', x.value)\n",
        "print('最优值为：', prob.value)\n",
        "\n",
        "obj1 = cp.Minimize(c1 @ x)\n",
        "prob1 = cp.Problem(obj1, con)\n",
        "prob1.solve(solver='GLPK_MI')\n",
        "v1 = prob1.value  #第一个目标函数的最优值\n",
        "obj2 = cp.Minimize(c2 @ x)\n",
        "prob2 = cp.Problem(obj2, con)\n",
        "prob2.solve(solver='GLPK_MI')\n",
        "v2 = prob2.value  #第二个目标函数的最优值\n",
        "print('两个目标函数的最优值分别为：', v1, v2)\n",
        "obj3 = cp.Minimize((c1@x-v1)**2+(c2@x-v2)**2)\n",
        "prob3 = cp.Problem(obj3, con)\n",
        "prob3.solve(solver='CVXOPT')\n",
        "print('解法二的最优解：', x.value)\n",
        "\n",
        "con.append( c1 @ x == v1)\n",
        "prob4 = cp.Problem(obj2, con)\n",
        "prob4.solve(solver='GLPK_MI')\n",
        "x3 = x.value   #提出最优解的值\n",
        "print('解法三的最优解：', x3)\n",
        "print('利润：', -c1@x3); print('排放污染物：', c2@x3)"
      ],
      "metadata": {
        "colab": {
          "base_uri": "https://localhost:8080/"
        },
        "id": "6LFJFjIV-glp",
        "outputId": "fde053cd-e143-47aa-8f07-b3c553258ff5"
      },
      "execution_count": 69,
      "outputs": [
        {
          "output_type": "stream",
          "name": "stdout",
          "text": [
            "最优解为： [12.  8.]\n",
            "最优值为： -10.0\n",
            "两个目标函数的最优值分别为： -53.0 10.0\n",
            "解法二的最优解： [13.3598425   5.28031523]\n",
            "解法三的最优解： [ 7. 13.]\n",
            "利润： 53.0\n",
            "排放污染物： 33.0\n"
          ]
        }
      ]
    },
    {
      "cell_type": "code",
      "source": [
        ""
      ],
      "metadata": {
        "id": "asuj9nWOBIqF"
      },
      "execution_count": null,
      "outputs": []
    },
    {
      "cell_type": "markdown",
      "source": [
        "## Summary"
      ],
      "metadata": {
        "id": "JOgIHSPsGxxr"
      }
    },
    {
      "cell_type": "markdown",
      "source": [
        "对于数模解决问题的过程，可以分为5个步骤：\n",
        "\n",
        "\n",
        "1.   提出问题\n",
        "2.   选择建模方法\n",
        "3.   推导模型的数学表达式\n",
        "4.   求解模型\n",
        "5.   回答问题\n",
        "\n",
        "在数学规划的这两章，基本上按照书上的经典题目过一遍是大体能了解很多了，但是还要补充个灵敏度分析：\n",
        "\n",
        "数学建模中的灵敏度分析，到底在分析什么？ - Explorer2612的文章 - 知乎\n",
        "https://zhuanlan.zhihu.com/p/69059271\n",
        "\n"
      ],
      "metadata": {
        "id": "15-qelpoG4KL"
      }
    },
    {
      "cell_type": "code",
      "source": [
        ""
      ],
      "metadata": {
        "id": "QgsztbjVG70l"
      },
      "execution_count": null,
      "outputs": []
    }
  ]
}