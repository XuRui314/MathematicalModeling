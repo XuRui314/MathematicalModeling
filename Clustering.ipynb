{
  "nbformat": 4,
  "nbformat_minor": 0,
  "metadata": {
    "colab": {
      "name": "Clustering.ipynb",
      "provenance": [],
      "collapsed_sections": [
        "QRFC7UGnxkKb"
      ],
      "authorship_tag": "ABX9TyOcFsgCbQyjsWpSx2S7c1/t",
      "include_colab_link": true
    },
    "kernelspec": {
      "name": "python3",
      "display_name": "Python 3"
    },
    "language_info": {
      "name": "python"
    }
  },
  "cells": [
    {
      "cell_type": "markdown",
      "metadata": {
        "id": "view-in-github",
        "colab_type": "text"
      },
      "source": [
        "<a href=\"https://colab.research.google.com/github/XuRui314/MathematicalModeling/blob/main/Clustering.ipynb\" target=\"_parent\"><img src=\"https://colab.research.google.com/assets/colab-badge.svg\" alt=\"Open In Colab\"/></a>"
      ]
    },
    {
      "cell_type": "markdown",
      "source": [
        "原文地址：https://machinelearningmastery.com/clustering-algorithms-with-python/"
      ],
      "metadata": {
        "id": "L3fghoGbxTIV"
      }
    },
    {
      "cell_type": "code",
      "source": [
        "# preparation\n",
        "from google.colab import drive\n",
        "drive.mount('/content/drive')"
      ],
      "metadata": {
        "colab": {
          "base_uri": "https://localhost:8080/"
        },
        "id": "G6yDavLZy5vJ",
        "outputId": "fa059884-00cd-45cf-dbb7-f15c6568b6e1"
      },
      "execution_count": 28,
      "outputs": [
        {
          "output_type": "stream",
          "name": "stdout",
          "text": [
            "Mounted at /content/drive\n"
          ]
        }
      ]
    },
    {
      "cell_type": "markdown",
      "source": [
        "## Clustering"
      ],
      "metadata": {
        "id": "KOiDakDbyrEX"
      }
    },
    {
      "cell_type": "code",
      "source": [
        "X, y = make_classification(n_samples=1000, n_features=2, n_informative=2, n_redundant=0, n_clusters_per_class=1, random_state=4) # 造数据集"
      ],
      "metadata": {
        "id": "ETHYoPXNspMr"
      },
      "execution_count": null,
      "outputs": []
    },
    {
      "cell_type": "code",
      "source": [
        "X.shape # X: np.darray"
      ],
      "metadata": {
        "colab": {
          "base_uri": "https://localhost:8080/"
        },
        "id": "l3jCqhb2sqjg",
        "outputId": "2e3cdf9b-9918-497d-854a-a38a616440a5"
      },
      "execution_count": null,
      "outputs": [
        {
          "output_type": "execute_result",
          "data": {
            "text/plain": [
              "(1000, 2)"
            ]
          },
          "metadata": {},
          "execution_count": 6
        }
      ]
    },
    {
      "cell_type": "code",
      "source": [
        "y.shape # y: np vector"
      ],
      "metadata": {
        "colab": {
          "base_uri": "https://localhost:8080/"
        },
        "id": "s6soyrRgs1Qm",
        "outputId": "564e26e2-6023-4b84-a0c2-ca91fe9ce9f3"
      },
      "execution_count": null,
      "outputs": [
        {
          "output_type": "execute_result",
          "data": {
            "text/plain": [
              "(1000,)"
            ]
          },
          "metadata": {},
          "execution_count": 9
        }
      ]
    },
    {
      "cell_type": "code",
      "source": [
        "from matplotlib import pyplot\n",
        "# 每次scatter颜色不一样\n",
        "pyplot.scatter(1,1)\n",
        "pyplot.scatter(1,2)\n",
        "pyplot.scatter(1,3)\n",
        "# show the plot\n",
        "pyplot.show()"
      ],
      "metadata": {
        "colab": {
          "base_uri": "https://localhost:8080/",
          "height": 265
        },
        "id": "ZFqcNDxssIuW",
        "outputId": "817b41e5-4b70-4b70-e9c9-9e68d803b805"
      },
      "execution_count": null,
      "outputs": [
        {
          "output_type": "display_data",
          "data": {
            "text/plain": [
              "<Figure size 432x288 with 1 Axes>"
            ],
            "image/png": "[encoded data removed]"
          },
          "metadata": {
            "needs_background": "light"
          }
        }
      ]
    },
    {
      "cell_type": "markdown",
      "source": [
        "### 数据集的创建"
      ],
      "metadata": {
        "id": "XjvOEySuxzbW"
      }
    },
    {
      "cell_type": "code",
      "source": [
        "# synthetic classification dataset\n",
        "from numpy import where\n",
        "from sklearn.datasets import make_classification\n",
        "from matplotlib import pyplot\n",
        "# define dataset\n",
        "X, y = make_classification(n_samples=1000, n_features=2, n_informative=2, n_redundant=0, n_clusters_per_class=1, random_state=4)\n",
        "# create scatter plot for samples from each class\n",
        "for class_value in range(2):\n",
        "\t# get row indexes for samples with this class\n",
        "\trow_ix = where(y == class_value)\n",
        "\t# create scatter of these samples\n",
        "\tpyplot.scatter(X[row_ix, 0], X[row_ix, 1])\n",
        "# show the plot\n",
        "pyplot.show()"
      ],
      "metadata": {
        "colab": {
          "base_uri": "https://localhost:8080/",
          "height": 265
        },
        "id": "yejAUWsOsIDg",
        "outputId": "e72973a0-bd38-4ee0-f350-83c184240f23"
      },
      "execution_count": null,
      "outputs": [
        {
          "output_type": "display_data",
          "data": {
            "text/plain": [
              "<Figure size 432x288 with 1 Axes>"
            ],
            "image/png": "[encoded data removed]"
          },
          "metadata": {
            "needs_background": "light"
          }
        }
      ]
    },
    {
      "cell_type": "markdown",
      "source": [
        "### 亲和力传播\n"
      ],
      "metadata": {
        "id": "F2g_gwMe14Yd"
      }
    },
    {
      "cell_type": "code",
      "source": [
        "# affinity propagation clustering\n",
        "from numpy import unique\n",
        "from numpy import where\n",
        "from sklearn.datasets import make_classification\n",
        "from sklearn.cluster import AffinityPropagation\n",
        "from matplotlib import pyplot\n",
        "# define dataset\n",
        "X, _ = make_classification(n_samples=1000, n_features=2, n_informative=2, n_redundant=0, n_clusters_per_class=1, random_state=4)\n",
        "# define the model\n",
        "model = AffinityPropagation(damping=0.9)\n",
        "# fit the model\n",
        "model.fit(X)\n",
        "# assign a cluster to each example\n",
        "yhat = model.predict(X)\n",
        "# retrieve unique clusters\n",
        "clusters = unique(yhat)\n",
        "# create scatter plot for samples from each cluster\n",
        "for cluster in clusters:\n",
        "\t# get row indexes for samples with this cluster\n",
        "\trow_ix = where(yhat == cluster)\n",
        "\t# create scatter of these samples\n",
        "\tpyplot.scatter(X[row_ix, 0], X[row_ix, 1])\n",
        "# show the plot\n",
        "pyplot.show()"
      ],
      "metadata": {
        "colab": {
          "base_uri": "https://localhost:8080/",
          "height": 265
        },
        "id": "Qv2GelqIvDcl",
        "outputId": "28d3f118-69c8-4f85-b800-6582809a98df"
      },
      "execution_count": null,
      "outputs": [
        {
          "output_type": "display_data",
          "data": {
            "text/plain": [
              "<Figure size 432x288 with 1 Axes>"
            ],
            "image/png": "[encoded data removed]"
          },
          "metadata": {
            "needs_background": "light"
          }
        }
      ]
    },
    {
      "cell_type": "markdown",
      "source": [
        "### 聚合聚类\n"
      ],
      "metadata": {
        "id": "UyzxbGad2kiq"
      }
    },
    {
      "cell_type": "code",
      "source": [
        "# agglomerative clustering\n",
        "from numpy import unique\n",
        "from numpy import where\n",
        "from sklearn.datasets import make_classification\n",
        "from sklearn.cluster import AgglomerativeClustering\n",
        "from matplotlib import pyplot\n",
        "# define dataset\n",
        "X, _ = make_classification(n_samples=1000, n_features=2, n_informative=2, n_redundant=0, n_clusters_per_class=1, random_state=4)\n",
        "# define the model\n",
        "model = AgglomerativeClustering(n_clusters=2)\n",
        "# fit model and predict clusters\n",
        "yhat = model.fit_predict(X)\n",
        "# retrieve unique clusters\n",
        "clusters = unique(yhat)\n",
        "# create scatter plot for samples from each cluster\n",
        "for cluster in clusters:\n",
        "\t# get row indexes for samples with this cluster\n",
        "\trow_ix = where(yhat == cluster)\n",
        "\t# create scatter of these samples\n",
        "\tpyplot.scatter(X[row_ix, 0], X[row_ix, 1])\n",
        "# show the plot\n",
        "pyplot.show()"
      ],
      "metadata": {
        "colab": {
          "base_uri": "https://localhost:8080/",
          "height": 265
        },
        "id": "b-8oPOtJvHjq",
        "outputId": "fe044892-c56e-4bff-9484-65e792f4bcbf"
      },
      "execution_count": null,
      "outputs": [
        {
          "output_type": "display_data",
          "data": {
            "text/plain": [
              "<Figure size 432x288 with 1 Axes>"
            ],
            "image/png": "[encoded data removed]"
          },
          "metadata": {
            "needs_background": "light"
          }
        }
      ]
    },
    {
      "cell_type": "markdown",
      "source": [
        "### BIRCH"
      ],
      "metadata": {
        "id": "9CjM5sBJ2u5F"
      }
    },
    {
      "cell_type": "code",
      "source": [
        "# birch clustering\n",
        "from numpy import unique\n",
        "from numpy import where\n",
        "from sklearn.datasets import make_classification\n",
        "from sklearn.cluster import Birch\n",
        "from matplotlib import pyplot\n",
        "# define dataset\n",
        "X, _ = make_classification(n_samples=1000, n_features=2, n_informative=2, n_redundant=0, n_clusters_per_class=1, random_state=4)\n",
        "# define the model\n",
        "model = Birch(threshold=0.01, n_clusters=2)\n",
        "# fit the model\n",
        "model.fit(X)\n",
        "# assign a cluster to each example\n",
        "yhat = model.predict(X)\n",
        "# retrieve unique clusters\n",
        "clusters = unique(yhat)\n",
        "# create scatter plot for samples from each cluster\n",
        "for cluster in clusters:\n",
        "\t# get row indexes for samples with this cluster\n",
        "\trow_ix = where(yhat == cluster)\n",
        "\t# create scatter of these samples\n",
        "\tpyplot.scatter(X[row_ix, 0], X[row_ix, 1])\n",
        "# show the plot\n",
        "pyplot.show()"
      ],
      "metadata": {
        "colab": {
          "base_uri": "https://localhost:8080/",
          "height": 265
        },
        "id": "Bn3mfz59vJig",
        "outputId": "35abcd71-a17e-415a-eb20-3b37d5607b51"
      },
      "execution_count": null,
      "outputs": [
        {
          "output_type": "display_data",
          "data": {
            "text/plain": [
              "<Figure size 432x288 with 1 Axes>"
            ],
            "image/png": "[encoded data removed]"
          },
          "metadata": {
            "needs_background": "light"
          }
        }
      ]
    },
    {
      "cell_type": "markdown",
      "source": [
        "### DBSCAN"
      ],
      "metadata": {
        "id": "TjUdRVSy2wFD"
      }
    },
    {
      "cell_type": "code",
      "source": [
        "# dbscan clustering\n",
        "from numpy import unique\n",
        "from numpy import where\n",
        "from sklearn.datasets import make_classification\n",
        "from sklearn.cluster import DBSCAN\n",
        "from matplotlib import pyplot\n",
        "# define dataset\n",
        "X, _ = make_classification(n_samples=1000, n_features=2, n_informative=2, n_redundant=0, n_clusters_per_class=1, random_state=4)\n",
        "# define the model\n",
        "model = DBSCAN(eps=0.30, min_samples=9)\n",
        "# fit model and predict clusters\n",
        "yhat = model.fit_predict(X)\n",
        "# retrieve unique clusters\n",
        "clusters = unique(yhat)\n",
        "# create scatter plot for samples from each cluster\n",
        "for cluster in clusters:\n",
        "\t# get row indexes for samples with this cluster\n",
        "\trow_ix = where(yhat == cluster)\n",
        "\t# create scatter of these samples\n",
        "\tpyplot.scatter(X[row_ix, 0], X[row_ix, 1])\n",
        "# show the plot\n",
        "pyplot.show()"
      ],
      "metadata": {
        "colab": {
          "base_uri": "https://localhost:8080/",
          "height": 265
        },
        "id": "cssYFDh1vLAK",
        "outputId": "44451d7b-c7f6-4908-fea6-935765747809"
      },
      "execution_count": null,
      "outputs": [
        {
          "output_type": "display_data",
          "data": {
            "text/plain": [
              "<Figure size 432x288 with 1 Axes>"
            ],
            "image/png": "[encoded data removed]"
          },
          "metadata": {
            "needs_background": "light"
          }
        }
      ]
    },
    {
      "cell_type": "markdown",
      "source": [
        "### K均值\n"
      ],
      "metadata": {
        "id": "hWP2wESz21zI"
      }
    },
    {
      "cell_type": "markdown",
      "source": [
        "https://canvas.mit.edu/courses/7509/files/1044932"
      ],
      "metadata": {
        "id": "sBj8J7hyxVY-"
      }
    },
    {
      "cell_type": "code",
      "source": [
        "# k-means clustering\n",
        "from numpy import unique\n",
        "from numpy import where\n",
        "from sklearn.datasets import make_classification\n",
        "from sklearn.cluster import KMeans\n",
        "from matplotlib import pyplot\n",
        "# define dataset\n",
        "X, _ = make_classification(n_samples=1000, n_features=2, n_informative=2, n_redundant=0, n_clusters_per_class=1, random_state=4)\n",
        "# define the model\n",
        "model = KMeans(n_clusters=2)\n",
        "# fit the model\n",
        "model.fit(X)\n",
        "# assign a cluster to each example\n",
        "yhat = model.predict(X)\n",
        "# retrieve unique clusters\n",
        "clusters = unique(yhat)\n",
        "# create scatter plot for samples from each cluster\n",
        "for cluster in clusters:\n",
        "\t# get row indexes for samples with this cluster\n",
        "\trow_ix = where(yhat == cluster)\n",
        "\t# create scatter of these samples\n",
        "\tpyplot.scatter(X[row_ix, 0], X[row_ix, 1])\n",
        "# show the plot\n",
        "pyplot.show()"
      ],
      "metadata": {
        "colab": {
          "base_uri": "https://localhost:8080/",
          "height": 265
        },
        "id": "IU6Sl0TtvP43",
        "outputId": "20b8b3d8-18d5-45ee-a951-a3f2c941de19"
      },
      "execution_count": null,
      "outputs": [
        {
          "output_type": "display_data",
          "data": {
            "text/plain": [
              "<Figure size 432x288 with 1 Axes>"
            ],
            "image/png": "[encoded data removed]"
          },
          "metadata": {
            "needs_background": "light"
          }
        }
      ]
    },
    {
      "cell_type": "markdown",
      "source": [
        "### Mini-Batch K-均值\n"
      ],
      "metadata": {
        "id": "hRlMAH4-2512"
      }
    },
    {
      "cell_type": "code",
      "source": [
        "# mini-batch k-means clustering\n",
        "from numpy import unique\n",
        "from numpy import where\n",
        "from sklearn.datasets import make_classification\n",
        "from sklearn.cluster import MiniBatchKMeans\n",
        "from matplotlib import pyplot\n",
        "# define dataset\n",
        "X, _ = make_classification(n_samples=1000, n_features=2, n_informative=2, n_redundant=0, n_clusters_per_class=1, random_state=4)\n",
        "# define the model\n",
        "model = MiniBatchKMeans(n_clusters=2)\n",
        "# fit the model\n",
        "model.fit(X)\n",
        "# assign a cluster to each example\n",
        "yhat = model.predict(X)\n",
        "# retrieve unique clusters\n",
        "clusters = unique(yhat)\n",
        "# create scatter plot for samples from each cluster\n",
        "for cluster in clusters:\n",
        "\t# get row indexes for samples with this cluster\n",
        "\trow_ix = where(yhat == cluster)\n",
        "\t# create scatter of these samples\n",
        "\tpyplot.scatter(X[row_ix, 0], X[row_ix, 1])\n",
        "# show the plot\n",
        "pyplot.show()"
      ],
      "metadata": {
        "colab": {
          "base_uri": "https://localhost:8080/",
          "height": 265
        },
        "id": "oqHddyMDvR4b",
        "outputId": "91d9e8ba-40b6-4add-866b-3b1ec6d33601"
      },
      "execution_count": null,
      "outputs": [
        {
          "output_type": "display_data",
          "data": {
            "text/plain": [
              "<Figure size 432x288 with 1 Axes>"
            ],
            "image/png": "[encoded data removed]"
          },
          "metadata": {
            "needs_background": "light"
          }
        }
      ]
    },
    {
      "cell_type": "markdown",
      "source": [
        "### 均值漂移聚类\n"
      ],
      "metadata": {
        "id": "kfs1xbmc3Pyu"
      }
    },
    {
      "cell_type": "code",
      "source": [
        "# mean shift clustering\n",
        "from numpy import unique\n",
        "from numpy import where\n",
        "from sklearn.datasets import make_classification\n",
        "from sklearn.cluster import MeanShift\n",
        "from matplotlib import pyplot\n",
        "# define dataset\n",
        "X, _ = make_classification(n_samples=1000, n_features=2, n_informative=2, n_redundant=0, n_clusters_per_class=1, random_state=4)\n",
        "# define the model\n",
        "model = MeanShift()\n",
        "# fit model and predict clusters\n",
        "yhat = model.fit_predict(X)\n",
        "# retrieve unique clusters\n",
        "clusters = unique(yhat)\n",
        "# create scatter plot for samples from each cluster\n",
        "for cluster in clusters:\n",
        "\t# get row indexes for samples with this cluster\n",
        "\trow_ix = where(yhat == cluster)\n",
        "\t# create scatter of these samples\n",
        "\tpyplot.scatter(X[row_ix, 0], X[row_ix, 1])\n",
        "# show the plot\n",
        "pyplot.show()"
      ],
      "metadata": {
        "colab": {
          "base_uri": "https://localhost:8080/",
          "height": 265
        },
        "id": "7WFlzpWNvTog",
        "outputId": "5f0da208-60c2-47e5-eabb-72a7bf8ddfa9"
      },
      "execution_count": null,
      "outputs": [
        {
          "output_type": "display_data",
          "data": {
            "text/plain": [
              "<Figure size 432x288 with 1 Axes>"
            ],
            "image/png": "[encoded data removed]"
          },
          "metadata": {
            "needs_background": "light"
          }
        }
      ]
    },
    {
      "cell_type": "markdown",
      "source": [
        "### OPTICS"
      ],
      "metadata": {
        "id": "Y8fiqmp03MVO"
      }
    },
    {
      "cell_type": "code",
      "source": [
        "# optics clustering\n",
        "from numpy import unique\n",
        "from numpy import where\n",
        "from sklearn.datasets import make_classification\n",
        "from sklearn.cluster import OPTICS\n",
        "from matplotlib import pyplot\n",
        "# define dataset\n",
        "X, _ = make_classification(n_samples=1000, n_features=2, n_informative=2, n_redundant=0, n_clusters_per_class=1, random_state=4)\n",
        "# define the model\n",
        "model = OPTICS(eps=0.8, min_samples=10)\n",
        "# fit model and predict clusters\n",
        "yhat = model.fit_predict(X)\n",
        "# retrieve unique clusters\n",
        "clusters = unique(yhat)\n",
        "# create scatter plot for samples from each cluster\n",
        "for cluster in clusters:\n",
        "\t# get row indexes for samples with this cluster\n",
        "\trow_ix = where(yhat == cluster)\n",
        "\t# create scatter of these samples\n",
        "\tpyplot.scatter(X[row_ix, 0], X[row_ix, 1])\n",
        "# show the plot\n",
        "pyplot.show()"
      ],
      "metadata": {
        "colab": {
          "base_uri": "https://localhost:8080/",
          "height": 265
        },
        "id": "bhxpXr03vVoO",
        "outputId": "0c9af364-2662-4ec8-c358-1ab5fcd8de71"
      },
      "execution_count": null,
      "outputs": [
        {
          "output_type": "display_data",
          "data": {
            "text/plain": [
              "<Figure size 432x288 with 1 Axes>"
            ],
            "image/png": "[encoded data removed]"
          },
          "metadata": {
            "needs_background": "light"
          }
        }
      ]
    },
    {
      "cell_type": "markdown",
      "source": [
        "### 光谱聚类\n"
      ],
      "metadata": {
        "id": "1oJ7gCMQ3JPw"
      }
    },
    {
      "cell_type": "code",
      "source": [
        "# spectral clustering\n",
        "from numpy import unique\n",
        "from numpy import where\n",
        "from sklearn.datasets import make_classification\n",
        "from sklearn.cluster import SpectralClustering\n",
        "from matplotlib import pyplot\n",
        "# define dataset\n",
        "X, _ = make_classification(n_samples=1000, n_features=2, n_informative=2, n_redundant=0, n_clusters_per_class=1, random_state=4)\n",
        "# define the model\n",
        "model = SpectralClustering(n_clusters=2)\n",
        "# fit model and predict clusters\n",
        "yhat = model.fit_predict(X)\n",
        "# retrieve unique clusters\n",
        "clusters = unique(yhat)\n",
        "# create scatter plot for samples from each cluster\n",
        "for cluster in clusters:\n",
        "\t# get row indexes for samples with this cluster\n",
        "\trow_ix = where(yhat == cluster)\n",
        "\t# create scatter of these samples\n",
        "\tpyplot.scatter(X[row_ix, 0], X[row_ix, 1])\n",
        "# show the plot\n",
        "pyplot.show()"
      ],
      "metadata": {
        "colab": {
          "base_uri": "https://localhost:8080/",
          "height": 265
        },
        "id": "maipVL90vY-u",
        "outputId": "2cb970cd-dc0b-4a60-a1dc-9172557634d3"
      },
      "execution_count": null,
      "outputs": [
        {
          "output_type": "display_data",
          "data": {
            "text/plain": [
              "<Figure size 432x288 with 1 Axes>"
            ],
            "image/png": "[encoded data removed]"
          },
          "metadata": {
            "needs_background": "light"
          }
        }
      ]
    },
    {
      "cell_type": "markdown",
      "source": [
        "### 高斯混合模型\n"
      ],
      "metadata": {
        "id": "ErRH0prv3EiF"
      }
    },
    {
      "cell_type": "code",
      "source": [
        "# gaussian mixture clustering\n",
        "from numpy import unique\n",
        "from numpy import where\n",
        "from sklearn.datasets import make_classification\n",
        "from sklearn.mixture import GaussianMixture\n",
        "from matplotlib import pyplot\n",
        "# define dataset\n",
        "X, _ = make_classification(n_samples=1000, n_features=2, n_informative=2, n_redundant=0, n_clusters_per_class=1, random_state=4)\n",
        "# define the model\n",
        "model = GaussianMixture(n_components=2)\n",
        "# fit the model\n",
        "model.fit(X)\n",
        "# assign a cluster to each example\n",
        "yhat = model.predict(X)\n",
        "# retrieve unique clusters\n",
        "clusters = unique(yhat)\n",
        "# create scatter plot for samples from each cluster\n",
        "for cluster in clusters:\n",
        "\t# get row indexes for samples with this cluster\n",
        "\trow_ix = where(yhat == cluster)\n",
        "\t# create scatter of these samples\n",
        "\tpyplot.scatter(X[row_ix, 0], X[row_ix, 1])\n",
        "# show the plot\n",
        "pyplot.show()"
      ],
      "metadata": {
        "colab": {
          "base_uri": "https://localhost:8080/",
          "height": 265
        },
        "id": "14aYB0RAvcZs",
        "outputId": "e6a69259-80b8-4c54-e96c-3d6cf75c80b9"
      },
      "execution_count": null,
      "outputs": [
        {
          "output_type": "display_data",
          "data": {
            "text/plain": [
              "<Figure size 432x288 with 1 Axes>"
            ],
            "image/png": "[encoded data removed]"
          },
          "metadata": {
            "needs_background": "light"
          }
        }
      ]
    },
    {
      "cell_type": "markdown",
      "source": [
        "### 层次聚类"
      ],
      "metadata": {
        "id": "FO-tqJG4399P"
      }
    },
    {
      "cell_type": "code",
      "source": [
        "# 下面换数据集了\n",
        "# Reading the DataFrame\n",
        "seeds_df = pd.read_csv(\n",
        " \"https://raw.githubusercontent.com/vihar/unsupervised-learning-with-python/master/seeds-less-rows.csv\")\n"
      ],
      "metadata": {
        "id": "CLRxS1P94F4j"
      },
      "execution_count": 47,
      "outputs": []
    },
    {
      "cell_type": "code",
      "source": [
        "seeds_df[0:5]"
      ],
      "metadata": {
        "colab": {
          "base_uri": "https://localhost:8080/",
          "height": 206
        },
        "id": "MGsZp4rg4Iam",
        "outputId": "34d68031-b83d-4003-de94-309e881049aa"
      },
      "execution_count": 69,
      "outputs": [
        {
          "output_type": "execute_result",
          "data": {
            "text/plain": [
              "    area  perimeter  compactness  length  width  asymmetry_coefficient  \\\n",
              "0  14.88      14.57       0.8811   5.554  3.333                  1.018   \n",
              "1  14.69      14.49       0.8799   5.563  3.259                  3.586   \n",
              "2  14.03      14.16       0.8796   5.438  3.201                  1.717   \n",
              "3  13.99      13.83       0.9183   5.119  3.383                  5.234   \n",
              "4  14.11      14.26       0.8722   5.520  3.168                  2.688   \n",
              "\n",
              "   groove_length grain_variety  \n",
              "0          4.956    Kama wheat  \n",
              "1          5.219    Kama wheat  \n",
              "2          5.001    Kama wheat  \n",
              "3          4.781    Kama wheat  \n",
              "4          5.219    Kama wheat  "
            ],
            "text/html": [
              "\n",
              "  <div id=\"df-b8740b00-6305-4a39-8f0f-28f227bd0bfb\">\n",
              "    <div class=\"colab-df-container\">\n",
              "      <div>\n",
              "<style scoped>\n",
              "    .dataframe tbody tr th:only-of-type {\n",
              "        vertical-align: middle;\n",
              "    }\n",
              "\n",
              "    .dataframe tbody tr th {\n",
              "        vertical-align: top;\n",
              "    }\n",
              "\n",
              "    .dataframe thead th {\n",
              "        text-align: right;\n",
              "    }\n",
              "</style>\n",
              "<table border=\"1\" class=\"dataframe\">\n",
              "  <thead>\n",
              "    <tr style=\"text-align: right;\">\n",
              "      <th></th>\n",
              "      <th>area</th>\n",
              "      <th>perimeter</th>\n",
              "      <th>compactness</th>\n",
              "      <th>length</th>\n",
              "      <th>width</th>\n",
              "      <th>asymmetry_coefficient</th>\n",
              "      <th>groove_length</th>\n",
              "      <th>grain_variety</th>\n",
              "    </tr>\n",
              "  </thead>\n",
              "  <tbody>\n",
              "    <tr>\n",
              "      <th>0</th>\n",
              "      <td>14.88</td>\n",
              "      <td>14.57</td>\n",
              "      <td>0.8811</td>\n",
              "      <td>5.554</td>\n",
              "      <td>3.333</td>\n",
              "      <td>1.018</td>\n",
              "      <td>4.956</td>\n",
              "      <td>Kama wheat</td>\n",
              "    </tr>\n",
              "    <tr>\n",
              "      <th>1</th>\n",
              "      <td>14.69</td>\n",
              "      <td>14.49</td>\n",
              "      <td>0.8799</td>\n",
              "      <td>5.563</td>\n",
              "      <td>3.259</td>\n",
              "      <td>3.586</td>\n",
              "      <td>5.219</td>\n",
              "      <td>Kama wheat</td>\n",
              "    </tr>\n",
              "    <tr>\n",
              "      <th>2</th>\n",
              "      <td>14.03</td>\n",
              "      <td>14.16</td>\n",
              "      <td>0.8796</td>\n",
              "      <td>5.438</td>\n",
              "      <td>3.201</td>\n",
              "      <td>1.717</td>\n",
              "      <td>5.001</td>\n",
              "      <td>Kama wheat</td>\n",
              "    </tr>\n",
              "    <tr>\n",
              "      <th>3</th>\n",
              "      <td>13.99</td>\n",
              "      <td>13.83</td>\n",
              "      <td>0.9183</td>\n",
              "      <td>5.119</td>\n",
              "      <td>3.383</td>\n",
              "      <td>5.234</td>\n",
              "      <td>4.781</td>\n",
              "      <td>Kama wheat</td>\n",
              "    </tr>\n",
              "    <tr>\n",
              "      <th>4</th>\n",
              "      <td>14.11</td>\n",
              "      <td>14.26</td>\n",
              "      <td>0.8722</td>\n",
              "      <td>5.520</td>\n",
              "      <td>3.168</td>\n",
              "      <td>2.688</td>\n",
              "      <td>5.219</td>\n",
              "      <td>Kama wheat</td>\n",
              "    </tr>\n",
              "  </tbody>\n",
              "</table>\n",
              "</div>\n",
              "      <button class=\"colab-df-convert\" onclick=\"convertToInteractive('df-b8740b00-6305-4a39-8f0f-28f227bd0bfb')\"\n",
              "              title=\"Convert this dataframe to an interactive table.\"\n",
              "              style=\"display:none;\">\n",
              "        \n",
              "  <svg xmlns=\"http://www.w3.org/2000/svg\" height=\"24px\"viewBox=\"0 0 24 24\"\n",
              "       width=\"24px\">\n",
              "    <path d=\"M0 0h24v24H0V0z\" fill=\"none\"/>\n",
              "    <path d=\"M18.56 5.44l.94 2.06.94-2.06 2.06-.94-2.06-.94-.94-2.06-.94 2.06-2.06.94zm-11 1L8.5 8.5l.94-2.06 2.06-.94-2.06-.94L8.5 2.5l-.94 2.06-2.06.94zm10 10l.94 2.06.94-2.06 2.06-.94-2.06-.94-.94-2.06-.94 2.06-2.06.94z\"/><path d=\"M17.41 7.96l-1.37-1.37c-.4-.4-.92-.59-1.43-.59-.52 0-1.04.2-1.43.59L10.3 9.45l-7.72 7.72c-.78.78-.78 2.05 0 2.83L4 21.41c.39.39.9.59 1.41.59.51 0 1.02-.2 1.41-.59l7.78-7.78 2.81-2.81c.8-.78.8-2.07 0-2.86zM5.41 20L4 18.59l7.72-7.72 1.47 1.35L5.41 20z\"/>\n",
              "  </svg>\n",
              "      </button>\n",
              "      \n",
              "  <style>\n",
              "    .colab-df-container {\n",
              "      display:flex;\n",
              "      flex-wrap:wrap;\n",
              "      gap: 12px;\n",
              "    }\n",
              "\n",
              "    .colab-df-convert {\n",
              "      background-color: #E8F0FE;\n",
              "      border: none;\n",
              "      border-radius: 50%;\n",
              "      cursor: pointer;\n",
              "      display: none;\n",
              "      fill: #1967D2;\n",
              "      height: 32px;\n",
              "      padding: 0 0 0 0;\n",
              "      width: 32px;\n",
              "    }\n",
              "\n",
              "    .colab-df-convert:hover {\n",
              "      background-color: #E2EBFA;\n",
              "      box-shadow: 0px 1px 2px rgba(60, 64, 67, 0.3), 0px 1px 3px 1px rgba(60, 64, 67, 0.15);\n",
              "      fill: #174EA6;\n",
              "    }\n",
              "\n",
              "    [theme=dark] .colab-df-convert {\n",
              "      background-color: #3B4455;\n",
              "      fill: #D2E3FC;\n",
              "    }\n",
              "\n",
              "    [theme=dark] .colab-df-convert:hover {\n",
              "      background-color: #434B5C;\n",
              "      box-shadow: 0px 1px 3px 1px rgba(0, 0, 0, 0.15);\n",
              "      filter: drop-shadow(0px 1px 2px rgba(0, 0, 0, 0.3));\n",
              "      fill: #FFFFFF;\n",
              "    }\n",
              "  </style>\n",
              "\n",
              "      <script>\n",
              "        const buttonEl =\n",
              "          document.querySelector('#df-b8740b00-6305-4a39-8f0f-28f227bd0bfb button.colab-df-convert');\n",
              "        buttonEl.style.display =\n",
              "          google.colab.kernel.accessAllowed ? 'block' : 'none';\n",
              "\n",
              "        async function convertToInteractive(key) {\n",
              "          const element = document.querySelector('#df-b8740b00-6305-4a39-8f0f-28f227bd0bfb');\n",
              "          const dataTable =\n",
              "            await google.colab.kernel.invokeFunction('convertToInteractive',\n",
              "                                                     [key], {});\n",
              "          if (!dataTable) return;\n",
              "\n",
              "          const docLinkHtml = 'Like what you see? Visit the ' +\n",
              "            '<a target=\"_blank\" href=https://colab.research.google.com/notebooks/data_table.ipynb>data table notebook</a>'\n",
              "            + ' to learn more about interactive tables.';\n",
              "          element.innerHTML = '';\n",
              "          dataTable['output_type'] = 'display_data';\n",
              "          await google.colab.output.renderOutput(dataTable, element);\n",
              "          const docLink = document.createElement('div');\n",
              "          docLink.innerHTML = docLinkHtml;\n",
              "          element.appendChild(docLink);\n",
              "        }\n",
              "      </script>\n",
              "    </div>\n",
              "  </div>\n",
              "  "
            ]
          },
          "metadata": {},
          "execution_count": 69
        }
      ]
    },
    {
      "cell_type": "code",
      "source": [
        "seeds_df = pd.read_csv(\n",
        " \"https://raw.githubusercontent.com/vihar/unsupervised-learning-with-python/master/seeds-less-rows.csv\")\n",
        "from scipy.cluster.hierarchy import linkage, dendrogram\n",
        "import matplotlib.pyplot as plt\n",
        "import pandas as pd\n",
        "\n",
        "\n",
        "# Remove the grain species from the DataFrame, save for later\n",
        "varieties = list(seeds_df.pop('grain_variety'))\n",
        "\n",
        "# Extract the measurements as a NumPy array\n",
        "samples = seeds_df.values\n",
        "\n",
        "\"\"\"\n",
        "Perform hierarchical clustering on samples using the\n",
        "linkage() function with the method='complete' keyword argument.\n",
        "Assign the result to mergings.\n",
        "\"\"\"\n",
        "mergings = linkage(samples, method='complete')\n",
        "\n",
        "\"\"\"\n",
        "Plot a dendrogram using the dendrogram() function on mergings,\n",
        "specifying the keyword arguments labels=varieties, leaf_rotation=90,\n",
        "and leaf_font_size=6.\n",
        "\"\"\"\n",
        "dendrogram(mergings,\n",
        " labels=varieties,\n",
        " leaf_rotation=90,\n",
        " leaf_font_size=6,\n",
        " )\n",
        "\n",
        "plt.show()"
      ],
      "metadata": {
        "id": "R7cg8iI1veu3",
        "colab": {
          "base_uri": "https://localhost:8080/",
          "height": 306
        },
        "outputId": "265a488e-9df7-437c-e734-28e3c9fbbe64"
      },
      "execution_count": 80,
      "outputs": [
        {
          "output_type": "display_data",
          "data": {
            "text/plain": [
              "<Figure size 432x288 with 1 Axes>"
            ],
            "image/png": "[encoded data removed]"
          },
          "metadata": {
            "needs_background": "light"
          }
        }
      ]
    },
    {
      "cell_type": "markdown",
      "source": [
        "### t-SNE聚类"
      ],
      "metadata": {
        "id": "8SOIaGCZHWO4"
      }
    },
    {
      "cell_type": "code",
      "source": [
        "seeds_df = pd.read_csv(\n",
        " \"https://raw.githubusercontent.com/vihar/unsupervised-learning-with-python/master/seeds-less-rows.csv\")\n",
        "# 把grain_variety转换为数字\n",
        "dic = []\n",
        "mapping = {}\n",
        "j = 0\n",
        "for i in seeds_df.grain_variety:\n",
        "  if i not in dic:\n",
        "    dic.append(i)\n",
        "    mapping[i] = j\n",
        "    j += 1\n",
        "seeds_df['type'] = seeds_df['grain_variety'].map(mapping)\n",
        "types = seeds_df['type'].values\n",
        "seeds_df['type'].values"
      ],
      "metadata": {
        "colab": {
          "base_uri": "https://localhost:8080/"
        },
        "id": "uSfHs9-pDXp6",
        "outputId": "7c6687ce-c9f7-4597-c4e5-f60acfd56c86"
      },
      "execution_count": 136,
      "outputs": [
        {
          "output_type": "execute_result",
          "data": {
            "text/plain": [
              "array([0, 0, 0, 0, 0, 0, 0, 0, 0, 0, 0, 0, 0, 0, 1, 1, 1, 1, 1, 1, 1, 1,\n",
              "       1, 1, 1, 1, 1, 1, 2, 2, 2, 2, 2, 2, 2, 2, 2, 2, 2, 2, 2, 2])"
            ]
          },
          "metadata": {},
          "execution_count": 136
        }
      ]
    },
    {
      "cell_type": "code",
      "source": [
        "seeds_df = seeds_df.drop(['grain_variety','type'],axis=1)\n",
        "\n",
        "samples = seeds_df.values\n",
        "samples # (42,7)"
      ],
      "metadata": {
        "colab": {
          "base_uri": "https://localhost:8080/"
        },
        "id": "4GghB-JFEzMT",
        "outputId": "ca4044f2-d1cc-4d39-a431-446c6ff566a3"
      },
      "execution_count": 137,
      "outputs": [
        {
          "output_type": "execute_result",
          "data": {
            "text/plain": [
              "array([[14.88  , 14.57  ,  0.8811,  5.554 ,  3.333 ,  1.018 ,  4.956 ],\n",
              "       [14.69  , 14.49  ,  0.8799,  5.563 ,  3.259 ,  3.586 ,  5.219 ],\n",
              "       [14.03  , 14.16  ,  0.8796,  5.438 ,  3.201 ,  1.717 ,  5.001 ],\n",
              "       [13.99  , 13.83  ,  0.9183,  5.119 ,  3.383 ,  5.234 ,  4.781 ],\n",
              "       [14.11  , 14.26  ,  0.8722,  5.52  ,  3.168 ,  2.688 ,  5.219 ],\n",
              "       [13.02  , 13.76  ,  0.8641,  5.395 ,  3.026 ,  3.373 ,  4.825 ],\n",
              "       [15.49  , 14.94  ,  0.8724,  5.757 ,  3.371 ,  3.412 ,  5.228 ],\n",
              "       [16.2   , 15.27  ,  0.8734,  5.826 ,  3.464 ,  2.823 ,  5.527 ],\n",
              "       [13.5   , 13.85  ,  0.8852,  5.351 ,  3.158 ,  2.249 ,  5.176 ],\n",
              "       [15.36  , 14.76  ,  0.8861,  5.701 ,  3.393 ,  1.367 ,  5.132 ],\n",
              "       [15.78  , 14.91  ,  0.8923,  5.674 ,  3.434 ,  5.593 ,  5.136 ],\n",
              "       [14.46  , 14.35  ,  0.8818,  5.388 ,  3.377 ,  2.802 ,  5.044 ],\n",
              "       [11.23  , 12.63  ,  0.884 ,  4.902 ,  2.879 ,  2.269 ,  4.703 ],\n",
              "       [14.34  , 14.37  ,  0.8726,  5.63  ,  3.19  ,  1.313 ,  5.15  ],\n",
              "       [16.84  , 15.67  ,  0.8623,  5.998 ,  3.484 ,  4.675 ,  5.877 ],\n",
              "       [17.32  , 15.91  ,  0.8599,  6.064 ,  3.403 ,  3.824 ,  5.922 ],\n",
              "       [18.72  , 16.19  ,  0.8977,  6.006 ,  3.857 ,  5.324 ,  5.879 ],\n",
              "       [18.88  , 16.26  ,  0.8969,  6.084 ,  3.764 ,  1.649 ,  6.109 ],\n",
              "       [18.76  , 16.2   ,  0.8984,  6.172 ,  3.796 ,  3.12  ,  6.053 ],\n",
              "       [19.31  , 16.59  ,  0.8815,  6.341 ,  3.81  ,  3.477 ,  6.238 ],\n",
              "       [17.99  , 15.86  ,  0.8992,  5.89  ,  3.694 ,  2.068 ,  5.837 ],\n",
              "       [18.85  , 16.17  ,  0.9056,  6.152 ,  3.806 ,  2.843 ,  6.2   ],\n",
              "       [19.38  , 16.72  ,  0.8716,  6.303 ,  3.791 ,  3.678 ,  5.965 ],\n",
              "       [18.96  , 16.2   ,  0.9077,  6.051 ,  3.897 ,  4.334 ,  5.75  ],\n",
              "       [18.14  , 16.12  ,  0.8772,  6.059 ,  3.563 ,  3.619 ,  6.011 ],\n",
              "       [18.65  , 16.41  ,  0.8698,  6.285 ,  3.594 ,  4.391 ,  6.102 ],\n",
              "       [18.94  , 16.32  ,  0.8942,  6.144 ,  3.825 ,  2.908 ,  5.949 ],\n",
              "       [17.36  , 15.76  ,  0.8785,  6.145 ,  3.574 ,  3.526 ,  5.971 ],\n",
              "       [13.32  , 13.94  ,  0.8613,  5.541 ,  3.073 ,  7.035 ,  5.44  ],\n",
              "       [11.43  , 13.13  ,  0.8335,  5.176 ,  2.719 ,  2.221 ,  5.132 ],\n",
              "       [12.01  , 13.52  ,  0.8249,  5.405 ,  2.776 ,  6.992 ,  5.27  ],\n",
              "       [11.34  , 12.87  ,  0.8596,  5.053 ,  2.849 ,  3.347 ,  5.003 ],\n",
              "       [12.02  , 13.33  ,  0.8503,  5.35  ,  2.81  ,  4.271 ,  5.308 ],\n",
              "       [12.44  , 13.59  ,  0.8462,  5.319 ,  2.897 ,  4.924 ,  5.27  ],\n",
              "       [11.55  , 13.1   ,  0.8455,  5.167 ,  2.845 ,  6.715 ,  4.956 ],\n",
              "       [11.26  , 13.01  ,  0.8355,  5.186 ,  2.71  ,  5.335 ,  5.092 ],\n",
              "       [12.46  , 13.41  ,  0.8706,  5.236 ,  3.017 ,  4.987 ,  5.147 ],\n",
              "       [11.81  , 13.45  ,  0.8198,  5.413 ,  2.716 ,  4.898 ,  5.352 ],\n",
              "       [11.27  , 12.86  ,  0.8563,  5.091 ,  2.804 ,  3.985 ,  5.001 ],\n",
              "       [12.79  , 13.53  ,  0.8786,  5.224 ,  3.054 ,  5.483 ,  4.958 ],\n",
              "       [12.67  , 13.32  ,  0.8977,  4.984 ,  3.135 ,  2.3   ,  4.745 ],\n",
              "       [11.23  , 12.88  ,  0.8511,  5.14  ,  2.795 ,  4.325 ,  5.003 ]])"
            ]
          },
          "metadata": {},
          "execution_count": 137
        }
      ]
    },
    {
      "cell_type": "code",
      "source": [
        "# Importing Modules\n",
        "from sklearn.manifold import TSNE\n",
        "import matplotlib.pyplot as plt\n",
        "\n",
        "# Defining Model\n",
        "model = TSNE(n_components=2,learning_rate=100, init='pca')\n",
        "\n",
        "# Fitting Model\n",
        "transformed = model.fit_transform(samples)\n",
        "\n",
        "# Plotting 2d t-Sne\n",
        "x_axis = transformed[:, 0]\n",
        "y_axis = transformed[:, 1]\n",
        "\n",
        "plt.scatter(x_axis, y_axis, c = types)\n",
        "plt.show()"
      ],
      "metadata": {
        "colab": {
          "base_uri": "https://localhost:8080/",
          "height": 320
        },
        "id": "_2Oh7_nr4ajb",
        "outputId": "442624e4-559a-460b-ace6-499d2179729e"
      },
      "execution_count": 143,
      "outputs": [
        {
          "output_type": "stream",
          "name": "stderr",
          "text": [
            "/usr/local/lib/python3.7/dist-packages/sklearn/manifold/_t_sne.py:986: FutureWarning: The PCA initialization in TSNE will change to have the standard deviation of PC1 equal to 1e-4 in 1.2. This will ensure better convergence.\n",
            "  FutureWarning,\n"
          ]
        },
        {
          "output_type": "display_data",
          "data": {
            "text/plain": [
              "<Figure size 432x288 with 1 Axes>"
            ],
            "image/png": "[encoded data removed]"
          },
          "metadata": {
            "needs_background": "light"
          }
        }
      ]
    },
    {
      "cell_type": "code",
      "source": [
        "# Importing Modules\n",
        "from sklearn import datasets\n",
        "from sklearn.manifold import TSNE\n",
        "import matplotlib.pyplot as plt\n",
        "\n",
        "# Loading dataset\n",
        "iris_df = datasets.load_iris()\n",
        "\n",
        "# Defining Model\n",
        "model = TSNE(learning_rate=100, init = 'random')\n",
        "\n",
        "# Fitting Model\n",
        "transformed = model.fit_transform(iris_df.data)\n",
        "\n",
        "# Plotting 2d t-Sne\n",
        "x_axis = transformed[:, 0]\n",
        "y_axis = transformed[:, 1]\n",
        "\n",
        "plt.scatter(x_axis, y_axis, c=iris_df.target)\n",
        "plt.show()"
      ],
      "metadata": {
        "colab": {
          "base_uri": "https://localhost:8080/",
          "height": 265
        },
        "id": "S5BWdoYD42tZ",
        "outputId": "adeaabcc-1c69-4af8-fa43-5cc9310a5f25"
      },
      "execution_count": 139,
      "outputs": [
        {
          "output_type": "display_data",
          "data": {
            "text/plain": [
              "<Figure size 432x288 with 1 Axes>"
            ],
            "image/png": "[encoded data removed]"
          },
          "metadata": {
            "needs_background": "light"
          }
        }
      ]
    },
    {
      "cell_type": "markdown",
      "source": [
        "## 实战检验"
      ],
      "metadata": {
        "id": "QRFC7UGnxkKb"
      }
    },
    {
      "cell_type": "code",
      "source": [
        "import os\n",
        "os.chdir(\"/content/drive/MyDrive/dataset/MathModel/PCA\")\n",
        "!ls"
      ],
      "metadata": {
        "colab": {
          "base_uri": "https://localhost:8080/"
        },
        "id": "kbfQfnFzwV16",
        "outputId": "fc617e50-3baa-4a78-87fe-a13c4e79c1f0"
      },
      "execution_count": 29,
      "outputs": [
        {
          "output_type": "stream",
          "name": "stdout",
          "text": [
            "data12_1.txt  data12_2.txt  data12_3.xlsx  data12_5_1.txt  data12_5_2.xlsx\n"
          ]
        }
      ]
    },
    {
      "cell_type": "code",
      "source": [
        "import numpy as np\n",
        "import pandas as pd\n",
        "from sklearn.decomposition import PCA\n",
        "from scipy.stats import zscore"
      ],
      "metadata": {
        "id": "KJAHDO1kYQVL"
      },
      "execution_count": 30,
      "outputs": []
    },
    {
      "cell_type": "code",
      "source": [
        "data = np.loadtxt('data12_1.txt') # 纯数据文件，可以采用np.loadtxt\n",
        "print(data)"
      ],
      "metadata": {
        "colab": {
          "base_uri": "https://localhost:8080/"
        },
        "id": "Ry-Dxz9twQ_l",
        "outputId": "69509104-843f-473b-9790-22e5cfeae966"
      },
      "execution_count": 31,
      "outputs": [
        {
          "output_type": "stream",
          "name": "stdout",
          "text": [
            "[[2297.86  589.62  474.74  164.19  290.91  626.21  295.2   199.03]\n",
            " [2262.19  571.69  461.25  185.9   337.83  604.78  354.66  198.96]\n",
            " [2303.29  589.99  516.21  236.55  403.92  730.05  438.41  225.8 ]\n",
            " [2308.7   551.14  476.45  293.23  406.44  785.74  494.04  254.1 ]\n",
            " [2337.65  589.28  509.82  334.05  442.5   850.15  563.72  246.51]\n",
            " [2418.96  618.6   454.2   429.6   615.   1065.12  594.48  164.28]\n",
            " [2702.34  735.01  475.36  459.69  790.26 1025.99  741.6   187.81]\n",
            " [3015.32  779.68  474.15  537.95  865.45 1200.52  903.22  196.77]\n",
            " [3135.65  849.53  583.5   629.32  929.92 1391.11  882.41  221.85]\n",
            " [3415.92 1038.98  615.74  705.72  976.02 1449.49  954.56  242.26]]\n"
          ]
        }
      ]
    },
    {
      "cell_type": "code",
      "source": [
        "data = pd.read_csv('data12_1.txt',sep='\\t', header=None) # 也可以用pandas来读txt"
      ],
      "metadata": {
        "id": "2XFKEikBwn5W"
      },
      "execution_count": 32,
      "outputs": []
    },
    {
      "cell_type": "code",
      "source": [
        "data"
      ],
      "metadata": {
        "colab": {
          "base_uri": "https://localhost:8080/",
          "height": 363
        },
        "id": "vbi2UDCGw1Ls",
        "outputId": "b015dbc7-d059-4da0-c9b0-32e8b291f7d5"
      },
      "execution_count": 33,
      "outputs": [
        {
          "output_type": "execute_result",
          "data": {
            "text/plain": [
              "         0        1       2       3       4        5       6       7\n",
              "0  2297.86   589.62  474.74  164.19  290.91   626.21  295.20  199.03\n",
              "1  2262.19   571.69  461.25  185.90  337.83   604.78  354.66  198.96\n",
              "2  2303.29   589.99  516.21  236.55  403.92   730.05  438.41  225.80\n",
              "3  2308.70   551.14  476.45  293.23  406.44   785.74  494.04  254.10\n",
              "4  2337.65   589.28  509.82  334.05  442.50   850.15  563.72  246.51\n",
              "5  2418.96   618.60  454.20  429.60  615.00  1065.12  594.48  164.28\n",
              "6  2702.34   735.01  475.36  459.69  790.26  1025.99  741.60  187.81\n",
              "7  3015.32   779.68  474.15  537.95  865.45  1200.52  903.22  196.77\n",
              "8  3135.65   849.53  583.50  629.32  929.92  1391.11  882.41  221.85\n",
              "9  3415.92  1038.98  615.74  705.72  976.02  1449.49  954.56  242.26"
            ],
            "text/html": [
              "\n",
              "  <div id=\"df-fa8cf1b7-95ea-4595-845e-09e82a39ed1e\">\n",
              "    <div class=\"colab-df-container\">\n",
              "      <div>\n",
              "<style scoped>\n",
              "    .dataframe tbody tr th:only-of-type {\n",
              "        vertical-align: middle;\n",
              "    }\n",
              "\n",
              "    .dataframe tbody tr th {\n",
              "        vertical-align: top;\n",
              "    }\n",
              "\n",
              "    .dataframe thead th {\n",
              "        text-align: right;\n",
              "    }\n",
              "</style>\n",
              "<table border=\"1\" class=\"dataframe\">\n",
              "  <thead>\n",
              "    <tr style=\"text-align: right;\">\n",
              "      <th></th>\n",
              "      <th>0</th>\n",
              "      <th>1</th>\n",
              "      <th>2</th>\n",
              "      <th>3</th>\n",
              "      <th>4</th>\n",
              "      <th>5</th>\n",
              "      <th>6</th>\n",
              "      <th>7</th>\n",
              "    </tr>\n",
              "  </thead>\n",
              "  <tbody>\n",
              "    <tr>\n",
              "      <th>0</th>\n",
              "      <td>2297.86</td>\n",
              "      <td>589.62</td>\n",
              "      <td>474.74</td>\n",
              "      <td>164.19</td>\n",
              "      <td>290.91</td>\n",
              "      <td>626.21</td>\n",
              "      <td>295.20</td>\n",
              "      <td>199.03</td>\n",
              "    </tr>\n",
              "    <tr>\n",
              "      <th>1</th>\n",
              "      <td>2262.19</td>\n",
              "      <td>571.69</td>\n",
              "      <td>461.25</td>\n",
              "      <td>185.90</td>\n",
              "      <td>337.83</td>\n",
              "      <td>604.78</td>\n",
              "      <td>354.66</td>\n",
              "      <td>198.96</td>\n",
              "    </tr>\n",
              "    <tr>\n",
              "      <th>2</th>\n",
              "      <td>2303.29</td>\n",
              "      <td>589.99</td>\n",
              "      <td>516.21</td>\n",
              "      <td>236.55</td>\n",
              "      <td>403.92</td>\n",
              "      <td>730.05</td>\n",
              "      <td>438.41</td>\n",
              "      <td>225.80</td>\n",
              "    </tr>\n",
              "    <tr>\n",
              "      <th>3</th>\n",
              "      <td>2308.70</td>\n",
              "      <td>551.14</td>\n",
              "      <td>476.45</td>\n",
              "      <td>293.23</td>\n",
              "      <td>406.44</td>\n",
              "      <td>785.74</td>\n",
              "      <td>494.04</td>\n",
              "      <td>254.10</td>\n",
              "    </tr>\n",
              "    <tr>\n",
              "      <th>4</th>\n",
              "      <td>2337.65</td>\n",
              "      <td>589.28</td>\n",
              "      <td>509.82</td>\n",
              "      <td>334.05</td>\n",
              "      <td>442.50</td>\n",
              "      <td>850.15</td>\n",
              "      <td>563.72</td>\n",
              "      <td>246.51</td>\n",
              "    </tr>\n",
              "    <tr>\n",
              "      <th>5</th>\n",
              "      <td>2418.96</td>\n",
              "      <td>618.60</td>\n",
              "      <td>454.20</td>\n",
              "      <td>429.60</td>\n",
              "      <td>615.00</td>\n",
              "      <td>1065.12</td>\n",
              "      <td>594.48</td>\n",
              "      <td>164.28</td>\n",
              "    </tr>\n",
              "    <tr>\n",
              "      <th>6</th>\n",
              "      <td>2702.34</td>\n",
              "      <td>735.01</td>\n",
              "      <td>475.36</td>\n",
              "      <td>459.69</td>\n",
              "      <td>790.26</td>\n",
              "      <td>1025.99</td>\n",
              "      <td>741.60</td>\n",
              "      <td>187.81</td>\n",
              "    </tr>\n",
              "    <tr>\n",
              "      <th>7</th>\n",
              "      <td>3015.32</td>\n",
              "      <td>779.68</td>\n",
              "      <td>474.15</td>\n",
              "      <td>537.95</td>\n",
              "      <td>865.45</td>\n",
              "      <td>1200.52</td>\n",
              "      <td>903.22</td>\n",
              "      <td>196.77</td>\n",
              "    </tr>\n",
              "    <tr>\n",
              "      <th>8</th>\n",
              "      <td>3135.65</td>\n",
              "      <td>849.53</td>\n",
              "      <td>583.50</td>\n",
              "      <td>629.32</td>\n",
              "      <td>929.92</td>\n",
              "      <td>1391.11</td>\n",
              "      <td>882.41</td>\n",
              "      <td>221.85</td>\n",
              "    </tr>\n",
              "    <tr>\n",
              "      <th>9</th>\n",
              "      <td>3415.92</td>\n",
              "      <td>1038.98</td>\n",
              "      <td>615.74</td>\n",
              "      <td>705.72</td>\n",
              "      <td>976.02</td>\n",
              "      <td>1449.49</td>\n",
              "      <td>954.56</td>\n",
              "      <td>242.26</td>\n",
              "    </tr>\n",
              "  </tbody>\n",
              "</table>\n",
              "</div>\n",
              "      <button class=\"colab-df-convert\" onclick=\"convertToInteractive('df-fa8cf1b7-95ea-4595-845e-09e82a39ed1e')\"\n",
              "              title=\"Convert this dataframe to an interactive table.\"\n",
              "              style=\"display:none;\">\n",
              "        \n",
              "  <svg xmlns=\"http://www.w3.org/2000/svg\" height=\"24px\"viewBox=\"0 0 24 24\"\n",
              "       width=\"24px\">\n",
              "    <path d=\"M0 0h24v24H0V0z\" fill=\"none\"/>\n",
              "    <path d=\"M18.56 5.44l.94 2.06.94-2.06 2.06-.94-2.06-.94-.94-2.06-.94 2.06-2.06.94zm-11 1L8.5 8.5l.94-2.06 2.06-.94-2.06-.94L8.5 2.5l-.94 2.06-2.06.94zm10 10l.94 2.06.94-2.06 2.06-.94-2.06-.94-.94-2.06-.94 2.06-2.06.94z\"/><path d=\"M17.41 7.96l-1.37-1.37c-.4-.4-.92-.59-1.43-.59-.52 0-1.04.2-1.43.59L10.3 9.45l-7.72 7.72c-.78.78-.78 2.05 0 2.83L4 21.41c.39.39.9.59 1.41.59.51 0 1.02-.2 1.41-.59l7.78-7.78 2.81-2.81c.8-.78.8-2.07 0-2.86zM5.41 20L4 18.59l7.72-7.72 1.47 1.35L5.41 20z\"/>\n",
              "  </svg>\n",
              "      </button>\n",
              "      \n",
              "  <style>\n",
              "    .colab-df-container {\n",
              "      display:flex;\n",
              "      flex-wrap:wrap;\n",
              "      gap: 12px;\n",
              "    }\n",
              "\n",
              "    .colab-df-convert {\n",
              "      background-color: #E8F0FE;\n",
              "      border: none;\n",
              "      border-radius: 50%;\n",
              "      cursor: pointer;\n",
              "      display: none;\n",
              "      fill: #1967D2;\n",
              "      height: 32px;\n",
              "      padding: 0 0 0 0;\n",
              "      width: 32px;\n",
              "    }\n",
              "\n",
              "    .colab-df-convert:hover {\n",
              "      background-color: #E2EBFA;\n",
              "      box-shadow: 0px 1px 2px rgba(60, 64, 67, 0.3), 0px 1px 3px 1px rgba(60, 64, 67, 0.15);\n",
              "      fill: #174EA6;\n",
              "    }\n",
              "\n",
              "    [theme=dark] .colab-df-convert {\n",
              "      background-color: #3B4455;\n",
              "      fill: #D2E3FC;\n",
              "    }\n",
              "\n",
              "    [theme=dark] .colab-df-convert:hover {\n",
              "      background-color: #434B5C;\n",
              "      box-shadow: 0px 1px 3px 1px rgba(0, 0, 0, 0.15);\n",
              "      filter: drop-shadow(0px 1px 2px rgba(0, 0, 0, 0.3));\n",
              "      fill: #FFFFFF;\n",
              "    }\n",
              "  </style>\n",
              "\n",
              "      <script>\n",
              "        const buttonEl =\n",
              "          document.querySelector('#df-fa8cf1b7-95ea-4595-845e-09e82a39ed1e button.colab-df-convert');\n",
              "        buttonEl.style.display =\n",
              "          google.colab.kernel.accessAllowed ? 'block' : 'none';\n",
              "\n",
              "        async function convertToInteractive(key) {\n",
              "          const element = document.querySelector('#df-fa8cf1b7-95ea-4595-845e-09e82a39ed1e');\n",
              "          const dataTable =\n",
              "            await google.colab.kernel.invokeFunction('convertToInteractive',\n",
              "                                                     [key], {});\n",
              "          if (!dataTable) return;\n",
              "\n",
              "          const docLinkHtml = 'Like what you see? Visit the ' +\n",
              "            '<a target=\"_blank\" href=https://colab.research.google.com/notebooks/data_table.ipynb>data table notebook</a>'\n",
              "            + ' to learn more about interactive tables.';\n",
              "          element.innerHTML = '';\n",
              "          dataTable['output_type'] = 'display_data';\n",
              "          await google.colab.output.renderOutput(dataTable, element);\n",
              "          const docLink = document.createElement('div');\n",
              "          docLink.innerHTML = docLinkHtml;\n",
              "          element.appendChild(docLink);\n",
              "        }\n",
              "      </script>\n",
              "    </div>\n",
              "  </div>\n",
              "  "
            ]
          },
          "metadata": {},
          "execution_count": 33
        }
      ]
    },
    {
      "cell_type": "code",
      "source": [
        "data = data.values\n",
        "print(data)"
      ],
      "metadata": {
        "colab": {
          "base_uri": "https://localhost:8080/"
        },
        "id": "Na2Jdu3Sw1xs",
        "outputId": "5cedcf24-e453-4079-e41a-8eaca625a240"
      },
      "execution_count": 34,
      "outputs": [
        {
          "output_type": "stream",
          "name": "stdout",
          "text": [
            "[[2297.86  589.62  474.74  164.19  290.91  626.21  295.2   199.03]\n",
            " [2262.19  571.69  461.25  185.9   337.83  604.78  354.66  198.96]\n",
            " [2303.29  589.99  516.21  236.55  403.92  730.05  438.41  225.8 ]\n",
            " [2308.7   551.14  476.45  293.23  406.44  785.74  494.04  254.1 ]\n",
            " [2337.65  589.28  509.82  334.05  442.5   850.15  563.72  246.51]\n",
            " [2418.96  618.6   454.2   429.6   615.   1065.12  594.48  164.28]\n",
            " [2702.34  735.01  475.36  459.69  790.26 1025.99  741.6   187.81]\n",
            " [3015.32  779.68  474.15  537.95  865.45 1200.52  903.22  196.77]\n",
            " [3135.65  849.53  583.5   629.32  929.92 1391.11  882.41  221.85]\n",
            " [3415.92 1038.98  615.74  705.72  976.02 1449.49  954.56  242.26]]\n"
          ]
        }
      ]
    },
    {
      "cell_type": "code",
      "source": [
        "norm = zscore(data, ddof=1) # 数据标准化\n",
        "print(norm)"
      ],
      "metadata": {
        "colab": {
          "base_uri": "https://localhost:8080/"
        },
        "id": "aoTqNutTxK6Y",
        "outputId": "3e360760-aae6-40b2-a6e8-4ea241776425"
      },
      "execution_count": 35,
      "outputs": [
        {
          "output_type": "stream",
          "name": "stdout",
          "text": [
            "[[-0.76076777 -0.64214522 -0.54059347 -1.25096611 -1.19811321 -1.14171193\n",
            "  -1.38154326 -0.507142  ]\n",
            " [-0.84506173 -0.75532164 -0.78862442 -1.13462085 -1.01960322 -1.21228148\n",
            "  -1.13035357 -0.50955582]\n",
            " [-0.7479358  -0.63980973  0.22188565 -0.8631843  -0.76815981 -0.79976409\n",
            "  -0.77655041  0.41596886]\n",
            " [-0.7351511  -0.88503583 -0.50915293 -0.5594326  -0.75857232 -0.61637547\n",
            "  -0.54154062  1.39183877]\n",
            " [-0.66673758 -0.64429134  0.10439731 -0.34067564 -0.62137986 -0.40427165\n",
            "  -0.24717639  1.13011253]\n",
            " [-0.47458894 -0.4592198  -0.91824771  0.17138284  0.03490684  0.30363019\n",
            "  -0.1172303  -1.70542749]\n",
            " [ 0.19508369  0.2755748  -0.52919398  0.33263705  0.70169414  0.17477407\n",
            "   0.5042804  -0.89404166]\n",
            " [ 0.93470589  0.55753748 -0.55144138  0.75203733  0.98775905  0.74950593\n",
            "   1.18704657 -0.58507366]\n",
            " [ 1.21906508  0.99843949  1.45909859  1.24169493  1.23303908  1.37712379\n",
            "   1.09913441  0.27976087]\n",
            " [ 1.88138828  2.1942718   2.05187233  1.65112735  1.40842932  1.56937065\n",
            "   1.40393319  0.98355962]]\n"
          ]
        }
      ]
    },
    {
      "cell_type": "code",
      "source": [
        "pca = PCA(n_components=2)\n",
        "pca_result = pca.fit_transform(norm)\n",
        "%matplotlib inline\n",
        "import matplotlib.pyplot as plt\n",
        "plt.title('PCA Components')\n",
        "plt.scatter(pca_result[:,0], pca_result[:,1])"
      ],
      "metadata": {
        "colab": {
          "base_uri": "https://localhost:8080/",
          "height": 298
        },
        "id": "eQGk73E9rPCX",
        "outputId": "3998c126-059c-40f7-a9e7-a8bcdde664eb"
      },
      "execution_count": 144,
      "outputs": [
        {
          "output_type": "execute_result",
          "data": {
            "text/plain": [
              "<matplotlib.collections.PathCollection at 0x7fa54d1ddf50>"
            ]
          },
          "metadata": {},
          "execution_count": 144
        },
        {
          "output_type": "display_data",
          "data": {
            "text/plain": [
              "<Figure size 432x288 with 1 Axes>"
            ],
            "image/png": "[encoded data removed]"
          },
          "metadata": {
            "needs_background": "light"
          }
        }
      ]
    },
    {
      "cell_type": "code",
      "source": [
        "model = PCA().fit(norm) # 构造并拟合模型\n",
        "print('特征值是：\\n', model.explained_variance_)\n",
        "print('各主成分贡献率：\\n', model.explained_variance_ratio_)"
      ],
      "metadata": {
        "colab": {
          "base_uri": "https://localhost:8080/"
        },
        "id": "ZqQri8B6xc1h",
        "outputId": "a0ac1e26-e73d-4a0f-fe9b-4b660b8d92d7"
      },
      "execution_count": 37,
      "outputs": [
        {
          "output_type": "stream",
          "name": "stdout",
          "text": [
            "特征值是：\n",
            " [6.27943341e+00 1.30599080e+00 2.74277611e-01 9.97624700e-02\n",
            " 2.31016993e-02 1.22233669e-02 4.69357480e-03 5.17066158e-04]\n",
            "各主成分贡献率：\n",
            " [7.84929176e-01 1.63248850e-01 3.42847014e-02 1.24703088e-02\n",
            " 2.88771241e-03 1.52792086e-03 5.86696851e-04 6.46332697e-05]\n"
          ]
        }
      ]
    },
    {
      "cell_type": "code",
      "source": [
        "xs1 = model.components_\n",
        "print('各主成分系数：\\n',xs1) # 就是协方差矩阵特征向量矩阵"
      ],
      "metadata": {
        "colab": {
          "base_uri": "https://localhost:8080/"
        },
        "id": "OoAd3gr5ySVz",
        "outputId": "f6cf73ce-cbbb-4d77-aefa-8639cbe36030"
      },
      "execution_count": 38,
      "outputs": [
        {
          "output_type": "stream",
          "name": "stdout",
          "text": [
            "各主成分系数：\n",
            " [[ 0.39186166  0.38439344  0.3059243   0.39231584  0.38537825  0.38961322\n",
            "   0.38389911  0.05908768]\n",
            " [ 0.0210478  -0.02214509 -0.47783697  0.08905605  0.19878256  0.1043221\n",
            "   0.11376475 -0.83634169]\n",
            " [-0.14762176 -0.39254883 -0.57745685  0.20021017  0.15914777  0.1347164\n",
            "   0.4303164   0.47108809]\n",
            " [-0.47832186 -0.48941314  0.44488132  0.27708115 -0.02393188  0.46564673\n",
            "  -0.07989617 -0.18222681]\n",
            " [-0.09762149 -0.27604773  0.34873203 -0.35508891  0.52307577 -0.45643408\n",
            "   0.4158212  -0.10824944]\n",
            " [-0.70552867  0.53549607 -0.049896    0.32914209  0.14716623 -0.28505603\n",
            "   0.02367193  0.03426265]\n",
            " [-0.08102349  0.10492282  0.11905975 -0.07206231 -0.68369188 -0.02060535\n",
            "   0.68706375 -0.15212634]\n",
            " [ 0.28557308 -0.29011082  0.09180137  0.6940343  -0.15286467 -0.55886444\n",
            "  -0.05098258 -0.07665729]]\n"
          ]
        }
      ]
    },
    {
      "cell_type": "code",
      "source": [
        "check = xs1.sum(axis = 1, keepdims=True) # 计算各个主成分系数和\n",
        "xs2 = xs1*np.sign(check) # 和为负数的话就乘以-1\n",
        "print('调整后的主成分系数：\\n',xs2)"
      ],
      "metadata": {
        "colab": {
          "base_uri": "https://localhost:8080/"
        },
        "id": "jV6Mzy1Syy2L",
        "outputId": "53f6753b-7e93-4b10-808e-e96d6ad15330"
      },
      "execution_count": 39,
      "outputs": [
        {
          "output_type": "stream",
          "name": "stdout",
          "text": [
            "调整后的主成分系数：\n",
            " [[ 0.39186166  0.38439344  0.3059243   0.39231584  0.38537825  0.38961322\n",
            "   0.38389911  0.05908768]\n",
            " [-0.0210478   0.02214509  0.47783697 -0.08905605 -0.19878256 -0.1043221\n",
            "  -0.11376475  0.83634169]\n",
            " [-0.14762176 -0.39254883 -0.57745685  0.20021017  0.15914777  0.1347164\n",
            "   0.4303164   0.47108809]\n",
            " [ 0.47832186  0.48941314 -0.44488132 -0.27708115  0.02393188 -0.46564673\n",
            "   0.07989617  0.18222681]\n",
            " [ 0.09762149  0.27604773 -0.34873203  0.35508891 -0.52307577  0.45643408\n",
            "  -0.4158212   0.10824944]\n",
            " [-0.70552867  0.53549607 -0.049896    0.32914209  0.14716623 -0.28505603\n",
            "   0.02367193  0.03426265]\n",
            " [ 0.08102349 -0.10492282 -0.11905975  0.07206231  0.68369188  0.02060535\n",
            "  -0.68706375  0.15212634]\n",
            " [-0.28557308  0.29011082 -0.09180137 -0.6940343   0.15286467  0.55886444\n",
            "   0.05098258  0.07665729]]\n"
          ]
        }
      ]
    },
    {
      "cell_type": "code",
      "source": [
        "model = KMeans(n_clusters=3)\n",
        "# fit the model\n",
        "model.fit(pca_result)\n",
        "# assign a cluster to each example\n",
        "yhat = model.predict(pca_result)\n",
        "# retrieve unique clusters\n",
        "clusters = unique(yhat)\n",
        "# create scatter plot for samples from each cluster\n",
        "for cluster in clusters:\n",
        "\t# get row indexes for samples with this cluster\n",
        "\trow_ix = where(yhat == cluster)\n",
        "\t# create scatter of these samples\n",
        "\tpyplot.scatter(pca_result[row_ix, 0], pca_result[row_ix, 1])\n",
        "# show the plot\n",
        "pyplot.show()"
      ],
      "metadata": {
        "colab": {
          "base_uri": "https://localhost:8080/",
          "height": 265
        },
        "id": "OnIdZqop00ov",
        "outputId": "1dd9f59e-06cf-487e-e189-bce6b19dfa10"
      },
      "execution_count": 41,
      "outputs": [
        {
          "output_type": "display_data",
          "data": {
            "text/plain": [
              "<Figure size 432x288 with 1 Axes>"
            ],
            "image/png": "[encoded data removed]"
          },
          "metadata": {
            "needs_background": "light"
          }
        }
      ]
    }
  ]
}