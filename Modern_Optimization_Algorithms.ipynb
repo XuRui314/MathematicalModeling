{
  "nbformat": 4,
  "nbformat_minor": 0,
  "metadata": {
    "colab": {
      "name": "Modern Optimization Algorithms.ipynb",
      "provenance": [],
      "collapsed_sections": [],
      "authorship_tag": "ABX9TyM6D0aw1UUUyfpCLKBz11bN",
      "include_colab_link": true
    },
    "kernelspec": {
      "name": "python3",
      "display_name": "Python 3"
    },
    "language_info": {
      "name": "python"
    }
  },
  "cells": [
    {
      "cell_type": "markdown",
      "metadata": {
        "id": "view-in-github",
        "colab_type": "text"
      },
      "source": [
        "<a href=\"https://colab.research.google.com/github/XuRui314/MathematicalModeling/blob/main/Modern_Optimization_Algorithms.ipynb\" target=\"_parent\"><img src=\"https://colab.research.google.com/assets/colab-badge.svg\" alt=\"Open In Colab\"/></a>"
      ]
    },
    {
      "cell_type": "markdown",
      "source": [
        "# 现代优化算法"
      ],
      "metadata": {
        "id": "R9rnCMtXqXP9"
      }
    },
    {
      "cell_type": "markdown",
      "source": [
        "这部分主要就是介绍主流的智能算法，也就是随机搜索算法，是gradient-free的，这种算法的介绍以及和梯度下降的区别可以看这里：\n",
        "- https://www.zhihu.com/question/38902378/answer/1761994807\n",
        "- https://www.zhihu.com/question/38902378/answer/318206733\n",
        "\n"
      ],
      "metadata": {
        "id": "8GfiwoI50fFC"
      }
    },
    {
      "cell_type": "markdown",
      "source": [
        "所有的群体算法归根究柢就是两个模块：**强化搜索模块**（intensification）和**扩散模块**（diversification）。无论你怎么设计，这要针对这两个点就可以了。如果是做离散优化，只需要了解基础的Genetic和Memetic就可以了。启发式算法的水很深，想做的好非常难。更多的精力需要放在：如何更有效率的进行intensification搜索（local search等），利用一些特殊的数据结构来降低评估复杂度；如何设计有效的交叉算符crossover，既保留父代优质解的优秀属性，同样进行有方向性的发散；如何设计高效的种群管理机制，在保证整个种群高质量的同时，兼顾种群熵 (Entropy)，保护多样性。\n",
        "总结就是如何保证搜索的多样性和搜索的有效性，毕竟是利用采样的点，通过设计的定性规则来朝着最优解靠近。"
      ],
      "metadata": {
        "id": "5fJ0VEGRSpdg"
      }
    },
    {
      "cell_type": "markdown",
      "source": [
        "学习这些算法可以看这系列的文章：[智能算法](https://mp.weixin.qq.com/mp/appmsgalbum?__biz=MzI4ODgwMjYyNQ==&action=getalbum&album_id=2151757310631739396#wechat_redirect)\n",
        "\n",
        "实际使用的时候肯定还是调库，这里选择的是`scikit-opt`这个开源库，可以参考官方文档以及下面的资料：\n",
        "https://blog.51cto.com/u_15326986/5293868"
      ],
      "metadata": {
        "id": "RYrS65FVQ7xT"
      }
    },
    {
      "cell_type": "code",
      "source": [
        "pip install scikit-opt"
      ],
      "metadata": {
        "colab": {
          "base_uri": "https://localhost:8080/"
        },
        "id": "zG9N-a1-Xz3J",
        "outputId": "0d665dce-57f8-4223-af0a-e5c22e98b4b8"
      },
      "execution_count": 2,
      "outputs": [
        {
          "output_type": "stream",
          "name": "stdout",
          "text": [
            "Looking in indexes: https://pypi.org/simple, https://us-python.pkg.dev/colab-wheels/public/simple/\n",
            "Collecting scikit-opt\n",
            "  Downloading scikit_opt-0.6.6-py3-none-any.whl (35 kB)\n",
            "Requirement already satisfied: scipy in /usr/local/lib/python3.7/dist-packages (from scikit-opt) (1.7.3)\n",
            "Requirement already satisfied: numpy in /usr/local/lib/python3.7/dist-packages (from scikit-opt) (1.21.6)\n",
            "Installing collected packages: scikit-opt\n",
            "Successfully installed scikit-opt-0.6.6\n"
          ]
        }
      ]
    },
    {
      "cell_type": "code",
      "execution_count": 49,
      "metadata": {
        "id": "AEPOUZ43Q94u"
      },
      "outputs": [],
      "source": [
        "import numpy as np\n",
        "from scipy import spatial\n",
        "import matplotlib.pyplot as plt\n",
        "\n",
        "num_points = 50\n",
        "\n",
        "points_coordinate = np.random.rand(num_points, 2)  # generate coordinate of points\n",
        "distance_matrix = spatial.distance.cdist(points_coordinate, points_coordinate, metric='euclidean')\n",
        "\n",
        "\n",
        "def cal_total_distance(routine):\n",
        "    '''The objective function. input routine, return total distance.\n",
        "    cal_total_distance(np.arange(num_points))\n",
        "    '''\n",
        "    num_points, = routine.shape\n",
        "    return sum([distance_matrix[routine[i % num_points], routine[(i + 1) % num_points]] for i in range(num_points)])"
      ]
    },
    {
      "cell_type": "markdown",
      "source": [
        "## 遗传算法"
      ],
      "metadata": {
        "id": "UWGHVoKczKGu"
      }
    },
    {
      "cell_type": "markdown",
      "source": [
        "Intuition：[here](https://www.bilibili.com/video/BV19U4y1G7dU?spm_id_from=333.337.search-card.all.click&vd_source=78821760a099022a284c04eeb639e1ae)\n",
        "\n",
        "![](https://img-blog.csdnimg.cn/2020110610522047.png#pic_center)"
      ],
      "metadata": {
        "id": "jplVfpkt31Ou"
      }
    },
    {
      "cell_type": "code",
      "source": [
        "import numpy as np\n",
        "\n",
        "def objective(x):\n",
        "    \"\"\"objective/fitness function\"\"\"\n",
        "    return x[0] ** 2.0 + x[1] ** 2.0 + x[0]*x[1] + x[1]**3\n",
        "\n",
        "\n",
        "class GA:\n",
        "    def __init__(self, bounds, n_bits, n_iter, n_pop, r_cross, r_mut):\n",
        "        \"\"\"\n",
        "        bounds:每个输入变量的边界；\n",
        "        n_bits:超参数，定义了单个候选解中的比特数;\n",
        "        n_iter：超参数，枚举固定数量的算法迭代；\n",
        "        n_pop：超参数，控制种群大小;\n",
        "        r_cross：超参数，交叉率，决定是否执行交叉，不执行则将父代复制到下一代；\n",
        "        r_mut：超参数，控制低概率反转位。\n",
        "        \"\"\"\n",
        "        self.bounds = bounds\n",
        "        self.n_bits = n_bits\n",
        "        self.n_pop = n_pop\n",
        "        self.n_iter = n_iter\n",
        "        self.r_cross = r_cross\n",
        "        self.r_mut = r_mut\n",
        "\n",
        "    def encode(self):\n",
        "        \"\"\"encode numbers to bitstring.\n",
        "        初始化：创建随机位串的总体。\n",
        "        可以使用布尔值 True 和 False，字符串值'0'和'1'，或整数值 0 和 1。\n",
        "        这里使用整数值。\n",
        "        \"\"\"\n",
        "        self.pop = [np.random.randint(0, 2, n_bits * len(bounds)).tolist() for _ in range(self.n_pop)]\n",
        "\n",
        "    def decode(self, bitstring):\n",
        "        \"\"\"decode bitstring to numbers\"\"\"\n",
        "        decoded = list()\n",
        "        # 在给定两个输入变量的情况下，实际的位字符串将有(16 * 2)= 32位\n",
        "        largest = len(self.bounds) ** n_bits\n",
        "        for i in range(len(self.bounds)):\n",
        "            start, end = i * n_bits, (i * n_bits) + n_bits  # 提取子串\n",
        "            substring = bitstring[start:end]\n",
        "            chars = ''.join([str(s) for s in substring])  # 生成二进制子串\n",
        "            integer = int(chars, 2)  # 二进制位串转整数\n",
        "            # 将整数缩放到所需的范围\n",
        "            value = self.bounds[i][0] + (integer / largest) * (self.bounds[i][1] - self.bounds[i][0])\n",
        "            decoded.append(value)\n",
        "        return decoded\n",
        "\n",
        "    def selection(self, fitness, k=2):\n",
        "        \"\"\"该函数获取种群并返回 1个选中的父母。\n",
        "        k值表示从群体中选的个体数，固定为 2，用于父母选择\"\"\"\n",
        "        selection_ix = np.random.randint(len(self.pop))\n",
        "        for ix in np.random.randint(0, len(self.pop), k):\n",
        "            if fitness[ix] < fitness[selection_ix]:\n",
        "                selection_ix = ix\n",
        "        return self.pop[selection_ix]\n",
        "\n",
        "    def crossover(self, p1, p2):\n",
        "        \"\"\"根据交叉率生成后代\"\"\"\n",
        "        # 将父代复制到下一代\n",
        "        c1, c2 = p1.copy(), p2.copy()\n",
        "        # 抽取[0,1]范围内的随机数来确定是否执行crossover\n",
        "        if np.random.rand() < self.r_cross:\n",
        "            # 选择一个有效的分割点\n",
        "            pt = np.random.randint(1, len(p1) - 2)\n",
        "            # 执行crossover\n",
        "            c1 = p1[:pt] + p2[pt:]\n",
        "            c2 = p2[:pt] + p1[pt:]\n",
        "        return [c1, c2]\n",
        "\n",
        "    def mutation(self, bitstring):\n",
        "        for i in range(len(bitstring)):\n",
        "            if np.random.rand() > self.r_mut:\n",
        "                bitstring[i] = 1 - bitstring[i]  # 翻转位\n",
        "\n",
        "    def run(self):\n",
        "        self.encode()\n",
        "        best, best_obj = 0, objective(self.decode(self.pop[0]))\n",
        "        for gen in range(self.n_iter):\n",
        "            # 种群解码\n",
        "            decoded = [self.decode(p) for p in self.pop]\n",
        "            # 评估所有候选解\n",
        "            fitness = [objective(d) for d in decoded]\n",
        "            for i in range(self.n_pop):\n",
        "                if fitness[i] < best_obj:\n",
        "                    best, best_obj = self.pop[i], fitness[i]\n",
        "            # 调用selection函数n_pop次，以创建父母列表\n",
        "            selected = [self.selection(fitness) for _ in range(n_pop)]\n",
        "            # 循环遍历父级列表，并创建一个用作下一代的子级列表，根据需要调用交叉和变异函数。\n",
        "            children = list()\n",
        "            for i in range(0, n_pop, 2):\n",
        "                # 选择成对的父母\n",
        "                p1, p2 = selected[i], selected[i + 1]\n",
        "                for c in self.crossover(p1, p2):\n",
        "                    self.mutation(c)\n",
        "                    children.append(c)\n",
        "            self.pop = children  # 替换种群\n",
        "        return [best, best_obj]\n",
        "\n",
        "        \n",
        "bounds = [[-5.0, 5.0], [-5.0, 5.0]]  # 输入范围\n",
        "n_iter = 100  # 总迭代数\n",
        "n_bits = 16  # 每个输入变量的比特数，并将其设置为16位\n",
        "n_pop = 100  # 群体大小\n",
        "r_cross = 0.9  # 交叉率\n",
        "r_mut = 1.0 / (float(n_bits) * len(bounds))  # 突变率\n",
        "ga = GA(bounds, n_bits, n_iter, n_pop, r_cross, r_mut)\n",
        "best, best_obj = ga.run()\n",
        "print('Done!')\n",
        "decoded = ga.decode(best)\n",
        "print('objective(%s) = %f' % (decoded, best_obj))"
      ],
      "metadata": {
        "colab": {
          "base_uri": "https://localhost:8080/"
        },
        "id": "_CTL59dQzL9J",
        "outputId": "9d950dbc-e137-4e93-fb00-45d97d02fc55"
      },
      "execution_count": 100,
      "outputs": [
        {
          "output_type": "stream",
          "name": "stdout",
          "text": [
            "Done!\n",
            "objective([2.524261474609375, -4.99725341796875]) = -106.064056\n"
          ]
        }
      ]
    },
    {
      "cell_type": "code",
      "source": [
        "def demo_func(x):\n",
        "    x1, x2, x3 = x\n",
        "    return x1 ** 2 + (x2 - 0.05) ** 2 + x3 ** 2\n",
        "\n",
        "from sko.GA import GA\n",
        "ga = GA(func=demo_func, n_dim=3, size_pop=70, max_iter=2000, prob_mut=0.7)\n",
        "best_points = ga.run()\n",
        "print(best_points)"
      ],
      "metadata": {
        "colab": {
          "base_uri": "https://localhost:8080/"
        },
        "id": "ZzWRmB6b6mfY",
        "outputId": "3804b2e0-6c12-4fa7-e0a2-9b61c4e1e78a"
      },
      "execution_count": 114,
      "outputs": [
        {
          "output_type": "stream",
          "name": "stdout",
          "text": [
            "(array([ 0.0150809 ,  0.04930619, -0.0146732 ]), array([0.00044322]))\n"
          ]
        }
      ]
    },
    {
      "cell_type": "code",
      "source": [
        "from sko.GA import GA_TSP\n",
        "\n",
        "ga_tsp = GA_TSP(func=cal_total_distance, n_dim=num_points, size_pop=50, max_iter=10000, prob_mut=1)\n",
        "best_points, best_distance = ga_tsp.run()\n"
      ],
      "metadata": {
        "id": "ye2o9yedXvtg"
      },
      "execution_count": 50,
      "outputs": []
    },
    {
      "cell_type": "code",
      "source": [
        "fig, ax = plt.subplots(1, 2)\n",
        "best_points_ = np.concatenate([best_points, [best_points[0]]])\n",
        "best_points_coordinate = points_coordinate[best_points_, :]\n",
        "ax[0].plot(best_points_coordinate[:, 0], best_points_coordinate[:, 1], 'o-r')\n",
        "ax[1].plot(ga_tsp.generation_best_Y)\n",
        "plt.show()"
      ],
      "metadata": {
        "colab": {
          "base_uri": "https://localhost:8080/",
          "height": 265
        },
        "id": "Kj2mTiFkYOl1",
        "outputId": "ad30042e-29ae-4d4b-e26b-b4df5d3b4d3d"
      },
      "execution_count": 51,
      "outputs": [
        {
          "output_type": "display_data",
          "data": {
            "text/plain": [
              "<Figure size 432x288 with 2 Axes>"
            ],
            "image/png": "[encoded data removed]"
          },
          "metadata": {
            "needs_background": "light"
          }
        }
      ]
    },
    {
      "cell_type": "markdown",
      "source": [
        "## 粒子群算法"
      ],
      "metadata": {
        "id": "25KfLuYKjT4k"
      }
    },
    {
      "cell_type": "code",
      "source": [
        "from __future__ import division\n",
        "from random import random, uniform\n",
        "import numpy as np\n",
        "import matplotlib.pyplot as plt\n",
        "from matplotlib.animation import FuncAnimation\n",
        "\n",
        "\n",
        "def objective(x):\n",
        "    \"\"\"function we are attempting to optimize\n",
        "    目标函数、损失函数、适应函数(fitness)\n",
        "    sphere函数\n",
        "    \"\"\"\n",
        "    return np.sum(np.square(x))\n",
        "\n",
        "\n",
        "class particle:\n",
        "    def __init__(self, x_init, dims, w=0.5, c1=1, c2=2):\n",
        "        \"\"\"\n",
        "        :param x_init:\n",
        "        :param dims:\n",
        "        :param w: constant inertia weight (how much to weigh the previous velocity)\n",
        "        :param c1: cognative constant\n",
        "        :param c2: social constant\n",
        "        \"\"\"\n",
        "        self.position_i = []  # particle position\n",
        "        self.velocity_i = []  # particle velocity\n",
        "        self.pos_best_i = []  # best position individual\n",
        "        self.err_best_i = -1  # best error individual\n",
        "        self.err_i = -1  # error individual,粒子当前的误差\n",
        "        self.dims = dims  # velocity dims\n",
        "        self.w = w\n",
        "        self.c1 = c1\n",
        "        self.c2 = c2\n",
        "\n",
        "        for i in range(0, dims):\n",
        "            self.velocity_i.append(uniform(-1, 1))  # 初始化速度\n",
        "            self.position_i.append(uniform(-x_init[0], x_init[0]))  # 初始化位置\n",
        "\n",
        "    def evaluate(self, cost_func):\n",
        "        \"\"\"evaluate current fitness\"\"\"\n",
        "        self.err_i = cost_func(self.position_i)\n",
        "        # check to see if the current position is an individual best\n",
        "        if self.err_i < self.err_best_i or self.err_best_i == -1:\n",
        "            self.pos_best_i = self.position_i.copy()\n",
        "            self.err_best_i = self.err_i\n",
        "\n",
        "    def update_velocity(self, pos_best_g):\n",
        "        \"\"\"update new particle velocity\"\"\"\n",
        "\n",
        "        for i in range(self.dims):\n",
        "            r1, r2 = random(), random()\n",
        "            vel_cognitive = self.c1 * r1 * (self.pos_best_i[i] - self.position_i[i])\n",
        "            vel_social = self.c2 * r2 * (pos_best_g[i] - self.position_i[i])\n",
        "            self.velocity_i[i] = self.w * self.velocity_i[i] + vel_cognitive + vel_social\n",
        "\n",
        "    def update_position(self, bounds):\n",
        "        \"\"\"update the particle position based off new velocity updates\"\"\"\n",
        "        for i in range(self.dims):\n",
        "            self.position_i[i] = self.position_i[i] + self.velocity_i[i]\n",
        "\n",
        "            # adjust maximum position if necessary\n",
        "            if self.position_i[i] > bounds[i][1]:\n",
        "                self.position_i[i] = bounds[i][1]\n",
        "\n",
        "            # adjust the minimum position if necessary\n",
        "            if self.position_i[i] < bounds[i][0]:\n",
        "                self.position_i[i] = bounds[i][0]\n",
        "\n",
        "\n",
        "def minimize(costFunc, x_init, bounds, num_particles, maxiter, verbose=False):\n",
        "    dims = len(x_init)\n",
        "    err_best_g = -1  # best error for group\n",
        "    pos_best_g = []  # best position for group\n",
        "\n",
        "    # establish the swarm\n",
        "    swarm = []\n",
        "    X,V = [],[]  \n",
        "    for i in range(num_particles):\n",
        "        swarm.append(particle(x_init, dims))\n",
        "        X.append(swarm[j].position_i)\n",
        "        V.append(swarm[j].velocity_i)\n",
        " \n",
        "    X, V= np.array(X).T, np.array(V).T\n",
        "    plot_contour(bounds, X, V)\n",
        "\n",
        "    # begin optimization loop\n",
        "    iter = 0\n",
        "    fitness_iter = []  # 记录不同迭代次数的种群最优适应度\n",
        "    while iter < maxiter:\n",
        "        if verbose:\n",
        "            print(f'iter:{iter:>4d},best solution:{err_best_g:10.6f}')\n",
        "\n",
        "        # cycle through particles in swarm and evaluate fitness\n",
        "        for j in range(num_particles):\n",
        "            swarm[j].evaluate(costFunc)\n",
        "\n",
        "            # determine if current particle is the best (globally)\n",
        "            if swarm[j].err_i < err_best_g or err_best_g == -1:\n",
        "                pos_best_g = list(swarm[j].position_i)\n",
        "                err_best_g = float(swarm[j].err_i)\n",
        "        # cycle through swarm and update velocities and position\n",
        "        for j in range(0, num_particles):\n",
        "            swarm[j].update_velocity(pos_best_g)\n",
        "            swarm[j].update_position(bounds)\n",
        "        iter += 1\n",
        "        fitness_iter.append(err_best_g)\n",
        "\n",
        "    # print final results\n",
        "    if verbose:\n",
        "        print('\\nFINAL SOLUTION:')\n",
        "        print(f'   > {pos_best_g}')\n",
        "        print(f'   > {err_best_g}\\n')\n",
        "\n",
        "    return err_best_g, pos_best_g, fitness_iter\n",
        "\n",
        "\n",
        "def plot_contour(bounds, X, V):    \n",
        "    x_min, x_max = bounds[0]\n",
        "    y_min, y_max = bounds[1]\n",
        "\n",
        "    # Compute and plot the function in 3D within [-10,10]x[-10,10]\n",
        "    # 生成坐标和损失值\n",
        "    x, y = np.array(np.meshgrid(np.linspace(x_min, x_max, 1000), np.linspace(y_min, y_max, 1000)))\n",
        "    z = np.array([objective([i, j]) for i, j in zip(x.flatten(), y.flatten())]).reshape(x.shape)\n",
        "\n",
        "    # Find the global minimum\n",
        "    x_min = x.ravel()[z.argmin()]\n",
        "    y_min = x.ravel()[z.argmin()]\n",
        "\n",
        "    # Initialize data\n",
        "    # 初始点得拿出来\n",
        "    pbest = X\n",
        "    pbest_obj = np.array([objective(p) for p in X.T])\n",
        "    gbest = pbest[:, pbest_obj.argmin()]\n",
        "    gbest_obj = pbest_obj.min()\n",
        "\n",
        "    # Set up base figure: The contour map\n",
        "    fig, ax = plt.subplots(figsize=(8, 6))\n",
        "    fig.set_tight_layout(True)\n",
        "    img = ax.imshow(z, extent=[-10, 10, -10, 10], origin='lower', cmap='viridis', alpha=0.5)\n",
        "    fig.colorbar(img, ax=ax)\n",
        "    ax.plot([x_min], [y_min], marker='x', markersize=5, color=\"white\")  # 实际上的最小值\n",
        "    contours = ax.contour(x, y, z, 10, colors='black', alpha=0.4)\n",
        "    ax.clabel(contours, inline=True, fontsize=8, fmt=\"%.0f\")\n",
        "    pbest_plot = ax.scatter(pbest[0], pbest[1], marker='o', color='black', alpha=0.5)  # 粒子的最优位置\n",
        "    p_plot = ax.scatter(X[0], X[1], marker='o', color='blue', alpha=0.5)  # 粒子\n",
        "    p_arrow = ax.quiver(X[0], X[1], V[0], V[1], color='blue', width=0.005, angles='xy', scale_units='xy', scale=1)\n",
        "    gbest_plot = plt.scatter(gbest[0], gbest[1], marker='*', s=100, color='red', alpha=0.4)\n",
        "    ax.set_xlim([-10, 10])\n",
        "    ax.set_ylim([-10, 10])\n",
        "    plt.show()\n",
        "\n",
        "num_particles = 15\n",
        "bounds = [(-10, 10), (-10, 10)]  # input bounds [(x1_min,x1_max),(x2_min,x2_max)...]\n",
        "maxiter = 30\n",
        "x_init = [5, 5]  # initial starting location [x1,x2...]\n",
        "\n"
      ],
      "metadata": {
        "id": "O8vcBqD9jVqd"
      },
      "execution_count": 67,
      "outputs": []
    },
    {
      "cell_type": "code",
      "source": [
        "def demo_func(x):\n",
        "    x1, x2, x3 = x\n",
        "    return x1 ** 2 + (x2 - 0.05) ** 2 + x3 ** 2"
      ],
      "metadata": {
        "id": "_3xZPk_2ZR9l"
      },
      "execution_count": 106,
      "outputs": []
    },
    {
      "cell_type": "code",
      "source": [
        "from sko.PSO import PSO\n",
        "\n",
        "pso = PSO(func=demo_func, dim=3, pop=40, max_iter=100, lb=[0, -1, 0.5], ub=[1, 1, 1], w=0.8, c1=0.5, c2=0.5)\n",
        "pso.run()\n",
        "print('best_x is ', pso.gbest_x, 'best_y is', pso.gbest_y)"
      ],
      "metadata": {
        "colab": {
          "base_uri": "https://localhost:8080/"
        },
        "id": "qu9L6U0EYR0U",
        "outputId": "24f5a51a-42fe-4770-f950-ea2b1b407f66"
      },
      "execution_count": 111,
      "outputs": [
        {
          "output_type": "stream",
          "name": "stdout",
          "text": [
            "best_x is  [0.         0.05000011 0.5       ] best_y is [0.25]\n"
          ]
        }
      ]
    },
    {
      "cell_type": "code",
      "source": [
        "import matplotlib.pyplot as plt\n",
        "\n",
        "plt.plot(pso.gbest_y_hist)\n",
        "plt.show()"
      ],
      "metadata": {
        "colab": {
          "base_uri": "https://localhost:8080/",
          "height": 265
        },
        "id": "0HlFFIT4ZMvh",
        "outputId": "e8c9e3a9-6ac8-49d2-a498-65af05e6155b"
      },
      "execution_count": 21,
      "outputs": [
        {
          "output_type": "display_data",
          "data": {
            "text/plain": [
              "<Figure size 432x288 with 1 Axes>"
            ],
            "image/png": "[encoded data removed]"
          },
          "metadata": {
            "needs_background": "light"
          }
        }
      ]
    },
    {
      "cell_type": "markdown",
      "source": [
        "## 模拟退火算法"
      ],
      "metadata": {
        "id": "Qyeph3z1nezn"
      }
    },
    {
      "cell_type": "markdown",
      "source": [
        "理论：[here](https://mp.weixin.qq.com/s?__biz=MzI4ODgwMjYyNQ==&mid=2247488136&idx=1&sn=a90be492aee5bc81ce80c9a6e3adc575&chksm=ec3980a6db4e09b04f4ee023e2902af70878919c0ed563ce9b415be80d02c489b7722061a65b&scene=178&cur_album_id=2151757310631739396#rd)\n",
        "\n",
        "Intuition：[here](https://www.bilibili.com/video/BV1j64y1Y7FB?spm_id_from=333.337.search-card.all.click&vd_source=78821760a099022a284c04eeb639e1ae)"
      ],
      "metadata": {
        "id": "ec26oaBvnok6"
      }
    },
    {
      "cell_type": "code",
      "source": [
        "# Demo 展示\n",
        "import numpy as np\n",
        "import matplotlib.pyplot as plt\n",
        "\n",
        "\n",
        "def objective(x):\n",
        "    \"\"\"目标函数\"\"\"\n",
        "    return x[0] ** 2.0\n",
        "\n",
        "\n",
        "class SA:\n",
        "    def __init__(self, X, bounds, n_iter, sigma, T):\n",
        "        self.X = X\n",
        "        self.bounds = bounds\n",
        "        self.best = X[0]  # 初始化\n",
        "        self.best_obj = objective([self.best])\n",
        "        self.n_iter = n_iter\n",
        "        self.sigma = sigma\n",
        "        self.T = T\n",
        "        self.cur, self.cur_obj = self.best, self.best_obj\n",
        "        self.dims = len(bounds)\n",
        "\n",
        "    def run(self):\n",
        "        self.cost = []\n",
        "        for i in range(self.n_iter):\n",
        "\n",
        "            # 假设候选解来自正态分布 N(self.cur,sigma)\n",
        "            candidate = self.cur + np.random.randn(self.dims) * self.sigma\n",
        "            candidate_obj = objective(candidate)\n",
        "\n",
        "            # 最优参数和目标值\n",
        "            if candidate_obj < self.best_obj:\n",
        "                self.best, self.best_obj = candidate, candidate_obj\n",
        "                self.cost.append(self.best_obj)\n",
        "\n",
        "            # 是否接受更差的解\n",
        "            diff = candidate_obj - self.best_obj\n",
        "            T = self.T / float(i + 1)  # 当前迭代次数的温度\n",
        "            metropolis = np.exp(-diff / T)\n",
        "            if diff < 0 and np.random.rand() < metropolis:\n",
        "                self.cur, self.cur_obj = candidate, candidate_obj\n",
        "\n",
        "\n",
        "if __name__ == '__main__':\n",
        "    bounds = [-5, 5]\n",
        "    X = np.arange(bounds[0], bounds[1], 0.1)\n",
        "    T = 10\n",
        "    n_iter = 1000\n",
        "\n",
        "    # -----------------------------------------------------\n",
        "    sa = SA(X, bounds, n_iter, sigma=0.2, T=T)\n",
        "    sa.run()\n",
        "    plt.figure()\n",
        "    plt.plot(sa.cost)  # cost变化情况"
      ],
      "metadata": {
        "colab": {
          "base_uri": "https://localhost:8080/",
          "height": 265
        },
        "id": "S9jBo9bCniZf",
        "outputId": "9761365e-1c87-422c-c2fc-92b7aeca50f2"
      },
      "execution_count": 68,
      "outputs": [
        {
          "output_type": "display_data",
          "data": {
            "text/plain": [
              "<Figure size 432x288 with 1 Axes>"
            ],
            "image/png": "[encoded data removed]"
          },
          "metadata": {
            "needs_background": "light"
          }
        }
      ]
    },
    {
      "cell_type": "code",
      "source": [
        "demo_func = lambda x: x[0] ** 2 + (x[1] - 0.05) ** 2 + x[2] ** 2"
      ],
      "metadata": {
        "id": "9FN3W4Q6ZVom"
      },
      "execution_count": 22,
      "outputs": []
    },
    {
      "cell_type": "code",
      "source": [
        "from sko.SA import SA\n",
        "\n",
        "sa = SA(func=demo_func, x0=[1, 1, 1], T_max=1, T_min=1e-9, L=300, max_stay_counter=150)\n",
        "best_x, best_y = sa.run()\n",
        "print('best_x:', best_x, 'best_y', best_y)"
      ],
      "metadata": {
        "colab": {
          "base_uri": "https://localhost:8080/"
        },
        "id": "rKvjb49nZfie",
        "outputId": "8de8ba7c-eb93-4b1d-ff16-abefeb2460de"
      },
      "execution_count": 23,
      "outputs": [
        {
          "output_type": "stream",
          "name": "stdout",
          "text": [
            "best_x: [-1.21024110e-06  4.99871688e-02 -8.85312861e-06] best_y 2.444810054106178e-10\n"
          ]
        }
      ]
    },
    {
      "cell_type": "code",
      "source": [
        "import matplotlib.pyplot as plt\n",
        "import pandas as pd\n",
        "\n",
        "plt.plot(pd.DataFrame(sa.best_y_history).cummin(axis=0))\n",
        "plt.show()"
      ],
      "metadata": {
        "colab": {
          "base_uri": "https://localhost:8080/",
          "height": 266
        },
        "id": "RggLCR_gZjwo",
        "outputId": "cb20330c-5db7-4977-efc4-4f99b9597c7c"
      },
      "execution_count": 24,
      "outputs": [
        {
          "output_type": "display_data",
          "data": {
            "text/plain": [
              "<Figure size 432x288 with 1 Axes>"
            ],
            "image/png": "[encoded data removed]"
          },
          "metadata": {
            "needs_background": "light"
          }
        }
      ]
    },
    {
      "cell_type": "code",
      "source": [
        "from sko.SA import SA_TSP\n",
        "\n",
        "sa_tsp = SA_TSP(func=cal_total_distance, x0=range(num_points), T_max=100, T_min=1e-5, L=20 * num_points)\n",
        "\n",
        "best_points, best_distance = sa_tsp.run()\n",
        "print(best_points, best_distance, cal_total_distance(best_points))"
      ],
      "metadata": {
        "colab": {
          "base_uri": "https://localhost:8080/"
        },
        "id": "w636VqqhZpVh",
        "outputId": "89d49a5b-47ef-48ff-93b0-4f1c5bf6fb00"
      },
      "execution_count": 97,
      "outputs": [
        {
          "output_type": "stream",
          "name": "stdout",
          "text": [
            "[ 9 21 38  7 45 32 31  1 34 39 40  3 14 10  5 29 42 49 17 20 44 16 48 12\n",
            " 35 22  4 11  6 30 26 28 24  2 15 23 37  0 43 18 36 46 13 33 47 25 41 19\n",
            "  8 27] 19.231684412378716 19.231684412378716\n"
          ]
        }
      ]
    },
    {
      "cell_type": "code",
      "source": [
        "from matplotlib.ticker import FormatStrFormatter\n",
        "\n",
        "fig, ax = plt.subplots(1, 2)\n",
        "\n",
        "best_points_ = np.concatenate([best_points, [best_points[0]]])\n",
        "best_points_coordinate = points_coordinate[best_points_, :]\n",
        "ax[0].plot(sa_tsp.best_y_history)\n",
        "ax[0].set_xlabel(\"Iteration\")\n",
        "ax[0].set_ylabel(\"Distance\")\n",
        "ax[1].plot(best_points_coordinate[:, 0], best_points_coordinate[:, 1],\n",
        "           marker='o', markerfacecolor='b', color='c', linestyle='-')\n",
        "ax[1].xaxis.set_major_formatter(FormatStrFormatter('%.3f'))\n",
        "ax[1].yaxis.set_major_formatter(FormatStrFormatter('%.3f'))\n",
        "ax[1].set_xlabel(\"Longitude\")\n",
        "ax[1].set_ylabel(\"Latitude\")\n",
        "plt.show()"
      ],
      "metadata": {
        "colab": {
          "base_uri": "https://localhost:8080/",
          "height": 279
        },
        "id": "-jhMtKdGZuXr",
        "outputId": "59e660a8-b3eb-48da-8064-814a4a3bead4"
      },
      "execution_count": 98,
      "outputs": [
        {
          "output_type": "display_data",
          "data": {
            "text/plain": [
              "<Figure size 432x288 with 2 Axes>"
            ],
            "image/png": "[encoded data removed]"
          },
          "metadata": {
            "needs_background": "light"
          }
        }
      ]
    },
    {
      "cell_type": "markdown",
      "source": [
        "## 蚁群算法"
      ],
      "metadata": {
        "id": "T-ytfjV5tQlQ"
      }
    },
    {
      "cell_type": "code",
      "source": [
        "def func(x):\n",
        "    x1, x2 = x\n",
        "    return 1 / x1 ** 2 + x1 ** 2 + 1 / x2 ** 2 + x2 ** 2\n",
        "\n",
        "\n",
        "from sko.AFSA import AFSA\n",
        "\n",
        "afsa = AFSA(func, n_dim=2, size_pop=50, max_iter=300,\n",
        "            max_try_num=100, step=0.5, visual=0.3,\n",
        "            q=0.98, delta=0.5)\n",
        "best_x, best_y = afsa.run()\n",
        "print(best_x, best_y)"
      ],
      "metadata": {
        "colab": {
          "base_uri": "https://localhost:8080/"
        },
        "id": "2CyksV9dcv9K",
        "outputId": "3264af9e-9785-4aa1-d390-3fd5cd29e8c9"
      },
      "execution_count": 31,
      "outputs": [
        {
          "output_type": "stream",
          "name": "stdout",
          "text": [
            "[1.00000245 0.99998915] 4.00000000049466\n"
          ]
        }
      ]
    },
    {
      "cell_type": "code",
      "source": [
        "import numpy as np\n",
        "from scipy import spatial\n",
        "import pandas as pd\n",
        "import matplotlib.pyplot as plt\n",
        "\n",
        "num_points = 50\n",
        "\n",
        "points_coordinate = np.random.rand(num_points, 2)  # generate coordinate of points\n",
        "distance_matrix = spatial.distance.cdist(points_coordinate, points_coordinate, metric='euclidean')\n",
        "\n",
        "\n",
        "def cal_total_distance(routine):\n",
        "    num_points, = routine.shape\n",
        "    return sum([distance_matrix[routine[i % num_points], routine[(i + 1) % num_points]] for i in range(num_points)])\n",
        "\n",
        "\n",
        "# %% Do ACA\n",
        "from sko.ACA import ACA_TSP\n",
        "\n",
        "aca = ACA_TSP(func=cal_total_distance, n_dim=num_points,\n",
        "              size_pop=50, max_iter=125,\n",
        "              distance_matrix=distance_matrix)\n",
        "\n",
        "best_x, best_y = aca.run()\n",
        "\n",
        "# %% Plot\n",
        "fig, ax = plt.subplots(1, 2)\n",
        "best_points_ = np.concatenate([best_x, [best_x[0]]])\n",
        "print(best_x)  # 结果序列\n",
        "print(best_points_)  # 添加起点形成环\n",
        "best_points_coordinate = points_coordinate[best_points_, :]  # 找到点序列对应的坐标序列\n",
        "ax[0].plot(best_points_coordinate[:, 0], best_points_coordinate[:, 1], 'o-r')  # 连接\n",
        "pd.DataFrame(aca.y_best_history).cummin().plot(ax=ax[1])\n",
        "plt.show()"
      ],
      "metadata": {
        "colab": {
          "base_uri": "https://localhost:8080/",
          "height": 369
        },
        "id": "X9Yz-IkKZy37",
        "outputId": "6429f1e2-fbb8-44dc-e1e7-cd4361f3d308"
      },
      "execution_count": 96,
      "outputs": [
        {
          "output_type": "stream",
          "name": "stdout",
          "text": [
            "[ 0 40  4 11 48 12 28 35 15 39 23 22 49 44 10 20 27  5 36 38 33 45  7  9\n",
            " 47 14 13 21 34 32 41 31 30  1 24 19  8 26 25 29 18 17 46  3 42 16 37  2\n",
            "  6 43]\n",
            "[ 0 40  4 11 48 12 28 35 15 39 23 22 49 44 10 20 27  5 36 38 33 45  7  9\n",
            " 47 14 13 21 34 32 41 31 30  1 24 19  8 26 25 29 18 17 46  3 42 16 37  2\n",
            "  6 43  0]\n"
          ]
        },
        {
          "output_type": "display_data",
          "data": {
            "text/plain": [
              "<Figure size 432x288 with 2 Axes>"
            ],
            "image/png": "[encoded data removed]"
          },
          "metadata": {
            "needs_background": "light"
          }
        }
      ]
    },
    {
      "cell_type": "code",
      "source": [
        ""
      ],
      "metadata": {
        "id": "DzwD4msyshAt"
      },
      "execution_count": null,
      "outputs": []
    }
  ]
}