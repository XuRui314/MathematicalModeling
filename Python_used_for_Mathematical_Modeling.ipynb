{
  "nbformat": 4,
  "nbformat_minor": 0,
  "metadata": {
    "colab": {
      "name": "Python used for Mathematical Modeling.ipynb",
      "provenance": [],
      "collapsed_sections": [],
      "authorship_tag": "ABX9TyM6Rvese5kIaiE0C+GPEvDo",
      "include_colab_link": true
    },
    "kernelspec": {
      "name": "python3",
      "display_name": "Python 3"
    },
    "language_info": {
      "name": "python"
    }
  },
  "cells": [
    {
      "cell_type": "markdown",
      "metadata": {
        "id": "view-in-github",
        "colab_type": "text"
      },
      "source": [
        "<a href=\"https://colab.research.google.com/github/XuRui314/MathematicalModeling/blob/main/Python_used_for_Mathematical_Modeling.ipynb\" target=\"_parent\"><img src=\"https://colab.research.google.com/assets/colab-badge.svg\" alt=\"Open In Colab\"/></a>"
      ]
    },
    {
      "cell_type": "markdown",
      "source": [
        "## Numpy"
      ],
      "metadata": {
        "id": "0zf_91sHgROz"
      }
    },
    {
      "cell_type": "markdown",
      "source": [
        "### Linear Algebra"
      ],
      "metadata": {
        "id": "T6b6kw4qgZUF"
      }
    },
    {
      "cell_type": "code",
      "execution_count": null,
      "metadata": {
        "id": "D6KgbGmAYV31"
      },
      "outputs": [],
      "source": [
        "import numpy as np"
      ]
    },
    {
      "cell_type": "code",
      "source": [
        "# 求范数\n",
        "a = np.array([[0,3,4],[1,6,4]])\n",
        "b = np.linalg.norm(a, axis = 1)\n",
        "c = np.linalg.norm(a, axis = 0)\n",
        "d = np.linalg.norm(a)\n",
        "print('行向量2范数为：', np.round(b, 4)) # np.round是四舍五入，第二个参数的保留的小数位数\n",
        "print('列向量2范数为：', np.round(c, 4))\n",
        "print('矩阵2范数为：', np.round(d, 4))"
      ],
      "metadata": {
        "colab": {
          "base_uri": "https://localhost:8080/"
        },
        "id": "cwsMGw-lgeTB",
        "outputId": "a8ea9c46-5881-4ab2-d0a8-6f08ef161612"
      },
      "execution_count": null,
      "outputs": [
        {
          "output_type": "stream",
          "name": "stdout",
          "text": [
            "行向量2范数为： [5.     7.2801]\n",
            "列向量2范数为： [1.     6.7082 5.6569]\n",
            "矩阵2范数为： 8.8318\n"
          ]
        }
      ]
    },
    {
      "cell_type": "code",
      "source": [
        "# 解方程组 Ax=b\n",
        "a = np.array([[3,1],[1,2]])\n",
        "b = np.array([9,8])\n",
        "x1 = np.linalg.inv(a) @ b # 写法1\n",
        "print(x1)\n",
        "x2 = np.linalg.solve(a,b) # 写法2\n",
        "print(x2)"
      ],
      "metadata": {
        "colab": {
          "base_uri": "https://localhost:8080/"
        },
        "id": "5U4RjRGYiaBA",
        "outputId": "832589e5-e286-4fb3-d062-997ccfcd1673"
      },
      "execution_count": null,
      "outputs": [
        {
          "output_type": "stream",
          "name": "stdout",
          "text": [
            "[2. 3.]\n",
            "[2. 3.]\n"
          ]
        }
      ]
    },
    {
      "cell_type": "code",
      "source": [
        "# 求超定线性方程组的最小二乘解\n",
        "a = np.array([[3,1],[1,2],[1,1]])\n",
        "b = np.array([9,8,6])\n",
        "x = np.linalg.pinv(a) @ b\n",
        "print(np.round(x, 4))"
      ],
      "metadata": {
        "colab": {
          "base_uri": "https://localhost:8080/"
        },
        "id": "W-qqxYARi1Od",
        "outputId": "d4fb84fa-7f5c-423a-e4a0-6825fd57e96d"
      },
      "execution_count": null,
      "outputs": [
        {
          "output_type": "stream",
          "name": "stdout",
          "text": [
            "[2.     3.1667]\n"
          ]
        }
      ]
    },
    {
      "cell_type": "code",
      "source": [
        "# 求特征值、特征向量\n",
        "a = np.eye(4)\n",
        "b = np.rot90(a)\n",
        "c,d = np.linalg.eig(b)\n",
        "\n",
        "# 求svd分解 补充资料：https://www.cnblogs.com/xym4869/p/11301727.html\n",
        "u,sigma,vT = np.linalg.svd(b)\n",
        "print('特征值为：', c)\n",
        "print('特征向量为：\\n', d)\n",
        "print(u)\n",
        "print(sigma)\n",
        "print(vT)"
      ],
      "metadata": {
        "colab": {
          "base_uri": "https://localhost:8080/"
        },
        "id": "a0ZRz6vWjjEC",
        "outputId": "21f15f5b-3d56-4068-e398-0ba79124507d"
      },
      "execution_count": null,
      "outputs": [
        {
          "output_type": "stream",
          "name": "stdout",
          "text": [
            "特征值为： [ 1. -1.  1. -1.]\n",
            "特征向量为：\n",
            " [[ 0.70710678  0.70710678  0.          0.        ]\n",
            " [ 0.          0.          0.70710678 -0.70710678]\n",
            " [ 0.          0.          0.70710678  0.70710678]\n",
            " [ 0.70710678 -0.70710678  0.          0.        ]]\n",
            "[[ 0.  0.  0. -1.]\n",
            " [ 0.  0. -1.  0.]\n",
            " [ 0. -1.  0.  0.]\n",
            " [-1.  0.  0.  0.]]\n",
            "[1. 1. 1. 1.]\n",
            "[[-1. -0. -0. -0.]\n",
            " [-0. -1. -0. -0.]\n",
            " [-0. -0. -1. -0.]\n",
            " [-0. -0. -0. -1.]]\n"
          ]
        }
      ]
    },
    {
      "cell_type": "code",
      "source": [
        ""
      ],
      "metadata": {
        "id": "koGg1mYGkcPV"
      },
      "execution_count": null,
      "outputs": []
    },
    {
      "cell_type": "markdown",
      "source": [
        "## Pandas"
      ],
      "metadata": {
        "id": "xzs5DRGvm480"
      }
    },
    {
      "cell_type": "code",
      "source": [
        "list(\"ABCD\")"
      ],
      "metadata": {
        "colab": {
          "base_uri": "https://localhost:8080/"
        },
        "id": "nBTsp-y0oSCY",
        "outputId": "a07d591d-8637-4aa8-b718-9002677b79da"
      },
      "execution_count": null,
      "outputs": [
        {
          "output_type": "execute_result",
          "data": {
            "text/plain": [
              "['A', 'B', 'C', 'D']"
            ]
          },
          "metadata": {},
          "execution_count": 31
        }
      ]
    },
    {
      "cell_type": "code",
      "source": [
        "import pandas as pd\n",
        "import numpy as np"
      ],
      "metadata": {
        "id": "wgG9e-gFm67G"
      },
      "execution_count": null,
      "outputs": []
    },
    {
      "cell_type": "code",
      "source": [
        "dates = pd.date_range(start = '20220705', end = '20220714', freq = 'D')\n",
        "a1 = pd.DataFrame(np.random.randn(10,4), index = dates, columns = list('ABCD')) # np.random.rand用法https://blog.csdn.net/u012149181/article/details/78913167\n",
        "a2 = pd.DataFrame(np.random.rand(10,4))"
      ],
      "metadata": {
        "id": "oJErsB7anO7V"
      },
      "execution_count": null,
      "outputs": []
    },
    {
      "cell_type": "code",
      "source": [
        "a1"
      ],
      "metadata": {
        "id": "cr1bBLBennxM",
        "colab": {
          "base_uri": "https://localhost:8080/",
          "height": 363
        },
        "outputId": "4785935d-7ceb-49db-c46f-27874fbbdff4"
      },
      "execution_count": null,
      "outputs": [
        {
          "output_type": "execute_result",
          "data": {
            "text/plain": [
              "                   A         B         C         D\n",
              "2022-07-05  1.841288  0.059626  0.442391  0.525836\n",
              "2022-07-06 -0.025731 -0.131777 -0.025393 -0.157042\n",
              "2022-07-07  0.272290  0.330645 -0.701684  0.086323\n",
              "2022-07-08 -0.001569 -0.793649  1.318828 -2.545351\n",
              "2022-07-09 -0.137085 -1.040567  0.374049  0.894863\n",
              "2022-07-10  1.493263 -0.044269 -0.441630 -0.373912\n",
              "2022-07-11  0.509658 -0.708353  2.468572  1.950335\n",
              "2022-07-12  0.101423  0.267396 -0.848440  0.168649\n",
              "2022-07-13 -0.040581 -0.541435 -0.439659 -0.661300\n",
              "2022-07-14 -0.504384  0.541569  0.180633  0.586825"
            ],
            "text/html": [
              "\n",
              "  <div id=\"df-d6d7a49c-66c2-4832-9b79-ad800532a840\">\n",
              "    <div class=\"colab-df-container\">\n",
              "      <div>\n",
              "<style scoped>\n",
              "    .dataframe tbody tr th:only-of-type {\n",
              "        vertical-align: middle;\n",
              "    }\n",
              "\n",
              "    .dataframe tbody tr th {\n",
              "        vertical-align: top;\n",
              "    }\n",
              "\n",
              "    .dataframe thead th {\n",
              "        text-align: right;\n",
              "    }\n",
              "</style>\n",
              "<table border=\"1\" class=\"dataframe\">\n",
              "  <thead>\n",
              "    <tr style=\"text-align: right;\">\n",
              "      <th></th>\n",
              "      <th>A</th>\n",
              "      <th>B</th>\n",
              "      <th>C</th>\n",
              "      <th>D</th>\n",
              "    </tr>\n",
              "  </thead>\n",
              "  <tbody>\n",
              "    <tr>\n",
              "      <th>2022-07-05</th>\n",
              "      <td>1.841288</td>\n",
              "      <td>0.059626</td>\n",
              "      <td>0.442391</td>\n",
              "      <td>0.525836</td>\n",
              "    </tr>\n",
              "    <tr>\n",
              "      <th>2022-07-06</th>\n",
              "      <td>-0.025731</td>\n",
              "      <td>-0.131777</td>\n",
              "      <td>-0.025393</td>\n",
              "      <td>-0.157042</td>\n",
              "    </tr>\n",
              "    <tr>\n",
              "      <th>2022-07-07</th>\n",
              "      <td>0.272290</td>\n",
              "      <td>0.330645</td>\n",
              "      <td>-0.701684</td>\n",
              "      <td>0.086323</td>\n",
              "    </tr>\n",
              "    <tr>\n",
              "      <th>2022-07-08</th>\n",
              "      <td>-0.001569</td>\n",
              "      <td>-0.793649</td>\n",
              "      <td>1.318828</td>\n",
              "      <td>-2.545351</td>\n",
              "    </tr>\n",
              "    <tr>\n",
              "      <th>2022-07-09</th>\n",
              "      <td>-0.137085</td>\n",
              "      <td>-1.040567</td>\n",
              "      <td>0.374049</td>\n",
              "      <td>0.894863</td>\n",
              "    </tr>\n",
              "    <tr>\n",
              "      <th>2022-07-10</th>\n",
              "      <td>1.493263</td>\n",
              "      <td>-0.044269</td>\n",
              "      <td>-0.441630</td>\n",
              "      <td>-0.373912</td>\n",
              "    </tr>\n",
              "    <tr>\n",
              "      <th>2022-07-11</th>\n",
              "      <td>0.509658</td>\n",
              "      <td>-0.708353</td>\n",
              "      <td>2.468572</td>\n",
              "      <td>1.950335</td>\n",
              "    </tr>\n",
              "    <tr>\n",
              "      <th>2022-07-12</th>\n",
              "      <td>0.101423</td>\n",
              "      <td>0.267396</td>\n",
              "      <td>-0.848440</td>\n",
              "      <td>0.168649</td>\n",
              "    </tr>\n",
              "    <tr>\n",
              "      <th>2022-07-13</th>\n",
              "      <td>-0.040581</td>\n",
              "      <td>-0.541435</td>\n",
              "      <td>-0.439659</td>\n",
              "      <td>-0.661300</td>\n",
              "    </tr>\n",
              "    <tr>\n",
              "      <th>2022-07-14</th>\n",
              "      <td>-0.504384</td>\n",
              "      <td>0.541569</td>\n",
              "      <td>0.180633</td>\n",
              "      <td>0.586825</td>\n",
              "    </tr>\n",
              "  </tbody>\n",
              "</table>\n",
              "</div>\n",
              "      <button class=\"colab-df-convert\" onclick=\"convertToInteractive('df-d6d7a49c-66c2-4832-9b79-ad800532a840')\"\n",
              "              title=\"Convert this dataframe to an interactive table.\"\n",
              "              style=\"display:none;\">\n",
              "        \n",
              "  <svg xmlns=\"http://www.w3.org/2000/svg\" height=\"24px\"viewBox=\"0 0 24 24\"\n",
              "       width=\"24px\">\n",
              "    <path d=\"M0 0h24v24H0V0z\" fill=\"none\"/>\n",
              "    <path d=\"M18.56 5.44l.94 2.06.94-2.06 2.06-.94-2.06-.94-.94-2.06-.94 2.06-2.06.94zm-11 1L8.5 8.5l.94-2.06 2.06-.94-2.06-.94L8.5 2.5l-.94 2.06-2.06.94zm10 10l.94 2.06.94-2.06 2.06-.94-2.06-.94-.94-2.06-.94 2.06-2.06.94z\"/><path d=\"M17.41 7.96l-1.37-1.37c-.4-.4-.92-.59-1.43-.59-.52 0-1.04.2-1.43.59L10.3 9.45l-7.72 7.72c-.78.78-.78 2.05 0 2.83L4 21.41c.39.39.9.59 1.41.59.51 0 1.02-.2 1.41-.59l7.78-7.78 2.81-2.81c.8-.78.8-2.07 0-2.86zM5.41 20L4 18.59l7.72-7.72 1.47 1.35L5.41 20z\"/>\n",
              "  </svg>\n",
              "      </button>\n",
              "      \n",
              "  <style>\n",
              "    .colab-df-container {\n",
              "      display:flex;\n",
              "      flex-wrap:wrap;\n",
              "      gap: 12px;\n",
              "    }\n",
              "\n",
              "    .colab-df-convert {\n",
              "      background-color: #E8F0FE;\n",
              "      border: none;\n",
              "      border-radius: 50%;\n",
              "      cursor: pointer;\n",
              "      display: none;\n",
              "      fill: #1967D2;\n",
              "      height: 32px;\n",
              "      padding: 0 0 0 0;\n",
              "      width: 32px;\n",
              "    }\n",
              "\n",
              "    .colab-df-convert:hover {\n",
              "      background-color: #E2EBFA;\n",
              "      box-shadow: 0px 1px 2px rgba(60, 64, 67, 0.3), 0px 1px 3px 1px rgba(60, 64, 67, 0.15);\n",
              "      fill: #174EA6;\n",
              "    }\n",
              "\n",
              "    [theme=dark] .colab-df-convert {\n",
              "      background-color: #3B4455;\n",
              "      fill: #D2E3FC;\n",
              "    }\n",
              "\n",
              "    [theme=dark] .colab-df-convert:hover {\n",
              "      background-color: #434B5C;\n",
              "      box-shadow: 0px 1px 3px 1px rgba(0, 0, 0, 0.15);\n",
              "      filter: drop-shadow(0px 1px 2px rgba(0, 0, 0, 0.3));\n",
              "      fill: #FFFFFF;\n",
              "    }\n",
              "  </style>\n",
              "\n",
              "      <script>\n",
              "        const buttonEl =\n",
              "          document.querySelector('#df-d6d7a49c-66c2-4832-9b79-ad800532a840 button.colab-df-convert');\n",
              "        buttonEl.style.display =\n",
              "          google.colab.kernel.accessAllowed ? 'block' : 'none';\n",
              "\n",
              "        async function convertToInteractive(key) {\n",
              "          const element = document.querySelector('#df-d6d7a49c-66c2-4832-9b79-ad800532a840');\n",
              "          const dataTable =\n",
              "            await google.colab.kernel.invokeFunction('convertToInteractive',\n",
              "                                                     [key], {});\n",
              "          if (!dataTable) return;\n",
              "\n",
              "          const docLinkHtml = 'Like what you see? Visit the ' +\n",
              "            '<a target=\"_blank\" href=https://colab.research.google.com/notebooks/data_table.ipynb>data table notebook</a>'\n",
              "            + ' to learn more about interactive tables.';\n",
              "          element.innerHTML = '';\n",
              "          dataTable['output_type'] = 'display_data';\n",
              "          await google.colab.output.renderOutput(dataTable, element);\n",
              "          const docLink = document.createElement('div');\n",
              "          docLink.innerHTML = docLinkHtml;\n",
              "          element.appendChild(docLink);\n",
              "        }\n",
              "      </script>\n",
              "    </div>\n",
              "  </div>\n",
              "  "
            ]
          },
          "metadata": {},
          "execution_count": 32
        }
      ]
    },
    {
      "cell_type": "code",
      "source": [
        "a2"
      ],
      "metadata": {
        "id": "1ZdhWKDdnoSN",
        "colab": {
          "base_uri": "https://localhost:8080/",
          "height": 363
        },
        "outputId": "d98cd6f4-83ce-430b-814b-5f162380b212"
      },
      "execution_count": null,
      "outputs": [
        {
          "output_type": "execute_result",
          "data": {
            "text/plain": [
              "          0         1         2         3\n",
              "0  0.540855  0.839390  0.908594  0.102230\n",
              "1  0.592235  0.024538  0.322185  0.229403\n",
              "2  0.872174  0.217103  0.961040  0.524242\n",
              "3  0.244244  0.626698  0.568797  0.450015\n",
              "4  0.215156  0.927071  0.918650  0.650074\n",
              "5  0.269469  0.848291  0.039820  0.858876\n",
              "6  0.607935  0.175491  0.610379  0.056694\n",
              "7  0.588520  0.113374  0.014278  0.809902\n",
              "8  0.897219  0.473335  0.425949  0.973528\n",
              "9  0.513102  0.908854  0.074982  0.149108"
            ],
            "text/html": [
              "\n",
              "  <div id=\"df-19808b48-9654-4a40-a2ba-e6b3ad7c9825\">\n",
              "    <div class=\"colab-df-container\">\n",
              "      <div>\n",
              "<style scoped>\n",
              "    .dataframe tbody tr th:only-of-type {\n",
              "        vertical-align: middle;\n",
              "    }\n",
              "\n",
              "    .dataframe tbody tr th {\n",
              "        vertical-align: top;\n",
              "    }\n",
              "\n",
              "    .dataframe thead th {\n",
              "        text-align: right;\n",
              "    }\n",
              "</style>\n",
              "<table border=\"1\" class=\"dataframe\">\n",
              "  <thead>\n",
              "    <tr style=\"text-align: right;\">\n",
              "      <th></th>\n",
              "      <th>0</th>\n",
              "      <th>1</th>\n",
              "      <th>2</th>\n",
              "      <th>3</th>\n",
              "    </tr>\n",
              "  </thead>\n",
              "  <tbody>\n",
              "    <tr>\n",
              "      <th>0</th>\n",
              "      <td>0.540855</td>\n",
              "      <td>0.839390</td>\n",
              "      <td>0.908594</td>\n",
              "      <td>0.102230</td>\n",
              "    </tr>\n",
              "    <tr>\n",
              "      <th>1</th>\n",
              "      <td>0.592235</td>\n",
              "      <td>0.024538</td>\n",
              "      <td>0.322185</td>\n",
              "      <td>0.229403</td>\n",
              "    </tr>\n",
              "    <tr>\n",
              "      <th>2</th>\n",
              "      <td>0.872174</td>\n",
              "      <td>0.217103</td>\n",
              "      <td>0.961040</td>\n",
              "      <td>0.524242</td>\n",
              "    </tr>\n",
              "    <tr>\n",
              "      <th>3</th>\n",
              "      <td>0.244244</td>\n",
              "      <td>0.626698</td>\n",
              "      <td>0.568797</td>\n",
              "      <td>0.450015</td>\n",
              "    </tr>\n",
              "    <tr>\n",
              "      <th>4</th>\n",
              "      <td>0.215156</td>\n",
              "      <td>0.927071</td>\n",
              "      <td>0.918650</td>\n",
              "      <td>0.650074</td>\n",
              "    </tr>\n",
              "    <tr>\n",
              "      <th>5</th>\n",
              "      <td>0.269469</td>\n",
              "      <td>0.848291</td>\n",
              "      <td>0.039820</td>\n",
              "      <td>0.858876</td>\n",
              "    </tr>\n",
              "    <tr>\n",
              "      <th>6</th>\n",
              "      <td>0.607935</td>\n",
              "      <td>0.175491</td>\n",
              "      <td>0.610379</td>\n",
              "      <td>0.056694</td>\n",
              "    </tr>\n",
              "    <tr>\n",
              "      <th>7</th>\n",
              "      <td>0.588520</td>\n",
              "      <td>0.113374</td>\n",
              "      <td>0.014278</td>\n",
              "      <td>0.809902</td>\n",
              "    </tr>\n",
              "    <tr>\n",
              "      <th>8</th>\n",
              "      <td>0.897219</td>\n",
              "      <td>0.473335</td>\n",
              "      <td>0.425949</td>\n",
              "      <td>0.973528</td>\n",
              "    </tr>\n",
              "    <tr>\n",
              "      <th>9</th>\n",
              "      <td>0.513102</td>\n",
              "      <td>0.908854</td>\n",
              "      <td>0.074982</td>\n",
              "      <td>0.149108</td>\n",
              "    </tr>\n",
              "  </tbody>\n",
              "</table>\n",
              "</div>\n",
              "      <button class=\"colab-df-convert\" onclick=\"convertToInteractive('df-19808b48-9654-4a40-a2ba-e6b3ad7c9825')\"\n",
              "              title=\"Convert this dataframe to an interactive table.\"\n",
              "              style=\"display:none;\">\n",
              "        \n",
              "  <svg xmlns=\"http://www.w3.org/2000/svg\" height=\"24px\"viewBox=\"0 0 24 24\"\n",
              "       width=\"24px\">\n",
              "    <path d=\"M0 0h24v24H0V0z\" fill=\"none\"/>\n",
              "    <path d=\"M18.56 5.44l.94 2.06.94-2.06 2.06-.94-2.06-.94-.94-2.06-.94 2.06-2.06.94zm-11 1L8.5 8.5l.94-2.06 2.06-.94-2.06-.94L8.5 2.5l-.94 2.06-2.06.94zm10 10l.94 2.06.94-2.06 2.06-.94-2.06-.94-.94-2.06-.94 2.06-2.06.94z\"/><path d=\"M17.41 7.96l-1.37-1.37c-.4-.4-.92-.59-1.43-.59-.52 0-1.04.2-1.43.59L10.3 9.45l-7.72 7.72c-.78.78-.78 2.05 0 2.83L4 21.41c.39.39.9.59 1.41.59.51 0 1.02-.2 1.41-.59l7.78-7.78 2.81-2.81c.8-.78.8-2.07 0-2.86zM5.41 20L4 18.59l7.72-7.72 1.47 1.35L5.41 20z\"/>\n",
              "  </svg>\n",
              "      </button>\n",
              "      \n",
              "  <style>\n",
              "    .colab-df-container {\n",
              "      display:flex;\n",
              "      flex-wrap:wrap;\n",
              "      gap: 12px;\n",
              "    }\n",
              "\n",
              "    .colab-df-convert {\n",
              "      background-color: #E8F0FE;\n",
              "      border: none;\n",
              "      border-radius: 50%;\n",
              "      cursor: pointer;\n",
              "      display: none;\n",
              "      fill: #1967D2;\n",
              "      height: 32px;\n",
              "      padding: 0 0 0 0;\n",
              "      width: 32px;\n",
              "    }\n",
              "\n",
              "    .colab-df-convert:hover {\n",
              "      background-color: #E2EBFA;\n",
              "      box-shadow: 0px 1px 2px rgba(60, 64, 67, 0.3), 0px 1px 3px 1px rgba(60, 64, 67, 0.15);\n",
              "      fill: #174EA6;\n",
              "    }\n",
              "\n",
              "    [theme=dark] .colab-df-convert {\n",
              "      background-color: #3B4455;\n",
              "      fill: #D2E3FC;\n",
              "    }\n",
              "\n",
              "    [theme=dark] .colab-df-convert:hover {\n",
              "      background-color: #434B5C;\n",
              "      box-shadow: 0px 1px 3px 1px rgba(0, 0, 0, 0.15);\n",
              "      filter: drop-shadow(0px 1px 2px rgba(0, 0, 0, 0.3));\n",
              "      fill: #FFFFFF;\n",
              "    }\n",
              "  </style>\n",
              "\n",
              "      <script>\n",
              "        const buttonEl =\n",
              "          document.querySelector('#df-19808b48-9654-4a40-a2ba-e6b3ad7c9825 button.colab-df-convert');\n",
              "        buttonEl.style.display =\n",
              "          google.colab.kernel.accessAllowed ? 'block' : 'none';\n",
              "\n",
              "        async function convertToInteractive(key) {\n",
              "          const element = document.querySelector('#df-19808b48-9654-4a40-a2ba-e6b3ad7c9825');\n",
              "          const dataTable =\n",
              "            await google.colab.kernel.invokeFunction('convertToInteractive',\n",
              "                                                     [key], {});\n",
              "          if (!dataTable) return;\n",
              "\n",
              "          const docLinkHtml = 'Like what you see? Visit the ' +\n",
              "            '<a target=\"_blank\" href=https://colab.research.google.com/notebooks/data_table.ipynb>data table notebook</a>'\n",
              "            + ' to learn more about interactive tables.';\n",
              "          element.innerHTML = '';\n",
              "          dataTable['output_type'] = 'display_data';\n",
              "          await google.colab.output.renderOutput(dataTable, element);\n",
              "          const docLink = document.createElement('div');\n",
              "          docLink.innerHTML = docLinkHtml;\n",
              "          element.appendChild(docLink);\n",
              "        }\n",
              "      </script>\n",
              "    </div>\n",
              "  </div>\n",
              "  "
            ]
          },
          "metadata": {},
          "execution_count": 29
        }
      ]
    },
    {
      "cell_type": "code",
      "source": [
        ""
      ],
      "metadata": {
        "id": "hzelVb7qnpAl"
      },
      "execution_count": null,
      "outputs": []
    },
    {
      "cell_type": "markdown",
      "source": [
        "## SciPy"
      ],
      "metadata": {
        "id": "8kwHu-FCq2yn"
      }
    },
    {
      "cell_type": "code",
      "source": [
        "# 求非线性方程解\n",
        "from scipy.optimize import fsolve, root\n",
        "fx = lambda x:     x**980-5.01*x**979+7.398*x**978\\\n",
        "    -3.388*x**977-x**3+5.01*x**2-7.398*x+3.388\n",
        "x1 = fsolve(fx, 1.5, maxfev=4000)  #函数调用4000次\n",
        "x2 = root(fx, 1.5)\n",
        "print(x1,'\\n','-------------'); print(x2)"
      ],
      "metadata": {
        "colab": {
          "base_uri": "https://localhost:8080/"
        },
        "id": "VF9zg2l1q61q",
        "outputId": "3f039807-8d8a-4724-e1c4-851583fe5fce"
      },
      "execution_count": null,
      "outputs": [
        {
          "output_type": "stream",
          "name": "stdout",
          "text": [
            "[1.21] \n",
            " -------------\n",
            "    fjac: array([[-1.]])\n",
            "     fun: array([-1.23341756e+69])\n",
            " message: 'The solution converged.'\n",
            "    nfev: 319\n",
            "     qtf: array([2.00183544e+72])\n",
            "       r: array([2.54210657e+80])\n",
            "  status: 1\n",
            " success: True\n",
            "       x: array([1.21])\n"
          ]
        }
      ]
    },
    {
      "cell_type": "code",
      "source": [
        "# 求非线性方程组解\n",
        "fx = lambda x: [x[0]**2+x[1]**2-1, x[0]-x[1]]\n",
        "s1 = fsolve(fx, [1, 1])\n",
        "s2 = root(fx, [1, 1])\n",
        "print(s1,'\\n','--------------'); print(s2)"
      ],
      "metadata": {
        "colab": {
          "base_uri": "https://localhost:8080/"
        },
        "id": "7X9Lg3Vbs3np",
        "outputId": "478cbe20-0a09-4970-a751-5ac7151f8802"
      },
      "execution_count": null,
      "outputs": [
        {
          "output_type": "stream",
          "name": "stdout",
          "text": [
            "[0.70710678 0.70710678] \n",
            " --------------\n",
            "    fjac: array([[-0.81649679, -0.57734998],\n",
            "       [ 0.57734998, -0.81649679]])\n",
            "     fun: array([4.4408921e-16, 0.0000000e+00])\n",
            " message: 'The solution converged.'\n",
            "    nfev: 9\n",
            "     qtf: array([-3.64625238e-10,  2.57828785e-10])\n",
            "       r: array([-1.73205167, -0.57735171,  1.63299357])\n",
            "  status: 1\n",
            " success: True\n",
            "       x: array([0.70710678, 0.70710678])\n"
          ]
        }
      ]
    },
    {
      "cell_type": "markdown",
      "source": [
        "## SymPy"
      ],
      "metadata": {
        "id": "99fo4JW5rAUE"
      }
    },
    {
      "cell_type": "code",
      "source": [
        ""
      ],
      "metadata": {
        "id": "B7HWsvgxrDkN"
      },
      "execution_count": null,
      "outputs": []
    },
    {
      "cell_type": "markdown",
      "source": [
        "## Matplotlib"
      ],
      "metadata": {
        "id": "PSwTaM7grDrP"
      }
    }
  ]
}