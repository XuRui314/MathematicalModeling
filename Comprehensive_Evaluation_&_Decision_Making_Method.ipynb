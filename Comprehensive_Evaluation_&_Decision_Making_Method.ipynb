{
  "nbformat": 4,
  "nbformat_minor": 0,
  "metadata": {
    "colab": {
      "name": "Comprehensive Evaluation & Decision-Making Method.ipynb",
      "provenance": [],
      "collapsed_sections": [],
      "toc_visible": true,
      "authorship_tag": "ABX9TyMLhWLnd1GiJjEawHtTqM2D",
      "include_colab_link": true
    },
    "kernelspec": {
      "name": "python3",
      "display_name": "Python 3"
    },
    "language_info": {
      "name": "python"
    }
  },
  "cells": [
    {
      "cell_type": "markdown",
      "metadata": {
        "id": "view-in-github",
        "colab_type": "text"
      },
      "source": [
        "<a href=\"https://colab.research.google.com/github/XuRui314/MathematicalModeling/blob/main/Comprehensive_Evaluation_%26_Decision_Making_Method.ipynb\" target=\"_parent\"><img src=\"https://colab.research.google.com/assets/colab-badge.svg\" alt=\"Open In Colab\"/></a>"
      ]
    },
    {
      "cell_type": "markdown",
      "source": [
        "评价方法大体上可分为两类,其主要区别在确定权重的方法上。一类是主观赋权法，多数采取综合咨询评分确定权重,如综合指数法、模糊综合评判法、层次分析法、功效系数法等。另一类是客观赋权法,根据各指标间相关关系或各指标值变异程度来确定权数,如主成分分析法、因子分析法、理想解法(也称TOPSIS法)等。目前国内外综合评价方法有数十种之多,其中主要使用的评价方法有主成分分析法、因子分析法、TOPSIS法、秩和比法、灰色关联法、嫡权法、层次分析法,模糊评价法、物元分析法、聚类分析法、价值工程法、神经网络法等。本文主要介绍几种常用的方法。"
      ],
      "metadata": {
        "id": "pkcwgImxqRYP"
      }
    },
    {
      "cell_type": "markdown",
      "source": [
        "## 理想解法 TOPSIS\n"
      ],
      "metadata": {
        "id": "btQPrtt0Fa0b"
      }
    },
    {
      "cell_type": "markdown",
      "source": [
        "设我们有 $n$ 个决策对象，每个对象有 $m$ 个指标（**已事先正向化处理**）。我们将各个指标中最好的数据合并起来得到**正理想解**，最差的数据合并起来得到 **负理想解**，计算每个决策对象到正理想解和负理想解的距离，既靠近正理想解又远离负理想解的就是最好的对象，并且可以据此对各个对象进行排序。\n",
        "\n",
        "\n",
        "1. 设决策矩阵为 $(a_{ij})_{m \\times n}$，即第 $i$ 个对象的第 $j$ 个指标为 $a_{ij}$（**已正向化**），对其进行向量规范化，得到规范化决策矩阵 $(b_{ij})_{m \\times n}$\n",
        "\n",
        " $$\n",
        " b_{ij}={{a_{ij}} \\over {\\sqrt{\\sum\\limits_{i=1}^ma_{ij}^2}}}\n",
        " $$\n",
        "\n",
        "2. 构造加权规范化决策矩阵 $(c_{ij})_{m\\times n}$\n",
        "$$\n",
        "c_{ij}=w_j\\cdot b_{ij}\n",
        "$$\n",
        "\n",
        "3. 确定正理想解 $C^*$ 和负理想解 $C^0$\n",
        "\n",
        "   $$\n",
        "   \\begin{cases}\n",
        "   c^*_j=\\max\\limits_{i=1}^m c_{ij}&j=1,2,\\ldots\\\\\n",
        "   c^0_j=\\min\\limits_{i=1}^m c_{ij}&j=1,2,\\ldots\n",
        "   \\end{cases}\n",
        "   $$\n",
        "\n",
        "\n",
        "4. 计算各决策对象到正负理想解的距离（欧几里得距离）：\n",
        "\n",
        "$$\n",
        "\\begin{cases}\n",
        "d^*_i=||c_i-C^*||_2=\\sqrt{\\sum\\limits_{j=1}^n(c_{ij}-c_j^*)^2}\\\\\n",
        "d^0_i=||c_i-C^0||_2=\\sqrt{\\sum\\limits_{j=1}^n(c_{ij}-c_j^0)^2}\n",
        "\\end{cases}\n",
        "$$\n",
        "   \n",
        "   计算综合评价指标：\n",
        "   \n",
        "   $$\n",
        "   f_i=\\frac{d_i^0}{d_i^0+d_i^*}\n",
        "   $$"
      ],
      "metadata": {
        "id": "VVsnZ-QYF170"
      }
    },
    {
      "cell_type": "code",
      "source": [
        "# preparation\n",
        "from google.colab import drive\n",
        "drive.mount('/content/drive')"
      ],
      "metadata": {
        "colab": {
          "base_uri": "https://localhost:8080/"
        },
        "id": "woSm0f1R9t0H",
        "outputId": "f28bb32a-ca9f-403b-ef3a-c231738b66ea"
      },
      "execution_count": null,
      "outputs": [
        {
          "output_type": "stream",
          "name": "stdout",
          "text": [
            "Mounted at /content/drive\n"
          ]
        }
      ]
    },
    {
      "cell_type": "markdown",
      "source": [
        "TOPSIS法(优劣解距离法)介绍及 python3 实现 - Suranyi的文章 - 知乎\n",
        "https://zhuanlan.zhihu.com/p/37738503"
      ],
      "metadata": {
        "id": "zQmWtyjHHzTN"
      }
    },
    {
      "cell_type": "code",
      "source": [
        "import pandas as pd\n",
        "import numpy as np"
      ],
      "metadata": {
        "id": "Ts6OUnkLTsLu"
      },
      "execution_count": null,
      "outputs": []
    },
    {
      "cell_type": "code",
      "execution_count": null,
      "metadata": {
        "id": "1IcI-d7vTARI"
      },
      "outputs": [],
      "source": [
        "data = pd.DataFrame(\n",
        "    {'人均专著': [0.1, 0.2, 0.4, 0.9, 1.2], '生师比': [5, 6, 7, 10, 2], '科研经费': [5000, 6000, 7000, 10000, 400],\n",
        "     '逾期毕业率': [4.7, 5.6, 6.7, 2.3, 1.8]}, index=['院校' + i for i in list('ABCDE')])"
      ]
    },
    {
      "cell_type": "code",
      "source": [
        "data"
      ],
      "metadata": {
        "colab": {
          "base_uri": "https://localhost:8080/",
          "height": 206
        },
        "id": "aDI0WbnkTnO0",
        "outputId": "44ea8e4a-a67c-4c3f-cea2-c27be801b800"
      },
      "execution_count": null,
      "outputs": [
        {
          "output_type": "execute_result",
          "data": {
            "text/plain": [
              "     人均专著  生师比   科研经费  逾期毕业率\n",
              "院校A   0.1    5   5000    4.7\n",
              "院校B   0.2    6   6000    5.6\n",
              "院校C   0.4    7   7000    6.7\n",
              "院校D   0.9   10  10000    2.3\n",
              "院校E   1.2    2    400    1.8"
            ],
            "text/html": [
              "\n",
              "  <div id=\"df-8873eb27-9b1b-46c5-8af2-43196430ff28\">\n",
              "    <div class=\"colab-df-container\">\n",
              "      <div>\n",
              "<style scoped>\n",
              "    .dataframe tbody tr th:only-of-type {\n",
              "        vertical-align: middle;\n",
              "    }\n",
              "\n",
              "    .dataframe tbody tr th {\n",
              "        vertical-align: top;\n",
              "    }\n",
              "\n",
              "    .dataframe thead th {\n",
              "        text-align: right;\n",
              "    }\n",
              "</style>\n",
              "<table border=\"1\" class=\"dataframe\">\n",
              "  <thead>\n",
              "    <tr style=\"text-align: right;\">\n",
              "      <th></th>\n",
              "      <th>人均专著</th>\n",
              "      <th>生师比</th>\n",
              "      <th>科研经费</th>\n",
              "      <th>逾期毕业率</th>\n",
              "    </tr>\n",
              "  </thead>\n",
              "  <tbody>\n",
              "    <tr>\n",
              "      <th>院校A</th>\n",
              "      <td>0.1</td>\n",
              "      <td>5</td>\n",
              "      <td>5000</td>\n",
              "      <td>4.7</td>\n",
              "    </tr>\n",
              "    <tr>\n",
              "      <th>院校B</th>\n",
              "      <td>0.2</td>\n",
              "      <td>6</td>\n",
              "      <td>6000</td>\n",
              "      <td>5.6</td>\n",
              "    </tr>\n",
              "    <tr>\n",
              "      <th>院校C</th>\n",
              "      <td>0.4</td>\n",
              "      <td>7</td>\n",
              "      <td>7000</td>\n",
              "      <td>6.7</td>\n",
              "    </tr>\n",
              "    <tr>\n",
              "      <th>院校D</th>\n",
              "      <td>0.9</td>\n",
              "      <td>10</td>\n",
              "      <td>10000</td>\n",
              "      <td>2.3</td>\n",
              "    </tr>\n",
              "    <tr>\n",
              "      <th>院校E</th>\n",
              "      <td>1.2</td>\n",
              "      <td>2</td>\n",
              "      <td>400</td>\n",
              "      <td>1.8</td>\n",
              "    </tr>\n",
              "  </tbody>\n",
              "</table>\n",
              "</div>\n",
              "      <button class=\"colab-df-convert\" onclick=\"convertToInteractive('df-8873eb27-9b1b-46c5-8af2-43196430ff28')\"\n",
              "              title=\"Convert this dataframe to an interactive table.\"\n",
              "              style=\"display:none;\">\n",
              "        \n",
              "  <svg xmlns=\"http://www.w3.org/2000/svg\" height=\"24px\"viewBox=\"0 0 24 24\"\n",
              "       width=\"24px\">\n",
              "    <path d=\"M0 0h24v24H0V0z\" fill=\"none\"/>\n",
              "    <path d=\"M18.56 5.44l.94 2.06.94-2.06 2.06-.94-2.06-.94-.94-2.06-.94 2.06-2.06.94zm-11 1L8.5 8.5l.94-2.06 2.06-.94-2.06-.94L8.5 2.5l-.94 2.06-2.06.94zm10 10l.94 2.06.94-2.06 2.06-.94-2.06-.94-.94-2.06-.94 2.06-2.06.94z\"/><path d=\"M17.41 7.96l-1.37-1.37c-.4-.4-.92-.59-1.43-.59-.52 0-1.04.2-1.43.59L10.3 9.45l-7.72 7.72c-.78.78-.78 2.05 0 2.83L4 21.41c.39.39.9.59 1.41.59.51 0 1.02-.2 1.41-.59l7.78-7.78 2.81-2.81c.8-.78.8-2.07 0-2.86zM5.41 20L4 18.59l7.72-7.72 1.47 1.35L5.41 20z\"/>\n",
              "  </svg>\n",
              "      </button>\n",
              "      \n",
              "  <style>\n",
              "    .colab-df-container {\n",
              "      display:flex;\n",
              "      flex-wrap:wrap;\n",
              "      gap: 12px;\n",
              "    }\n",
              "\n",
              "    .colab-df-convert {\n",
              "      background-color: #E8F0FE;\n",
              "      border: none;\n",
              "      border-radius: 50%;\n",
              "      cursor: pointer;\n",
              "      display: none;\n",
              "      fill: #1967D2;\n",
              "      height: 32px;\n",
              "      padding: 0 0 0 0;\n",
              "      width: 32px;\n",
              "    }\n",
              "\n",
              "    .colab-df-convert:hover {\n",
              "      background-color: #E2EBFA;\n",
              "      box-shadow: 0px 1px 2px rgba(60, 64, 67, 0.3), 0px 1px 3px 1px rgba(60, 64, 67, 0.15);\n",
              "      fill: #174EA6;\n",
              "    }\n",
              "\n",
              "    [theme=dark] .colab-df-convert {\n",
              "      background-color: #3B4455;\n",
              "      fill: #D2E3FC;\n",
              "    }\n",
              "\n",
              "    [theme=dark] .colab-df-convert:hover {\n",
              "      background-color: #434B5C;\n",
              "      box-shadow: 0px 1px 3px 1px rgba(0, 0, 0, 0.15);\n",
              "      filter: drop-shadow(0px 1px 2px rgba(0, 0, 0, 0.3));\n",
              "      fill: #FFFFFF;\n",
              "    }\n",
              "  </style>\n",
              "\n",
              "      <script>\n",
              "        const buttonEl =\n",
              "          document.querySelector('#df-8873eb27-9b1b-46c5-8af2-43196430ff28 button.colab-df-convert');\n",
              "        buttonEl.style.display =\n",
              "          google.colab.kernel.accessAllowed ? 'block' : 'none';\n",
              "\n",
              "        async function convertToInteractive(key) {\n",
              "          const element = document.querySelector('#df-8873eb27-9b1b-46c5-8af2-43196430ff28');\n",
              "          const dataTable =\n",
              "            await google.colab.kernel.invokeFunction('convertToInteractive',\n",
              "                                                     [key], {});\n",
              "          if (!dataTable) return;\n",
              "\n",
              "          const docLinkHtml = 'Like what you see? Visit the ' +\n",
              "            '<a target=\"_blank\" href=https://colab.research.google.com/notebooks/data_table.ipynb>data table notebook</a>'\n",
              "            + ' to learn more about interactive tables.';\n",
              "          element.innerHTML = '';\n",
              "          dataTable['output_type'] = 'display_data';\n",
              "          await google.colab.output.renderOutput(dataTable, element);\n",
              "          const docLink = document.createElement('div');\n",
              "          docLink.innerHTML = docLinkHtml;\n",
              "          element.appendChild(docLink);\n",
              "        }\n",
              "      </script>\n",
              "    </div>\n",
              "  </div>\n",
              "  "
            ]
          },
          "metadata": {},
          "execution_count": 85
        }
      ]
    },
    {
      "cell_type": "code",
      "source": [
        "data.sum()"
      ],
      "metadata": {
        "colab": {
          "base_uri": "https://localhost:8080/"
        },
        "id": "QChhsWERTprh",
        "outputId": "1c819faa-80ea-4f3d-dba0-a2a3020e7cef"
      },
      "execution_count": null,
      "outputs": [
        {
          "output_type": "execute_result",
          "data": {
            "text/plain": [
              "人均专著         2.8\n",
              "生师比         30.0\n",
              "科研经费     28400.0\n",
              "逾期毕业率       21.1\n",
              "dtype: float64"
            ]
          },
          "metadata": {},
          "execution_count": 86
        }
      ]
    },
    {
      "cell_type": "code",
      "source": [
        "def dataDirection_1(datas, offset=0):\n",
        "\tdef normalization(data):\n",
        "\t\treturn 1 / (data + offset)\n",
        "\n",
        "\treturn list(map(normalization, datas))\n",
        "\n",
        "\n",
        "def dataDirection_2(datas, x_min, x_max):\n",
        "\tdef normalization(data):\n",
        "\t\tif data <= x_min or data >= x_max:\n",
        "\t\t\treturn 0\n",
        "\t\telif data > x_min and data < (x_min + x_max) / 2:\n",
        "\t\t\treturn 2 * (data - x_min) / (x_max - x_min)\n",
        "\t\telif data < x_max and data >= (x_min + x_max) / 2:\n",
        "\t\t\treturn 2 * (x_max - data) / (x_max - x_min)\n",
        "\n",
        "\treturn list(map(normalization, datas))\n",
        "\n",
        "\n",
        "def dataDirection_3(datas, x_min, x_max, x_minimum, x_maximum):\n",
        "\tdef normalization(data):\n",
        "\t\tif data >= x_min and data <= x_max:\n",
        "\t\t\treturn 1\n",
        "\t\telif data <= x_minimum or data >= x_maximum:\n",
        "\t\t\treturn 0\n",
        "\t\telif data > x_max and data < x_maximum:\n",
        "\t\t\treturn 1 - (data - x_max) / (x_maximum - x_max)\n",
        "\t\telif data < x_min and data > x_minimum:\n",
        "\t\t\treturn 1 - (x_min - data) / (x_min - x_minimum)\n",
        "\n",
        "\treturn list(map(normalization, datas))"
      ],
      "metadata": {
        "id": "l9IeSkRsUTew"
      },
      "execution_count": null,
      "outputs": []
    },
    {
      "cell_type": "code",
      "source": [
        "def entropyWeight(data):\n",
        "\tdata = np.array(data)\n",
        "\t# 归一化\n",
        "\tP = data / data.sum(axis=0)\n",
        "\n",
        "\t# 计算熵值\n",
        "\tE = np.nansum(-P * np.log(P) / np.log(len(data)), axis=0)\n",
        "\n",
        "\t# 计算权系数\n",
        "\treturn (1 - E) / (1 - E).sum()\n",
        " \n",
        "def topsis(data, weight=None):\n",
        "\t# 归一化\n",
        "\tdata = data / np.sqrt((data ** 2).sum())\n",
        "\n",
        "\t# 最优最劣方案\n",
        "\tZ = pd.DataFrame([data.min(), data.max()], index=['负理想解', '正理想解'])\n",
        "\n",
        "\t# 距离\n",
        "\tweight = entropyWeight(data) if weight is None else np.array(weight)\n",
        "\tResult = data.copy()\n",
        "\tResult['正理想解'] = np.sqrt(((data - Z.loc['正理想解']) ** 2 * weight).sum(axis=1)) # 用loc取行\n",
        "\tResult['负理想解'] = np.sqrt(((data - Z.loc['负理想解']) ** 2 * weight).sum(axis=1))\n",
        "\n",
        "\t# 综合得分指数\n",
        "\tResult['综合得分指数'] = Result['负理想解'] / (Result['负理想解'] + Result['正理想解'])\n",
        "\tResult['排序'] = Result.rank(ascending=False)['综合得分指数']\n",
        "\n",
        "\treturn Result, Z, weight"
      ],
      "metadata": {
        "id": "pBa5opAoTzGZ"
      },
      "execution_count": null,
      "outputs": []
    },
    {
      "cell_type": "code",
      "source": [
        "data['生师比'] = dataDirection_3(data['生师比'], 5, 6, 2, 12)   # 师生比数据为区间型指标\n",
        "data['逾期毕业率'] = 1 / data['逾期毕业率']   # 逾期毕业率为极小型指标\n",
        "\n",
        "out,Z,_ = topsis(data, weight=[0.2, 0.3, 0.4, 0.1])    # 设置权系数"
      ],
      "metadata": {
        "id": "vwcV4Ep5UT7Z"
      },
      "execution_count": null,
      "outputs": []
    },
    {
      "cell_type": "code",
      "source": [
        "out"
      ],
      "metadata": {
        "colab": {
          "base_uri": "https://localhost:8080/",
          "height": 206
        },
        "id": "KHlQyd1OUno7",
        "outputId": "60ce2cab-1340-48e3-d364-05d20777475a"
      },
      "execution_count": null,
      "outputs": [
        {
          "output_type": "execute_result",
          "data": {
            "text/plain": [
              "         人均专著       生师比      科研经费     逾期毕业率      正理想解      负理想解    综合得分指数   排序\n",
              "院校A  0.063758  0.597022  0.344901  0.275343  0.406984  0.384552  0.485830  4.0\n",
              "院校B  0.127515  0.597022  0.413882  0.231092  0.368177  0.409360  0.526483  3.0\n",
              "院校C  0.255031  0.497519  0.482862  0.193151  0.315879  0.405565  0.562158  2.0\n",
              "院校D  0.573819  0.199007  0.689803  0.562658  0.239342  0.502968  0.677571  1.0\n",
              "院校E  0.765092  0.000000  0.027592  0.718952  0.531357  0.354994  0.400512  5.0"
            ],
            "text/html": [
              "\n",
              "  <div id=\"df-95d1caf6-418d-4806-846b-b0ad3079f200\">\n",
              "    <div class=\"colab-df-container\">\n",
              "      <div>\n",
              "<style scoped>\n",
              "    .dataframe tbody tr th:only-of-type {\n",
              "        vertical-align: middle;\n",
              "    }\n",
              "\n",
              "    .dataframe tbody tr th {\n",
              "        vertical-align: top;\n",
              "    }\n",
              "\n",
              "    .dataframe thead th {\n",
              "        text-align: right;\n",
              "    }\n",
              "</style>\n",
              "<table border=\"1\" class=\"dataframe\">\n",
              "  <thead>\n",
              "    <tr style=\"text-align: right;\">\n",
              "      <th></th>\n",
              "      <th>人均专著</th>\n",
              "      <th>生师比</th>\n",
              "      <th>科研经费</th>\n",
              "      <th>逾期毕业率</th>\n",
              "      <th>正理想解</th>\n",
              "      <th>负理想解</th>\n",
              "      <th>综合得分指数</th>\n",
              "      <th>排序</th>\n",
              "    </tr>\n",
              "  </thead>\n",
              "  <tbody>\n",
              "    <tr>\n",
              "      <th>院校A</th>\n",
              "      <td>0.063758</td>\n",
              "      <td>0.597022</td>\n",
              "      <td>0.344901</td>\n",
              "      <td>0.275343</td>\n",
              "      <td>0.406984</td>\n",
              "      <td>0.384552</td>\n",
              "      <td>0.485830</td>\n",
              "      <td>4.0</td>\n",
              "    </tr>\n",
              "    <tr>\n",
              "      <th>院校B</th>\n",
              "      <td>0.127515</td>\n",
              "      <td>0.597022</td>\n",
              "      <td>0.413882</td>\n",
              "      <td>0.231092</td>\n",
              "      <td>0.368177</td>\n",
              "      <td>0.409360</td>\n",
              "      <td>0.526483</td>\n",
              "      <td>3.0</td>\n",
              "    </tr>\n",
              "    <tr>\n",
              "      <th>院校C</th>\n",
              "      <td>0.255031</td>\n",
              "      <td>0.497519</td>\n",
              "      <td>0.482862</td>\n",
              "      <td>0.193151</td>\n",
              "      <td>0.315879</td>\n",
              "      <td>0.405565</td>\n",
              "      <td>0.562158</td>\n",
              "      <td>2.0</td>\n",
              "    </tr>\n",
              "    <tr>\n",
              "      <th>院校D</th>\n",
              "      <td>0.573819</td>\n",
              "      <td>0.199007</td>\n",
              "      <td>0.689803</td>\n",
              "      <td>0.562658</td>\n",
              "      <td>0.239342</td>\n",
              "      <td>0.502968</td>\n",
              "      <td>0.677571</td>\n",
              "      <td>1.0</td>\n",
              "    </tr>\n",
              "    <tr>\n",
              "      <th>院校E</th>\n",
              "      <td>0.765092</td>\n",
              "      <td>0.000000</td>\n",
              "      <td>0.027592</td>\n",
              "      <td>0.718952</td>\n",
              "      <td>0.531357</td>\n",
              "      <td>0.354994</td>\n",
              "      <td>0.400512</td>\n",
              "      <td>5.0</td>\n",
              "    </tr>\n",
              "  </tbody>\n",
              "</table>\n",
              "</div>\n",
              "      <button class=\"colab-df-convert\" onclick=\"convertToInteractive('df-95d1caf6-418d-4806-846b-b0ad3079f200')\"\n",
              "              title=\"Convert this dataframe to an interactive table.\"\n",
              "              style=\"display:none;\">\n",
              "        \n",
              "  <svg xmlns=\"http://www.w3.org/2000/svg\" height=\"24px\"viewBox=\"0 0 24 24\"\n",
              "       width=\"24px\">\n",
              "    <path d=\"M0 0h24v24H0V0z\" fill=\"none\"/>\n",
              "    <path d=\"M18.56 5.44l.94 2.06.94-2.06 2.06-.94-2.06-.94-.94-2.06-.94 2.06-2.06.94zm-11 1L8.5 8.5l.94-2.06 2.06-.94-2.06-.94L8.5 2.5l-.94 2.06-2.06.94zm10 10l.94 2.06.94-2.06 2.06-.94-2.06-.94-.94-2.06-.94 2.06-2.06.94z\"/><path d=\"M17.41 7.96l-1.37-1.37c-.4-.4-.92-.59-1.43-.59-.52 0-1.04.2-1.43.59L10.3 9.45l-7.72 7.72c-.78.78-.78 2.05 0 2.83L4 21.41c.39.39.9.59 1.41.59.51 0 1.02-.2 1.41-.59l7.78-7.78 2.81-2.81c.8-.78.8-2.07 0-2.86zM5.41 20L4 18.59l7.72-7.72 1.47 1.35L5.41 20z\"/>\n",
              "  </svg>\n",
              "      </button>\n",
              "      \n",
              "  <style>\n",
              "    .colab-df-container {\n",
              "      display:flex;\n",
              "      flex-wrap:wrap;\n",
              "      gap: 12px;\n",
              "    }\n",
              "\n",
              "    .colab-df-convert {\n",
              "      background-color: #E8F0FE;\n",
              "      border: none;\n",
              "      border-radius: 50%;\n",
              "      cursor: pointer;\n",
              "      display: none;\n",
              "      fill: #1967D2;\n",
              "      height: 32px;\n",
              "      padding: 0 0 0 0;\n",
              "      width: 32px;\n",
              "    }\n",
              "\n",
              "    .colab-df-convert:hover {\n",
              "      background-color: #E2EBFA;\n",
              "      box-shadow: 0px 1px 2px rgba(60, 64, 67, 0.3), 0px 1px 3px 1px rgba(60, 64, 67, 0.15);\n",
              "      fill: #174EA6;\n",
              "    }\n",
              "\n",
              "    [theme=dark] .colab-df-convert {\n",
              "      background-color: #3B4455;\n",
              "      fill: #D2E3FC;\n",
              "    }\n",
              "\n",
              "    [theme=dark] .colab-df-convert:hover {\n",
              "      background-color: #434B5C;\n",
              "      box-shadow: 0px 1px 3px 1px rgba(0, 0, 0, 0.15);\n",
              "      filter: drop-shadow(0px 1px 2px rgba(0, 0, 0, 0.3));\n",
              "      fill: #FFFFFF;\n",
              "    }\n",
              "  </style>\n",
              "\n",
              "      <script>\n",
              "        const buttonEl =\n",
              "          document.querySelector('#df-95d1caf6-418d-4806-846b-b0ad3079f200 button.colab-df-convert');\n",
              "        buttonEl.style.display =\n",
              "          google.colab.kernel.accessAllowed ? 'block' : 'none';\n",
              "\n",
              "        async function convertToInteractive(key) {\n",
              "          const element = document.querySelector('#df-95d1caf6-418d-4806-846b-b0ad3079f200');\n",
              "          const dataTable =\n",
              "            await google.colab.kernel.invokeFunction('convertToInteractive',\n",
              "                                                     [key], {});\n",
              "          if (!dataTable) return;\n",
              "\n",
              "          const docLinkHtml = 'Like what you see? Visit the ' +\n",
              "            '<a target=\"_blank\" href=https://colab.research.google.com/notebooks/data_table.ipynb>data table notebook</a>'\n",
              "            + ' to learn more about interactive tables.';\n",
              "          element.innerHTML = '';\n",
              "          dataTable['output_type'] = 'display_data';\n",
              "          await google.colab.output.renderOutput(dataTable, element);\n",
              "          const docLink = document.createElement('div');\n",
              "          docLink.innerHTML = docLinkHtml;\n",
              "          element.appendChild(docLink);\n",
              "        }\n",
              "      </script>\n",
              "    </div>\n",
              "  </div>\n",
              "  "
            ]
          },
          "metadata": {},
          "execution_count": 90
        }
      ]
    },
    {
      "cell_type": "code",
      "source": [
        "Z"
      ],
      "metadata": {
        "colab": {
          "base_uri": "https://localhost:8080/",
          "height": 112
        },
        "id": "BSQViF_qUzKr",
        "outputId": "1fc0af9f-cc44-46fb-cb59-f2b33883269f"
      },
      "execution_count": null,
      "outputs": [
        {
          "output_type": "execute_result",
          "data": {
            "text/plain": [
              "          人均专著       生师比      科研经费     逾期毕业率\n",
              "负理想解  0.063758  0.000000  0.027592  0.193151\n",
              "正理想解  0.765092  0.597022  0.689803  0.718952"
            ],
            "text/html": [
              "\n",
              "  <div id=\"df-4a2c8820-13e2-475e-9815-2eb11994ff73\">\n",
              "    <div class=\"colab-df-container\">\n",
              "      <div>\n",
              "<style scoped>\n",
              "    .dataframe tbody tr th:only-of-type {\n",
              "        vertical-align: middle;\n",
              "    }\n",
              "\n",
              "    .dataframe tbody tr th {\n",
              "        vertical-align: top;\n",
              "    }\n",
              "\n",
              "    .dataframe thead th {\n",
              "        text-align: right;\n",
              "    }\n",
              "</style>\n",
              "<table border=\"1\" class=\"dataframe\">\n",
              "  <thead>\n",
              "    <tr style=\"text-align: right;\">\n",
              "      <th></th>\n",
              "      <th>人均专著</th>\n",
              "      <th>生师比</th>\n",
              "      <th>科研经费</th>\n",
              "      <th>逾期毕业率</th>\n",
              "    </tr>\n",
              "  </thead>\n",
              "  <tbody>\n",
              "    <tr>\n",
              "      <th>负理想解</th>\n",
              "      <td>0.063758</td>\n",
              "      <td>0.000000</td>\n",
              "      <td>0.027592</td>\n",
              "      <td>0.193151</td>\n",
              "    </tr>\n",
              "    <tr>\n",
              "      <th>正理想解</th>\n",
              "      <td>0.765092</td>\n",
              "      <td>0.597022</td>\n",
              "      <td>0.689803</td>\n",
              "      <td>0.718952</td>\n",
              "    </tr>\n",
              "  </tbody>\n",
              "</table>\n",
              "</div>\n",
              "      <button class=\"colab-df-convert\" onclick=\"convertToInteractive('df-4a2c8820-13e2-475e-9815-2eb11994ff73')\"\n",
              "              title=\"Convert this dataframe to an interactive table.\"\n",
              "              style=\"display:none;\">\n",
              "        \n",
              "  <svg xmlns=\"http://www.w3.org/2000/svg\" height=\"24px\"viewBox=\"0 0 24 24\"\n",
              "       width=\"24px\">\n",
              "    <path d=\"M0 0h24v24H0V0z\" fill=\"none\"/>\n",
              "    <path d=\"M18.56 5.44l.94 2.06.94-2.06 2.06-.94-2.06-.94-.94-2.06-.94 2.06-2.06.94zm-11 1L8.5 8.5l.94-2.06 2.06-.94-2.06-.94L8.5 2.5l-.94 2.06-2.06.94zm10 10l.94 2.06.94-2.06 2.06-.94-2.06-.94-.94-2.06-.94 2.06-2.06.94z\"/><path d=\"M17.41 7.96l-1.37-1.37c-.4-.4-.92-.59-1.43-.59-.52 0-1.04.2-1.43.59L10.3 9.45l-7.72 7.72c-.78.78-.78 2.05 0 2.83L4 21.41c.39.39.9.59 1.41.59.51 0 1.02-.2 1.41-.59l7.78-7.78 2.81-2.81c.8-.78.8-2.07 0-2.86zM5.41 20L4 18.59l7.72-7.72 1.47 1.35L5.41 20z\"/>\n",
              "  </svg>\n",
              "      </button>\n",
              "      \n",
              "  <style>\n",
              "    .colab-df-container {\n",
              "      display:flex;\n",
              "      flex-wrap:wrap;\n",
              "      gap: 12px;\n",
              "    }\n",
              "\n",
              "    .colab-df-convert {\n",
              "      background-color: #E8F0FE;\n",
              "      border: none;\n",
              "      border-radius: 50%;\n",
              "      cursor: pointer;\n",
              "      display: none;\n",
              "      fill: #1967D2;\n",
              "      height: 32px;\n",
              "      padding: 0 0 0 0;\n",
              "      width: 32px;\n",
              "    }\n",
              "\n",
              "    .colab-df-convert:hover {\n",
              "      background-color: #E2EBFA;\n",
              "      box-shadow: 0px 1px 2px rgba(60, 64, 67, 0.3), 0px 1px 3px 1px rgba(60, 64, 67, 0.15);\n",
              "      fill: #174EA6;\n",
              "    }\n",
              "\n",
              "    [theme=dark] .colab-df-convert {\n",
              "      background-color: #3B4455;\n",
              "      fill: #D2E3FC;\n",
              "    }\n",
              "\n",
              "    [theme=dark] .colab-df-convert:hover {\n",
              "      background-color: #434B5C;\n",
              "      box-shadow: 0px 1px 3px 1px rgba(0, 0, 0, 0.15);\n",
              "      filter: drop-shadow(0px 1px 2px rgba(0, 0, 0, 0.3));\n",
              "      fill: #FFFFFF;\n",
              "    }\n",
              "  </style>\n",
              "\n",
              "      <script>\n",
              "        const buttonEl =\n",
              "          document.querySelector('#df-4a2c8820-13e2-475e-9815-2eb11994ff73 button.colab-df-convert');\n",
              "        buttonEl.style.display =\n",
              "          google.colab.kernel.accessAllowed ? 'block' : 'none';\n",
              "\n",
              "        async function convertToInteractive(key) {\n",
              "          const element = document.querySelector('#df-4a2c8820-13e2-475e-9815-2eb11994ff73');\n",
              "          const dataTable =\n",
              "            await google.colab.kernel.invokeFunction('convertToInteractive',\n",
              "                                                     [key], {});\n",
              "          if (!dataTable) return;\n",
              "\n",
              "          const docLinkHtml = 'Like what you see? Visit the ' +\n",
              "            '<a target=\"_blank\" href=https://colab.research.google.com/notebooks/data_table.ipynb>data table notebook</a>'\n",
              "            + ' to learn more about interactive tables.';\n",
              "          element.innerHTML = '';\n",
              "          dataTable['output_type'] = 'display_data';\n",
              "          await google.colab.output.renderOutput(dataTable, element);\n",
              "          const docLink = document.createElement('div');\n",
              "          docLink.innerHTML = docLinkHtml;\n",
              "          element.appendChild(docLink);\n",
              "        }\n",
              "      </script>\n",
              "    </div>\n",
              "  </div>\n",
              "  "
            ]
          },
          "metadata": {},
          "execution_count": 91
        }
      ]
    },
    {
      "cell_type": "code",
      "source": [
        "!wget -O /usr/share/fonts/truetype/liberation/simhei.ttf \"https://www.wfonts.com/download/data/2014/06/01/simhei/chinese.simhei.ttf\"\n",
        "import matplotlib.pyplot as plt\n",
        "import matplotlib as mpl\n",
        "zhfont = mpl.font_manager.FontProperties(fname='/usr/share/fonts/truetype/liberation/simhei.ttf')\n",
        "plt.rcParams['axes.unicode_minus'] = False  # 用来正常显示负号\n",
        "!gdown --id 1fsKERl26TNTFIY25PhReoCujxwJvfyHn"
      ],
      "metadata": {
        "colab": {
          "base_uri": "https://localhost:8080/"
        },
        "id": "ZMwQh1oLHKE7",
        "outputId": "da3105f1-87f0-478c-b050-896aea3fb8aa"
      },
      "execution_count": null,
      "outputs": [
        {
          "output_type": "stream",
          "name": "stdout",
          "text": [
            "--2022-07-27 05:27:12--  https://www.wfonts.com/download/data/2014/06/01/simhei/chinese.simhei.ttf\n",
            "Resolving www.wfonts.com (www.wfonts.com)... 104.225.219.210\n",
            "Connecting to www.wfonts.com (www.wfonts.com)|104.225.219.210|:443... connected.\n",
            "HTTP request sent, awaiting response... 200 OK\n",
            "Length: 10050870 (9.6M) [application/octetstream]\n",
            "Saving to: ‘/usr/share/fonts/truetype/liberation/simhei.ttf’\n",
            "\n",
            "/usr/share/fonts/tr 100%[===================>]   9.58M  17.0MB/s    in 0.6s    \n",
            "\n",
            "2022-07-27 05:27:12 (17.0 MB/s) - ‘/usr/share/fonts/truetype/liberation/simhei.ttf’ saved [10050870/10050870]\n",
            "\n",
            "/usr/local/lib/python3.7/dist-packages/gdown/cli.py:131: FutureWarning: Option `--id` was deprecated in version 4.3.1 and will be removed in 5.0. You don't need to pass it anymore to use a file ID.\n",
            "  category=FutureWarning,\n",
            "Downloading...\n",
            "From: https://drive.google.com/uc?id=1fsKERl26TNTFIY25PhReoCujxwJvfyHn\n",
            "To: /content/SimHei .ttf\n",
            "100% 10.1M/10.1M [00:00<00:00, 69.9MB/s]\n"
          ]
        }
      ]
    },
    {
      "cell_type": "code",
      "source": [
        "dataset = out.drop(['负理想解','正理想解','综合得分指数','排序'], axis=1)\n",
        "radar_labels=dataset.columns\n",
        "nAttr=4\n",
        "data=dataset.values.T #数据值\n",
        "data_labels=dataset.index\n",
        "# 设置角度\n",
        "angles=np.linspace(0,2*np.pi,nAttr,\n",
        "                   endpoint= False)\n",
        "data=np.concatenate((data, [data[0]])) \n",
        "angles=np.concatenate((angles, [angles[0]]))\n",
        "# 设置画布\n",
        "fig=plt.figure(facecolor=\"white\",figsize=(10,6))\n",
        "plt.subplot(111, polar=True)\n",
        "# 绘图\n",
        "plt.plot(angles,data,'o-',\n",
        "         linewidth=1.5, alpha= 0.2)\n",
        "# 填充颜色\n",
        "plt.fill(angles,data, alpha=0.25) \n",
        "plt.thetagrids(angles[:-1]*180/np.pi, \n",
        "               radar_labels,1.2) \n",
        "plt.figtext(0.52, 0.95,'大学生通识能力分析', \n",
        "            ha='center', size=20)\n",
        "# 设置图例\n",
        "legend=plt.legend(data_labels, \n",
        "                  loc=(1.1, 0.05),\n",
        "                  labelspacing=0.1)\n",
        "plt.setp(legend.get_texts(), ) \n",
        "plt.grid(True)\n",
        "# plt.savefig('tongshi.png')\n",
        "plt.show()"
      ],
      "metadata": {
        "colab": {
          "base_uri": "https://localhost:8080/",
          "height": 1000
        },
        "id": "CL1eRPP2IYDp",
        "outputId": "37dff372-d955-4cc4-a9a1-287be2172494"
      },
      "execution_count": null,
      "outputs": [
        {
          "output_type": "stream",
          "name": "stdout",
          "text": [
            "  agg_filter: a filter function, which takes a (m, n, 3) float array and a dpi value, and returns a (m, n, 3) array\n",
            "  alpha: float or None\n",
            "  animated: bool\n",
            "  backgroundcolor: color\n",
            "  bbox: dict with properties for `.patches.FancyBboxPatch`\n",
            "  clip_box: `.Bbox`\n",
            "  clip_on: bool\n",
            "  clip_path: Patch or (Path, Transform) or None\n",
            "  color or c: color\n",
            "  contains: callable\n",
            "  figure: `.Figure`\n",
            "  fontfamily or family: {FONTNAME, 'serif', 'sans-serif', 'cursive', 'fantasy', 'monospace'}\n",
            "  fontproperties or font_properties: `.font_manager.FontProperties`\n",
            "  fontsize or size: {size in points, 'xx-small', 'x-small', 'small', 'medium', 'large', 'x-large', 'xx-large'}\n",
            "  fontstretch or stretch: {a numeric value in range 0-1000, 'ultra-condensed', 'extra-condensed', 'condensed', 'semi-condensed', 'normal', 'semi-expanded', 'expanded', 'extra-expanded', 'ultra-expanded'}\n",
            "  fontstyle or style: {'normal', 'italic', 'oblique'}\n",
            "  fontvariant or variant: {'normal', 'small-caps'}\n",
            "  fontweight or weight: {a numeric value in range 0-1000, 'ultralight', 'light', 'normal', 'regular', 'book', 'medium', 'roman', 'semibold', 'demibold', 'demi', 'bold', 'heavy', 'extra bold', 'black'}\n",
            "  gid: str\n",
            "  horizontalalignment or ha: {'center', 'right', 'left'}\n",
            "  in_layout: bool\n",
            "  label: object\n",
            "  linespacing: float (multiple of font size)\n",
            "  multialignment or ma: {'left', 'right', 'center'}\n",
            "  path_effects: `.AbstractPathEffect`\n",
            "  picker: None or bool or float or callable\n",
            "  position: (float, float)\n",
            "  rasterized: bool or None\n",
            "  rotation: {angle in degrees, 'vertical', 'horizontal'}\n",
            "  rotation_mode: {None, 'default', 'anchor'}\n",
            "  sketch_params: (scale: float, length: float, randomness: float)\n",
            "  snap: bool or None\n",
            "  text: object\n",
            "  transform: `.Transform`\n",
            "  url: str\n",
            "  usetex: bool or None\n",
            "  verticalalignment or va: {'center', 'top', 'bottom', 'baseline', 'center_baseline'}\n",
            "  visible: bool\n",
            "  wrap: bool\n",
            "  x: float\n",
            "  y: float\n",
            "  zorder: float\n"
          ]
        },
        {
          "output_type": "display_data",
          "data": {
            "text/plain": [
              "<Figure size 720x432 with 1 Axes>"
            ],
            "image/png": "[encoded data removed]"
          },
          "metadata": {}
        }
      ]
    },
    {
      "cell_type": "code",
      "source": [
        "dataset.plot()"
      ],
      "metadata": {
        "colab": {
          "base_uri": "https://localhost:8080/",
          "height": 366
        },
        "id": "nBuEsvAqaeGf",
        "outputId": "f2dc1a19-0bff-41d8-d4a5-1a3b9585c8b3"
      },
      "execution_count": null,
      "outputs": [
        {
          "output_type": "execute_result",
          "data": {
            "text/plain": [
              "<matplotlib.axes._subplots.AxesSubplot at 0x7f36ef42e710>"
            ]
          },
          "metadata": {},
          "execution_count": 101
        },
        {
          "output_type": "display_data",
          "data": {
            "text/plain": [
              "<Figure size 576x396 with 1 Axes>"
            ],
            "image/png": "[encoded data removed]"
          },
          "metadata": {}
        }
      ]
    },
    {
      "cell_type": "markdown",
      "source": [
        "## 层次分析法"
      ],
      "metadata": {
        "id": "U0KpT1BrJg-U"
      }
    },
    {
      "cell_type": "markdown",
      "source": [
        "层次分析法原理及计算过程详解 - 子木的文章 - 知乎\n",
        "https://zhuanlan.zhihu.com/p/266405027"
      ],
      "metadata": {
        "id": "Uqmeb6scy90p"
      }
    },
    {
      "cell_type": "code",
      "source": [
        "class AHP:\n",
        "    def __init__(self, sz_layers, judge_mat) -> None:\n",
        "        \"\"\"\n",
        "        :param sz_layers: number of elements in each layer sz_layers: list[int]\n",
        "        :param judge_mat: judgement matrices judge_mat: list[list[np.ndarray]]\n",
        "        \"\"\"\n",
        "        self.n_layers = len(sz_layers)\n",
        "        assert len(judge_mat) == self.n_layers - 1\n",
        "        for i in range(self.n_layers - 1):\n",
        "            assert np.stack(judge_mat[i], axis=0).shape == (sz_layers[i+1], sz_layers[i], sz_layers[i])\n",
        "        for sz in sz_layers:\n",
        "            assert 1 <= sz <= 10\n",
        "        self.sz_layers = sz_layers\n",
        "        self.judge_mat = judge_mat\n",
        "\n",
        "        self.CI = []\n",
        "        self.RI = []\n",
        "        self.RI_table = [None, 0, 0, 0.58, 0.90, 1.12, 1.24, 1.32, 1.41, 1.45, 1.49]\n",
        "        self.b = []\n",
        "        self.a = []\n",
        "\n",
        "    def run(self) -> np.ndarray:\n",
        "        for i in range(self.n_layers - 1):\n",
        "            b, CI, RI = [], [], []\n",
        "            for j in range(self.sz_layers[i+1]):\n",
        "                mat = self.judge_mat[i][j]\n",
        "                eigw, eigv = np.linalg.eig(mat)\n",
        "                eigv, eigw = eigv[:, np.argmax(eigw)], np.max(eigw)\n",
        "                eigv, eigw = eigv.real, eigw.real\n",
        "                CI.append((eigw - self.sz_layers[i]) / (self.sz_layers[i] - 1))\n",
        "                RI.append(self.RI_table[self.sz_layers[i]])\n",
        "                assert CI[-1] / RI[-1] < 0.10, 'Cannot pass consistency test.'\n",
        "                b.append(eigv / eigv.sum())\n",
        "            self.b.append(b)\n",
        "            self.CI.append(CI)\n",
        "            self.RI.append(RI)\n",
        "        self.a.append(np.array([1.0]))\n",
        "        for i in range(self.n_layers - 2, -1, -1):\n",
        "            a = []\n",
        "            for j in range(self.sz_layers[i]):\n",
        "                a.append(self.a[-1] @ np.vstack(self.b[i])[:, j])\n",
        "            CR = (self.a[-1] @ np.array(self.CI[i])) / (self.a[-1] @ np.array(self.RI[i]))\n",
        "            assert CR < 0.10, 'Cannot pass consistency test.'\n",
        "            self.a.append(np.array(a))\n",
        "        return self.a[-1]"
      ],
      "metadata": {
        "id": "Tn0BziiwJebo"
      },
      "execution_count": null,
      "outputs": []
    },
    {
      "cell_type": "code",
      "source": [
        "import numpy as np\n",
        "\n",
        "# 把每层的\n",
        "CB1 = np.array([[1, 1/4, 1/2], [4, 1, 3], [2, 1/3, 1]])\n",
        "CB2 = np.array([[1, 1/4, 1/5], [4, 1, 1/2], [5, 2, 1]])\n",
        "CB3 = np.array([[1, 3, 1/3], [1/3, 1, 1/7], [3, 7, 1]])\n",
        "CB4 = np.array([[1, 1/3, 5], [3, 1, 7], [1/5, 1/7, 1]])\n",
        "CB5 = np.array([[1, 1, 7], [1, 1, 7], [1/7, 1/7, 1]])\n",
        "CB6 = np.array([[1, 7, 9], [1/7, 1, 1], [1/9, 1, 1]])\n",
        "BA = np.array([[1, 1, 1, 4, 1, 1/2],\n",
        "               [1, 1, 2, 4, 1, 1/2],\n",
        "               [1, 1/2, 1, 5, 3, 1/2],\n",
        "               [1/4, 1/4, 1/5, 1, 1/3, 1/3],\n",
        "               [1, 1, 1/3, 3, 1, 1],\n",
        "               [2, 2, 2, 3, 3, 1]])\n",
        "judge_mat = [[CB1, CB2, CB3, CB4, CB5, CB6], [BA]]\n",
        "\n",
        "solver = AHP([3, 6, 1], judge_mat)\n",
        "res = solver.run()\n",
        "res"
      ],
      "metadata": {
        "colab": {
          "base_uri": "https://localhost:8080/"
        },
        "id": "l5dWSQpPbOoq",
        "outputId": "77ea8475-682e-4b53-d20a-91a0baf93e2e"
      },
      "execution_count": null,
      "outputs": [
        {
          "output_type": "execute_result",
          "data": {
            "text/plain": [
              "array([0.3951982 , 0.29962129, 0.30518051])"
            ]
          },
          "metadata": {},
          "execution_count": 8
        }
      ]
    },
    {
      "cell_type": "markdown",
      "source": [
        "## 灰色关联分析\n",
        "https://blog.csdn.net/FontThrone/article/details/80607794"
      ],
      "metadata": {
        "id": "LpQYmHYUibIO"
      }
    },
    {
      "cell_type": "code",
      "source": [
        "import os\n",
        "os.chdir(\"/content/drive/MyDrive/dataset/MathModel/Comprehensive Evaluation\")\n",
        "!ls"
      ],
      "metadata": {
        "colab": {
          "base_uri": "https://localhost:8080/"
        },
        "id": "4bgoR_QHidwc",
        "outputId": "f0e6d2c5-b5aa-4766-b8f6-f5ff68403671"
      },
      "execution_count": null,
      "outputs": [
        {
          "output_type": "stream",
          "name": "stdout",
          "text": [
            "winequality-red.csv\n"
          ]
        }
      ]
    },
    {
      "cell_type": "code",
      "source": [
        "import pandas as p\n",
        "import numpy as np\n",
        "from numpy import *\n",
        "import matplotlib.pyplot as plt\n",
        "%matplotlib inline\n",
        "\n",
        "# 从硬盘读取数据进入内存\n",
        "wine = pd.read_csv(\"winequality-red.csv\",sep=';')\n",
        "wine.head()"
      ],
      "metadata": {
        "colab": {
          "base_uri": "https://localhost:8080/",
          "height": 267
        },
        "id": "q6J6fdmB9kRF",
        "outputId": "68439822-78c8-4a85-fe77-02d46f44ced3"
      },
      "execution_count": null,
      "outputs": [
        {
          "output_type": "execute_result",
          "data": {
            "text/plain": [
              "   fixed acidity  volatile acidity  citric acid  residual sugar  chlorides  free sulfur dioxide  total sulfur dioxide  density    pH  sulphates  alcohol  quality\n",
              "0            7.4              0.70         0.00             1.9      0.076                 11.0                  34.0   0.9978  3.51       0.56      9.4        5\n",
              "1            7.8              0.88         0.00             2.6      0.098                 25.0                  67.0   0.9968  3.20       0.68      9.8        5\n",
              "2            7.8              0.76         0.04             2.3      0.092                 15.0                  54.0   0.9970  3.26       0.65      9.8        5\n",
              "3           11.2              0.28         0.56             1.9      0.075                 17.0                  60.0   0.9980  3.16       0.58      9.8        6\n",
              "4            7.4              0.70         0.00             1.9      0.076                 11.0                  34.0   0.9978  3.51       0.56      9.4        5"
            ],
            "text/html": [
              "\n",
              "  <div id=\"df-45cac619-a811-465c-9ac0-7b779c78fc20\">\n",
              "    <div class=\"colab-df-container\">\n",
              "      <div>\n",
              "<style scoped>\n",
              "    .dataframe tbody tr th:only-of-type {\n",
              "        vertical-align: middle;\n",
              "    }\n",
              "\n",
              "    .dataframe tbody tr th {\n",
              "        vertical-align: top;\n",
              "    }\n",
              "\n",
              "    .dataframe thead th {\n",
              "        text-align: right;\n",
              "    }\n",
              "</style>\n",
              "<table border=\"1\" class=\"dataframe\">\n",
              "  <thead>\n",
              "    <tr style=\"text-align: right;\">\n",
              "      <th></th>\n",
              "      <th>fixed acidity</th>\n",
              "      <th>volatile acidity</th>\n",
              "      <th>citric acid</th>\n",
              "      <th>residual sugar</th>\n",
              "      <th>chlorides</th>\n",
              "      <th>free sulfur dioxide</th>\n",
              "      <th>total sulfur dioxide</th>\n",
              "      <th>density</th>\n",
              "      <th>pH</th>\n",
              "      <th>sulphates</th>\n",
              "      <th>alcohol</th>\n",
              "      <th>quality</th>\n",
              "    </tr>\n",
              "  </thead>\n",
              "  <tbody>\n",
              "    <tr>\n",
              "      <th>0</th>\n",
              "      <td>7.4</td>\n",
              "      <td>0.70</td>\n",
              "      <td>0.00</td>\n",
              "      <td>1.9</td>\n",
              "      <td>0.076</td>\n",
              "      <td>11.0</td>\n",
              "      <td>34.0</td>\n",
              "      <td>0.9978</td>\n",
              "      <td>3.51</td>\n",
              "      <td>0.56</td>\n",
              "      <td>9.4</td>\n",
              "      <td>5</td>\n",
              "    </tr>\n",
              "    <tr>\n",
              "      <th>1</th>\n",
              "      <td>7.8</td>\n",
              "      <td>0.88</td>\n",
              "      <td>0.00</td>\n",
              "      <td>2.6</td>\n",
              "      <td>0.098</td>\n",
              "      <td>25.0</td>\n",
              "      <td>67.0</td>\n",
              "      <td>0.9968</td>\n",
              "      <td>3.20</td>\n",
              "      <td>0.68</td>\n",
              "      <td>9.8</td>\n",
              "      <td>5</td>\n",
              "    </tr>\n",
              "    <tr>\n",
              "      <th>2</th>\n",
              "      <td>7.8</td>\n",
              "      <td>0.76</td>\n",
              "      <td>0.04</td>\n",
              "      <td>2.3</td>\n",
              "      <td>0.092</td>\n",
              "      <td>15.0</td>\n",
              "      <td>54.0</td>\n",
              "      <td>0.9970</td>\n",
              "      <td>3.26</td>\n",
              "      <td>0.65</td>\n",
              "      <td>9.8</td>\n",
              "      <td>5</td>\n",
              "    </tr>\n",
              "    <tr>\n",
              "      <th>3</th>\n",
              "      <td>11.2</td>\n",
              "      <td>0.28</td>\n",
              "      <td>0.56</td>\n",
              "      <td>1.9</td>\n",
              "      <td>0.075</td>\n",
              "      <td>17.0</td>\n",
              "      <td>60.0</td>\n",
              "      <td>0.9980</td>\n",
              "      <td>3.16</td>\n",
              "      <td>0.58</td>\n",
              "      <td>9.8</td>\n",
              "      <td>6</td>\n",
              "    </tr>\n",
              "    <tr>\n",
              "      <th>4</th>\n",
              "      <td>7.4</td>\n",
              "      <td>0.70</td>\n",
              "      <td>0.00</td>\n",
              "      <td>1.9</td>\n",
              "      <td>0.076</td>\n",
              "      <td>11.0</td>\n",
              "      <td>34.0</td>\n",
              "      <td>0.9978</td>\n",
              "      <td>3.51</td>\n",
              "      <td>0.56</td>\n",
              "      <td>9.4</td>\n",
              "      <td>5</td>\n",
              "    </tr>\n",
              "  </tbody>\n",
              "</table>\n",
              "</div>\n",
              "      <button class=\"colab-df-convert\" onclick=\"convertToInteractive('df-45cac619-a811-465c-9ac0-7b779c78fc20')\"\n",
              "              title=\"Convert this dataframe to an interactive table.\"\n",
              "              style=\"display:none;\">\n",
              "        \n",
              "  <svg xmlns=\"http://www.w3.org/2000/svg\" height=\"24px\"viewBox=\"0 0 24 24\"\n",
              "       width=\"24px\">\n",
              "    <path d=\"M0 0h24v24H0V0z\" fill=\"none\"/>\n",
              "    <path d=\"M18.56 5.44l.94 2.06.94-2.06 2.06-.94-2.06-.94-.94-2.06-.94 2.06-2.06.94zm-11 1L8.5 8.5l.94-2.06 2.06-.94-2.06-.94L8.5 2.5l-.94 2.06-2.06.94zm10 10l.94 2.06.94-2.06 2.06-.94-2.06-.94-.94-2.06-.94 2.06-2.06.94z\"/><path d=\"M17.41 7.96l-1.37-1.37c-.4-.4-.92-.59-1.43-.59-.52 0-1.04.2-1.43.59L10.3 9.45l-7.72 7.72c-.78.78-.78 2.05 0 2.83L4 21.41c.39.39.9.59 1.41.59.51 0 1.02-.2 1.41-.59l7.78-7.78 2.81-2.81c.8-.78.8-2.07 0-2.86zM5.41 20L4 18.59l7.72-7.72 1.47 1.35L5.41 20z\"/>\n",
              "  </svg>\n",
              "      </button>\n",
              "      \n",
              "  <style>\n",
              "    .colab-df-container {\n",
              "      display:flex;\n",
              "      flex-wrap:wrap;\n",
              "      gap: 12px;\n",
              "    }\n",
              "\n",
              "    .colab-df-convert {\n",
              "      background-color: #E8F0FE;\n",
              "      border: none;\n",
              "      border-radius: 50%;\n",
              "      cursor: pointer;\n",
              "      display: none;\n",
              "      fill: #1967D2;\n",
              "      height: 32px;\n",
              "      padding: 0 0 0 0;\n",
              "      width: 32px;\n",
              "    }\n",
              "\n",
              "    .colab-df-convert:hover {\n",
              "      background-color: #E2EBFA;\n",
              "      box-shadow: 0px 1px 2px rgba(60, 64, 67, 0.3), 0px 1px 3px 1px rgba(60, 64, 67, 0.15);\n",
              "      fill: #174EA6;\n",
              "    }\n",
              "\n",
              "    [theme=dark] .colab-df-convert {\n",
              "      background-color: #3B4455;\n",
              "      fill: #D2E3FC;\n",
              "    }\n",
              "\n",
              "    [theme=dark] .colab-df-convert:hover {\n",
              "      background-color: #434B5C;\n",
              "      box-shadow: 0px 1px 3px 1px rgba(0, 0, 0, 0.15);\n",
              "      filter: drop-shadow(0px 1px 2px rgba(0, 0, 0, 0.3));\n",
              "      fill: #FFFFFF;\n",
              "    }\n",
              "  </style>\n",
              "\n",
              "      <script>\n",
              "        const buttonEl =\n",
              "          document.querySelector('#df-45cac619-a811-465c-9ac0-7b779c78fc20 button.colab-df-convert');\n",
              "        buttonEl.style.display =\n",
              "          google.colab.kernel.accessAllowed ? 'block' : 'none';\n",
              "\n",
              "        async function convertToInteractive(key) {\n",
              "          const element = document.querySelector('#df-45cac619-a811-465c-9ac0-7b779c78fc20');\n",
              "          const dataTable =\n",
              "            await google.colab.kernel.invokeFunction('convertToInteractive',\n",
              "                                                     [key], {});\n",
              "          if (!dataTable) return;\n",
              "\n",
              "          const docLinkHtml = 'Like what you see? Visit the ' +\n",
              "            '<a target=\"_blank\" href=https://colab.research.google.com/notebooks/data_table.ipynb>data table notebook</a>'\n",
              "            + ' to learn more about interactive tables.';\n",
              "          element.innerHTML = '';\n",
              "          dataTable['output_type'] = 'display_data';\n",
              "          await google.colab.output.renderOutput(dataTable, element);\n",
              "          const docLink = document.createElement('div');\n",
              "          docLink.innerHTML = docLinkHtml;\n",
              "          element.appendChild(docLink);\n",
              "        }\n",
              "      </script>\n",
              "    </div>\n",
              "  </div>\n",
              "  "
            ]
          },
          "metadata": {},
          "execution_count": 17
        }
      ]
    },
    {
      "cell_type": "code",
      "source": [
        "# 无量纲化\n",
        "def dimensionlessProcessing(df):\n",
        "    newDataFrame = pd.DataFrame(index=df.index)\n",
        "    columns = df.columns.tolist()\n",
        "    for c in columns:\n",
        "        d = df[c]\n",
        "        MAX = d.max()\n",
        "        MIN = d.min()\n",
        "        MEAN = d.mean()\n",
        "        newDataFrame[c] = ((d - MEAN) / (MAX - MIN)).tolist()\n",
        "    return newDataFrame\n",
        "\n",
        "def GRA_ONE(gray, m=0):\n",
        "    # 读取为df格式\n",
        "    gray = dimensionlessProcessing(gray)\n",
        "    # 标准化\n",
        "    std = gray.iloc[:, m]  # 为标准要素\n",
        "    gray.drop(str(m),axis=1,inplace=True)\n",
        "    ce = gray.iloc[:, 0:]  # 为比较要素\n",
        "    shape_n, shape_m = ce.shape[0], ce.shape[1]  # 计算行列\n",
        "\n",
        "    # 与标准要素比较，相减\n",
        "    a = zeros([shape_m, shape_n])\n",
        "    for i in range(shape_m):\n",
        "        for j in range(shape_n):\n",
        "            a[i, j] = abs(ce.iloc[j, i] - std[j])\n",
        "\n",
        "    # 取出矩阵中最大值与最小值\n",
        "    c, d = amax(a), amin(a)\n",
        "\n",
        "    # 计算值\n",
        "    result = zeros([shape_m, shape_n])\n",
        "    for i in range(shape_m):\n",
        "        for j in range(shape_n):\n",
        "            result[i, j] = (d + 0.5 * c) / (a[i, j] + 0.5 * c)\n",
        "\n",
        "    # 求均值，得到灰色关联值,并返回\n",
        "    result_list = [mean(result[i, :]) for i in range(shape_m)]\n",
        "    result_list.insert(m,1)\n",
        "    return pd.DataFrame(result_list)\n",
        "\n",
        "\n",
        "def GRA(DataFrame):\n",
        "    df = DataFrame.copy()\n",
        "    list_columns = [\n",
        "        str(s) for s in range(len(df.columns)) if s not in [None]\n",
        "    ]\n",
        "    df_local = pd.DataFrame(columns=list_columns)\n",
        "    df.columns=list_columns\n",
        "    for i in range(len(df.columns)):\n",
        "        df_local.iloc[:, i] = GRA_ONE(df, m=i)[0]\n",
        "    return df_local"
      ],
      "metadata": {
        "id": "soemUVqi_R0y"
      },
      "execution_count": null,
      "outputs": []
    },
    {
      "cell_type": "code",
      "source": [
        "# 灰色关联结果矩阵可视化\n",
        "# 灰色关联结果矩阵可视化\n",
        "import seaborn as sns\n",
        "\n",
        "def ShowGRAHeatMap(DataFrame):\n",
        "    colormap = plt.cm.RdBu\n",
        "    ylabels = DataFrame.columns.values.tolist()\n",
        "    f, ax = plt.subplots(figsize=(14, 14))\n",
        "    ax.set_title('GRA HeatMap')\n",
        "    \n",
        "    # 设置展示一半，如果不需要注释掉mask即可\n",
        "    mask = np.zeros_like(DataFrame)\n",
        "    mask[np.triu_indices_from(mask)] = True\n",
        "    \n",
        "    with sns.axes_style(\"white\"):\n",
        "        sns.heatmap(DataFrame,\n",
        "                    cmap=\"YlGnBu\",\n",
        "                    annot=True,\n",
        "                    mask=mask,\n",
        "                   )\n",
        "    plt.show()\n",
        "    \n",
        "data_wine_gra = GRA(wine)\n",
        "ShowGRAHeatMap(data_wine_gra)"
      ],
      "metadata": {
        "colab": {
          "base_uri": "https://localhost:8080/",
          "height": 825
        },
        "id": "-66DAw2D_R22",
        "outputId": "5b110a5a-b558-4185-bab2-ea2b35095585"
      },
      "execution_count": null,
      "outputs": [
        {
          "output_type": "display_data",
          "data": {
            "text/plain": [
              "<Figure size 1008x1008 with 2 Axes>"
            ],
            "image/png": "[encoded data removed]"
          },
          "metadata": {
            "needs_background": "light"
          }
        }
      ]
    },
    {
      "cell_type": "markdown",
      "source": [
        "## 数据包络分析\n",
        "https://www.bilibili.com/video/BV1zr4y1H7rW/?spm_id_from=333.788&vd_source=78821760a099022a284c04eeb639e1ae"
      ],
      "metadata": {
        "id": "rmx1Yv-O1RTs"
      }
    },
    {
      "cell_type": "code",
      "source": [
        "pip install gurobipy"
      ],
      "metadata": {
        "colab": {
          "base_uri": "https://localhost:8080/"
        },
        "id": "ncL-HgMD5obo",
        "outputId": "6e006d5b-7ffa-4ed8-c447-b022756b70b0"
      },
      "execution_count": null,
      "outputs": [
        {
          "output_type": "stream",
          "name": "stdout",
          "text": [
            "Looking in indexes: https://pypi.org/simple, https://us-python.pkg.dev/colab-wheels/public/simple/\n",
            "Collecting gurobipy\n",
            "  Downloading gurobipy-9.5.2-cp37-cp37m-manylinux2014_x86_64.whl (11.5 MB)\n",
            "\u001b[K     |████████████████████████████████| 11.5 MB 3.2 MB/s \n",
            "\u001b[?25hInstalling collected packages: gurobipy\n",
            "Successfully installed gurobipy-9.5.2\n"
          ]
        }
      ]
    },
    {
      "cell_type": "code",
      "source": [
        "import gurobipy\n",
        "import pandas as pd\n",
        "\n",
        "# 分页显示数据, 设置为 False 不允许分页\n",
        "pd.set_option('display.expand_frame_repr', False)\n",
        "\n",
        "# 最多显示的列数, 设置为 None 显示全部列\n",
        "pd.set_option('display.max_columns', None)\n",
        "\n",
        "# 最多显示的行数, 设置为 None 显示全部行\n",
        "pd.set_option('display.max_rows', None)\n",
        "\n",
        "class DEA(object):\n",
        "\tdef __init__(self, DMUs_Name, X, Y, AP=False):\n",
        "\t\tself.m1, self.m1_name, self.m2, self.m2_name, self.AP = X.shape[1], X.columns.tolist(), Y.shape[1], Y.columns.tolist(), AP\n",
        "\t\tself.DMUs, self.X, self.Y = gurobipy.multidict({DMU: [X.loc[DMU].tolist(), Y.loc[DMU].tolist()] for DMU in DMUs_Name})\n",
        "\t\tprint(f'DEA(AP={AP}) MODEL RUNING...')\n",
        "\n",
        "\tdef __CCR(self):\n",
        "\t\tfor k in self.DMUs:\n",
        "\t\t\tMODEL = gurobipy.Model()\n",
        "\t\t\tOE, lambdas, s_negitive, s_positive = MODEL.addVar(), MODEL.addVars(self.DMUs),  MODEL.addVars(self.m1), MODEL.addVars(self.m2)\n",
        "\t\t\tMODEL.update()\n",
        "\t\t\tMODEL.setObjectiveN(OE, index=0, priority=1)\n",
        "\t\t\tMODEL.setObjectiveN(-(sum(s_negitive) + sum(s_positive)), index=1, priority=0)\n",
        "\t\t\tMODEL.addConstrs(gurobipy.quicksum(lambdas[i] * self.X[i][j] for i in self.DMUs if i != k or not self.AP) + s_negitive[j] == OE * self.X[k][j] for j in range(self.m1))\n",
        "\t\t\tMODEL.addConstrs(gurobipy.quicksum(lambdas[i] * self.Y[i][j] for i in self.DMUs if i != k or not self.AP) - s_positive[j] == self.Y[k][j] for j in range(self.m2))\n",
        "\t\t\tMODEL.setParam('OutputFlag', 0)\n",
        "\t\t\tMODEL.optimize()\n",
        "\t\t\tself.Result.at[k, ('效益分析', '综合技术效益(CCR)')] = MODEL.objVal\n",
        "\t\t\tself.Result.at[k, ('规模报酬分析', '有效性')] = '非 DEA 有效' if MODEL.objVal < 1 else 'DEA 弱有效' if s_negitive.sum().getValue() + s_positive.sum().getValue() else 'DEA 强有效'\n",
        "\t\t\tself.Result.at[k, ('规模报酬分析', '类型')] = '规模报酬固定' if lambdas.sum().getValue() == 1 else '规模报酬递增' if lambdas.sum().getValue() < 1 else '规模报酬递减'\n",
        "\t\t\tfor m in range(self.m1):\n",
        "\t\t\t\tself.Result.at[k, ('差额变数分析', f'{self.m1_name[m]}')] = s_negitive[m].X\n",
        "\t\t\t\tself.Result.at[k, ('投入冗余率',  f'{self.m1_name[m]}')] = 'N/A' if self.X[k][m] == 0 else s_negitive[m].X / self.X[k][m]\n",
        "\t\t\tfor m in range(self.m2):\n",
        "\t\t\t\tself.Result.at[k, ('差额变数分析', f'{self.m2_name[m]}')] = s_positive[m].X\n",
        "\t\t\t\tself.Result.at[k, ('产出不足率', f'{self.m2_name[m]}')] = 'N/A' if self.Y[k][m] == 0 else s_positive[m].X / self.Y[k][m]\n",
        "\t\treturn self.Result\n",
        "\n",
        "\tdef __BCC(self):\n",
        "\t\tfor k in self.DMUs:\n",
        "\t\t\tMODEL = gurobipy.Model()\n",
        "\t\t\tTE, lambdas = MODEL.addVar(), MODEL.addVars(self.DMUs)\n",
        "\t\t\tMODEL.update()\n",
        "\t\t\tMODEL.setObjective(TE, sense=gurobipy.GRB.MINIMIZE)\n",
        "\t\t\tMODEL.addConstrs(gurobipy.quicksum(lambdas[i] * self.X[i][j] for i in self.DMUs if i != k or not self.AP) <= TE * self.X[k][j] for j in range(self.m1))\n",
        "\t\t\tMODEL.addConstrs(gurobipy.quicksum(lambdas[i] * self.Y[i][j] for i in self.DMUs if i != k or not self.AP) >= self.Y[k][j] for j in range(self.m2))\n",
        "\t\t\tMODEL.addConstr(gurobipy.quicksum(lambdas[i] for i in self.DMUs if i != k or not self.AP) == 1)\n",
        "\t\t\tMODEL.setParam('OutputFlag', 0)\n",
        "\t\t\tMODEL.optimize()\n",
        "\t\t\tself.Result.at[k, ('效益分析', '技术效益(BCC)')] = MODEL.objVal if MODEL.status == gurobipy.GRB.Status.OPTIMAL else 'N/A'\n",
        "\t\treturn self.Result\n",
        "\n",
        "\tdef dea(self):\n",
        "\t\tcolumns_Page = ['效益分析'] * 3 + ['规模报酬分析'] * 2 + ['差额变数分析'] * (self.m1 + self.m2) + ['投入冗余率'] * self.m1 + ['产出不足率'] * self.m2\n",
        "\t\tcolumns_Group = ['技术效益(BCC)', '规模效益(CCR/BCC)', '综合技术效益(CCR)','有效性', '类型'] + (self.m1_name + self.m2_name) * 2\n",
        "\t\tself.Result = pd.DataFrame(index=self.DMUs, columns=[columns_Page, columns_Group])\n",
        "\t\tself.__CCR()\n",
        "\t\tself.__BCC()\n",
        "\t\tself.Result.loc[:, ('效益分析', '规模效益(CCR/BCC)')] = self.Result.loc[:, ('效益分析', '综合技术效益(CCR)')] / self.Result.loc[:,('效益分析', '技术效益(BCC)')]\n",
        "\t\treturn self.Result\n",
        "\n",
        "\tdef analysis(self, file_name=None):\n",
        "\t\tResult = self.dea()\n",
        "\t\tfile_name = 'DEA 数据包络分析报告.xlsx' if file_name is None else f'\\\\{file_name}.xlsx'\n",
        "\t\tResult.to_excel(file_name, 'DEA 数据包络分析报告')"
      ],
      "metadata": {
        "id": "qhz7RRCG5l_K"
      },
      "execution_count": null,
      "outputs": []
    },
    {
      "cell_type": "code",
      "source": [
        "data = pd.DataFrame({1990: [14.40, 0.65, 31.30, 3621.00, 0.00], 1991: [16.90, 0.72, 32.20, 3943.00, 0.09],1992: [15.53, 0.72, 31.87, 4086.67, 0.07], 1993: [15.40, 0.76, 32.23, 4904.67, 0.13],\n",
        "1994: [14.17, 0.76, 32.40, 6311.67, 0.37], 1995: [13.33, 0.69, 30.77, 8173.33, 0.59],\n",
        "1996: [12.83, 0.61, 29.23, 10236.00, 0.51], 1997: [13.00, 0.63, 28.20, 12094.33, 0.44],\n",
        "1998: [13.40, 0.75, 28.80, 13603.33, 0.58], 1999: [14.00, 0.84, 29.10, 14841.00, 1.00]},\n",
        "index=['政府财政收入占 GDP 的比例/%', '环保投资占 GDP 的比例/%', '每千人科技人员数/人', '人均 GDP/元', '城市环境质量指数']).T\n",
        "\n",
        "X = data[['政府财政收入占 GDP 的比例/%', '环保投资占 GDP 的比例/%', '每千人科技人员数/人']]\n",
        "Y = data[['人均 GDP/元', '城市环境质量指数']]\n",
        "\n",
        "dea = DEA(DMUs_Name=data.index, X=X, Y=Y)\n",
        "dea.analysis()\t# dea 分析并输出表格\n"
      ],
      "metadata": {
        "colab": {
          "base_uri": "https://localhost:8080/"
        },
        "id": "gawDtXQx5mjg",
        "outputId": "aee876be-17d9-41b4-befb-82bca6669cf1"
      },
      "execution_count": null,
      "outputs": [
        {
          "output_type": "stream",
          "name": "stdout",
          "text": [
            "DEA(AP=False) MODEL RUNING...\n",
            "Restricted license - for non-production use only - expires 2023-10-25\n"
          ]
        }
      ]
    },
    {
      "cell_type": "code",
      "source": [
        "print(dea.dea()) # dea 分析，不输出结果"
      ],
      "metadata": {
        "colab": {
          "base_uri": "https://localhost:8080/"
        },
        "id": "jjRT_rst5vHE",
        "outputId": "647a0f00-82aa-4598-fbc0-ed5bab93023a"
      },
      "execution_count": null,
      "outputs": [
        {
          "output_type": "stream",
          "name": "stdout",
          "text": [
            "          效益分析                              规模报酬分析                    差额变数分析                                                           投入冗余率                                产出不足率          \n",
            "     技术效益(BCC) 规模效益(CCR/BCC) 综合技术效益(CCR)       有效性      类型 政府财政收入占 GDP 的比例/% 环保投资占 GDP 的比例/% 每千人科技人员数/人 人均 GDP/元  城市环境质量指数 政府财政收入占 GDP 的比例/% 环保投资占 GDP 的比例/% 每千人科技人员数/人  人均 GDP/元  城市环境质量指数\n",
            "1990  0.938462      0.309213    0.290184  非 DEA 有效  规模报酬递增          0.286499             0.0   0.639787      0.0  0.131734          0.019896             0.0    0.02044       0.0       N/A\n",
            "1991  0.875776      0.325833    0.285357  非 DEA 有效  规模报酬递增          0.586141             0.0        0.0      0.0   0.05389          0.034683             0.0        0.0       0.0  0.598781\n",
            "1992  0.884845      0.335456    0.296826  非 DEA 有效  规模报酬递增           0.24146             0.0        0.0      0.0  0.084437          0.015548             0.0        0.0       0.0  1.206239\n",
            "1993  0.874961      0.391463    0.342515  非 DEA 有效  规模报酬递增           0.14353             0.0        0.0      0.0  0.081603           0.00932             0.0        0.0       0.0  0.627712\n",
            "1994  0.905434       0.50746    0.459471  非 DEA 有效  规模报酬递增          0.322093             0.0   1.849601      0.0       0.0          0.022731             0.0   0.057086       0.0       0.0\n",
            "1995  0.976821      0.735305    0.718261  非 DEA 有效  规模报酬递增          1.314417             0.0   4.931887   582.86       0.0          0.098606             0.0   0.160282  0.071312       0.0\n",
            "1996       1.0      0.906911    0.906911  非 DEA 有效  规模报酬递增          1.217099             0.0   4.288353      0.0       0.0          0.094864             0.0   0.146711       0.0       0.0\n",
            "1997       1.0           1.0         1.0   DEA 强有效  规模报酬固定               0.0             0.0        0.0      0.0       0.0               0.0             0.0        0.0       0.0       0.0\n",
            "1998       1.0           1.0         1.0   DEA 强有效  规模报酬固定               0.0             0.0        0.0      0.0       0.0               0.0             0.0        0.0       0.0       0.0\n",
            "1999       1.0           1.0         1.0   DEA 强有效  规模报酬固定               0.0             0.0        0.0      0.0       0.0               0.0             0.0        0.0       0.0       0.0\n"
          ]
        }
      ]
    },
    {
      "cell_type": "code",
      "source": [
        "data = pd.DataFrame({'A': [89.39, 64.3,25.2,223], 'B': [86.25,99,28.2,287],\n",
        "'C': [108.13,99.6,29.4,317], 'D': [106.38,96,26.4,291],\n",
        "'E': [62.40,96.2,27.2,295], 'F': [47.19,79.9,25.2,222]},\n",
        "index=['生均投入/（百元/年）', '非低收入家庭百分比/%', '生均写作得分/分', '生均科技得分/分']).T"
      ],
      "metadata": {
        "id": "0NqKI1yc7S9z"
      },
      "execution_count": null,
      "outputs": []
    },
    {
      "cell_type": "code",
      "source": [
        "data"
      ],
      "metadata": {
        "colab": {
          "base_uri": "https://localhost:8080/",
          "height": 237
        },
        "id": "XLxUP-sD22S1",
        "outputId": "3c90f2be-2a00-4b77-febc-ffb498b91276"
      },
      "execution_count": null,
      "outputs": [
        {
          "output_type": "execute_result",
          "data": {
            "text/plain": [
              "   生均投入/（百元/年）  非低收入家庭百分比/%  生均写作得分/分  生均科技得分/分\n",
              "A        89.39         64.3      25.2     223.0\n",
              "B        86.25         99.0      28.2     287.0\n",
              "C       108.13         99.6      29.4     317.0\n",
              "D       106.38         96.0      26.4     291.0\n",
              "E        62.40         96.2      27.2     295.0\n",
              "F        47.19         79.9      25.2     222.0"
            ],
            "text/html": [
              "\n",
              "  <div id=\"df-8d172900-e922-4aa1-8f6f-6fb498d3a1dc\">\n",
              "    <div class=\"colab-df-container\">\n",
              "      <div>\n",
              "<style scoped>\n",
              "    .dataframe tbody tr th:only-of-type {\n",
              "        vertical-align: middle;\n",
              "    }\n",
              "\n",
              "    .dataframe tbody tr th {\n",
              "        vertical-align: top;\n",
              "    }\n",
              "\n",
              "    .dataframe thead th {\n",
              "        text-align: right;\n",
              "    }\n",
              "</style>\n",
              "<table border=\"1\" class=\"dataframe\">\n",
              "  <thead>\n",
              "    <tr style=\"text-align: right;\">\n",
              "      <th></th>\n",
              "      <th>生均投入/（百元/年）</th>\n",
              "      <th>非低收入家庭百分比/%</th>\n",
              "      <th>生均写作得分/分</th>\n",
              "      <th>生均科技得分/分</th>\n",
              "    </tr>\n",
              "  </thead>\n",
              "  <tbody>\n",
              "    <tr>\n",
              "      <th>A</th>\n",
              "      <td>89.39</td>\n",
              "      <td>64.3</td>\n",
              "      <td>25.2</td>\n",
              "      <td>223.0</td>\n",
              "    </tr>\n",
              "    <tr>\n",
              "      <th>B</th>\n",
              "      <td>86.25</td>\n",
              "      <td>99.0</td>\n",
              "      <td>28.2</td>\n",
              "      <td>287.0</td>\n",
              "    </tr>\n",
              "    <tr>\n",
              "      <th>C</th>\n",
              "      <td>108.13</td>\n",
              "      <td>99.6</td>\n",
              "      <td>29.4</td>\n",
              "      <td>317.0</td>\n",
              "    </tr>\n",
              "    <tr>\n",
              "      <th>D</th>\n",
              "      <td>106.38</td>\n",
              "      <td>96.0</td>\n",
              "      <td>26.4</td>\n",
              "      <td>291.0</td>\n",
              "    </tr>\n",
              "    <tr>\n",
              "      <th>E</th>\n",
              "      <td>62.40</td>\n",
              "      <td>96.2</td>\n",
              "      <td>27.2</td>\n",
              "      <td>295.0</td>\n",
              "    </tr>\n",
              "    <tr>\n",
              "      <th>F</th>\n",
              "      <td>47.19</td>\n",
              "      <td>79.9</td>\n",
              "      <td>25.2</td>\n",
              "      <td>222.0</td>\n",
              "    </tr>\n",
              "  </tbody>\n",
              "</table>\n",
              "</div>\n",
              "      <button class=\"colab-df-convert\" onclick=\"convertToInteractive('df-8d172900-e922-4aa1-8f6f-6fb498d3a1dc')\"\n",
              "              title=\"Convert this dataframe to an interactive table.\"\n",
              "              style=\"display:none;\">\n",
              "        \n",
              "  <svg xmlns=\"http://www.w3.org/2000/svg\" height=\"24px\"viewBox=\"0 0 24 24\"\n",
              "       width=\"24px\">\n",
              "    <path d=\"M0 0h24v24H0V0z\" fill=\"none\"/>\n",
              "    <path d=\"M18.56 5.44l.94 2.06.94-2.06 2.06-.94-2.06-.94-.94-2.06-.94 2.06-2.06.94zm-11 1L8.5 8.5l.94-2.06 2.06-.94-2.06-.94L8.5 2.5l-.94 2.06-2.06.94zm10 10l.94 2.06.94-2.06 2.06-.94-2.06-.94-.94-2.06-.94 2.06-2.06.94z\"/><path d=\"M17.41 7.96l-1.37-1.37c-.4-.4-.92-.59-1.43-.59-.52 0-1.04.2-1.43.59L10.3 9.45l-7.72 7.72c-.78.78-.78 2.05 0 2.83L4 21.41c.39.39.9.59 1.41.59.51 0 1.02-.2 1.41-.59l7.78-7.78 2.81-2.81c.8-.78.8-2.07 0-2.86zM5.41 20L4 18.59l7.72-7.72 1.47 1.35L5.41 20z\"/>\n",
              "  </svg>\n",
              "      </button>\n",
              "      \n",
              "  <style>\n",
              "    .colab-df-container {\n",
              "      display:flex;\n",
              "      flex-wrap:wrap;\n",
              "      gap: 12px;\n",
              "    }\n",
              "\n",
              "    .colab-df-convert {\n",
              "      background-color: #E8F0FE;\n",
              "      border: none;\n",
              "      border-radius: 50%;\n",
              "      cursor: pointer;\n",
              "      display: none;\n",
              "      fill: #1967D2;\n",
              "      height: 32px;\n",
              "      padding: 0 0 0 0;\n",
              "      width: 32px;\n",
              "    }\n",
              "\n",
              "    .colab-df-convert:hover {\n",
              "      background-color: #E2EBFA;\n",
              "      box-shadow: 0px 1px 2px rgba(60, 64, 67, 0.3), 0px 1px 3px 1px rgba(60, 64, 67, 0.15);\n",
              "      fill: #174EA6;\n",
              "    }\n",
              "\n",
              "    [theme=dark] .colab-df-convert {\n",
              "      background-color: #3B4455;\n",
              "      fill: #D2E3FC;\n",
              "    }\n",
              "\n",
              "    [theme=dark] .colab-df-convert:hover {\n",
              "      background-color: #434B5C;\n",
              "      box-shadow: 0px 1px 3px 1px rgba(0, 0, 0, 0.15);\n",
              "      filter: drop-shadow(0px 1px 2px rgba(0, 0, 0, 0.3));\n",
              "      fill: #FFFFFF;\n",
              "    }\n",
              "  </style>\n",
              "\n",
              "      <script>\n",
              "        const buttonEl =\n",
              "          document.querySelector('#df-8d172900-e922-4aa1-8f6f-6fb498d3a1dc button.colab-df-convert');\n",
              "        buttonEl.style.display =\n",
              "          google.colab.kernel.accessAllowed ? 'block' : 'none';\n",
              "\n",
              "        async function convertToInteractive(key) {\n",
              "          const element = document.querySelector('#df-8d172900-e922-4aa1-8f6f-6fb498d3a1dc');\n",
              "          const dataTable =\n",
              "            await google.colab.kernel.invokeFunction('convertToInteractive',\n",
              "                                                     [key], {});\n",
              "          if (!dataTable) return;\n",
              "\n",
              "          const docLinkHtml = 'Like what you see? Visit the ' +\n",
              "            '<a target=\"_blank\" href=https://colab.research.google.com/notebooks/data_table.ipynb>data table notebook</a>'\n",
              "            + ' to learn more about interactive tables.';\n",
              "          element.innerHTML = '';\n",
              "          dataTable['output_type'] = 'display_data';\n",
              "          await google.colab.output.renderOutput(dataTable, element);\n",
              "          const docLink = document.createElement('div');\n",
              "          docLink.innerHTML = docLinkHtml;\n",
              "          element.appendChild(docLink);\n",
              "        }\n",
              "      </script>\n",
              "    </div>\n",
              "  </div>\n",
              "  "
            ]
          },
          "metadata": {},
          "execution_count": 10
        }
      ]
    },
    {
      "cell_type": "code",
      "source": [
        "X = data[['生均投入/（百元/年）', '非低收入家庭百分比/%']] \n",
        "Y = data[['生均写作得分/分', '生均科技得分/分']]\n",
        "\n",
        "dea = DEA(DMUs_Name=data.index, X=X, Y=Y)\n",
        "dea.analysis()\t# dea 分析并输出表格\n"
      ],
      "metadata": {
        "colab": {
          "base_uri": "https://localhost:8080/"
        },
        "id": "alIOpMwP4RSF",
        "outputId": "0544ce6e-02b8-491f-aa78-7ab8f54310f8"
      },
      "execution_count": null,
      "outputs": [
        {
          "output_type": "stream",
          "name": "stdout",
          "text": [
            "DEA(AP=False) MODEL RUNING...\n"
          ]
        }
      ]
    },
    {
      "cell_type": "code",
      "source": [
        "print(dea.dea()) # 结果看第三列，0.909613那个"
      ],
      "metadata": {
        "colab": {
          "base_uri": "https://localhost:8080/"
        },
        "id": "hx3bkbPn4d8y",
        "outputId": "9bd47eff-afa2-49e4-fca7-b9541bff2e18"
      },
      "execution_count": null,
      "outputs": [
        {
          "output_type": "stream",
          "name": "stdout",
          "text": [
            "       效益分析                              规模报酬分析              差额变数分析                                      投入冗余率                 产出不足率         \n",
            "  技术效益(BCC) 规模效益(CCR/BCC) 综合技术效益(CCR)       有效性      类型 生均投入/（百元/年） 非低收入家庭百分比/%  生均写作得分/分 生均科技得分/分 生均投入/（百元/年） 非低收入家庭百分比/%  生均写作得分/分 生均科技得分/分\n",
            "A       1.0           1.0         1.0   DEA 强有效  规模报酬固定         0.0         0.0       0.0      0.0         0.0         0.0       0.0      0.0\n",
            "B  0.980385      0.927812    0.909613  非 DEA 有效  规模报酬递减         0.0         0.0  0.212143      0.0         0.0         0.0  0.007523      0.0\n",
            "C       1.0      0.963534    0.963534  非 DEA 有效  规模报酬递减         0.0         0.0  3.908281      0.0         0.0         0.0  0.132935      0.0\n",
            "D  0.939475      0.973209    0.914305  非 DEA 有效  规模报酬递减         0.0         0.0  4.354592      0.0         0.0         0.0  0.164947      0.0\n",
            "E       1.0           1.0         1.0   DEA 强有效  规模报酬固定         0.0         0.0       0.0      0.0         0.0         0.0       0.0      0.0\n",
            "F       1.0           1.0         1.0   DEA 强有效  规模报酬固定         0.0         0.0       0.0      0.0         0.0         0.0       0.0      0.0\n"
          ]
        }
      ]
    },
    {
      "cell_type": "code",
      "source": [
        ""
      ],
      "metadata": {
        "id": "heHW1edD4gOQ"
      },
      "execution_count": null,
      "outputs": []
    },
    {
      "cell_type": "markdown",
      "source": [
        "## 模糊综合评价\n",
        "https://blog.csdn.net/cyj972628089/article/details/107616236\n"
      ],
      "metadata": {
        "id": "x6Rm8aMlIjpY"
      }
    },
    {
      "cell_type": "markdown",
      "source": [
        "![](https://nimg.ws.126.net/?url=http%3A%2F%2Fdingyue.ws.126.net%2FStSwKbHDEu3uAV6TVFShTrj9icxI8jRByOO6pyVfz7wdR1555577940750compressflag.png&thumbnail=660x2147483647&quality=80&type=jpg)"
      ],
      "metadata": {
        "id": "phJ_qaj7JavU"
      }
    }
  ]
}